{
  "nbformat": 4,
  "nbformat_minor": 0,
  "metadata": {
    "colab": {
      "provenance": [],
      "include_colab_link": true
    },
    "kernelspec": {
      "name": "python3",
      "display_name": "Python 3"
    }
  },
  "cells": [
    {
      "cell_type": "markdown",
      "metadata": {
        "id": "view-in-github",
        "colab_type": "text"
      },
      "source": [
        "<a href=\"https://colab.research.google.com/github/Glifoyle/test-repo/blob/master/4_MLP_v5_PyTorch_mnist.ipynb\" target=\"_parent\"><img src=\"https://colab.research.google.com/assets/colab-badge.svg\" alt=\"Open In Colab\"/></a>"
      ]
    },
    {
      "cell_type": "markdown",
      "metadata": {
        "id": "wQe0rk7M1AVe"
      },
      "source": [
        "# 目的：ニューラルネットワークの「学習」を画像データに適用する\n",
        "\n",
        "### 概要：全結合型ニューラルネットワークMLP（Multi-Layer Perceptron：多層パーセプトロン）の学習により，MNISTの手書き文字画像を分類する\n",
        "\n",
        "<br>\n",
        "&copy; 2021-2024 Hiro Kimura\n",
        "<br>"
      ]
    },
    {
      "cell_type": "markdown",
      "metadata": {
        "id": "lOH2h5-xphdh"
      },
      "source": [
        "## ポイント：\n",
        "\n",
        "-  データには，**MNIST**(Modified National Institute of Standards and Technology)の，数字0から9の手書き文字のデータセットを用いる\n",
        "-  学習モデルには，**MLP**（Multi-Layer Perceptron）モデルを用いる\n",
        "-  PyTorchフレームワークの機能（自動微分等）を用いる\n",
        "-  損失関数には正解ラベルと予測値との**交差エントロピー誤差**を用いる\n",
        "-  最適値の探索には，勾配降下法（**SGD**：確率的勾配降下法）を用いる\n",
        "\n"
      ]
    },
    {
      "cell_type": "markdown",
      "metadata": {
        "id": "oz4AOjLcb4iq"
      },
      "source": [
        "# 実習の準備\n",
        "\n",
        "1. タイムゾーンを東京に変更する\n",
        "1. Google Driveをマウントする\n",
        "1. 作業ディレクトリ（フォルダ）を作成する\n",
        "1. PyTorchフレームワークやライブラリを導入する\n",
        "\n"
      ]
    },
    {
      "cell_type": "code",
      "metadata": {
        "id": "t3SgszS33dKi"
      },
      "source": [
        "# pythonのバージョン確認\n",
        "# ! python --version"
      ],
      "execution_count": null,
      "outputs": []
    },
    {
      "cell_type": "markdown",
      "source": [
        "## タイムゾーンを東京に変更する"
      ],
      "metadata": {
        "id": "jv9NI7Y4NTPh"
      }
    },
    {
      "cell_type": "code",
      "source": [
        "# 現在の設定を確認\n",
        "!date"
      ],
      "metadata": {
        "colab": {
          "base_uri": "https://localhost:8080/"
        },
        "id": "P-Xk8K9aNPar",
        "outputId": "eab62e8b-adb8-40b8-c828-fcecee1561c5"
      },
      "execution_count": null,
      "outputs": [
        {
          "output_type": "stream",
          "name": "stdout",
          "text": [
            "Mon Apr 15 05:16:39 AM UTC 2024\n"
          ]
        }
      ]
    },
    {
      "cell_type": "code",
      "source": [
        "# 設定を変更\n",
        "!rm /etc/localtime\n",
        "!ln -s /usr/share/zoneinfo/Asia/Tokyo /etc/localtime\n",
        "\n",
        "!date"
      ],
      "metadata": {
        "colab": {
          "base_uri": "https://localhost:8080/"
        },
        "id": "Lqq0A3zrNnoI",
        "outputId": "f2513238-2dd4-4524-fb65-d75344c3e7de"
      },
      "execution_count": null,
      "outputs": [
        {
          "output_type": "stream",
          "name": "stdout",
          "text": [
            "Mon Apr 15 02:16:40 PM JST 2024\n"
          ]
        }
      ]
    },
    {
      "cell_type": "markdown",
      "metadata": {
        "id": "lBAhWQ24EFFn"
      },
      "source": [
        "## Google Driveをマウントする"
      ]
    },
    {
      "cell_type": "code",
      "metadata": {
        "id": "d1B9te2r41oF",
        "colab": {
          "base_uri": "https://localhost:8080/"
        },
        "outputId": "0e3b52f4-44e8-4f20-ee86-b5efddd9c104"
      },
      "source": [
        "from google.colab import drive\n",
        "drive.mount('/content/drive')"
      ],
      "execution_count": null,
      "outputs": [
        {
          "output_type": "stream",
          "name": "stdout",
          "text": [
            "Mounted at /content/drive\n"
          ]
        }
      ]
    },
    {
      "cell_type": "code",
      "metadata": {
        "id": "DTL3aMd4vNAe",
        "colab": {
          "base_uri": "https://localhost:8080/",
          "height": 35
        },
        "outputId": "4e4810f1-0ff2-45fe-ba80-5b17886dd989"
      },
      "source": [
        "# 作業フォルダ（作業ディレクトリ）を作成\n",
        "import os\n",
        "\n",
        "chap_dir = \"/content/drive/MyDrive/practice/chap_mnist\"\n",
        "if not os.path.exists(chap_dir): # ディレクトリが存在していなければ\n",
        "    # os.mkdir(chap_dir)\n",
        "    os.makedirs(chap_dir) # ディレクトリを，途中のディレクトリも含めて，作成する\n",
        "\n",
        "os.chdir(chap_dir) # 今回の作業ディレクトリに移動する\n",
        "os.getcwd() # 現在の作業ディレクトリを表示する"
      ],
      "execution_count": null,
      "outputs": [
        {
          "output_type": "execute_result",
          "data": {
            "text/plain": [
              "'/content/drive/MyDrive/practice/chap_mnist'"
            ],
            "application/vnd.google.colaboratory.intrinsic+json": {
              "type": "string"
            }
          },
          "metadata": {},
          "execution_count": 5
        }
      ]
    },
    {
      "cell_type": "markdown",
      "metadata": {
        "id": "qKivWbvMi_Re"
      },
      "source": [
        "## PyTorchのインストール\n",
        "\n",
        "- デフォルトで導入されている"
      ]
    },
    {
      "cell_type": "code",
      "metadata": {
        "id": "WN4tcrdC3jUN"
      },
      "source": [
        "# torch, torchvisionをインストール\n",
        "\n",
        "# ! pip install torch==1.9.0 torchvision # verified version\n",
        "# ! pip install torch torchvision # may be 1.10.0+cu111"
      ],
      "execution_count": null,
      "outputs": []
    },
    {
      "cell_type": "markdown",
      "metadata": {
        "id": "7lC6hmZ-ZgYn"
      },
      "source": [
        "# 「学習」の手順\n",
        "1. データを準備する\n",
        "  - データの読み込み\n",
        "  - データの前処理\n",
        "  - データの分割\n",
        "  - データローダの作成\n",
        "1. モデルを定義する\n",
        "1. モデルを訓練する\n",
        "  - 損失関数と最適化手法を設定\n",
        "  - 訓練を実施\n",
        "1. 学習済みモデルを性能評価する"
      ]
    },
    {
      "cell_type": "markdown",
      "metadata": {
        "id": "sYHuoBmbEM-s"
      },
      "source": [
        "# データを準備する\n"
      ]
    },
    {
      "cell_type": "markdown",
      "metadata": {
        "id": "zH0QCM8aW2l7"
      },
      "source": [
        "### MNISTデータセット\n",
        "-  MNISTは$0～9$の手書き文字データ\n",
        "-  正解ラベルは 0～9 の10クラス（種類）\n",
        "-  6万枚の訓練用データ（画像と正解ラベル）\n",
        "-  1万枚のテスト用データ（画像と正解ラベル）\n",
        "-  画像は8ビットグレースケール（0：白～255：黒）\n",
        "-  画像は幅：28 x 高さ：28ピクセル（784ピクセル）\n",
        "\n",
        "<!-- <参考>　PyTorch公式サンプルコード<br>\n",
        "https://github.com/pytorch/examples/blob/master/mnist/main.py -->\n"
      ]
    },
    {
      "cell_type": "markdown",
      "metadata": {
        "id": "SK_OTS3BMlu8"
      },
      "source": [
        "## データの読み込み（ネットワークから）\n",
        "- データを読み込み，マウントしたgoogle drive 内に保存する\n",
        "- データのダウンロードには，サーバやネットワークの負荷状況により，**数分程度**の時間がかかることがある"
      ]
    },
    {
      "cell_type": "code",
      "metadata": {
        "colab": {
          "base_uri": "https://localhost:8080/"
        },
        "id": "3baChHAsbK9P",
        "outputId": "56c51515-2706-4909-a259-5afd28a12fd1"
      },
      "source": [
        "# データを格納するディレクトリを作成する\n",
        "\n",
        "data_dir = \"./dataset\"\n",
        "if not os.path.exists(data_dir): # ディレクトリが存在していなければ\n",
        "    os.makedirs(data_dir) # ディレクトリを，途中のディレクトリも含めて，作成する\n",
        "\n",
        "# 現在の作業ディレクトリを確認する\n",
        "!pwd\n",
        "!ls -F"
      ],
      "execution_count": null,
      "outputs": [
        {
          "output_type": "stream",
          "name": "stdout",
          "text": [
            "/content/drive/MyDrive/practice/chap_mnist\n",
            "dataset/\n"
          ]
        }
      ]
    },
    {
      "cell_type": "markdown",
      "metadata": {
        "id": "mehngK2ITmk8"
      },
      "source": [
        "## データの前処理\n",
        "\n",
        "- データのダウンロード\n",
        "  - 元のデータが訓練用とテスト用に分割されているので，別々にダウンロードする\n",
        "    - trainval: 訓練用\n",
        "    - test:     テスト用\n",
        "\n",
        "- データダウンロード後に，自動的にデータの前処理も行う\n",
        "  - Tensor型への変換\n",
        "    - 画素値データ（0～255）をTensor型データに変換する\n",
        "  - 標準化処理　平均値0.1307，標準偏差 0.3081\n",
        "    - 最終的なTensor型データは，概ね-1.0～1.0 の範囲\n",
        "\n"
      ]
    },
    {
      "cell_type": "code",
      "metadata": {
        "id": "qYMNtpUNPNtR"
      },
      "source": [
        "from torchvision.datasets import MNIST\n",
        "from torchvision import datasets, transforms\n",
        "import os\n",
        "\n",
        "# データをダウンロードし，Tensorに変換し，平均 0.1307，標準偏差 0.3081 で標準化する\n",
        "\n",
        "# データの前処理の定義\n",
        "# transform=transforms.Compose([transforms.ToTensor(), transforms.Normalize((0.1307,), (0.3081,))])\n",
        "transform=transforms.Compose([transforms.ToTensor(), ]) # Tensor変換だけ\n",
        "\n",
        "# データのダウンロードと前処理\n",
        "mnist_trainval = MNIST(root='./dataset', train=True, download=True, transform=transform)\n",
        "mnist_test = MNIST(root='./dataset', train=False, download=True, transform=transform)\n",
        "\n",
        "# # データのダウンロード済の場合は前処理だけ\n",
        "# mnist_trainval = MNIST(root='./dataset', train=True, download=False, transform=transform)\n",
        "# mnist_test = MNIST(root='./dataset', train=False, download=False, transform=transform)\n"
      ],
      "execution_count": null,
      "outputs": []
    },
    {
      "cell_type": "code",
      "source": [
        "# フォルダ内を確認する --> MNISTフォルダが作成されている\n",
        "!ls -l './dataset'"
      ],
      "metadata": {
        "colab": {
          "base_uri": "https://localhost:8080/"
        },
        "id": "bKCR0THyKMFF",
        "outputId": "b3eb9982-3b4a-49e3-f512-f9e5f7aad44d"
      },
      "execution_count": null,
      "outputs": [
        {
          "output_type": "stream",
          "name": "stdout",
          "text": [
            "total 4\n",
            "drwx------ 3 root root 4096 Apr 15 14:00 MNIST\n"
          ]
        }
      ]
    },
    {
      "cell_type": "code",
      "metadata": {
        "id": "5Tnw4jm4Xh_1",
        "colab": {
          "base_uri": "https://localhost:8080/"
        },
        "outputId": "90c69911-b2ca-4155-9e56-e35de2ead625"
      },
      "source": [
        "# データセットのタイプを確認する\n",
        "print(type(mnist_trainval))\n",
        "print(type(mnist_test))\n",
        "\n",
        "# データセットの長さを確認する\n",
        "# 訓練データ数：60,000件，テストデータ数：10,000件\n",
        "print(len(mnist_trainval))\n",
        "print(len(mnist_test))"
      ],
      "execution_count": null,
      "outputs": [
        {
          "output_type": "stream",
          "name": "stdout",
          "text": [
            "<class 'torchvision.datasets.mnist.MNIST'>\n",
            "<class 'torchvision.datasets.mnist.MNIST'>\n",
            "60000\n",
            "10000\n"
          ]
        }
      ]
    },
    {
      "cell_type": "markdown",
      "metadata": {
        "id": "PPY3tzNGec1Q"
      },
      "source": [
        "### 画像を表示して確認する\n",
        "- 画像データはテンソル型に変換済み"
      ]
    },
    {
      "cell_type": "code",
      "metadata": {
        "id": "nvWbhjrInWHo",
        "colab": {
          "base_uri": "https://localhost:8080/"
        },
        "outputId": "b3eabbfc-063a-45d9-d5e3-a6c409cf9f68"
      },
      "source": [
        "import matplotlib.pyplot as plt\n",
        "%matplotlib inline\n",
        "\n",
        "# データの内容を確認する\n",
        "# x_0 は最初の画像データ，t_0 は最初の教師ラベル（答えの数値）\n",
        "# 1枚の画像（手書きの数字）は 28 x 28 ピクセルで構成されている\n",
        "x_0, t_0 = mnist_trainval[0] # trainvalの最初の画像\n",
        "\n",
        "# 画像データの型とサイズを確認する\n",
        "print(type(x_0))  # Tensor型\n",
        "print(x_0.size()) # Channel（色数）, Hight（縦）,Width（横）\n",
        "img = x_0.reshape(28, 28) # 縦 x 横 : 28 ピクセル x 28 ピクセル\n",
        "\n",
        "# 正解ラベルを表示する\n",
        "print('正解ラベル：{}'.format(t_0))"
      ],
      "execution_count": null,
      "outputs": [
        {
          "output_type": "stream",
          "name": "stdout",
          "text": [
            "<class 'torch.Tensor'>\n",
            "torch.Size([1, 28, 28])\n",
            "正解ラベル：5\n"
          ]
        }
      ]
    },
    {
      "cell_type": "code",
      "source": [
        "# 画像データの値を見てみる\n",
        "\n",
        "print(x_0.size())\n",
        "print(x_0)"
      ],
      "metadata": {
        "colab": {
          "base_uri": "https://localhost:8080/"
        },
        "id": "mWB4CXmzMmqb",
        "outputId": "35113a4e-c5f3-4a25-eeaf-ade3244e0e91"
      },
      "execution_count": null,
      "outputs": [
        {
          "output_type": "stream",
          "name": "stdout",
          "text": [
            "torch.Size([1, 28, 28])\n",
            "tensor([[[0.0000, 0.0000, 0.0000, 0.0000, 0.0000, 0.0000, 0.0000, 0.0000,\n",
            "          0.0000, 0.0000, 0.0000, 0.0000, 0.0000, 0.0000, 0.0000, 0.0000,\n",
            "          0.0000, 0.0000, 0.0000, 0.0000, 0.0000, 0.0000, 0.0000, 0.0000,\n",
            "          0.0000, 0.0000, 0.0000, 0.0000],\n",
            "         [0.0000, 0.0000, 0.0000, 0.0000, 0.0000, 0.0000, 0.0000, 0.0000,\n",
            "          0.0000, 0.0000, 0.0000, 0.0000, 0.0000, 0.0000, 0.0000, 0.0000,\n",
            "          0.0000, 0.0000, 0.0000, 0.0000, 0.0000, 0.0000, 0.0000, 0.0000,\n",
            "          0.0000, 0.0000, 0.0000, 0.0000],\n",
            "         [0.0000, 0.0000, 0.0000, 0.0000, 0.0000, 0.0000, 0.0000, 0.0000,\n",
            "          0.0000, 0.0000, 0.0000, 0.0000, 0.0000, 0.0000, 0.0000, 0.0000,\n",
            "          0.0000, 0.0000, 0.0000, 0.0000, 0.0000, 0.0000, 0.0000, 0.0000,\n",
            "          0.0000, 0.0000, 0.0000, 0.0000],\n",
            "         [0.0000, 0.0000, 0.0000, 0.0000, 0.0000, 0.0000, 0.0000, 0.0000,\n",
            "          0.0000, 0.0000, 0.0000, 0.0000, 0.0000, 0.0000, 0.0000, 0.0000,\n",
            "          0.0000, 0.0000, 0.0000, 0.0000, 0.0000, 0.0000, 0.0000, 0.0000,\n",
            "          0.0000, 0.0000, 0.0000, 0.0000],\n",
            "         [0.0000, 0.0000, 0.0000, 0.0000, 0.0000, 0.0000, 0.0000, 0.0000,\n",
            "          0.0000, 0.0000, 0.0000, 0.0000, 0.0000, 0.0000, 0.0000, 0.0000,\n",
            "          0.0000, 0.0000, 0.0000, 0.0000, 0.0000, 0.0000, 0.0000, 0.0000,\n",
            "          0.0000, 0.0000, 0.0000, 0.0000],\n",
            "         [0.0000, 0.0000, 0.0000, 0.0000, 0.0000, 0.0000, 0.0000, 0.0000,\n",
            "          0.0000, 0.0000, 0.0000, 0.0000, 0.0118, 0.0706, 0.0706, 0.0706,\n",
            "          0.4941, 0.5333, 0.6863, 0.1020, 0.6510, 1.0000, 0.9686, 0.4980,\n",
            "          0.0000, 0.0000, 0.0000, 0.0000],\n",
            "         [0.0000, 0.0000, 0.0000, 0.0000, 0.0000, 0.0000, 0.0000, 0.0000,\n",
            "          0.1176, 0.1412, 0.3686, 0.6039, 0.6667, 0.9922, 0.9922, 0.9922,\n",
            "          0.9922, 0.9922, 0.8824, 0.6745, 0.9922, 0.9490, 0.7647, 0.2510,\n",
            "          0.0000, 0.0000, 0.0000, 0.0000],\n",
            "         [0.0000, 0.0000, 0.0000, 0.0000, 0.0000, 0.0000, 0.0000, 0.1922,\n",
            "          0.9333, 0.9922, 0.9922, 0.9922, 0.9922, 0.9922, 0.9922, 0.9922,\n",
            "          0.9922, 0.9843, 0.3647, 0.3216, 0.3216, 0.2196, 0.1529, 0.0000,\n",
            "          0.0000, 0.0000, 0.0000, 0.0000],\n",
            "         [0.0000, 0.0000, 0.0000, 0.0000, 0.0000, 0.0000, 0.0000, 0.0706,\n",
            "          0.8588, 0.9922, 0.9922, 0.9922, 0.9922, 0.9922, 0.7765, 0.7137,\n",
            "          0.9686, 0.9451, 0.0000, 0.0000, 0.0000, 0.0000, 0.0000, 0.0000,\n",
            "          0.0000, 0.0000, 0.0000, 0.0000],\n",
            "         [0.0000, 0.0000, 0.0000, 0.0000, 0.0000, 0.0000, 0.0000, 0.0000,\n",
            "          0.3137, 0.6118, 0.4196, 0.9922, 0.9922, 0.8039, 0.0431, 0.0000,\n",
            "          0.1686, 0.6039, 0.0000, 0.0000, 0.0000, 0.0000, 0.0000, 0.0000,\n",
            "          0.0000, 0.0000, 0.0000, 0.0000],\n",
            "         [0.0000, 0.0000, 0.0000, 0.0000, 0.0000, 0.0000, 0.0000, 0.0000,\n",
            "          0.0000, 0.0549, 0.0039, 0.6039, 0.9922, 0.3529, 0.0000, 0.0000,\n",
            "          0.0000, 0.0000, 0.0000, 0.0000, 0.0000, 0.0000, 0.0000, 0.0000,\n",
            "          0.0000, 0.0000, 0.0000, 0.0000],\n",
            "         [0.0000, 0.0000, 0.0000, 0.0000, 0.0000, 0.0000, 0.0000, 0.0000,\n",
            "          0.0000, 0.0000, 0.0000, 0.5451, 0.9922, 0.7451, 0.0078, 0.0000,\n",
            "          0.0000, 0.0000, 0.0000, 0.0000, 0.0000, 0.0000, 0.0000, 0.0000,\n",
            "          0.0000, 0.0000, 0.0000, 0.0000],\n",
            "         [0.0000, 0.0000, 0.0000, 0.0000, 0.0000, 0.0000, 0.0000, 0.0000,\n",
            "          0.0000, 0.0000, 0.0000, 0.0431, 0.7451, 0.9922, 0.2745, 0.0000,\n",
            "          0.0000, 0.0000, 0.0000, 0.0000, 0.0000, 0.0000, 0.0000, 0.0000,\n",
            "          0.0000, 0.0000, 0.0000, 0.0000],\n",
            "         [0.0000, 0.0000, 0.0000, 0.0000, 0.0000, 0.0000, 0.0000, 0.0000,\n",
            "          0.0000, 0.0000, 0.0000, 0.0000, 0.1373, 0.9451, 0.8824, 0.6275,\n",
            "          0.4235, 0.0039, 0.0000, 0.0000, 0.0000, 0.0000, 0.0000, 0.0000,\n",
            "          0.0000, 0.0000, 0.0000, 0.0000],\n",
            "         [0.0000, 0.0000, 0.0000, 0.0000, 0.0000, 0.0000, 0.0000, 0.0000,\n",
            "          0.0000, 0.0000, 0.0000, 0.0000, 0.0000, 0.3176, 0.9412, 0.9922,\n",
            "          0.9922, 0.4667, 0.0980, 0.0000, 0.0000, 0.0000, 0.0000, 0.0000,\n",
            "          0.0000, 0.0000, 0.0000, 0.0000],\n",
            "         [0.0000, 0.0000, 0.0000, 0.0000, 0.0000, 0.0000, 0.0000, 0.0000,\n",
            "          0.0000, 0.0000, 0.0000, 0.0000, 0.0000, 0.0000, 0.1765, 0.7294,\n",
            "          0.9922, 0.9922, 0.5882, 0.1059, 0.0000, 0.0000, 0.0000, 0.0000,\n",
            "          0.0000, 0.0000, 0.0000, 0.0000],\n",
            "         [0.0000, 0.0000, 0.0000, 0.0000, 0.0000, 0.0000, 0.0000, 0.0000,\n",
            "          0.0000, 0.0000, 0.0000, 0.0000, 0.0000, 0.0000, 0.0000, 0.0627,\n",
            "          0.3647, 0.9882, 0.9922, 0.7333, 0.0000, 0.0000, 0.0000, 0.0000,\n",
            "          0.0000, 0.0000, 0.0000, 0.0000],\n",
            "         [0.0000, 0.0000, 0.0000, 0.0000, 0.0000, 0.0000, 0.0000, 0.0000,\n",
            "          0.0000, 0.0000, 0.0000, 0.0000, 0.0000, 0.0000, 0.0000, 0.0000,\n",
            "          0.0000, 0.9765, 0.9922, 0.9765, 0.2510, 0.0000, 0.0000, 0.0000,\n",
            "          0.0000, 0.0000, 0.0000, 0.0000],\n",
            "         [0.0000, 0.0000, 0.0000, 0.0000, 0.0000, 0.0000, 0.0000, 0.0000,\n",
            "          0.0000, 0.0000, 0.0000, 0.0000, 0.0000, 0.0000, 0.1804, 0.5098,\n",
            "          0.7176, 0.9922, 0.9922, 0.8118, 0.0078, 0.0000, 0.0000, 0.0000,\n",
            "          0.0000, 0.0000, 0.0000, 0.0000],\n",
            "         [0.0000, 0.0000, 0.0000, 0.0000, 0.0000, 0.0000, 0.0000, 0.0000,\n",
            "          0.0000, 0.0000, 0.0000, 0.0000, 0.1529, 0.5804, 0.8980, 0.9922,\n",
            "          0.9922, 0.9922, 0.9804, 0.7137, 0.0000, 0.0000, 0.0000, 0.0000,\n",
            "          0.0000, 0.0000, 0.0000, 0.0000],\n",
            "         [0.0000, 0.0000, 0.0000, 0.0000, 0.0000, 0.0000, 0.0000, 0.0000,\n",
            "          0.0000, 0.0000, 0.0941, 0.4471, 0.8667, 0.9922, 0.9922, 0.9922,\n",
            "          0.9922, 0.7882, 0.3059, 0.0000, 0.0000, 0.0000, 0.0000, 0.0000,\n",
            "          0.0000, 0.0000, 0.0000, 0.0000],\n",
            "         [0.0000, 0.0000, 0.0000, 0.0000, 0.0000, 0.0000, 0.0000, 0.0000,\n",
            "          0.0902, 0.2588, 0.8353, 0.9922, 0.9922, 0.9922, 0.9922, 0.7765,\n",
            "          0.3176, 0.0078, 0.0000, 0.0000, 0.0000, 0.0000, 0.0000, 0.0000,\n",
            "          0.0000, 0.0000, 0.0000, 0.0000],\n",
            "         [0.0000, 0.0000, 0.0000, 0.0000, 0.0000, 0.0000, 0.0706, 0.6706,\n",
            "          0.8588, 0.9922, 0.9922, 0.9922, 0.9922, 0.7647, 0.3137, 0.0353,\n",
            "          0.0000, 0.0000, 0.0000, 0.0000, 0.0000, 0.0000, 0.0000, 0.0000,\n",
            "          0.0000, 0.0000, 0.0000, 0.0000],\n",
            "         [0.0000, 0.0000, 0.0000, 0.0000, 0.2157, 0.6745, 0.8863, 0.9922,\n",
            "          0.9922, 0.9922, 0.9922, 0.9569, 0.5216, 0.0431, 0.0000, 0.0000,\n",
            "          0.0000, 0.0000, 0.0000, 0.0000, 0.0000, 0.0000, 0.0000, 0.0000,\n",
            "          0.0000, 0.0000, 0.0000, 0.0000],\n",
            "         [0.0000, 0.0000, 0.0000, 0.0000, 0.5333, 0.9922, 0.9922, 0.9922,\n",
            "          0.8314, 0.5294, 0.5176, 0.0627, 0.0000, 0.0000, 0.0000, 0.0000,\n",
            "          0.0000, 0.0000, 0.0000, 0.0000, 0.0000, 0.0000, 0.0000, 0.0000,\n",
            "          0.0000, 0.0000, 0.0000, 0.0000],\n",
            "         [0.0000, 0.0000, 0.0000, 0.0000, 0.0000, 0.0000, 0.0000, 0.0000,\n",
            "          0.0000, 0.0000, 0.0000, 0.0000, 0.0000, 0.0000, 0.0000, 0.0000,\n",
            "          0.0000, 0.0000, 0.0000, 0.0000, 0.0000, 0.0000, 0.0000, 0.0000,\n",
            "          0.0000, 0.0000, 0.0000, 0.0000],\n",
            "         [0.0000, 0.0000, 0.0000, 0.0000, 0.0000, 0.0000, 0.0000, 0.0000,\n",
            "          0.0000, 0.0000, 0.0000, 0.0000, 0.0000, 0.0000, 0.0000, 0.0000,\n",
            "          0.0000, 0.0000, 0.0000, 0.0000, 0.0000, 0.0000, 0.0000, 0.0000,\n",
            "          0.0000, 0.0000, 0.0000, 0.0000],\n",
            "         [0.0000, 0.0000, 0.0000, 0.0000, 0.0000, 0.0000, 0.0000, 0.0000,\n",
            "          0.0000, 0.0000, 0.0000, 0.0000, 0.0000, 0.0000, 0.0000, 0.0000,\n",
            "          0.0000, 0.0000, 0.0000, 0.0000, 0.0000, 0.0000, 0.0000, 0.0000,\n",
            "          0.0000, 0.0000, 0.0000, 0.0000]]])\n"
          ]
        }
      ]
    },
    {
      "cell_type": "code",
      "metadata": {
        "colab": {
          "base_uri": "https://localhost:8080/",
          "height": 485
        },
        "id": "43c1zCAy4XlS",
        "outputId": "effe0f4d-7f61-4e3f-c88f-577c46a679a7"
      },
      "source": [
        "# 画像を表示する\n",
        "# 図の大きさをインチ単位で指定する\n",
        "plt.figure(figsize=(5,5))\n",
        "\n",
        "plt.title(\"MNIST_trainval[0] Data\") # trainvalの最初の画像\n",
        "\n",
        "# 画像を白黒で表示する\n",
        "plt.imshow(img, cmap='gray')\n",
        "# plt.imshow(img, cmap='binary')\n",
        "\n",
        "plt.show()\n",
        "print(f\"正解ラベル：{t_0}\")"
      ],
      "execution_count": null,
      "outputs": [
        {
          "output_type": "display_data",
          "data": {
            "text/plain": [
              "<Figure size 500x500 with 1 Axes>"
            ],
            "image/png": "[encoded data removed]"
          },
          "metadata": {}
        },
        {
          "output_type": "stream",
          "name": "stdout",
          "text": [
            "正解ラベル：5\n"
          ]
        }
      ]
    },
    {
      "cell_type": "code",
      "source": [
        "# # 画像をファイルに出力する\n",
        "# from PIL import Image\n",
        "\n",
        "# # 画像を0から255の範囲に変換する\n",
        "# img = img * 255\n",
        "\n",
        "# # 画像をPillow Imageオブジェクトに変換する\n",
        "# pil_img = Image.fromarray(img.numpy().astype('uint8'))\n",
        "\n",
        "# # 画像をファイルに出力する\n",
        "# pil_img.save('./mnist_0.png')"
      ],
      "metadata": {
        "id": "O3_CjCwPJs7P"
      },
      "execution_count": null,
      "outputs": []
    },
    {
      "cell_type": "markdown",
      "metadata": {
        "id": "tIVJSa1fIPHC"
      },
      "source": [
        "## データの分割\n",
        "- 通常は，訓練用，検証用，テスト用に**3分割**する（最低でも，訓練用，テスト用に**2分割**にする（下記<注意>を参照））\n",
        "  - 訓練用 = 55,000枚\n",
        "  - 検証用 = 5,000枚（訓練データ 60,000枚の内の5,000枚），訓練状況の検証用\n",
        "  - テスト用 = 10,000枚，モデル性能のテスト用\n",
        "- 検証用は，訓練が**過学習になってないか**，訓練状況の確認に使用\n",
        "- テスト用は，学習済みモデルの**性能を確認**するために使用<br>\n",
        "\n",
        "**<注意>**<br>\n",
        "**（カンニング禁止）**：一度でも訓練で使用したデータはテストに使ってはいけない"
      ]
    },
    {
      "cell_type": "code",
      "source": [
        "# ライブラリ\n",
        "import torch\n",
        "\n",
        "# 乱数シードを固定して再現性を確保する\n",
        "torch.manual_seed(24)"
      ],
      "metadata": {
        "colab": {
          "base_uri": "https://localhost:8080/"
        },
        "id": "rbZ9ojZwId0T",
        "outputId": "e5e99012-7563-41e9-e30d-67458b117a2c"
      },
      "execution_count": null,
      "outputs": [
        {
          "output_type": "execute_result",
          "data": {
            "text/plain": [
              "<torch._C.Generator at 0x7c0e016671d0>"
            ]
          },
          "metadata": {},
          "execution_count": 89
        }
      ]
    },
    {
      "cell_type": "code",
      "metadata": {
        "id": "L4YsCNB4owaj"
      },
      "source": [
        "from torch.utils.data import random_split\n",
        "\n",
        "# 訓練データを，train (55,000 images), val (5,000 images)に分割\n",
        "# 訓練：train，検証：val stands for validation\n",
        "mnist_train, mnist_val = random_split(mnist_trainval, [55000, 5000])"
      ],
      "execution_count": null,
      "outputs": []
    },
    {
      "cell_type": "code",
      "metadata": {
        "id": "cVKZRzkEzLHB",
        "colab": {
          "base_uri": "https://localhost:8080/"
        },
        "outputId": "da6b414f-7cbc-4f2b-b93f-3665c4375607"
      },
      "source": [
        "# データセットの長さを確認する\n",
        "# train: 55,000, val: 5,000, test: 10,000\n",
        "print(len(mnist_train))\n",
        "print(len(mnist_val))\n",
        "print(len(mnist_test))"
      ],
      "execution_count": null,
      "outputs": [
        {
          "output_type": "stream",
          "name": "stdout",
          "text": [
            "55000\n",
            "5000\n",
            "10000\n"
          ]
        }
      ]
    },
    {
      "cell_type": "markdown",
      "metadata": {
        "id": "sKjkiDX-_gld"
      },
      "source": [
        "## データローダの作成\n",
        "- データローダとは，指定したミニバッチ数のデータを提供してくれるもの\n",
        "  - データは，（データと教師ラベルの組）x ミニバッチ数 で構成される\n",
        "  - shuffle=True を指定：ランダムにミニバッチ数のデータを選択して提供してくれる\n",
        "  - shuffle=False を指定：毎回同じ順番でデータを提供してくれる\n",
        "\n"
      ]
    },
    {
      "cell_type": "code",
      "metadata": {
        "id": "wCiObs_a2cj8"
      },
      "source": [
        "from torch.utils.data import DataLoader\n",
        "\n",
        "# The dataloaders handle shuffling, batching, etc...\n",
        "# ミニバッチ長を100とする（100枚の画像毎に訓練する）\n",
        "b_size = 100\n",
        "\n",
        "# 3つのデータローダを作成する\n",
        "mnist_train_loader = DataLoader(mnist_train, batch_size=b_size, shuffle=True)\n",
        "mnist_val_loader = DataLoader(mnist_val, batch_size=b_size, shuffle=False)\n",
        "mnist_test_loader = DataLoader(mnist_test, batch_size=b_size, shuffle=False)"
      ],
      "execution_count": null,
      "outputs": []
    },
    {
      "cell_type": "markdown",
      "metadata": {
        "id": "uBHy4jKdssMq"
      },
      "source": [
        "# モデルを定義する\n",
        "\n",
        "\n",
        "- 説明変数（入力）は，768個（28 x 28）\n",
        "- 目的変数（出力）は，10個（10種類の数値（0～9）のクラス分類確率）\n",
        "- ニューラルネットワークモデル（入力層768個，出力層10個，隠れ層1層）\n",
        "- 活性化関数は，ReLU\n"
      ]
    },
    {
      "cell_type": "markdown",
      "metadata": {
        "id": "Du8BpDfFyeGJ"
      },
      "source": [
        "## MLPモデル\n",
        "- 入力784個：画素値\n",
        "- 出力10個：分類する数字の種類，クラス数\n",
        "- 隠れ層（中間層）一層，層数・ノード数とも自由に設計できる\n",
        "- 活性化関数\n",
        "  - ReLU\n",
        "  - 最終出力は，対数ソフトマックス関数"
      ]
    },
    {
      "cell_type": "code",
      "metadata": {
        "id": "hyGuqhSufFiZ"
      },
      "source": [
        "# -----------------\n",
        "# 3L-MLP\n",
        "# -----------------\n",
        "import torch\n",
        "from torch import nn\n",
        "import torch.nn.functional as F\n",
        "\n",
        "class MNISTClassifier_MLP(nn.Module):\n",
        "\n",
        "  def __init__(self):\n",
        "    super(MNISTClassifier_MLP, self).__init__()\n",
        "\n",
        "    # mnist images have (1, 28, 28) of shape : (channels, width, height)\n",
        "    self.layer_1 = nn.Linear(28 * 28, 128)  # 入力：784，入力層出力：128\n",
        "    self.layer_2 = nn.Linear(128, 256)      # 中間層入力：128，中間層出力：256\n",
        "    self.layer_3 = nn.Linear(256, 10)       # 出力層入力：256，出力：10\n",
        "\n",
        "  def forward(self, x):\n",
        "    # 入力はバッチサイズ分の画像データ\n",
        "    batch_size, channels, width, height = x.size()\n",
        "\n",
        "    # b: batch（バッチ長）, c: channel（カラー数）, w: width（横）, h: height（縦）\n",
        "    # (b, c, w, h) = (100, 1, 28, 28) -> (100, 1*28*28)\n",
        "    x = x.view(batch_size, -1) # (100, 768)\n",
        "\n",
        "    # layer 1\n",
        "    x = self.layer_1(x)\n",
        "    x = F.relu(x)\n",
        "\n",
        "    # layer 2\n",
        "    x = self.layer_2(x)\n",
        "    x = F.relu(x)\n",
        "\n",
        "    # layer 3\n",
        "    x = self.layer_3(x)\n",
        "\n",
        "    # probability distribution over labels => log_softmax()\n",
        "    x = F.log_softmax(x, dim=1)\n",
        "    # x = F.softmax(x, dim=1)\n",
        "\n",
        "    return x"
      ],
      "execution_count": null,
      "outputs": []
    },
    {
      "cell_type": "markdown",
      "metadata": {
        "id": "wR6rNA4_r3Zn"
      },
      "source": [
        "# モデルを訓練する\n",
        "## 損失関数と最適化手法を設定する\n",
        "- 損失関数：分類問題なので，交差エントロピー誤差（$loss=-\\sum_{k}^{n} t_{k}\\log y_k$）\n",
        "- 最適化手法：ここでは，SGDを選択"
      ]
    },
    {
      "cell_type": "markdown",
      "metadata": {
        "id": "NULkiIUrW70P"
      },
      "source": [
        "### 損失関数（交差エントロピー誤差）\n",
        "- 教師ラベル$t$は **one-hotベクトル**（一つの要素だけが1で，他の要素は全て0のベクトル）で表現する<br>\n",
        "例えば，$5$であれば，0から始まるので6番目の要素だけが1で，$$t = [0, 0, 0, 0, 0, 1, 0, 0, 0, 0]$$<br>\n",
        "- 予測結果 $y$ は，softmax関数を施した$0～1$の実数値を要素とするベクトルで表現する<br>\n",
        "softmax関数を施した出力の合計は$1$になる（つまり各要素は確率とみなすことができる）<br>\n",
        "例えば，$$y = [0.01, 0.0, 0.08, 0.02, 0.0, 0.6, 0.18, 0.04, 0.02, 0.05]$$\n",
        "- 損失関数には交差エントロピー誤差を用いる<br>\n",
        "$$ loss = -\\sum_{n=1}^n t_n\\log y_n $$\n",
        "ここで，$log$は自然対数を表す．交差エントロピー誤差は，結果的に $t$ が1の要素の自然対数値だけになる．\n",
        "例えば，上記の場合には，教師ラベルが$1$の6番目の項だけが残るので，$ -1*\\log 0.6 = 0.51$ と計算できる\n",
        "\n"
      ]
    },
    {
      "cell_type": "code",
      "metadata": {
        "id": "PPtv1InR974o"
      },
      "source": [
        "# 学習モデルの初期化\n",
        "\n",
        "model = MNISTClassifier_MLP() # モデルパラメータ値の初期化\n",
        "# model = model.to(device) # モデルのパラメータ値を演算デバイスに送る"
      ],
      "execution_count": null,
      "outputs": []
    },
    {
      "cell_type": "code",
      "metadata": {
        "id": "bcYowdO4-p9g"
      },
      "source": [
        "# 損失関数（交差エントロピー誤差）\n",
        "import torch.nn as nn\n",
        "\n",
        "criterion = nn.CrossEntropyLoss()"
      ],
      "execution_count": null,
      "outputs": []
    },
    {
      "cell_type": "code",
      "metadata": {
        "id": "WbW9fsN7XJHg"
      },
      "source": [
        "# 最適化手法（SGD）\n",
        "from torch import optim\n",
        "\n",
        "# 学習率 lr は試行錯誤する必要がある．\n",
        "eta = 0.01\n",
        "optimizer = optim.SGD(model.parameters(), lr=eta) # SGD"
      ],
      "execution_count": null,
      "outputs": []
    },
    {
      "cell_type": "code",
      "source": [],
      "metadata": {
        "id": "x4QUYQmZy4aa"
      },
      "execution_count": null,
      "outputs": []
    },
    {
      "cell_type": "markdown",
      "metadata": {
        "id": "V4eGcHa-y48u"
      },
      "source": [
        "## 訓練と検証用の関数\n",
        "\n",
        "- 作業フォルダに **train_valid.py** が存在することを確認する\n",
        "    - 存在しない場合は，以下のセルを実行してアップロードする\n",
        "    - またはファイルアイコンから作業ディレクトリを開いて、パソコンからドラッグ&ドロップする\n"
      ]
    },
    {
      "cell_type": "code",
      "source": [
        "from google.colab import files\n",
        "\n",
        "uploaded = files.upload()"
      ],
      "metadata": {
        "id": "62zMraYiOkIR"
      },
      "execution_count": null,
      "outputs": []
    },
    {
      "cell_type": "code",
      "source": [
        "# 作業フォルダを確認する\n",
        "!ls -F"
      ],
      "metadata": {
        "colab": {
          "base_uri": "https://localhost:8080/"
        },
        "id": "jbHy9my_SNJd",
        "outputId": "7dfda49e-8e63-4f61-e8d0-ff39fcd336f8"
      },
      "execution_count": null,
      "outputs": [
        {
          "output_type": "stream",
          "name": "stdout",
          "text": [
            "dataset/  train_valid.py\n"
          ]
        }
      ]
    },
    {
      "cell_type": "code",
      "source": [
        "# 関数を読み込む\n",
        "from train_valid import train, valid\n",
        "\n",
        "# # 訓練用の関数（1エポックの処理）を定義\n",
        "# def train(model, criterion, optimizer, train_loader, device, scheduler=None):\n",
        "#       return epoch_loss, epoch_acc # 1エポックの1データ当たりのロスと正解率\n",
        "\n",
        "# # 検証用の関数（1エポックの処理）を定義\n",
        "# def valid(model, criterion, optimizer, valtest_loader, device):\n",
        "#       return val_loss, val_acc # 1エポックの1データ当たりのロスと正解率\n"
      ],
      "metadata": {
        "id": "wmfs9gihQRRG"
      },
      "execution_count": null,
      "outputs": []
    },
    {
      "cell_type": "code",
      "source": [],
      "metadata": {
        "id": "MAdSJmby6luM"
      },
      "execution_count": null,
      "outputs": []
    },
    {
      "cell_type": "markdown",
      "metadata": {
        "id": "cReVgC4_2JvB"
      },
      "source": [
        "## 訓練を実施する\n",
        "\n",
        "- 20エポック：train: 55,000 件 x 20 回 の学習\n",
        "- 訓練時間：CPUで 18秒/epoch 程度（20 epochでは360秒 = 6分程度）かかる"
      ]
    },
    {
      "cell_type": "code",
      "source": [
        "# 演算装置\n",
        "device = \"cpu\""
      ],
      "metadata": {
        "id": "_0uwDrKUzfxy"
      },
      "execution_count": null,
      "outputs": []
    },
    {
      "cell_type": "code",
      "metadata": {
        "colab": {
          "base_uri": "https://localhost:8080/"
        },
        "id": "hqPQ8URgen6M",
        "outputId": "df32a47b-b528-4c1b-e9fb-a22b87db1dbb"
      },
      "source": [
        "# 訓練を実施する\n",
        "\n",
        "# 訓練の長さ\n",
        "EPOCHS=20\n",
        "# 提出課題では，上の行をコメントにして，下の行のコメントを外して実行する\n",
        "# EPOCHS=40\n",
        "\n",
        "# 訓練と検証の状況を記録する空の入れ物\n",
        "train_loss_list = [] # 訓練ロス\n",
        "train_acc_list = [] # 訓練の正解率\n",
        "val_loss_list = [] # 検証ロス\n",
        "val_acc_list = [] # 検証の正解率\n",
        "\n",
        "for epoch in range(EPOCHS):\n",
        "    # エポックの処理\n",
        "    # 訓練\n",
        "    loss, acc = train(model, criterion, optimizer, mnist_train_loader, device)\n",
        "\n",
        "    # 検証\n",
        "    val_loss, val_acc = valid(model, criterion, optimizer, mnist_val_loader, device)\n",
        "\n",
        "    print('epoch %d, train_loss: %.2f train_acc: %.2f val_loss: %.2f val_acc: %.2f' % (epoch, loss, acc, val_loss, val_acc))\n",
        "\n",
        "    # 訓練と検証の状況を記録\n",
        "    train_loss_list.append(loss)\n",
        "    train_acc_list.append(acc)\n",
        "    val_loss_list.append(val_loss)\n",
        "    val_acc_list.append(val_acc)"
      ],
      "execution_count": null,
      "outputs": [
        {
          "output_type": "stream",
          "name": "stdout",
          "text": [
            "epoch 0, train_loss: 2.05 train_acc: 0.49 val_loss: 1.45 val_acc: 0.69\n",
            "epoch 1, train_loss: 0.90 train_acc: 0.78 val_loss: 0.62 val_acc: 0.83\n",
            "epoch 2, train_loss: 0.52 train_acc: 0.86 val_loss: 0.45 val_acc: 0.87\n",
            "epoch 3, train_loss: 0.41 train_acc: 0.89 val_loss: 0.38 val_acc: 0.89\n",
            "epoch 4, train_loss: 0.37 train_acc: 0.90 val_loss: 0.35 val_acc: 0.90\n",
            "epoch 5, train_loss: 0.34 train_acc: 0.90 val_loss: 0.33 val_acc: 0.90\n",
            "epoch 6, train_loss: 0.32 train_acc: 0.91 val_loss: 0.31 val_acc: 0.91\n",
            "epoch 7, train_loss: 0.30 train_acc: 0.91 val_loss: 0.30 val_acc: 0.91\n",
            "epoch 8, train_loss: 0.29 train_acc: 0.92 val_loss: 0.28 val_acc: 0.91\n",
            "epoch 9, train_loss: 0.28 train_acc: 0.92 val_loss: 0.27 val_acc: 0.92\n",
            "epoch 10, train_loss: 0.27 train_acc: 0.92 val_loss: 0.26 val_acc: 0.92\n",
            "epoch 11, train_loss: 0.26 train_acc: 0.92 val_loss: 0.26 val_acc: 0.92\n",
            "epoch 12, train_loss: 0.25 train_acc: 0.93 val_loss: 0.25 val_acc: 0.93\n",
            "epoch 13, train_loss: 0.24 train_acc: 0.93 val_loss: 0.24 val_acc: 0.93\n",
            "epoch 14, train_loss: 0.24 train_acc: 0.93 val_loss: 0.23 val_acc: 0.93\n",
            "epoch 15, train_loss: 0.23 train_acc: 0.93 val_loss: 0.23 val_acc: 0.94\n",
            "epoch 16, train_loss: 0.22 train_acc: 0.94 val_loss: 0.22 val_acc: 0.94\n",
            "epoch 17, train_loss: 0.21 train_acc: 0.94 val_loss: 0.21 val_acc: 0.94\n",
            "epoch 18, train_loss: 0.21 train_acc: 0.94 val_loss: 0.21 val_acc: 0.94\n",
            "epoch 19, train_loss: 0.20 train_acc: 0.94 val_loss: 0.20 val_acc: 0.94\n"
          ]
        }
      ]
    },
    {
      "cell_type": "markdown",
      "metadata": {
        "id": "komuc-KcpeNL"
      },
      "source": [
        "## 訓練の様子をグラフ表示"
      ]
    },
    {
      "cell_type": "code",
      "metadata": {
        "id": "sirfynGPe5BM",
        "colab": {
          "base_uri": "https://localhost:8080/",
          "height": 410
        },
        "outputId": "fb67da18-c2e5-49b4-b3e7-e896d37d1c1e"
      },
      "source": [
        "# 損失が減少していく様子をグラフ表示する\n",
        "%matplotlib inline\n",
        "from matplotlib import pyplot as plt\n",
        "\n",
        "# 図の大きさをインチ単位で指定する\n",
        "plt.figure(figsize=(6, 4))\n",
        "\n",
        "plt.title('Learning Loss Curve (MLP)') # タイトル\n",
        "plt.plot(train_loss_list, label='train') # 訓練ロスグラフ\n",
        "plt.plot(val_loss_list, label='val') # 検証ロスグラフ\n",
        "plt.legend() # 凡例\n",
        "plt.xlabel('epoch')\n",
        "plt.ylabel('loss')\n",
        "plt.grid(axis=\"both\") # グリッド表示\n",
        "\n",
        "plt.show()"
      ],
      "execution_count": null,
      "outputs": [
        {
          "output_type": "display_data",
          "data": {
            "text/plain": [
              "<Figure size 600x400 with 1 Axes>"
            ],
            "image/png": "[encoded data removed]"
          },
          "metadata": {}
        }
      ]
    },
    {
      "cell_type": "code",
      "metadata": {
        "colab": {
          "base_uri": "https://localhost:8080/",
          "height": 427
        },
        "id": "joOWdyADjjqw",
        "outputId": "071c02f1-852f-4723-91fc-c991ebc51fb9"
      },
      "source": [
        "# 正解率が上昇していく様子をグラフ表示する\n",
        "\n",
        "# 図の大きさをインチ単位で指定する\n",
        "plt.figure(figsize=(6, 4))\n",
        "\n",
        "plt.title('Validation Accuracy (MLP)') # タイトル\n",
        "plt.plot(train_acc_list, label=\"train_acc\")\n",
        "plt.plot(val_acc_list, label='val_acc')\n",
        "plt.legend() # 凡例\n",
        "plt.xlabel('epoch')\n",
        "plt.ylabel('val_acc')\n",
        "plt.grid(axis=\"both\") # グリッド表示\n",
        "\n",
        "plt.show()\n",
        "print(f'val正解率：{val_acc_list[-1]:.3f}')"
      ],
      "execution_count": null,
      "outputs": [
        {
          "output_type": "display_data",
          "data": {
            "text/plain": [
              "<Figure size 600x400 with 1 Axes>"
            ],
            "image/png": "[encoded data removed]"
          },
          "metadata": {}
        },
        {
          "output_type": "stream",
          "name": "stdout",
          "text": [
            "val正解率：0.939\n"
          ]
        }
      ]
    },
    {
      "cell_type": "markdown",
      "metadata": {
        "id": "Sdpf-p4Qo09Y"
      },
      "source": [
        "## 訓練済みモデルを保存する\n"
      ]
    },
    {
      "cell_type": "code",
      "metadata": {
        "id": "ipWmAjc7pCnd"
      },
      "source": [
        "# 現在の作業ディレクトリに訓練済みモデルのパラメータ値を保存する\n",
        "\n",
        "torch.save(model.state_dict(), './mnist_mlp.pkl')"
      ],
      "execution_count": null,
      "outputs": []
    },
    {
      "cell_type": "markdown",
      "metadata": {
        "id": "7MIkhDcSRuq1"
      },
      "source": [
        "# 学習済みモデルを評価する"
      ]
    },
    {
      "cell_type": "markdown",
      "metadata": {
        "id": "d9Xps6HjR3UZ"
      },
      "source": [
        "## テストデータでモデルの予測性能を評価する"
      ]
    },
    {
      "cell_type": "code",
      "metadata": {
        "id": "6lQUv3jURv5R",
        "colab": {
          "base_uri": "https://localhost:8080/"
        },
        "outputId": "de303b5a-bd7d-4661-8d5b-989150810ecd"
      },
      "source": [
        "# テストを実施する\n",
        "\n",
        "# テスト\n",
        "test_loss, test_acc = valid(model, criterion, optimizer, mnist_test_loader, device)\n",
        "print('test_loss: %.2f test_acc: %.2f' % (test_loss, test_acc))\n"
      ],
      "execution_count": null,
      "outputs": [
        {
          "output_type": "stream",
          "name": "stdout",
          "text": [
            "test_loss: 0.20 test_acc: 0.94\n"
          ]
        }
      ]
    },
    {
      "cell_type": "code",
      "source": [],
      "metadata": {
        "id": "6NEU8Sa1FyBi"
      },
      "execution_count": null,
      "outputs": []
    },
    {
      "cell_type": "markdown",
      "metadata": {
        "id": "8jm4cGxWF16V"
      },
      "source": [
        "# まとめ\n",
        "MLP（Multi-Layer Perseptron）を用いた全結合型ニューラルネットワークモデルを構築し，MNIST画像の分類を行った．\n",
        "- MLPモデルでMNIST画像が精度良く（97%程度の精度で）分類できることが理解できた\n",
        "- 画像データに関しても，数値データと同様の「学習」の手続きが適用できることが理解できた\n",
        "  1. データの準備\n",
        "    1. データの前処理（標準化）\n",
        "    1. データ分割\n",
        "    1. データローダの作成\n",
        "  1. モデルの定義\n",
        "  1. モデルの訓練と検証\n",
        "  1. 学習済みモデルの性能評価\n",
        "- MLPモデルの構造と定義方法が理解できた\n",
        "- モデルの訓練と検証，性能評価の方法が理解できた\n"
      ]
    },
    {
      "cell_type": "code",
      "metadata": {
        "id": "eBGKTg71Ec8z"
      },
      "source": [
        "\n"
      ],
      "execution_count": null,
      "outputs": []
    },
    {
      "cell_type": "markdown",
      "source": [
        "# [提出課題]\n",
        "\n",
        "- 以下の手順に従って，エボック数を40に増やしたときの，予測精度を確認する\n",
        "\n",
        "  1. エポック数の指定を，以下のように修正する\n",
        "    ```\n",
        "    # 訓練の長さ\n",
        "    # EPOCHS=20\n",
        "    # 提出課題では，上の行をコメントにして，下の行のコメントを外して実行する\n",
        "    EPOCHS=40\n",
        "    ```\n",
        "  1. 以下の手順でプログラムを再実行する\n",
        "    1. メニューバーの，ランタイム ／ ランタイムを再起動\n",
        "    1. メニューバーの，ランタイム ／ すべてのセルを実行\n",
        "\n",
        "  1. テストデータでモデルの予測性能を評価する\n",
        "    1. test_loss の値を小数第3位を四捨五入して小数第2位までで答えよ\n",
        "    1. test_acc の値を小数第3位を四捨五入して小数第2位までで答えよ\n",
        "\n",
        "\n",
        "<!--\n",
        "1. MPLモデルの隠れ層（中間層）を128ノードから512ノードに変更して，精度が変わるか確認する\n",
        "\n",
        "1. MLPモデルの最終段の出力層の活性化関数を変更して実行し，結果の違いをグラフで確認する\n",
        " - F.log_softmax(x, dim=1)\n",
        " - F.softmax(x, dim=1)\n",
        " - なし（コメントアウト）\n",
        "\n",
        "1. breastcancer.xlsxを読み込んで，悪性と良性を分類する．分類性能をchap4のロジスティク回帰の結果と比較する\n",
        "  - ファイルからデータを読み込んで，スケール変換し，データ分割し，データローダを作成するところまでは，chap4と同様にする\n",
        "  - MLPモデルを修正する\n",
        "    - 入力ノード数が，breastcancerの説明変数の数と同じ30個\n",
        "    - 出力ノード数が，悪性と良性の2クラスなので2個\n",
        "-->"
      ],
      "metadata": {
        "id": "lt0CD55EFyRX"
      }
    },
    {
      "cell_type": "code",
      "source": [],
      "metadata": {
        "id": "6c--mMtm9Lyt"
      },
      "execution_count": null,
      "outputs": []
    }
  ]
}