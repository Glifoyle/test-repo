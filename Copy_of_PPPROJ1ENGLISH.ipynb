{
  "nbformat": 4,
  "nbformat_minor": 0,
  "metadata": {
    "colab": {
      "provenance": [],
      "include_colab_link": true
    },
    "kernelspec": {
      "name": "python3",
      "display_name": "Python 3"
    },
    "language_info": {
      "name": "python"
    }
  },
  "cells": [
    {
      "cell_type": "markdown",
      "metadata": {
        "id": "view-in-github",
        "colab_type": "text"
      },
      "source": [
        "<a href=\"https://colab.research.google.com/github/Glifoyle/test-repo/blob/master/Copy_of_PPPROJ1ENGLISH.ipynb\" target=\"_parent\"><img src=\"https://colab.research.google.com/assets/colab-badge.svg\" alt=\"Open In Colab\"/></a>"
      ]
    },
    {
      "cell_type": "markdown",
      "metadata": {
        "id": "ec6G28IV0ojh"
      },
      "source": [
        "# PRACTICAL PROGRAMMING PROJECT 1: Text Data Processing\n",
        "__________________________________________________________\n",
        "\n",
        "In this first project of the course we will process text data corresponding to wind patterns in Zao mountain (Japan).\n",
        "\n",
        "We will use Basic Data structures such as [Lists](https://colab.research.google.com/drive/1eekt3yxO-rHbrc93PnS_J_l6SZMyvdbm?usp=sharing), [Tuples](https://drive.google.com/file/d/1LM28aCmAHETJQCISa53195D31DjoUy8X/view?usp=sharing) and [Dictionaries,](https://drive.google.com/file/d/1YR-bkAW8ljIQpKYSfEBLZU4v-yt_sxZ4/view?usp=sharing).\n",
        "\n",
        "For those with more advanced level, we will also provide some tasks using [Pandas](https://colab.research.google.com/drive/1SgVY0av1mk7Be-DkNJAf7nqhmgvaUdVw?usp=sharing). You can see some examples of the types of manipulations that we will do, [here](https://colab.research.google.com/drive/18mGJcEqSy8vIFh6anQnpl99Fmcst8s7r?usp=sharing)."
      ]
    },
    {
      "cell_type": "markdown",
      "source": [
        "[PRACTICAL PROGRAMMING PROJECT 1: Text Data Processing](#scrollTo=ec6G28IV0ojh)\n",
        "\n",
        "[1) Analyzing wind speed data](#scrollTo=9yfNAyFF0wHB)\n",
        "\n",
        ">[Download Data](#scrollTo=9yfNAyFF0wHB)\n",
        "\n",
        "> [File Overview](#scrollTo=PYLu-D5m021e)\n",
        "\n",
        "> [Wind Speed Statistics:](#scrollTo=OLaIxcDe6FfH)\n",
        "\n",
        ">[Wind Speed Data Overview](#scrollTo=OLaIxcDe6FfH)\n",
        "\n",
        "[LEVEL 1](#scrollTo=43mpaA3vN4tR)\n",
        "\n",
        ">[Task 1:](#scrollTo=43mpaA3vN4tR)\n",
        "\n",
        ">[Task 2:](#scrollTo=8EcDcBg0N4tR)\n",
        "\n",
        ">[Task 3:](#scrollTo=IIUGzOY7N4tR)\n",
        "\n",
        ">[Task 4](#scrollTo=zGME1KWWN4tS)\n",
        "\n",
        "[Level 2](#scrollTo=UCCzuePvo69z)\n",
        "\n",
        ">[Task 5](#scrollTo=UCCzuePvo69z)\n",
        "\n",
        ">[Task 6](#scrollTo=83rWis3sp3xM)\n",
        "\n",
        ">[Task 7](#scrollTo=ewK75Bki8xlm)\n",
        "\n",
        "[Level 3](#scrollTo=p25e1uVVOEvm)\n",
        "\n",
        ">[Task 8](#scrollTo=Wc9pWZgDOEvm)\n",
        "\n",
        ">[Task 9](#scrollTo=l1Yh6zGNOEvm)\n",
        "\n",
        ">[Task 10](#scrollTo=7IOXfWVbOEvn)\n",
        "\n"
      ],
      "metadata": {
        "colab_type": "toc",
        "id": "fuAcrsxTk4yb"
      }
    },
    {
      "cell_type": "markdown",
      "metadata": {
        "id": "9yfNAyFF0wHB"
      },
      "source": [
        "# 1) Analyzing wind speed data\n",
        "\n",
        "In this initial section we will analyze spreadsheet type data taken over several years in Zao mountain in Yamagata prefecture (Japan). You can learn more about the data collection site and how we use drones there to collect images in [this video](https://www.youtube.com/embed/Gi0QrCxjV8E?si=q174bJ1aWlme3YbC):\n",
        "\n",
        "## Download Data\n",
        "\n",
        "First of all, we will download the data. In this occasion, we will show two ways to download the data, [the \"requests\" library](https://requests.readthedocs.io/en/latest/) and the wget linux command. You do not need to modify this in any way."
      ]
    },
    {
      "cell_type": "code",
      "execution_count": null,
      "metadata": {
        "colab": {
          "base_uri": "https://localhost:8080/"
        },
        "id": "BD2-FjSSTteX",
        "outputId": "6a0471e0-871f-49c4-c43e-ac866daec0c1"
      },
      "outputs": [
        {
          "output_type": "stream",
          "name": "stdout",
          "text": [
            "Downloading...\n",
            "From: https://drive.google.com/uc?id=1L3MM6m6BDery0mOAGoKjcI3pfWggw34u\n",
            "To: /content/WSpeed.csv\n",
            "\r  0% 0.00/160k [00:00<?, ?B/s]\r100% 160k/160k [00:00<00:00, 4.72MB/s]\n"
          ]
        }
      ],
      "source": [
        "import urllib.request\n",
        "import os\n",
        "\n",
        "if not os.path.exists('WSpeed.csv'):\n",
        "  !gdown 1L3MM6m6BDery0mOAGoKjcI3pfWggw34u\n",
        "else:\n",
        "  print(\"File already downloaded\")"
      ]
    },
    {
      "cell_type": "markdown",
      "metadata": {
        "id": "PYLu-D5m021e"
      },
      "source": [
        "## File Overview\n",
        "\n"
      ]
    },
    {
      "cell_type": "markdown",
      "metadata": {
        "id": "aW1JEsoB5qXI"
      },
      "source": [
        "After you have donwloaded the data, go ahead and click on the \"folder icon\". You will see that we have donwloaded a new file called WSpeed.csv.\n",
        "\n",
        "Alternatively, in colab, we can list the files in the hard drive with:"
      ]
    },
    {
      "cell_type": "code",
      "execution_count": null,
      "metadata": {
        "colab": {
          "base_uri": "https://localhost:8080/"
        },
        "id": "ip7qvIHO6FQh",
        "outputId": "4368fb02-7c37-4ce1-8f56-e5934a436bf3"
      },
      "outputs": [
        {
          "output_type": "stream",
          "name": "stdout",
          "text": [
            "sample_data  WSpeed.csv\n"
          ]
        }
      ],
      "source": [
        "!ls"
      ]
    },
    {
      "cell_type": "markdown",
      "metadata": {
        "id": "OLaIxcDe6FfH"
      },
      "source": [
        "From now on, we will use Python's to analyze this data.\n",
        "\n",
        "\n",
        "## Wind Speed Data Overview\n",
        "\n",
        "To have a little look at the data, we will briefly open it with the [Pandas library](https://pandas.pydata.org/docs/user_guide/index.html)"
      ]
    },
    {
      "cell_type": "code",
      "execution_count": null,
      "metadata": {
        "colab": {
          "base_uri": "https://localhost:8080/",
          "height": 424
        },
        "id": "Wh0GziooN4tR",
        "outputId": "a112264d-af42-48b3-9917-5659f5559856"
      },
      "outputs": [
        {
          "output_type": "execute_result",
          "data": {
            "text/plain": [
              "      Unnamed: 0     7     8     9    10    11    12    13    14    15    16  \\\n",
              "0     2012-04-01   5.0   6.0   5.0   6.0   6.0   9.0  12.0  13.0  17.0  16.0   \n",
              "1     2012-04-02   8.0   9.0   9.0   6.0   7.0   8.0   7.0   6.0   6.0   6.0   \n",
              "2     2012-04-03   NaN  16.0  21.0  25.0  18.0  20.0  22.0  23.0  25.0  30.0   \n",
              "3     2012-04-04  21.0  20.0  17.0  18.0  20.0  19.0  23.0  22.0  24.0  23.0   \n",
              "4     2012-04-05  18.0  19.0  17.0  15.0  16.0  15.0  15.0  16.0  14.0  13.0   \n",
              "...          ...   ...   ...   ...   ...   ...   ...   ...   ...   ...   ...   \n",
              "3997  2023-03-27   9.0   6.0   7.0   8.0   7.0   5.0   7.0   8.0   6.0   5.0   \n",
              "3998  2023-03-28   3.0   3.0   1.0   1.0   1.0   2.0   2.0   4.0   3.0   4.0   \n",
              "3999  2023-03-29   5.0   4.0   5.0   3.0   3.0   4.0   6.0   6.0   4.0   4.0   \n",
              "4000  2023-03-30   7.0   7.0   5.0   5.0   4.0   6.0   5.0   5.0   5.0   6.0   \n",
              "4001  2023-03-31   8.0   6.0   9.0   9.0  10.0  11.0  12.0  10.0   9.0  10.0   \n",
              "\n",
              "      17  18  19  20  21  22  \n",
              "0    NaN NaN NaN NaN NaN NaN  \n",
              "1    NaN NaN NaN NaN NaN NaN  \n",
              "2    NaN NaN NaN NaN NaN NaN  \n",
              "3    NaN NaN NaN NaN NaN NaN  \n",
              "4    NaN NaN NaN NaN NaN NaN  \n",
              "...   ..  ..  ..  ..  ..  ..  \n",
              "3997 NaN NaN NaN NaN NaN NaN  \n",
              "3998 NaN NaN NaN NaN NaN NaN  \n",
              "3999 NaN NaN NaN NaN NaN NaN  \n",
              "4000 NaN NaN NaN NaN NaN NaN  \n",
              "4001 NaN NaN NaN NaN NaN NaN  \n",
              "\n",
              "[4002 rows x 17 columns]"
            ],
            "text/html": [
              "\n",
              "  <div id=\"df-f4a0bf6a-2075-4def-9191-c6797624706b\" class=\"colab-df-container\">\n",
              "    <div>\n",
              "<style scoped>\n",
              "    .dataframe tbody tr th:only-of-type {\n",
              "        vertical-align: middle;\n",
              "    }\n",
              "\n",
              "    .dataframe tbody tr th {\n",
              "        vertical-align: top;\n",
              "    }\n",
              "\n",
              "    .dataframe thead th {\n",
              "        text-align: right;\n",
              "    }\n",
              "</style>\n",
              "<table border=\"1\" class=\"dataframe\">\n",
              "  <thead>\n",
              "    <tr style=\"text-align: right;\">\n",
              "      <th></th>\n",
              "      <th>Unnamed: 0</th>\n",
              "      <th>7</th>\n",
              "      <th>8</th>\n",
              "      <th>9</th>\n",
              "      <th>10</th>\n",
              "      <th>11</th>\n",
              "      <th>12</th>\n",
              "      <th>13</th>\n",
              "      <th>14</th>\n",
              "      <th>15</th>\n",
              "      <th>16</th>\n",
              "      <th>17</th>\n",
              "      <th>18</th>\n",
              "      <th>19</th>\n",
              "      <th>20</th>\n",
              "      <th>21</th>\n",
              "      <th>22</th>\n",
              "    </tr>\n",
              "  </thead>\n",
              "  <tbody>\n",
              "    <tr>\n",
              "      <th>0</th>\n",
              "      <td>2012-04-01</td>\n",
              "      <td>5.0</td>\n",
              "      <td>6.0</td>\n",
              "      <td>5.0</td>\n",
              "      <td>6.0</td>\n",
              "      <td>6.0</td>\n",
              "      <td>9.0</td>\n",
              "      <td>12.0</td>\n",
              "      <td>13.0</td>\n",
              "      <td>17.0</td>\n",
              "      <td>16.0</td>\n",
              "      <td>NaN</td>\n",
              "      <td>NaN</td>\n",
              "      <td>NaN</td>\n",
              "      <td>NaN</td>\n",
              "      <td>NaN</td>\n",
              "      <td>NaN</td>\n",
              "    </tr>\n",
              "    <tr>\n",
              "      <th>1</th>\n",
              "      <td>2012-04-02</td>\n",
              "      <td>8.0</td>\n",
              "      <td>9.0</td>\n",
              "      <td>9.0</td>\n",
              "      <td>6.0</td>\n",
              "      <td>7.0</td>\n",
              "      <td>8.0</td>\n",
              "      <td>7.0</td>\n",
              "      <td>6.0</td>\n",
              "      <td>6.0</td>\n",
              "      <td>6.0</td>\n",
              "      <td>NaN</td>\n",
              "      <td>NaN</td>\n",
              "      <td>NaN</td>\n",
              "      <td>NaN</td>\n",
              "      <td>NaN</td>\n",
              "      <td>NaN</td>\n",
              "    </tr>\n",
              "    <tr>\n",
              "      <th>2</th>\n",
              "      <td>2012-04-03</td>\n",
              "      <td>NaN</td>\n",
              "      <td>16.0</td>\n",
              "      <td>21.0</td>\n",
              "      <td>25.0</td>\n",
              "      <td>18.0</td>\n",
              "      <td>20.0</td>\n",
              "      <td>22.0</td>\n",
              "      <td>23.0</td>\n",
              "      <td>25.0</td>\n",
              "      <td>30.0</td>\n",
              "      <td>NaN</td>\n",
              "      <td>NaN</td>\n",
              "      <td>NaN</td>\n",
              "      <td>NaN</td>\n",
              "      <td>NaN</td>\n",
              "      <td>NaN</td>\n",
              "    </tr>\n",
              "    <tr>\n",
              "      <th>3</th>\n",
              "      <td>2012-04-04</td>\n",
              "      <td>21.0</td>\n",
              "      <td>20.0</td>\n",
              "      <td>17.0</td>\n",
              "      <td>18.0</td>\n",
              "      <td>20.0</td>\n",
              "      <td>19.0</td>\n",
              "      <td>23.0</td>\n",
              "      <td>22.0</td>\n",
              "      <td>24.0</td>\n",
              "      <td>23.0</td>\n",
              "      <td>NaN</td>\n",
              "      <td>NaN</td>\n",
              "      <td>NaN</td>\n",
              "      <td>NaN</td>\n",
              "      <td>NaN</td>\n",
              "      <td>NaN</td>\n",
              "    </tr>\n",
              "    <tr>\n",
              "      <th>4</th>\n",
              "      <td>2012-04-05</td>\n",
              "      <td>18.0</td>\n",
              "      <td>19.0</td>\n",
              "      <td>17.0</td>\n",
              "      <td>15.0</td>\n",
              "      <td>16.0</td>\n",
              "      <td>15.0</td>\n",
              "      <td>15.0</td>\n",
              "      <td>16.0</td>\n",
              "      <td>14.0</td>\n",
              "      <td>13.0</td>\n",
              "      <td>NaN</td>\n",
              "      <td>NaN</td>\n",
              "      <td>NaN</td>\n",
              "      <td>NaN</td>\n",
              "      <td>NaN</td>\n",
              "      <td>NaN</td>\n",
              "    </tr>\n",
              "    <tr>\n",
              "      <th>...</th>\n",
              "      <td>...</td>\n",
              "      <td>...</td>\n",
              "      <td>...</td>\n",
              "      <td>...</td>\n",
              "      <td>...</td>\n",
              "      <td>...</td>\n",
              "      <td>...</td>\n",
              "      <td>...</td>\n",
              "      <td>...</td>\n",
              "      <td>...</td>\n",
              "      <td>...</td>\n",
              "      <td>...</td>\n",
              "      <td>...</td>\n",
              "      <td>...</td>\n",
              "      <td>...</td>\n",
              "      <td>...</td>\n",
              "      <td>...</td>\n",
              "    </tr>\n",
              "    <tr>\n",
              "      <th>3997</th>\n",
              "      <td>2023-03-27</td>\n",
              "      <td>9.0</td>\n",
              "      <td>6.0</td>\n",
              "      <td>7.0</td>\n",
              "      <td>8.0</td>\n",
              "      <td>7.0</td>\n",
              "      <td>5.0</td>\n",
              "      <td>7.0</td>\n",
              "      <td>8.0</td>\n",
              "      <td>6.0</td>\n",
              "      <td>5.0</td>\n",
              "      <td>NaN</td>\n",
              "      <td>NaN</td>\n",
              "      <td>NaN</td>\n",
              "      <td>NaN</td>\n",
              "      <td>NaN</td>\n",
              "      <td>NaN</td>\n",
              "    </tr>\n",
              "    <tr>\n",
              "      <th>3998</th>\n",
              "      <td>2023-03-28</td>\n",
              "      <td>3.0</td>\n",
              "      <td>3.0</td>\n",
              "      <td>1.0</td>\n",
              "      <td>1.0</td>\n",
              "      <td>1.0</td>\n",
              "      <td>2.0</td>\n",
              "      <td>2.0</td>\n",
              "      <td>4.0</td>\n",
              "      <td>3.0</td>\n",
              "      <td>4.0</td>\n",
              "      <td>NaN</td>\n",
              "      <td>NaN</td>\n",
              "      <td>NaN</td>\n",
              "      <td>NaN</td>\n",
              "      <td>NaN</td>\n",
              "      <td>NaN</td>\n",
              "    </tr>\n",
              "    <tr>\n",
              "      <th>3999</th>\n",
              "      <td>2023-03-29</td>\n",
              "      <td>5.0</td>\n",
              "      <td>4.0</td>\n",
              "      <td>5.0</td>\n",
              "      <td>3.0</td>\n",
              "      <td>3.0</td>\n",
              "      <td>4.0</td>\n",
              "      <td>6.0</td>\n",
              "      <td>6.0</td>\n",
              "      <td>4.0</td>\n",
              "      <td>4.0</td>\n",
              "      <td>NaN</td>\n",
              "      <td>NaN</td>\n",
              "      <td>NaN</td>\n",
              "      <td>NaN</td>\n",
              "      <td>NaN</td>\n",
              "      <td>NaN</td>\n",
              "    </tr>\n",
              "    <tr>\n",
              "      <th>4000</th>\n",
              "      <td>2023-03-30</td>\n",
              "      <td>7.0</td>\n",
              "      <td>7.0</td>\n",
              "      <td>5.0</td>\n",
              "      <td>5.0</td>\n",
              "      <td>4.0</td>\n",
              "      <td>6.0</td>\n",
              "      <td>5.0</td>\n",
              "      <td>5.0</td>\n",
              "      <td>5.0</td>\n",
              "      <td>6.0</td>\n",
              "      <td>NaN</td>\n",
              "      <td>NaN</td>\n",
              "      <td>NaN</td>\n",
              "      <td>NaN</td>\n",
              "      <td>NaN</td>\n",
              "      <td>NaN</td>\n",
              "    </tr>\n",
              "    <tr>\n",
              "      <th>4001</th>\n",
              "      <td>2023-03-31</td>\n",
              "      <td>8.0</td>\n",
              "      <td>6.0</td>\n",
              "      <td>9.0</td>\n",
              "      <td>9.0</td>\n",
              "      <td>10.0</td>\n",
              "      <td>11.0</td>\n",
              "      <td>12.0</td>\n",
              "      <td>10.0</td>\n",
              "      <td>9.0</td>\n",
              "      <td>10.0</td>\n",
              "      <td>NaN</td>\n",
              "      <td>NaN</td>\n",
              "      <td>NaN</td>\n",
              "      <td>NaN</td>\n",
              "      <td>NaN</td>\n",
              "      <td>NaN</td>\n",
              "    </tr>\n",
              "  </tbody>\n",
              "</table>\n",
              "<p>4002 rows × 17 columns</p>\n",
              "</div>\n",
              "    <div class=\"colab-df-buttons\">\n",
              "\n",
              "  <div class=\"colab-df-container\">\n",
              "    <button class=\"colab-df-convert\" onclick=\"convertToInteractive('df-f4a0bf6a-2075-4def-9191-c6797624706b')\"\n",
              "            title=\"Convert this dataframe to an interactive table.\"\n",
              "            style=\"display:none;\">\n",
              "\n",
              "  <svg xmlns=\"http://www.w3.org/2000/svg\" height=\"24px\" viewBox=\"0 -960 960 960\">\n",
              "    <path d=\"M120-120v-720h720v720H120Zm60-500h600v-160H180v160Zm220 220h160v-160H400v160Zm0 220h160v-160H400v160ZM180-400h160v-160H180v160Zm440 0h160v-160H620v160ZM180-180h160v-160H180v160Zm440 0h160v-160H620v160Z\"/>\n",
              "  </svg>\n",
              "    </button>\n",
              "\n",
              "  <style>\n",
              "    .colab-df-container {\n",
              "      display:flex;\n",
              "      gap: 12px;\n",
              "    }\n",
              "\n",
              "    .colab-df-convert {\n",
              "      background-color: #E8F0FE;\n",
              "      border: none;\n",
              "      border-radius: 50%;\n",
              "      cursor: pointer;\n",
              "      display: none;\n",
              "      fill: #1967D2;\n",
              "      height: 32px;\n",
              "      padding: 0 0 0 0;\n",
              "      width: 32px;\n",
              "    }\n",
              "\n",
              "    .colab-df-convert:hover {\n",
              "      background-color: #E2EBFA;\n",
              "      box-shadow: 0px 1px 2px rgba(60, 64, 67, 0.3), 0px 1px 3px 1px rgba(60, 64, 67, 0.15);\n",
              "      fill: #174EA6;\n",
              "    }\n",
              "\n",
              "    .colab-df-buttons div {\n",
              "      margin-bottom: 4px;\n",
              "    }\n",
              "\n",
              "    [theme=dark] .colab-df-convert {\n",
              "      background-color: #3B4455;\n",
              "      fill: #D2E3FC;\n",
              "    }\n",
              "\n",
              "    [theme=dark] .colab-df-convert:hover {\n",
              "      background-color: #434B5C;\n",
              "      box-shadow: 0px 1px 3px 1px rgba(0, 0, 0, 0.15);\n",
              "      filter: drop-shadow(0px 1px 2px rgba(0, 0, 0, 0.3));\n",
              "      fill: #FFFFFF;\n",
              "    }\n",
              "  </style>\n",
              "\n",
              "    <script>\n",
              "      const buttonEl =\n",
              "        document.querySelector('#df-f4a0bf6a-2075-4def-9191-c6797624706b button.colab-df-convert');\n",
              "      buttonEl.style.display =\n",
              "        google.colab.kernel.accessAllowed ? 'block' : 'none';\n",
              "\n",
              "      async function convertToInteractive(key) {\n",
              "        const element = document.querySelector('#df-f4a0bf6a-2075-4def-9191-c6797624706b');\n",
              "        const dataTable =\n",
              "          await google.colab.kernel.invokeFunction('convertToInteractive',\n",
              "                                                    [key], {});\n",
              "        if (!dataTable) return;\n",
              "\n",
              "        const docLinkHtml = 'Like what you see? Visit the ' +\n",
              "          '<a target=\"_blank\" href=https://colab.research.google.com/notebooks/data_table.ipynb>data table notebook</a>'\n",
              "          + ' to learn more about interactive tables.';\n",
              "        element.innerHTML = '';\n",
              "        dataTable['output_type'] = 'display_data';\n",
              "        await google.colab.output.renderOutput(dataTable, element);\n",
              "        const docLink = document.createElement('div');\n",
              "        docLink.innerHTML = docLinkHtml;\n",
              "        element.appendChild(docLink);\n",
              "      }\n",
              "    </script>\n",
              "  </div>\n",
              "\n",
              "\n",
              "<div id=\"df-71d2d6bc-d9d9-478c-b6f8-c29afce7d3ab\">\n",
              "  <button class=\"colab-df-quickchart\" onclick=\"quickchart('df-71d2d6bc-d9d9-478c-b6f8-c29afce7d3ab')\"\n",
              "            title=\"Suggest charts\"\n",
              "            style=\"display:none;\">\n",
              "\n",
              "<svg xmlns=\"http://www.w3.org/2000/svg\" height=\"24px\"viewBox=\"0 0 24 24\"\n",
              "     width=\"24px\">\n",
              "    <g>\n",
              "        <path d=\"M19 3H5c-1.1 0-2 .9-2 2v14c0 1.1.9 2 2 2h14c1.1 0 2-.9 2-2V5c0-1.1-.9-2-2-2zM9 17H7v-7h2v7zm4 0h-2V7h2v10zm4 0h-2v-4h2v4z\"/>\n",
              "    </g>\n",
              "</svg>\n",
              "  </button>\n",
              "\n",
              "<style>\n",
              "  .colab-df-quickchart {\n",
              "      --bg-color: #E8F0FE;\n",
              "      --fill-color: #1967D2;\n",
              "      --hover-bg-color: #E2EBFA;\n",
              "      --hover-fill-color: #174EA6;\n",
              "      --disabled-fill-color: #AAA;\n",
              "      --disabled-bg-color: #DDD;\n",
              "  }\n",
              "\n",
              "  [theme=dark] .colab-df-quickchart {\n",
              "      --bg-color: #3B4455;\n",
              "      --fill-color: #D2E3FC;\n",
              "      --hover-bg-color: #434B5C;\n",
              "      --hover-fill-color: #FFFFFF;\n",
              "      --disabled-bg-color: #3B4455;\n",
              "      --disabled-fill-color: #666;\n",
              "  }\n",
              "\n",
              "  .colab-df-quickchart {\n",
              "    background-color: var(--bg-color);\n",
              "    border: none;\n",
              "    border-radius: 50%;\n",
              "    cursor: pointer;\n",
              "    display: none;\n",
              "    fill: var(--fill-color);\n",
              "    height: 32px;\n",
              "    padding: 0;\n",
              "    width: 32px;\n",
              "  }\n",
              "\n",
              "  .colab-df-quickchart:hover {\n",
              "    background-color: var(--hover-bg-color);\n",
              "    box-shadow: 0 1px 2px rgba(60, 64, 67, 0.3), 0 1px 3px 1px rgba(60, 64, 67, 0.15);\n",
              "    fill: var(--button-hover-fill-color);\n",
              "  }\n",
              "\n",
              "  .colab-df-quickchart-complete:disabled,\n",
              "  .colab-df-quickchart-complete:disabled:hover {\n",
              "    background-color: var(--disabled-bg-color);\n",
              "    fill: var(--disabled-fill-color);\n",
              "    box-shadow: none;\n",
              "  }\n",
              "\n",
              "  .colab-df-spinner {\n",
              "    border: 2px solid var(--fill-color);\n",
              "    border-color: transparent;\n",
              "    border-bottom-color: var(--fill-color);\n",
              "    animation:\n",
              "      spin 1s steps(1) infinite;\n",
              "  }\n",
              "\n",
              "  @keyframes spin {\n",
              "    0% {\n",
              "      border-color: transparent;\n",
              "      border-bottom-color: var(--fill-color);\n",
              "      border-left-color: var(--fill-color);\n",
              "    }\n",
              "    20% {\n",
              "      border-color: transparent;\n",
              "      border-left-color: var(--fill-color);\n",
              "      border-top-color: var(--fill-color);\n",
              "    }\n",
              "    30% {\n",
              "      border-color: transparent;\n",
              "      border-left-color: var(--fill-color);\n",
              "      border-top-color: var(--fill-color);\n",
              "      border-right-color: var(--fill-color);\n",
              "    }\n",
              "    40% {\n",
              "      border-color: transparent;\n",
              "      border-right-color: var(--fill-color);\n",
              "      border-top-color: var(--fill-color);\n",
              "    }\n",
              "    60% {\n",
              "      border-color: transparent;\n",
              "      border-right-color: var(--fill-color);\n",
              "    }\n",
              "    80% {\n",
              "      border-color: transparent;\n",
              "      border-right-color: var(--fill-color);\n",
              "      border-bottom-color: var(--fill-color);\n",
              "    }\n",
              "    90% {\n",
              "      border-color: transparent;\n",
              "      border-bottom-color: var(--fill-color);\n",
              "    }\n",
              "  }\n",
              "</style>\n",
              "\n",
              "  <script>\n",
              "    async function quickchart(key) {\n",
              "      const quickchartButtonEl =\n",
              "        document.querySelector('#' + key + ' button');\n",
              "      quickchartButtonEl.disabled = true;  // To prevent multiple clicks.\n",
              "      quickchartButtonEl.classList.add('colab-df-spinner');\n",
              "      try {\n",
              "        const charts = await google.colab.kernel.invokeFunction(\n",
              "            'suggestCharts', [key], {});\n",
              "      } catch (error) {\n",
              "        console.error('Error during call to suggestCharts:', error);\n",
              "      }\n",
              "      quickchartButtonEl.classList.remove('colab-df-spinner');\n",
              "      quickchartButtonEl.classList.add('colab-df-quickchart-complete');\n",
              "    }\n",
              "    (() => {\n",
              "      let quickchartButtonEl =\n",
              "        document.querySelector('#df-71d2d6bc-d9d9-478c-b6f8-c29afce7d3ab button');\n",
              "      quickchartButtonEl.style.display =\n",
              "        google.colab.kernel.accessAllowed ? 'block' : 'none';\n",
              "    })();\n",
              "  </script>\n",
              "</div>\n",
              "\n",
              "  <div id=\"id_eab0313e-f1ca-432f-99c7-c9f081f80b8e\">\n",
              "    <style>\n",
              "      .colab-df-generate {\n",
              "        background-color: #E8F0FE;\n",
              "        border: none;\n",
              "        border-radius: 50%;\n",
              "        cursor: pointer;\n",
              "        display: none;\n",
              "        fill: #1967D2;\n",
              "        height: 32px;\n",
              "        padding: 0 0 0 0;\n",
              "        width: 32px;\n",
              "      }\n",
              "\n",
              "      .colab-df-generate:hover {\n",
              "        background-color: #E2EBFA;\n",
              "        box-shadow: 0px 1px 2px rgba(60, 64, 67, 0.3), 0px 1px 3px 1px rgba(60, 64, 67, 0.15);\n",
              "        fill: #174EA6;\n",
              "      }\n",
              "\n",
              "      [theme=dark] .colab-df-generate {\n",
              "        background-color: #3B4455;\n",
              "        fill: #D2E3FC;\n",
              "      }\n",
              "\n",
              "      [theme=dark] .colab-df-generate:hover {\n",
              "        background-color: #434B5C;\n",
              "        box-shadow: 0px 1px 3px 1px rgba(0, 0, 0, 0.15);\n",
              "        filter: drop-shadow(0px 1px 2px rgba(0, 0, 0, 0.3));\n",
              "        fill: #FFFFFF;\n",
              "      }\n",
              "    </style>\n",
              "    <button class=\"colab-df-generate\" onclick=\"generateWithVariable('data')\"\n",
              "            title=\"Generate code using this dataframe.\"\n",
              "            style=\"display:none;\">\n",
              "\n",
              "  <svg xmlns=\"http://www.w3.org/2000/svg\" height=\"24px\"viewBox=\"0 0 24 24\"\n",
              "       width=\"24px\">\n",
              "    <path d=\"M7,19H8.4L18.45,9,17,7.55,7,17.6ZM5,21V16.75L18.45,3.32a2,2,0,0,1,2.83,0l1.4,1.43a1.91,1.91,0,0,1,.58,1.4,1.91,1.91,0,0,1-.58,1.4L9.25,21ZM18.45,9,17,7.55Zm-12,3A5.31,5.31,0,0,0,4.9,8.1,5.31,5.31,0,0,0,1,6.5,5.31,5.31,0,0,0,4.9,4.9,5.31,5.31,0,0,0,6.5,1,5.31,5.31,0,0,0,8.1,4.9,5.31,5.31,0,0,0,12,6.5,5.46,5.46,0,0,0,6.5,12Z\"/>\n",
              "  </svg>\n",
              "    </button>\n",
              "    <script>\n",
              "      (() => {\n",
              "      const buttonEl =\n",
              "        document.querySelector('#id_eab0313e-f1ca-432f-99c7-c9f081f80b8e button.colab-df-generate');\n",
              "      buttonEl.style.display =\n",
              "        google.colab.kernel.accessAllowed ? 'block' : 'none';\n",
              "\n",
              "      buttonEl.onclick = () => {\n",
              "        google.colab.notebook.generateWithVariable('data');\n",
              "      }\n",
              "      })();\n",
              "    </script>\n",
              "  </div>\n",
              "\n",
              "    </div>\n",
              "  </div>\n"
            ],
            "application/vnd.google.colaboratory.intrinsic+json": {
              "type": "dataframe",
              "variable_name": "data",
              "summary": "{\n  \"name\": \"data\",\n  \"rows\": 4002,\n  \"fields\": [\n    {\n      \"column\": \"Unnamed: 0\",\n      \"properties\": {\n        \"dtype\": \"object\",\n        \"num_unique_values\": 4002,\n        \"samples\": [\n          \"2013-10-12\",\n          \"2019-04-17\",\n          \"2013-09-14\"\n        ],\n        \"semantic_type\": \"\",\n        \"description\": \"\"\n      }\n    },\n    {\n      \"column\": \"7\",\n      \"properties\": {\n        \"dtype\": \"number\",\n        \"std\": 4.663492304709944,\n        \"min\": 0.0,\n        \"max\": 77.0,\n        \"num_unique_values\": 38,\n        \"samples\": [\n          28.0,\n          15.6,\n          6.0\n        ],\n        \"semantic_type\": \"\",\n        \"description\": \"\"\n      }\n    },\n    {\n      \"column\": \"8\",\n      \"properties\": {\n        \"dtype\": \"number\",\n        \"std\": 4.833055236104398,\n        \"min\": 0.0,\n        \"max\": 92.0,\n        \"num_unique_values\": 39,\n        \"samples\": [\n          24.0,\n          3.8,\n          19.0\n        ],\n        \"semantic_type\": \"\",\n        \"description\": \"\"\n      }\n    },\n    {\n      \"column\": \"9\",\n      \"properties\": {\n        \"dtype\": \"number\",\n        \"std\": 4.856485495119627,\n        \"min\": 0.0,\n        \"max\": 109.0,\n        \"num_unique_values\": 36,\n        \"samples\": [\n          4.3,\n          13.0,\n          8.9\n        ],\n        \"semantic_type\": \"\",\n        \"description\": \"\"\n      }\n    },\n    {\n      \"column\": \"10\",\n      \"properties\": {\n        \"dtype\": \"number\",\n        \"std\": 4.570466085132537,\n        \"min\": 0.0,\n        \"max\": 30.0,\n        \"num_unique_values\": 37,\n        \"samples\": [\n          12.0,\n          4.0,\n          5.0\n        ],\n        \"semantic_type\": \"\",\n        \"description\": \"\"\n      }\n    },\n    {\n      \"column\": \"11\",\n      \"properties\": {\n        \"dtype\": \"number\",\n        \"std\": 4.684607195510245,\n        \"min\": 0.0,\n        \"max\": 44.0,\n        \"num_unique_values\": 37,\n        \"samples\": [\n          13.0,\n          10.0,\n          16.0\n        ],\n        \"semantic_type\": \"\",\n        \"description\": \"\"\n      }\n    },\n    {\n      \"column\": \"12\",\n      \"properties\": {\n        \"dtype\": \"number\",\n        \"std\": 4.656496232704654,\n        \"min\": 0.0,\n        \"max\": 30.0,\n        \"num_unique_values\": 34,\n        \"samples\": [\n          11.0,\n          18.0,\n          7.2\n        ],\n        \"semantic_type\": \"\",\n        \"description\": \"\"\n      }\n    },\n    {\n      \"column\": \"13\",\n      \"properties\": {\n        \"dtype\": \"number\",\n        \"std\": 4.7803768960644515,\n        \"min\": 0.0,\n        \"max\": 78.0,\n        \"num_unique_values\": 41,\n        \"samples\": [\n          25.0,\n          4.0,\n          9.0\n        ],\n        \"semantic_type\": \"\",\n        \"description\": \"\"\n      }\n    },\n    {\n      \"column\": \"14\",\n      \"properties\": {\n        \"dtype\": \"number\",\n        \"std\": 4.610021884333583,\n        \"min\": 0.0,\n        \"max\": 30.0,\n        \"num_unique_values\": 35,\n        \"samples\": [\n          26.0,\n          5.0,\n          19.0\n        ],\n        \"semantic_type\": \"\",\n        \"description\": \"\"\n      }\n    },\n    {\n      \"column\": \"15\",\n      \"properties\": {\n        \"dtype\": \"number\",\n        \"std\": 4.529904947424192,\n        \"min\": 0.0,\n        \"max\": 30.0,\n        \"num_unique_values\": 34,\n        \"samples\": [\n          2.0,\n          5.0,\n          23.0\n        ],\n        \"semantic_type\": \"\",\n        \"description\": \"\"\n      }\n    },\n    {\n      \"column\": \"16\",\n      \"properties\": {\n        \"dtype\": \"number\",\n        \"std\": 4.60054547490476,\n        \"min\": 0.7,\n        \"max\": 30.0,\n        \"num_unique_values\": 36,\n        \"samples\": [\n          28.0,\n          3.0,\n          5.4\n        ],\n        \"semantic_type\": \"\",\n        \"description\": \"\"\n      }\n    },\n    {\n      \"column\": \"17\",\n      \"properties\": {\n        \"dtype\": \"number\",\n        \"std\": 4.435564986924407,\n        \"min\": 1.0,\n        \"max\": 30.0,\n        \"num_unique_values\": 29,\n        \"samples\": [\n          6.5,\n          18.0,\n          8.0\n        ],\n        \"semantic_type\": \"\",\n        \"description\": \"\"\n      }\n    },\n    {\n      \"column\": \"18\",\n      \"properties\": {\n        \"dtype\": \"number\",\n        \"std\": 3.9118050988062802,\n        \"min\": 0.0,\n        \"max\": 20.0,\n        \"num_unique_values\": 25,\n        \"samples\": [\n          7.0,\n          19.0,\n          4.0\n        ],\n        \"semantic_type\": \"\",\n        \"description\": \"\"\n      }\n    },\n    {\n      \"column\": \"19\",\n      \"properties\": {\n        \"dtype\": \"number\",\n        \"std\": 3.793402664120398,\n        \"min\": 0.0,\n        \"max\": 19.0,\n        \"num_unique_values\": 21,\n        \"samples\": [\n          4.0,\n          15.0,\n          19.0\n        ],\n        \"semantic_type\": \"\",\n        \"description\": \"\"\n      }\n    },\n    {\n      \"column\": \"20\",\n      \"properties\": {\n        \"dtype\": \"number\",\n        \"std\": 3.757609023753543,\n        \"min\": 0.0,\n        \"max\": 22.0,\n        \"num_unique_values\": 23,\n        \"samples\": [\n          12.0,\n          14.0,\n          7.0\n        ],\n        \"semantic_type\": \"\",\n        \"description\": \"\"\n      }\n    },\n    {\n      \"column\": \"21\",\n      \"properties\": {\n        \"dtype\": \"number\",\n        \"std\": 3.8794329482541645,\n        \"min\": 1.0,\n        \"max\": 18.0,\n        \"num_unique_values\": 16,\n        \"samples\": [\n          6.0,\n          4.0,\n          1.0\n        ],\n        \"semantic_type\": \"\",\n        \"description\": \"\"\n      }\n    },\n    {\n      \"column\": \"22\",\n      \"properties\": {\n        \"dtype\": \"number\",\n        \"std\": 2.0,\n        \"min\": 2.0,\n        \"max\": 6.0,\n        \"num_unique_values\": 3,\n        \"samples\": [\n          6.0,\n          2.0,\n          4.0\n        ],\n        \"semantic_type\": \"\",\n        \"description\": \"\"\n      }\n    }\n  ]\n}"
            }
          },
          "metadata": {},
          "execution_count": 4
        }
      ],
      "source": [
        "import pandas as pd\n",
        "data = pd.read_csv(\"WSpeed.csv\")\n",
        "data"
      ]
    },
    {
      "cell_type": "markdown",
      "metadata": {
        "id": "43mpaA3vN4tR"
      },
      "source": [
        "Alternatively, you can also click on the \"folder\" icon to the left of this description to open the hard drive of the distributed colab machine and then double click on the name of the file to see what it looks like.\n",
        "\n",
        "# LEVEL 1\n",
        "\n",
        "For now though,  we will use simple Python commands to read the file and obtain information from it.\n",
        "\n",
        "## Task 1:\n",
        "\n",
        "Open the \"WSpeed.csv\" file using \"open\" and print each of its lines on the screen:"
      ]
    },
    {
      "cell_type": "code",
      "execution_count": null,
      "metadata": {
        "id": "ThnFaR4KN4tR"
      },
      "outputs": [],
      "source": [
        "# Your Answer\n"
      ]
    },
    {
      "cell_type": "markdown",
      "metadata": {
        "id": "8EcDcBg0N4tR"
      },
      "source": [
        "## Task 2:\n",
        "\n",
        "Given a string representing a line in the file and an index \"pos\" (>=1), return the contents of position \"pos\" in the string separated by commas.\n",
        "\n",
        "**Notes:**\n",
        "\n",
        "- Python will read the contents as a String value, you need to transform (cast) it to \"float\" using (float).\n",
        "- Some positions are empty, in that case, return a \"-1\" value.\n",
        "- Use \"2012-04-16,5,3,3,2,2,1,1,2,3,2,5,,,,,\" as an exemple string.\n",
        "- Remember that Python Strings are indexes from 0, in this case for example, the value in position 2 is \"3\", for example and when you cast it to float you should receive a value of 3.0\n",
        "\n",
        "Can you do it using a function?"
      ]
    },
    {
      "cell_type": "code",
      "execution_count": null,
      "metadata": {
        "id": "e39qPsgON4tR"
      },
      "outputs": [],
      "source": [
        "# Your Answer\n",
        "\n",
        "testString = \"2012-04-16,5,3,3,2,2,1,1,2,3,2,5,,,,,\"\n",
        "pos = 2"
      ]
    },
    {
      "cell_type": "markdown",
      "metadata": {
        "id": "IIUGzOY7N4tR"
      },
      "source": [
        "## Task 3:\n",
        "\n",
        "Given a string representing a line in the file write a function that:\n",
        "\n",
        "- Computes the average of non-empty values\n",
        "- Counts how many non-empty values there are.\n",
        "\n",
        "**Notes:**\n",
        "\n",
        "- Python will read the contents as a String value, you need to transform (cast) it to \"float\" using (float).\n",
        "- Some positions are empty, ignore them for the calculations of averages.\n",
        "- The first position contains a \"date\", this position shoudl also be ignored.\n",
        "- Use \"2012-04-16,5,3,3,2,2,1,1,2,3,2,5,,,,,\" as an exemple string.\n",
        "- Remember that Python Strings are indexes from 0, in this case for example, the value in position 2 is \"3\", for example and when you cast it to float you should receive a value of 3.0\n",
        "- To return move than one value you can use \"return val1,val2\" and read them for example as: \"count,av = lineAverageAndCount(s)\""
      ]
    },
    {
      "cell_type": "code",
      "execution_count": null,
      "metadata": {
        "id": "PFi6MNi5N4tR"
      },
      "outputs": [],
      "source": [
        "# Your Answer\n",
        "\n",
        "testString = \"2012-04-16,5,3,3,2,2,1,1,2,3,2,5,,,,,\""
      ]
    },
    {
      "cell_type": "markdown",
      "metadata": {
        "id": "zGME1KWWN4tS"
      },
      "source": [
        "## Task 4\n",
        "\n",
        "Using the solutions from the previous tasks:\n",
        "\n",
        "- Compute the average of the daily windSpeed average over all data.\n",
        "- Compute the percentage of non-empty cells over all possible cells.\n",
        "- Compute the average wind speed recording at 9' o clock in the morning.\n",
        "\n",
        "**Notes:**\n",
        "\n",
        "- Notice that the number of possible cells with data is 16*(number of days with data).\n",
        "- The lines contain a \"\\n\" character at the end. Remember to use line.strip() to eliminate it.\n",
        "- The data for 9 o'clock appears in the fourth column (column index 3)."
      ]
    },
    {
      "cell_type": "code",
      "execution_count": null,
      "metadata": {
        "id": "wPaSk6X7N4tS"
      },
      "outputs": [],
      "source": [
        "# Your Answer average speed over year\n"
      ]
    },
    {
      "cell_type": "code",
      "execution_count": null,
      "metadata": {
        "id": "cIDUGrhUN4tS"
      },
      "outputs": [],
      "source": [
        "# Your Answer average column 3\n"
      ]
    },
    {
      "cell_type": "code",
      "execution_count": null,
      "metadata": {
        "id": "XU7c8cCuN4tS"
      },
      "outputs": [],
      "source": [
        "# Your Answer percentage non - empty\n"
      ]
    },
    {
      "cell_type": "markdown",
      "metadata": {
        "id": "UCCzuePvo69z"
      },
      "source": [
        "# Level 2\n",
        "\n",
        "## Task 5\n",
        "\n",
        "**Use the Pandas library** to:\n",
        "\n",
        "- Compute the average of the daily wind speed average over all data.\n",
        "- Compute the percentage of non-empty cells over all possible cells.\n",
        "- Compute the average wind speed recording at 9' o clock in the morning."
      ]
    },
    {
      "cell_type": "code",
      "execution_count": null,
      "metadata": {
        "id": "i3x-N2LYN4tS"
      },
      "outputs": [],
      "source": [
        "# your solution\n"
      ]
    },
    {
      "cell_type": "markdown",
      "metadata": {
        "id": "83rWis3sp3xM"
      },
      "source": [
        "## Task 6\n",
        "\n",
        "**Use Pandas to compute the averages of daily average wind speeds separately for all the years present in the data.**\n",
        "\n",
        "- Make a bar plot that shows the results (one bar for each year).\n",
        "- Use pandas to create monthly wind speed averages for 2022.\n",
        "- Make a bar plot showing the results.\n",
        "- What can you tell from the plots that you have created regarding wind patterns in Zao mountain?\n"
      ]
    },
    {
      "cell_type": "code",
      "execution_count": null,
      "metadata": {
        "collapsed": true,
        "id": "XeXnJ3B8qkyM"
      },
      "outputs": [],
      "source": [
        "# Your answer\n",
        "\n"
      ]
    },
    {
      "cell_type": "markdown",
      "source": [
        "Wind pattern appear to be similar from year to year, with ciclical changes throught the year and more wind in the winter months."
      ],
      "metadata": {
        "id": "M4jgN3v0g905"
      }
    },
    {
      "cell_type": "markdown",
      "metadata": {
        "id": "ewK75Bki8xlm"
      },
      "source": [
        "## Task 7\n",
        "\n",
        "**Use a \"map\" operator** to compute the average wind speed at 9 o'clock.\n",
        "\n",
        "Compare the time it takes to run this code with Pandas. Which is faster, why do you think that is the case?"
      ]
    },
    {
      "cell_type": "code",
      "execution_count": null,
      "metadata": {
        "id": "crNcHBAr8w0-"
      },
      "outputs": [],
      "source": [
        "# Your answer"
      ]
    },
    {
      "cell_type": "markdown",
      "metadata": {
        "id": "p25e1uVVOEvm"
      },
      "source": [
        "# Level 3\n",
        "\n",
        "Use the following code to download new data and transform and excel file into a set of csv files."
      ]
    },
    {
      "cell_type": "code",
      "execution_count": null,
      "metadata": {
        "id": "wEH6LZIAOEvm"
      },
      "outputs": [],
      "source": [
        "import urllib.request\n",
        "\n",
        "# Check if we are in colab or not and choose the best option for every case\n",
        "try:\n",
        "  import google.colab\n",
        "  IN_COLAB = True\n",
        "except:\n",
        "  IN_COLAB = False\n",
        "\n",
        "\n",
        "if IN_COLAB:\n",
        "  !wget 'https://www.dropbox.com/scl/fi/5gx0kcnnn1aeqkbbjxv43/windData.xlsx?rlkey=ll0hc1i5jh9lpv0xoep9ah43c&dl=0'\n",
        "  !mv \"windData.xlsx?rlkey=ll0hc1i5jh9lpv0xoep9ah43c&dl=0\" windData.xlsx\n",
        "else:\n",
        "    url = 'https://www.dropbox.com/scl/fi/5gx0kcnnn1aeqkbbjxv43/windData.xlsx?rlkey=ll0hc1i5jh9lpv0xoep9ah43c&dl=0'\n",
        "    filename = 'windData.xlsx'\n",
        "    urllib.request.urlretrieve(url, filename)\n"
      ]
    },
    {
      "cell_type": "code",
      "execution_count": null,
      "metadata": {
        "id": "IoY9Gz6kOEvm"
      },
      "outputs": [],
      "source": [
        "def excelToCSV(fileName):\n",
        "  \"\"\"\n",
        "  Function to transform one file in excel format into a series\n",
        "  of csv format files. Each file created will correspond\n",
        "  to one of the sheets in the original file.\n",
        "  \"\"\"\n",
        "  xl = pd.ExcelFile(fileName, engine='openpyxl')\n",
        "  sheets= xl.sheet_names\n",
        "  for sh in sheets:\n",
        "      xl.parse(sh).to_csv(sh+\".csv\")\n",
        "\n",
        "import pandas as pd\n",
        "\n",
        "# Now call the function\n",
        "excelToCSV(\"windData.xlsx\")"
      ]
    },
    {
      "cell_type": "markdown",
      "metadata": {
        "id": "Wc9pWZgDOEvm"
      },
      "source": [
        "## Task 8\n",
        "\n",
        "**Use only basic data structures and loops.**\n",
        "\n",
        "1) Open file 'wind direction.csv' as a text file.  \n",
        "2) Traverse it line by line.  \n",
        "3) Put all the lines in a list of tuples \"myList\", every line in a position of the list. With the first element of the list containing the date and the second containing a list of the wind directions (with empty strings \"\") for those where we do not have information.  \n",
        "4) Use a for loop to traverse myList. Build a dictionary:\n",
        "- That has the different wind directions as **keys** (W,SW,E,...).   \n",
        "- And the number of times every direction appears as **values**.  \n",
        "\n",
        "5) Print your dictionary on the screen and make a small plot to illustrate your results."
      ]
    },
    {
      "cell_type": "code",
      "execution_count": null,
      "metadata": {
        "id": "j5RY9Q2KOEvm"
      },
      "outputs": [],
      "source": []
    },
    {
      "cell_type": "markdown",
      "metadata": {
        "id": "l1Yh6zGNOEvm"
      },
      "source": [
        "## Task 9\n",
        "\n",
        "**Use Functional Programming**\n",
        "\n",
        "1) Open file 'wind direction.csv' as a text file.  \n",
        "2) Define a function that processes every line adding to a dictionary of wind directions and number of occurrences. The final dictionary is the same as for the previous tasks.  \n",
        "3) Process the file using the function defined in \"2\" and a \"map\" operator.  \n",
        "4) Print your dictionary on the screen and make a small plot to illustrate your results.\n",
        "\n",
        "\n",
        "**You will probably need pretty advanced techniques to achieve this. I suggest using a function that returns another function to create the function in point 2**\n"
      ]
    },
    {
      "cell_type": "code",
      "execution_count": null,
      "metadata": {
        "id": "j6nRdWqDOEvm"
      },
      "outputs": [],
      "source": []
    },
    {
      "cell_type": "markdown",
      "metadata": {
        "id": "7IOXfWVbOEvn"
      },
      "source": [
        "## Task 10\n",
        "\n",
        "Filtering Data:\n",
        "\n",
        "Sometimes, we neeed to answer questions that deal only with a small part of the data.\n",
        "\n",
        "**Find out what the most frequent wind direction in Zao is for a particular year (for example, 2015).**\n",
        "\n",
        "**Find out what the most frequent wind direction in Zao \"in the morning\" (between 07:00 up to 11:00) .**\n",
        "\n",
        "Use \"Filter\" and the pandas library to answer these questions, compare their running times. Which option is better and why?"
      ]
    },
    {
      "cell_type": "code",
      "execution_count": null,
      "metadata": {
        "id": "IBSKRKPGOEvn"
      },
      "outputs": [],
      "source": []
    }
  ]
}