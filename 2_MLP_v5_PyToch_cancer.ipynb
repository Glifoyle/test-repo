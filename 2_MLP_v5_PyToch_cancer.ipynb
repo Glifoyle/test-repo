{
  "nbformat": 4,
  "nbformat_minor": 0,
  "metadata": {
    "colab": {
      "provenance": [],
      "include_colab_link": true
    },
    "kernelspec": {
      "name": "python3",
      "display_name": "Python 3"
    }
  },
  "cells": [
    {
      "cell_type": "markdown",
      "metadata": {
        "id": "view-in-github",
        "colab_type": "text"
      },
      "source": [
        "<a href=\"https://colab.research.google.com/github/Glifoyle/test-repo/blob/master/2_MLP_v5_PyToch_cancer.ipynb\" target=\"_parent\"><img src=\"https://colab.research.google.com/assets/colab-badge.svg\" alt=\"Open In Colab\"/></a>"
      ]
    },
    {
      "cell_type": "markdown",
      "metadata": {
        "id": "wQe0rk7M1AVe"
      },
      "source": [
        "# 目的：ニューラルネットワークの「学習」を理解する\n",
        "\n",
        "### テーマ：全結合型ニューラルネットワークMLP（Multi-Layer Perceptron：多層パーセプトロン）の学習を用いてCancerデータを分類する\n",
        "\n",
        "<br>\n",
        "&copy; 2021-2024 Hiro Kimura\n",
        "<br>"
      ]
    },
    {
      "cell_type": "code",
      "source": [],
      "metadata": {
        "id": "ev313t2-QoY3"
      },
      "execution_count": null,
      "outputs": []
    },
    {
      "cell_type": "markdown",
      "metadata": {
        "id": "lOH2h5-xphdh"
      },
      "source": [
        "## ポイント：\n",
        "\n",
        "-  データには，**Breast cancer wisconsin (diagnostic) dataset**を用いる\n",
        "-  学習モデルには，**MLP**（Multi-Layer Perceptron）モデルを用いる\n",
        "-  PyTorchフレームワークの機能（自動微分等）を用いる\n",
        "-  損失関数には正解ラベルと予測値との**交差エントロピー誤差**を用いる\n",
        "-  最適値の探索には，勾配降下法（**SGD**：確率的勾配降下法）を用いる\n",
        "\n"
      ]
    },
    {
      "cell_type": "markdown",
      "source": [
        "# 実習の準備\n",
        "\n",
        "1. タイムゾーンを東京に変更する\n",
        "1. Google Driveをマウントする\n",
        "2. 作業用フォルダを作成する\n",
        "1. PyTorchフレームワーク（ライブラリー）を導入する\n"
      ],
      "metadata": {
        "id": "XKmWWhdW7eFt"
      }
    },
    {
      "cell_type": "markdown",
      "source": [
        "## タイムゾーンを東京に変更する"
      ],
      "metadata": {
        "id": "jv9NI7Y4NTPh"
      }
    },
    {
      "cell_type": "code",
      "source": [
        "# 現在の設定を確認\n",
        "!date"
      ],
      "metadata": {
        "colab": {
          "base_uri": "https://localhost:8080/"
        },
        "id": "P-Xk8K9aNPar",
        "outputId": "87006ee6-9fe9-4f64-a81b-dbbc336e4c34"
      },
      "execution_count": null,
      "outputs": [
        {
          "output_type": "stream",
          "name": "stdout",
          "text": [
            "Tue Apr  9 01:28:59 AM UTC 2024\n"
          ]
        }
      ]
    },
    {
      "cell_type": "code",
      "source": [
        "# 設定を変更\n",
        "!rm /etc/localtime\n",
        "!ln -s /usr/share/zoneinfo/Asia/Tokyo /etc/localtime\n",
        "\n",
        "!date"
      ],
      "metadata": {
        "colab": {
          "base_uri": "https://localhost:8080/"
        },
        "id": "Lqq0A3zrNnoI",
        "outputId": "ec38e599-7656-4971-b8fc-1ffe68ef56d9"
      },
      "execution_count": null,
      "outputs": [
        {
          "output_type": "stream",
          "name": "stdout",
          "text": [
            "Tue Apr  9 10:29:03 AM JST 2024\n"
          ]
        }
      ]
    },
    {
      "cell_type": "code",
      "metadata": {
        "id": "t3SgszS33dKi"
      },
      "source": [
        "# pythonのバージョン確認\n",
        "# ! python --version"
      ],
      "execution_count": null,
      "outputs": []
    },
    {
      "cell_type": "markdown",
      "metadata": {
        "id": "lBAhWQ24EFFn"
      },
      "source": [
        "## Google Driveをマウントする"
      ]
    },
    {
      "cell_type": "code",
      "metadata": {
        "id": "d1B9te2r41oF",
        "colab": {
          "base_uri": "https://localhost:8080/"
        },
        "outputId": "7d05879c-ebcd-417e-a49a-eef99a4c24f9"
      },
      "source": [
        "from google.colab import drive\n",
        "drive.mount('/content/drive')"
      ],
      "execution_count": null,
      "outputs": [
        {
          "output_type": "stream",
          "name": "stdout",
          "text": [
            "Mounted at /content/drive\n"
          ]
        }
      ]
    },
    {
      "cell_type": "code",
      "metadata": {
        "id": "tNcSZjsEZ9tc"
      },
      "source": [
        "# # Chap 3のフォルダを作成\n",
        "# # !mkdir -p '/content/drive/MyDrive/practice/chap_mlp'\n",
        "# %cd '/content/drive/MyDrive/practice/chap_mlp'\n",
        "# !pwd"
      ],
      "execution_count": null,
      "outputs": []
    },
    {
      "cell_type": "code",
      "metadata": {
        "id": "DTL3aMd4vNAe",
        "colab": {
          "base_uri": "https://localhost:8080/",
          "height": 35
        },
        "outputId": "4cabc0ec-9739-4bd9-a9e7-32cf182e98dd"
      },
      "source": [
        "# Chap のフォルダ（作業ディレクトリ）を作成\n",
        "import os\n",
        "\n",
        "chap_dir = \"/content/drive/MyDrive/practice/chap_mlp\"\n",
        "if not os.path.exists(chap_dir): # ディレクトリが存在していなければ\n",
        "    # os.mkdir(chap_dir)\n",
        "    os.makedirs(chap_dir) # ディレクトリを，途中のディレクトリも含めて，作成する\n",
        "\n",
        "os.chdir(chap_dir) # 今回の作業ディレクトリに移動する\n",
        "os.getcwd() # 現在の作業ディレクトリを表示する"
      ],
      "execution_count": null,
      "outputs": [
        {
          "output_type": "execute_result",
          "data": {
            "text/plain": [
              "'/content/drive/MyDrive/practice/chap_mlp'"
            ],
            "application/vnd.google.colaboratory.intrinsic+json": {
              "type": "string"
            }
          },
          "metadata": {},
          "execution_count": 4
        }
      ]
    },
    {
      "cell_type": "markdown",
      "metadata": {
        "id": "qKivWbvMi_Re"
      },
      "source": [
        "## PyTorchのインストール\n",
        "\n",
        "- デフォルトで導入されている"
      ]
    },
    {
      "cell_type": "code",
      "metadata": {
        "id": "WN4tcrdC3jUN"
      },
      "source": [
        "# torch, torchvisionをインストール\n",
        "\n",
        "# ! pip install torch==1.9.0 torchvision # verified version\n",
        "# ! pip install torch torchvision # may be 1.10.0+cu111"
      ],
      "execution_count": null,
      "outputs": []
    },
    {
      "cell_type": "markdown",
      "metadata": {
        "id": "7lC6hmZ-ZgYn"
      },
      "source": [
        "# 「学習」の手順\n",
        "1. データを準備する\n",
        "  - データの読み込み\n",
        "  - データの前処理\n",
        "  - データセットの作成\n",
        "  - データの分割（3分割）\n",
        "  - データローダの作成\n",
        "1. モデルを定義する\n",
        "1. モデルを訓練する\n",
        "  - 損失関数と最適化手法を設定\n",
        "  - 訓練を実施\n",
        "1. 学習済みモデルを性能評価する"
      ]
    },
    {
      "cell_type": "markdown",
      "metadata": {
        "id": "sYHuoBmbEM-s"
      },
      "source": [
        "# データを準備する\n",
        "1. 作業用フォルダに**breastcancer.xlsx** の存在を確認する\n",
        "    - 存在しない場合は，パソコンからドラッグ&ドロップする\n",
        "    - パソコンにも存在しない場合は，Moodleからダウンロードする\n",
        "1. データの読込み\n",
        "  - Excelファイルから特徴量と正解ラベルを\n",
        "1. データの前処理\n",
        "  - スケール変換：精度を増すため\n",
        "  - テンソル変換：PyTorchで処理するため\n",
        "    - データ型変換\n",
        "1. データセットの作成\n",
        "  - 特徴量と正解ラベルを統合\n",
        "1. データの分割（3分割）\n",
        "  - 訓練用、検証用、テスト用\n",
        "1. データローダの作成\n",
        "  - バッチサイズ"
      ]
    },
    {
      "cell_type": "code",
      "source": [],
      "metadata": {
        "id": "sHNIcY6evQXI"
      },
      "execution_count": null,
      "outputs": []
    },
    {
      "cell_type": "markdown",
      "metadata": {
        "id": "SK_OTS3BMlu8"
      },
      "source": [
        "## データの読み込み（ファイルから）"
      ]
    },
    {
      "cell_type": "markdown",
      "metadata": {
        "id": "zH0QCM8aW2l7"
      },
      "source": [
        "Breast cancer wisconsin (diagnostic) datasetデータセット：\n",
        "-  細胞診データ\n",
        "-  569件のデータ（数値と正解ラベル）\n",
        "-  30種類の特徴量\n",
        "-  ラベルは，0: Malignant，1: Benign\n"
      ]
    },
    {
      "cell_type": "code",
      "metadata": {
        "colab": {
          "base_uri": "https://localhost:8080/"
        },
        "id": "3baChHAsbK9P",
        "outputId": "903d273b-e887-4e31-8689-a53e0487d8af"
      },
      "source": [
        "# 現在の作業ディレクトリを確認する\n",
        "!pwd\n",
        "# 作業フォルダを確認する\n",
        "!ls -F"
      ],
      "execution_count": null,
      "outputs": [
        {
          "output_type": "stream",
          "name": "stdout",
          "text": [
            "/content/drive/MyDrive/practice/chap_mlp\n",
            "breastcancer.xlsx\n"
          ]
        }
      ]
    },
    {
      "cell_type": "code",
      "source": [
        "import pandas as pd\n",
        "\n",
        "# Excelファイルからデータフレームに読み込む\n",
        "df = pd.read_excel('./breastcancer.xlsx')\n",
        "\n",
        "print(df.shape)"
      ],
      "metadata": {
        "colab": {
          "base_uri": "https://localhost:8080/"
        },
        "id": "4BVLUI0vcIVt",
        "outputId": "280b36a7-0068-4102-aea6-4c41d49b3e8a"
      },
      "execution_count": null,
      "outputs": [
        {
          "output_type": "stream",
          "name": "stdout",
          "text": [
            "(569, 31)\n"
          ]
        }
      ]
    },
    {
      "cell_type": "code",
      "source": [
        "# データフレームを確認する\n",
        "\n",
        "display(df.head())\n",
        "# print(df.head())"
      ],
      "metadata": {
        "colab": {
          "base_uri": "https://localhost:8080/",
          "height": 290
        },
        "id": "tcnVZjcOcIdl",
        "outputId": "99f868d3-0d8d-48fc-d771-3400aa6a22be"
      },
      "execution_count": null,
      "outputs": [
        {
          "output_type": "display_data",
          "data": {
            "text/plain": [
              "   mean radius  mean texture  mean perimeter  mean area  mean smoothness  \\\n",
              "0        17.99         10.38          122.80     1001.0          0.11840   \n",
              "1        20.57         17.77          132.90     1326.0          0.08474   \n",
              "2        19.69         21.25          130.00     1203.0          0.10960   \n",
              "3        11.42         20.38           77.58      386.1          0.14250   \n",
              "4        20.29         14.34          135.10     1297.0          0.10030   \n",
              "\n",
              "   mean compactness  mean concavity  mean concave points  mean symmetry  \\\n",
              "0           0.27760          0.3001              0.14710         0.2419   \n",
              "1           0.07864          0.0869              0.07017         0.1812   \n",
              "2           0.15990          0.1974              0.12790         0.2069   \n",
              "3           0.28390          0.2414              0.10520         0.2597   \n",
              "4           0.13280          0.1980              0.10430         0.1809   \n",
              "\n",
              "   mean fractal dimension  ...  worst texture  worst perimeter  worst area  \\\n",
              "0                 0.07871  ...          17.33           184.60      2019.0   \n",
              "1                 0.05667  ...          23.41           158.80      1956.0   \n",
              "2                 0.05999  ...          25.53           152.50      1709.0   \n",
              "3                 0.09744  ...          26.50            98.87       567.7   \n",
              "4                 0.05883  ...          16.67           152.20      1575.0   \n",
              "\n",
              "   worst smoothness  worst compactness  worst concavity  worst concave points  \\\n",
              "0            0.1622             0.6656           0.7119                0.2654   \n",
              "1            0.1238             0.1866           0.2416                0.1860   \n",
              "2            0.1444             0.4245           0.4504                0.2430   \n",
              "3            0.2098             0.8663           0.6869                0.2575   \n",
              "4            0.1374             0.2050           0.4000                0.1625   \n",
              "\n",
              "   worst symmetry  worst fractal dimension  diag class  \n",
              "0          0.4601                  0.11890           0  \n",
              "1          0.2750                  0.08902           0  \n",
              "2          0.3613                  0.08758           0  \n",
              "3          0.6638                  0.17300           0  \n",
              "4          0.2364                  0.07678           0  \n",
              "\n",
              "[5 rows x 31 columns]"
            ],
            "text/html": [
              "\n",
              "  <div id=\"df-66e85be1-f6e4-4b51-b2e0-e841ed87cb93\" class=\"colab-df-container\">\n",
              "    <div>\n",
              "<style scoped>\n",
              "    .dataframe tbody tr th:only-of-type {\n",
              "        vertical-align: middle;\n",
              "    }\n",
              "\n",
              "    .dataframe tbody tr th {\n",
              "        vertical-align: top;\n",
              "    }\n",
              "\n",
              "    .dataframe thead th {\n",
              "        text-align: right;\n",
              "    }\n",
              "</style>\n",
              "<table border=\"1\" class=\"dataframe\">\n",
              "  <thead>\n",
              "    <tr style=\"text-align: right;\">\n",
              "      <th></th>\n",
              "      <th>mean radius</th>\n",
              "      <th>mean texture</th>\n",
              "      <th>mean perimeter</th>\n",
              "      <th>mean area</th>\n",
              "      <th>mean smoothness</th>\n",
              "      <th>mean compactness</th>\n",
              "      <th>mean concavity</th>\n",
              "      <th>mean concave points</th>\n",
              "      <th>mean symmetry</th>\n",
              "      <th>mean fractal dimension</th>\n",
              "      <th>...</th>\n",
              "      <th>worst texture</th>\n",
              "      <th>worst perimeter</th>\n",
              "      <th>worst area</th>\n",
              "      <th>worst smoothness</th>\n",
              "      <th>worst compactness</th>\n",
              "      <th>worst concavity</th>\n",
              "      <th>worst concave points</th>\n",
              "      <th>worst symmetry</th>\n",
              "      <th>worst fractal dimension</th>\n",
              "      <th>diag class</th>\n",
              "    </tr>\n",
              "  </thead>\n",
              "  <tbody>\n",
              "    <tr>\n",
              "      <th>0</th>\n",
              "      <td>17.99</td>\n",
              "      <td>10.38</td>\n",
              "      <td>122.80</td>\n",
              "      <td>1001.0</td>\n",
              "      <td>0.11840</td>\n",
              "      <td>0.27760</td>\n",
              "      <td>0.3001</td>\n",
              "      <td>0.14710</td>\n",
              "      <td>0.2419</td>\n",
              "      <td>0.07871</td>\n",
              "      <td>...</td>\n",
              "      <td>17.33</td>\n",
              "      <td>184.60</td>\n",
              "      <td>2019.0</td>\n",
              "      <td>0.1622</td>\n",
              "      <td>0.6656</td>\n",
              "      <td>0.7119</td>\n",
              "      <td>0.2654</td>\n",
              "      <td>0.4601</td>\n",
              "      <td>0.11890</td>\n",
              "      <td>0</td>\n",
              "    </tr>\n",
              "    <tr>\n",
              "      <th>1</th>\n",
              "      <td>20.57</td>\n",
              "      <td>17.77</td>\n",
              "      <td>132.90</td>\n",
              "      <td>1326.0</td>\n",
              "      <td>0.08474</td>\n",
              "      <td>0.07864</td>\n",
              "      <td>0.0869</td>\n",
              "      <td>0.07017</td>\n",
              "      <td>0.1812</td>\n",
              "      <td>0.05667</td>\n",
              "      <td>...</td>\n",
              "      <td>23.41</td>\n",
              "      <td>158.80</td>\n",
              "      <td>1956.0</td>\n",
              "      <td>0.1238</td>\n",
              "      <td>0.1866</td>\n",
              "      <td>0.2416</td>\n",
              "      <td>0.1860</td>\n",
              "      <td>0.2750</td>\n",
              "      <td>0.08902</td>\n",
              "      <td>0</td>\n",
              "    </tr>\n",
              "    <tr>\n",
              "      <th>2</th>\n",
              "      <td>19.69</td>\n",
              "      <td>21.25</td>\n",
              "      <td>130.00</td>\n",
              "      <td>1203.0</td>\n",
              "      <td>0.10960</td>\n",
              "      <td>0.15990</td>\n",
              "      <td>0.1974</td>\n",
              "      <td>0.12790</td>\n",
              "      <td>0.2069</td>\n",
              "      <td>0.05999</td>\n",
              "      <td>...</td>\n",
              "      <td>25.53</td>\n",
              "      <td>152.50</td>\n",
              "      <td>1709.0</td>\n",
              "      <td>0.1444</td>\n",
              "      <td>0.4245</td>\n",
              "      <td>0.4504</td>\n",
              "      <td>0.2430</td>\n",
              "      <td>0.3613</td>\n",
              "      <td>0.08758</td>\n",
              "      <td>0</td>\n",
              "    </tr>\n",
              "    <tr>\n",
              "      <th>3</th>\n",
              "      <td>11.42</td>\n",
              "      <td>20.38</td>\n",
              "      <td>77.58</td>\n",
              "      <td>386.1</td>\n",
              "      <td>0.14250</td>\n",
              "      <td>0.28390</td>\n",
              "      <td>0.2414</td>\n",
              "      <td>0.10520</td>\n",
              "      <td>0.2597</td>\n",
              "      <td>0.09744</td>\n",
              "      <td>...</td>\n",
              "      <td>26.50</td>\n",
              "      <td>98.87</td>\n",
              "      <td>567.7</td>\n",
              "      <td>0.2098</td>\n",
              "      <td>0.8663</td>\n",
              "      <td>0.6869</td>\n",
              "      <td>0.2575</td>\n",
              "      <td>0.6638</td>\n",
              "      <td>0.17300</td>\n",
              "      <td>0</td>\n",
              "    </tr>\n",
              "    <tr>\n",
              "      <th>4</th>\n",
              "      <td>20.29</td>\n",
              "      <td>14.34</td>\n",
              "      <td>135.10</td>\n",
              "      <td>1297.0</td>\n",
              "      <td>0.10030</td>\n",
              "      <td>0.13280</td>\n",
              "      <td>0.1980</td>\n",
              "      <td>0.10430</td>\n",
              "      <td>0.1809</td>\n",
              "      <td>0.05883</td>\n",
              "      <td>...</td>\n",
              "      <td>16.67</td>\n",
              "      <td>152.20</td>\n",
              "      <td>1575.0</td>\n",
              "      <td>0.1374</td>\n",
              "      <td>0.2050</td>\n",
              "      <td>0.4000</td>\n",
              "      <td>0.1625</td>\n",
              "      <td>0.2364</td>\n",
              "      <td>0.07678</td>\n",
              "      <td>0</td>\n",
              "    </tr>\n",
              "  </tbody>\n",
              "</table>\n",
              "<p>5 rows × 31 columns</p>\n",
              "</div>\n",
              "    <div class=\"colab-df-buttons\">\n",
              "\n",
              "  <div class=\"colab-df-container\">\n",
              "    <button class=\"colab-df-convert\" onclick=\"convertToInteractive('df-66e85be1-f6e4-4b51-b2e0-e841ed87cb93')\"\n",
              "            title=\"Convert this dataframe to an interactive table.\"\n",
              "            style=\"display:none;\">\n",
              "\n",
              "  <svg xmlns=\"http://www.w3.org/2000/svg\" height=\"24px\" viewBox=\"0 -960 960 960\">\n",
              "    <path d=\"M120-120v-720h720v720H120Zm60-500h600v-160H180v160Zm220 220h160v-160H400v160Zm0 220h160v-160H400v160ZM180-400h160v-160H180v160Zm440 0h160v-160H620v160ZM180-180h160v-160H180v160Zm440 0h160v-160H620v160Z\"/>\n",
              "  </svg>\n",
              "    </button>\n",
              "\n",
              "  <style>\n",
              "    .colab-df-container {\n",
              "      display:flex;\n",
              "      gap: 12px;\n",
              "    }\n",
              "\n",
              "    .colab-df-convert {\n",
              "      background-color: #E8F0FE;\n",
              "      border: none;\n",
              "      border-radius: 50%;\n",
              "      cursor: pointer;\n",
              "      display: none;\n",
              "      fill: #1967D2;\n",
              "      height: 32px;\n",
              "      padding: 0 0 0 0;\n",
              "      width: 32px;\n",
              "    }\n",
              "\n",
              "    .colab-df-convert:hover {\n",
              "      background-color: #E2EBFA;\n",
              "      box-shadow: 0px 1px 2px rgba(60, 64, 67, 0.3), 0px 1px 3px 1px rgba(60, 64, 67, 0.15);\n",
              "      fill: #174EA6;\n",
              "    }\n",
              "\n",
              "    .colab-df-buttons div {\n",
              "      margin-bottom: 4px;\n",
              "    }\n",
              "\n",
              "    [theme=dark] .colab-df-convert {\n",
              "      background-color: #3B4455;\n",
              "      fill: #D2E3FC;\n",
              "    }\n",
              "\n",
              "    [theme=dark] .colab-df-convert:hover {\n",
              "      background-color: #434B5C;\n",
              "      box-shadow: 0px 1px 3px 1px rgba(0, 0, 0, 0.15);\n",
              "      filter: drop-shadow(0px 1px 2px rgba(0, 0, 0, 0.3));\n",
              "      fill: #FFFFFF;\n",
              "    }\n",
              "  </style>\n",
              "\n",
              "    <script>\n",
              "      const buttonEl =\n",
              "        document.querySelector('#df-66e85be1-f6e4-4b51-b2e0-e841ed87cb93 button.colab-df-convert');\n",
              "      buttonEl.style.display =\n",
              "        google.colab.kernel.accessAllowed ? 'block' : 'none';\n",
              "\n",
              "      async function convertToInteractive(key) {\n",
              "        const element = document.querySelector('#df-66e85be1-f6e4-4b51-b2e0-e841ed87cb93');\n",
              "        const dataTable =\n",
              "          await google.colab.kernel.invokeFunction('convertToInteractive',\n",
              "                                                    [key], {});\n",
              "        if (!dataTable) return;\n",
              "\n",
              "        const docLinkHtml = 'Like what you see? Visit the ' +\n",
              "          '<a target=\"_blank\" href=https://colab.research.google.com/notebooks/data_table.ipynb>data table notebook</a>'\n",
              "          + ' to learn more about interactive tables.';\n",
              "        element.innerHTML = '';\n",
              "        dataTable['output_type'] = 'display_data';\n",
              "        await google.colab.output.renderOutput(dataTable, element);\n",
              "        const docLink = document.createElement('div');\n",
              "        docLink.innerHTML = docLinkHtml;\n",
              "        element.appendChild(docLink);\n",
              "      }\n",
              "    </script>\n",
              "  </div>\n",
              "\n",
              "\n",
              "<div id=\"df-cc10bd1d-a9dd-47e9-a8e6-2404d299faa6\">\n",
              "  <button class=\"colab-df-quickchart\" onclick=\"quickchart('df-cc10bd1d-a9dd-47e9-a8e6-2404d299faa6')\"\n",
              "            title=\"Suggest charts\"\n",
              "            style=\"display:none;\">\n",
              "\n",
              "<svg xmlns=\"http://www.w3.org/2000/svg\" height=\"24px\"viewBox=\"0 0 24 24\"\n",
              "     width=\"24px\">\n",
              "    <g>\n",
              "        <path d=\"M19 3H5c-1.1 0-2 .9-2 2v14c0 1.1.9 2 2 2h14c1.1 0 2-.9 2-2V5c0-1.1-.9-2-2-2zM9 17H7v-7h2v7zm4 0h-2V7h2v10zm4 0h-2v-4h2v4z\"/>\n",
              "    </g>\n",
              "</svg>\n",
              "  </button>\n",
              "\n",
              "<style>\n",
              "  .colab-df-quickchart {\n",
              "      --bg-color: #E8F0FE;\n",
              "      --fill-color: #1967D2;\n",
              "      --hover-bg-color: #E2EBFA;\n",
              "      --hover-fill-color: #174EA6;\n",
              "      --disabled-fill-color: #AAA;\n",
              "      --disabled-bg-color: #DDD;\n",
              "  }\n",
              "\n",
              "  [theme=dark] .colab-df-quickchart {\n",
              "      --bg-color: #3B4455;\n",
              "      --fill-color: #D2E3FC;\n",
              "      --hover-bg-color: #434B5C;\n",
              "      --hover-fill-color: #FFFFFF;\n",
              "      --disabled-bg-color: #3B4455;\n",
              "      --disabled-fill-color: #666;\n",
              "  }\n",
              "\n",
              "  .colab-df-quickchart {\n",
              "    background-color: var(--bg-color);\n",
              "    border: none;\n",
              "    border-radius: 50%;\n",
              "    cursor: pointer;\n",
              "    display: none;\n",
              "    fill: var(--fill-color);\n",
              "    height: 32px;\n",
              "    padding: 0;\n",
              "    width: 32px;\n",
              "  }\n",
              "\n",
              "  .colab-df-quickchart:hover {\n",
              "    background-color: var(--hover-bg-color);\n",
              "    box-shadow: 0 1px 2px rgba(60, 64, 67, 0.3), 0 1px 3px 1px rgba(60, 64, 67, 0.15);\n",
              "    fill: var(--button-hover-fill-color);\n",
              "  }\n",
              "\n",
              "  .colab-df-quickchart-complete:disabled,\n",
              "  .colab-df-quickchart-complete:disabled:hover {\n",
              "    background-color: var(--disabled-bg-color);\n",
              "    fill: var(--disabled-fill-color);\n",
              "    box-shadow: none;\n",
              "  }\n",
              "\n",
              "  .colab-df-spinner {\n",
              "    border: 2px solid var(--fill-color);\n",
              "    border-color: transparent;\n",
              "    border-bottom-color: var(--fill-color);\n",
              "    animation:\n",
              "      spin 1s steps(1) infinite;\n",
              "  }\n",
              "\n",
              "  @keyframes spin {\n",
              "    0% {\n",
              "      border-color: transparent;\n",
              "      border-bottom-color: var(--fill-color);\n",
              "      border-left-color: var(--fill-color);\n",
              "    }\n",
              "    20% {\n",
              "      border-color: transparent;\n",
              "      border-left-color: var(--fill-color);\n",
              "      border-top-color: var(--fill-color);\n",
              "    }\n",
              "    30% {\n",
              "      border-color: transparent;\n",
              "      border-left-color: var(--fill-color);\n",
              "      border-top-color: var(--fill-color);\n",
              "      border-right-color: var(--fill-color);\n",
              "    }\n",
              "    40% {\n",
              "      border-color: transparent;\n",
              "      border-right-color: var(--fill-color);\n",
              "      border-top-color: var(--fill-color);\n",
              "    }\n",
              "    60% {\n",
              "      border-color: transparent;\n",
              "      border-right-color: var(--fill-color);\n",
              "    }\n",
              "    80% {\n",
              "      border-color: transparent;\n",
              "      border-right-color: var(--fill-color);\n",
              "      border-bottom-color: var(--fill-color);\n",
              "    }\n",
              "    90% {\n",
              "      border-color: transparent;\n",
              "      border-bottom-color: var(--fill-color);\n",
              "    }\n",
              "  }\n",
              "</style>\n",
              "\n",
              "  <script>\n",
              "    async function quickchart(key) {\n",
              "      const quickchartButtonEl =\n",
              "        document.querySelector('#' + key + ' button');\n",
              "      quickchartButtonEl.disabled = true;  // To prevent multiple clicks.\n",
              "      quickchartButtonEl.classList.add('colab-df-spinner');\n",
              "      try {\n",
              "        const charts = await google.colab.kernel.invokeFunction(\n",
              "            'suggestCharts', [key], {});\n",
              "      } catch (error) {\n",
              "        console.error('Error during call to suggestCharts:', error);\n",
              "      }\n",
              "      quickchartButtonEl.classList.remove('colab-df-spinner');\n",
              "      quickchartButtonEl.classList.add('colab-df-quickchart-complete');\n",
              "    }\n",
              "    (() => {\n",
              "      let quickchartButtonEl =\n",
              "        document.querySelector('#df-cc10bd1d-a9dd-47e9-a8e6-2404d299faa6 button');\n",
              "      quickchartButtonEl.style.display =\n",
              "        google.colab.kernel.accessAllowed ? 'block' : 'none';\n",
              "    })();\n",
              "  </script>\n",
              "</div>\n",
              "\n",
              "    </div>\n",
              "  </div>\n"
            ],
            "application/vnd.google.colaboratory.intrinsic+json": {
              "type": "dataframe"
            }
          },
          "metadata": {}
        }
      ]
    },
    {
      "cell_type": "code",
      "source": [
        "# 列名\n",
        "cols = df.columns\n",
        "print(cols)"
      ],
      "metadata": {
        "colab": {
          "base_uri": "https://localhost:8080/"
        },
        "id": "fbIjlNVscjkS",
        "outputId": "1bf28192-e94b-40f9-c916-2ed4773da339"
      },
      "execution_count": null,
      "outputs": [
        {
          "output_type": "stream",
          "name": "stdout",
          "text": [
            "Index(['mean radius', 'mean texture', 'mean perimeter', 'mean area',\n",
            "       'mean smoothness', 'mean compactness', 'mean concavity',\n",
            "       'mean concave points', 'mean symmetry', 'mean fractal dimension',\n",
            "       'radius error', 'texture error', 'perimeter error', 'area error',\n",
            "       'smoothness error', 'compactness error', 'concavity error',\n",
            "       'concave points error', 'symmetry error', 'fractal dimension error',\n",
            "       'worst radius', 'worst texture', 'worst perimeter', 'worst area',\n",
            "       'worst smoothness', 'worst compactness', 'worst concavity',\n",
            "       'worst concave points', 'worst symmetry', 'worst fractal dimension',\n",
            "       'diag class'],\n",
            "      dtype='object')\n"
          ]
        }
      ]
    },
    {
      "cell_type": "code",
      "source": [
        "# 特徴量（30個）を取り出す\n",
        "df_feature = df.iloc[:,:-1] # スライスの省略形\n",
        "features = df_feature.values\n",
        "\n",
        "print(df_feature.shape)\n",
        "print(len(features))"
      ],
      "metadata": {
        "colab": {
          "base_uri": "https://localhost:8080/"
        },
        "id": "NH1y5dxLcjvS",
        "outputId": "71026f9b-5f07-4a14-a2d2-59245241db97"
      },
      "execution_count": null,
      "outputs": [
        {
          "output_type": "stream",
          "name": "stdout",
          "text": [
            "(569, 30)\n",
            "569\n"
          ]
        }
      ]
    },
    {
      "cell_type": "code",
      "source": [
        "# ラベルをシリーズ（列データ）に取り込む\n",
        "# t = pd.Series(cancer_data.target)\n",
        "ser_label = df['diag class']\n",
        "labels = ser_label.values\n",
        "\n",
        "print(ser_label.shape)\n",
        "print(len(labels))"
      ],
      "metadata": {
        "colab": {
          "base_uri": "https://localhost:8080/"
        },
        "id": "22PXlwFpdPeK",
        "outputId": "6864d3c6-81b3-4209-eb84-6060d7ef8b1b"
      },
      "execution_count": null,
      "outputs": [
        {
          "output_type": "stream",
          "name": "stdout",
          "text": [
            "(569,)\n",
            "569\n"
          ]
        }
      ]
    },
    {
      "cell_type": "code",
      "source": [],
      "metadata": {
        "id": "gAATaXaGcIld"
      },
      "execution_count": null,
      "outputs": []
    },
    {
      "cell_type": "markdown",
      "source": [
        "## データの前処理\n",
        "1. スケール変換<br>\n",
        "    - 列毎に平均値 0，分散 1に標準化する\n",
        "1. テンソル変換\n",
        "    - PyTorchフレームワークが処理できるデータ形式（テンソル型）に変換する\n",
        "    - データ型を整える\n",
        "      - 浮動小数点: torch.float32型\n",
        "      - 整数型： torch.int64型\n",
        "\n"
      ],
      "metadata": {
        "id": "ndoOL5Wu4SYo"
      }
    },
    {
      "cell_type": "markdown",
      "source": [
        "### スケール変換"
      ],
      "metadata": {
        "id": "FhzMZyene8JY"
      }
    },
    {
      "cell_type": "code",
      "source": [
        "X = features\n",
        "y = labels\n",
        "print(type(X))\n",
        "print(X.shape)\n",
        "print(f\"feature value X[0]:\")\n",
        "print(X[0])\n",
        "print(f'label value y[0]: {y[0]}')"
      ],
      "metadata": {
        "colab": {
          "base_uri": "https://localhost:8080/"
        },
        "id": "7gEcS2COfory",
        "outputId": "917e9a27-da66-48ae-d6a4-2579171b7417"
      },
      "execution_count": null,
      "outputs": [
        {
          "output_type": "stream",
          "name": "stdout",
          "text": [
            "<class 'numpy.ndarray'>\n",
            "(569, 30)\n",
            "feature value X[0]:\n",
            "[1.799e+01 1.038e+01 1.228e+02 1.001e+03 1.184e-01 2.776e-01 3.001e-01\n",
            " 1.471e-01 2.419e-01 7.871e-02 1.095e+00 9.053e-01 8.589e+00 1.534e+02\n",
            " 6.399e-03 4.904e-02 5.373e-02 1.587e-02 3.003e-02 6.193e-03 2.538e+01\n",
            " 1.733e+01 1.846e+02 2.019e+03 1.622e-01 6.656e-01 7.119e-01 2.654e-01\n",
            " 4.601e-01 1.189e-01]\n",
            "label value y[0]: 0\n"
          ]
        }
      ]
    },
    {
      "cell_type": "code",
      "source": [
        "# ライブラリ\n",
        "from sklearn.preprocessing import StandardScaler, MinMaxScaler, RobustScaler\n",
        "\n",
        "# 各特徴量を平均：0，分散：１にスケーリング\n",
        "scaler = StandardScaler()\n",
        "\n",
        "# X_trainを元に変換器を作成する\n",
        "scaler.fit(X)\n",
        "\n",
        "# 変換器でスケール変換する\n",
        "X_scaled = scaler.transform(X)\n",
        "\n",
        "print(X_scaled.shape)\n",
        "print(X_scaled[0])"
      ],
      "metadata": {
        "colab": {
          "base_uri": "https://localhost:8080/"
        },
        "id": "q1x37ECC4zl_",
        "outputId": "9fb461a5-f284-4342-ac76-50d131f20b69"
      },
      "execution_count": null,
      "outputs": [
        {
          "output_type": "stream",
          "name": "stdout",
          "text": [
            "(569, 30)\n",
            "[ 1.09706398 -2.07333501  1.26993369  0.9843749   1.56846633  3.28351467\n",
            "  2.65287398  2.53247522  2.21751501  2.25574689  2.48973393 -0.56526506\n",
            "  2.83303087  2.48757756 -0.21400165  1.31686157  0.72402616  0.66081994\n",
            "  1.14875667  0.90708308  1.88668963 -1.35929347  2.30360062  2.00123749\n",
            "  1.30768627  2.61666502  2.10952635  2.29607613  2.75062224  1.93701461]\n"
          ]
        }
      ]
    },
    {
      "cell_type": "markdown",
      "source": [
        "### テンソル変換\n",
        "\n",
        "PyTorchではテンソル内で使用するデータ型が決まっている：\n",
        "- 実数：torch.float32\n",
        "- 整数：torch.int64"
      ],
      "metadata": {
        "id": "zQNmpYGTuA8b"
      }
    },
    {
      "cell_type": "code",
      "source": [
        "# ライブラリ\n",
        "import torch\n",
        "import torchvision\n",
        "import torchvision.transforms as transforms\n",
        "\n",
        "# Tensor型に変更\n",
        "# X_scaled = torch.tensor(X_scaled, dtype=torch.float32)\n",
        "# y = torch.tensor(y, dtype=torch.int64)\n",
        "\n",
        "X_scaled = torch.FloatTensor(X_scaled) # torch.float32\n",
        "y = torch.LongTensor(y) # torch.int64\n",
        "\n",
        "print(X_scaled.dtype)\n",
        "print(X_scaled[0])\n",
        "print(y.dtype)\n",
        "print(y[0])"
      ],
      "metadata": {
        "colab": {
          "base_uri": "https://localhost:8080/"
        },
        "id": "pjvhZFrXavy7",
        "outputId": "d425032b-0a75-46d3-f21c-27848080ac3e"
      },
      "execution_count": null,
      "outputs": [
        {
          "output_type": "stream",
          "name": "stdout",
          "text": [
            "torch.float32\n",
            "tensor([ 1.0971, -2.0733,  1.2699,  0.9844,  1.5685,  3.2835,  2.6529,  2.5325,\n",
            "         2.2175,  2.2557,  2.4897, -0.5653,  2.8330,  2.4876, -0.2140,  1.3169,\n",
            "         0.7240,  0.6608,  1.1488,  0.9071,  1.8867, -1.3593,  2.3036,  2.0012,\n",
            "         1.3077,  2.6167,  2.1095,  2.2961,  2.7506,  1.9370])\n",
            "torch.int64\n",
            "tensor(0)\n"
          ]
        }
      ]
    },
    {
      "cell_type": "markdown",
      "source": [
        "## データセットを作成\n",
        "\n",
        "- 特徴量 X と正解ラベル y を一つにまとめる"
      ],
      "metadata": {
        "id": "UyMZ_KPgZoyY"
      }
    },
    {
      "cell_type": "code",
      "source": [
        "from torch.utils.data import TensorDataset\n",
        "\n",
        "# Datasetを作成（Xとyを一つにまとめる）\n",
        "\n",
        "cancer_ds = TensorDataset(X_scaled, y)\n",
        "\n",
        "print(type(cancer_ds))\n",
        "print(len(cancer_ds))"
      ],
      "metadata": {
        "colab": {
          "base_uri": "https://localhost:8080/"
        },
        "id": "BaHs7HZMdUAM",
        "outputId": "08835e39-1811-4c74-808b-804009abad44"
      },
      "execution_count": null,
      "outputs": [
        {
          "output_type": "stream",
          "name": "stdout",
          "text": [
            "<class 'torch.utils.data.dataset.TensorDataset'>\n",
            "569\n"
          ]
        }
      ]
    },
    {
      "cell_type": "code",
      "source": [],
      "metadata": {
        "id": "uNdECtSUeU0a"
      },
      "execution_count": null,
      "outputs": []
    },
    {
      "cell_type": "markdown",
      "source": [
        "## データを分割する\n",
        "- 訓練用データ，検証用データ，テスト用データに3分割\n",
        "  - 訓練用とテスト用は従来どおり，訓練用とテスト用\n",
        "  - 検証用はモデルの訓練状況の確認用\n",
        "- 訓練用 cancer_train，検証用 cancer_val，テスト用 cancer_test\n",
        "- 2段階に分割することで3分割する\n",
        "  - 1回目は，cancer_dsを，cancer_trainvalとcancer_testに，\n",
        "8 : 2 に分割\n",
        "  - 2回目は，cancer_trainvalをcancer_trainとcancer_valに，8 : 2 に分割"
      ],
      "metadata": {
        "id": "024zAFZnP_Kr"
      }
    },
    {
      "cell_type": "code",
      "source": [
        "# 乱数シードを固定して再現性を確保する\n",
        "torch.manual_seed(24)"
      ],
      "metadata": {
        "colab": {
          "base_uri": "https://localhost:8080/"
        },
        "id": "ruhlTnhzGO8t",
        "outputId": "72dce78a-5ede-42f7-dfb3-fe500914c168"
      },
      "execution_count": null,
      "outputs": [
        {
          "output_type": "execute_result",
          "data": {
            "text/plain": [
              "<torch._C.Generator at 0x79e308d1a8f0>"
            ]
          },
          "metadata": {},
          "execution_count": 16
        }
      ]
    },
    {
      "cell_type": "code",
      "source": [
        "from torch.utils.data import random_split\n",
        "\n",
        "# 訓練データ、テストデータに 8:2 の割合で分割する\n",
        "trainval_size = int(0.8 * len(cancer_ds))    # 0.8 x 569 = 455\n",
        "test_size = len(cancer_ds) - trainval_size   # 569 - 455 = 114\n",
        "train_size = int(0.8 * trainval_size)        # 0.8 x 455 = 364\n",
        "val_size = trainval_size - train_size        # 455 - 364 = 91\n",
        "\n",
        "# 1回目の分割\n",
        "cancer_trainval, cancer_test = random_split(cancer_ds, [trainval_size, test_size])\n",
        "\n",
        "# 2回目の分割\n",
        "cancer_train, cancer_val = random_split(cancer_trainval, [train_size, val_size])\n",
        "\n",
        "# 確認\n",
        "print(f'train: {len(cancer_train)}，val: {len(cancer_val)}，test: {len(cancer_test)}')"
      ],
      "metadata": {
        "colab": {
          "base_uri": "https://localhost:8080/"
        },
        "id": "nuLRc9KMhj87",
        "outputId": "b56b20ec-9932-47f0-fb07-867ecc1f2251"
      },
      "execution_count": null,
      "outputs": [
        {
          "output_type": "stream",
          "name": "stdout",
          "text": [
            "train: 364，val: 91，test: 114\n"
          ]
        }
      ]
    },
    {
      "cell_type": "code",
      "source": [
        "# データを確認する\n",
        "\n",
        "print(cancer_train[0])\n",
        "print(cancer_val[0])\n",
        "print(cancer_test[0])"
      ],
      "metadata": {
        "colab": {
          "base_uri": "https://localhost:8080/"
        },
        "id": "pKFee3s5k-Zo",
        "outputId": "edb36df5-45c9-4ab0-9938-667a14792925"
      },
      "execution_count": null,
      "outputs": [
        {
          "output_type": "stream",
          "name": "stdout",
          "text": [
            "(tensor([-0.3855,  0.7401, -0.4222, -0.4226, -0.4135, -0.8856, -0.5234, -0.5644,\n",
            "        -0.8274, -0.3044, -0.6081,  0.2960, -0.6975, -0.4503,  0.1527, -0.7522,\n",
            "        -0.2843, -0.4665, -0.4931, -0.4410, -0.3684,  1.2527, -0.4534, -0.3990,\n",
            "         0.4178, -0.6486, -0.2614, -0.3243, -0.1161, -0.1815]), tensor(0))\n",
            "(tensor([ 0.1740,  1.4266,  0.1125,  0.0390, -0.9686, -0.6103, -0.5995, -0.4810,\n",
            "         0.1036, -0.8502, -0.3684,  0.3051, -0.3411, -0.2844, -0.7554, -0.7689,\n",
            "        -0.4119,  0.1450, -0.2231, -0.4421,  0.0499,  1.0768,  0.0041, -0.0952,\n",
            "        -1.1559, -0.7422, -0.5329, -0.0778, -0.2892, -0.7972]), tensor(1))\n",
            "(tensor([ 0.2109, -0.6096,  0.2748,  0.0785,  1.4119,  1.1477,  1.0069,  1.0398,\n",
            "         1.2610,  0.6921,  0.0773, -0.4862,  0.0609,  0.0185, -0.0187,  0.0085,\n",
            "        -0.0591,  0.1482, -0.5476,  0.0337,  0.5262,  0.2757,  0.5909,  0.3769,\n",
            "         2.4299,  1.2324,  0.9509,  1.3414,  1.1070,  1.2499]), tensor(0))\n"
          ]
        }
      ]
    },
    {
      "cell_type": "code",
      "source": [],
      "metadata": {
        "id": "0z62tsfaeWZe"
      },
      "execution_count": null,
      "outputs": []
    },
    {
      "cell_type": "markdown",
      "metadata": {
        "id": "sKjkiDX-_gld"
      },
      "source": [
        "## データローダの作成\n",
        "- データローダとは，指定したミニバッチ数のデータを提供してくれるもの\n",
        "- データは，（訓練データと教師ラベルの組）x ミニバッチ数 で構成される\n",
        "- shuffle=True を指定すると，ランダムにミニバッチ数のデータを選択して提供してくれる\n",
        "- shuffle=False を指定すると，毎回同じ順番でデータを提供してくれる\n",
        "\n"
      ]
    },
    {
      "cell_type": "code",
      "metadata": {
        "id": "wCiObs_a2cj8"
      },
      "source": [
        "from torch.utils.data import DataLoader\n",
        "\n",
        "# The dataloaders handle shuffling, batching, etc...\n",
        "# ミニバッチ長を20とする（20個のデータを一度に訓練してパラメータ値を更新する）\n",
        "b_size = 20\n",
        "\n",
        "# 3つのデータローダを作成する\n",
        "train_loader = DataLoader(cancer_train, batch_size=b_size, shuffle=True)\n",
        "val_loader = DataLoader(cancer_val, batch_size=b_size, shuffle=True)\n",
        "test_loader = DataLoader(cancer_test, batch_size=b_size, shuffle=False)"
      ],
      "execution_count": null,
      "outputs": []
    },
    {
      "cell_type": "code",
      "source": [],
      "metadata": {
        "id": "_v0lRRQAeSan"
      },
      "execution_count": null,
      "outputs": []
    },
    {
      "cell_type": "markdown",
      "metadata": {
        "id": "uBHy4jKdssMq"
      },
      "source": [
        "# モデルを定義する\n",
        "\n",
        "\n",
        "- 説明変数（入力）は，30個（特徴量）\n",
        "- 目的変数（出力）は，2個（2種類の数値（0，1）のクラス分類確率）\n",
        "- ニューラルネットワークモデル（入力層30個，出力層2個，隠れ層1層）\n",
        "- 活性化関数は，ReLU\n"
      ]
    },
    {
      "cell_type": "markdown",
      "metadata": {
        "id": "Du8BpDfFyeGJ"
      },
      "source": [
        "## MLPモデル\n",
        "- 入力30個，出力2個，隠れ層（中間層）一層\n",
        "- 活性化関数は，ReLU\n",
        "- 最終出力は，対数ソフトマックス関数"
      ]
    },
    {
      "cell_type": "code",
      "metadata": {
        "id": "hyGuqhSufFiZ"
      },
      "source": [
        "# -----------------\n",
        "# 3L-MLP\n",
        "# -----------------\n",
        "import torch\n",
        "from torch import nn\n",
        "\n",
        "class CancerClassifier_MLP(nn.Module):\n",
        "\n",
        "  def __init__(self):\n",
        "    super(CancerClassifier_MLP, self).__init__()\n",
        "\n",
        "    # cancerデータ : (batch, 30-dim)\n",
        "    self.layer_1 = nn.Linear(30, 100)      # 入力：30，入力層出力：100\n",
        "    self.layer_2 = nn.Linear(100, 10)      # 中間層入力：100，中間層出力：10\n",
        "    self.layer_3 = nn.Linear(10, 2)       # 出力層入力：10，出力：2\n",
        "\n",
        "    # 提出課題1では以下のネットワーク設定を使用する（以下のコメントを外し，上をコメントにする）\n",
        "    # self.layer_1 = nn.Linear(30, 10)      # 入力：30，入力層出力：10\n",
        "    # self.layer_2 = nn.Linear(10, 5)      # 中間層入力：10，中間層出力：5\n",
        "    # self.layer_3 = nn.Linear(5, 2)       # 出力層入力：5，出力：2\n",
        "\n",
        "    # 提出課題2では以下のネットワーク設定を使用する（以下のコメントを外し，上をコメントにする）\n",
        "    # self.layer_1 = nn.Linear(30, 60)      # 入力：30，入力層出力：60\n",
        "    # self.layer_2 = nn.Linear(60, 10)      # 中間層入力：60，中間層出力：10\n",
        "    # self.layer_3 = nn.Linear(10, 2)       # 出力層入力：10，出力：2\n",
        "\n",
        "  def forward(self, x):\n",
        "    # 入力はバッチサイズ分のデータ\n",
        "    # batch_size, channels, width, height = x.size()\n",
        "    # b: batch（バッチ長）, c: channel（カラー数）, w: width（横）, h: height（縦）\n",
        "    # (b, c, w, h) = (100, 1, 28, 28) -> (100, 1*28*28)\n",
        "    # x = x.view(batch_size, -1) # (100, 768)\n",
        "\n",
        "    # layer 1\n",
        "    x = self.layer_1(x)\n",
        "    x = torch.relu(x)\n",
        "\n",
        "    # layer 2\n",
        "    x = self.layer_2(x)\n",
        "    x = torch.relu(x)\n",
        "\n",
        "    # layer 3\n",
        "    x = self.layer_3(x)\n",
        "\n",
        "    # probability distribution over labels => log_softmax()\n",
        "    x = torch.log_softmax(x, dim=1)\n",
        "\n",
        "    return x"
      ],
      "execution_count": null,
      "outputs": []
    },
    {
      "cell_type": "markdown",
      "metadata": {
        "id": "wR6rNA4_r3Zn"
      },
      "source": [
        "# モデルを訓練する\n",
        "## 損失関数と最適化手法を設定する\n",
        "- 損失関数は，交差エントロピー誤差（$loss=-\\sum_{k}^{n} t_{k}\\log y_k$）\n",
        "- 最適化手法は，SGDで最小化"
      ]
    },
    {
      "cell_type": "markdown",
      "metadata": {
        "id": "NULkiIUrW70P"
      },
      "source": [
        "### 損失関数（交差エントロピー誤差）\n",
        "- 教師ラベル$t$は **one-hotベクトル**（一つの要素だけが1で，他の要素は全て0のベクトル）で表現する<br>\n",
        "例えば，$5$であれば，0から始まるので6番目の要素だけが1で，$$t = [0, 0, 0, 0, 0, 1, 0, 0, 0, 0]$$<br>\n",
        "- 予測結果 $y$ は，softmax関数を施した$0～1$の実数値を要素とするベクトルで表現する<br>\n",
        "softmax関数を施した出力の合計は$1$になる（つまり各要素は確率とみなすことができる）<br>\n",
        "例えば，$$y = [0.01, 0.0, 0.08, 0.02, 0.0, 0.6, 0.18, 0.04, 0.02, 0.05]$$\n",
        "- 損失関数には交差エントロピー誤差を用いる<br>\n",
        "$$ loss = -\\sum_{n=1}^n t_n\\log y_n $$\n",
        "ここで，$log$は自然対数を表す．交差エントロピー誤差は，結果的に $t$ が1の要素の自然対数値だけになる．\n",
        "例えば，上記の場合には，教師ラベルが$1$の6番目の項だけが残るので，$ -1*\\log 0.6 = 0.51$ と計算できる\n",
        "\n"
      ]
    },
    {
      "cell_type": "code",
      "metadata": {
        "id": "PPtv1InR974o"
      },
      "source": [
        "# 学習モデルの初期化\n",
        "\n",
        "model = CancerClassifier_MLP() # モデルパラメータ値の初期化\n",
        "# model = model.to(device) # モデルのパラメータ値を演算デバイスに送る"
      ],
      "execution_count": null,
      "outputs": []
    },
    {
      "cell_type": "code",
      "metadata": {
        "id": "bcYowdO4-p9g"
      },
      "source": [
        "# 損失関数\n",
        "import torch.nn as nn\n",
        "\n",
        "# 交差エントロピー誤差\n",
        "criterion = nn.CrossEntropyLoss()\n"
      ],
      "execution_count": null,
      "outputs": []
    },
    {
      "cell_type": "code",
      "metadata": {
        "id": "WbW9fsN7XJHg"
      },
      "source": [
        "# 最適化手法（SGD）\n",
        "from torch import optim\n",
        "\n",
        "# 学習率 lr は試行錯誤する必要がある．\n",
        "optimizer = optim.SGD(model.parameters(), lr=0.01) # SGD"
      ],
      "execution_count": null,
      "outputs": []
    },
    {
      "cell_type": "markdown",
      "metadata": {
        "id": "3ynDdZPorYVU"
      },
      "source": [
        "## 訓練と検証用の関数\n",
        "\n",
        "- 作業フォルダに **train_valid.py** が存在することを確認する\n",
        "    - 存在しない場合は，パソコンからドラッグ&ドロップする\n",
        "    - パソコンにも存在しない場合は，Moodleからダウンロードする\n"
      ]
    },
    {
      "cell_type": "code",
      "source": [
        "# 作業フォルダを確認する\n",
        "!ls -F"
      ],
      "metadata": {
        "colab": {
          "base_uri": "https://localhost:8080/"
        },
        "id": "jbHy9my_SNJd",
        "outputId": "041fc76b-a55c-4fb8-c23a-cc4bd33a4617"
      },
      "execution_count": null,
      "outputs": [
        {
          "output_type": "stream",
          "name": "stdout",
          "text": [
            "breastcancer.xlsx  train_valid.py\n"
          ]
        }
      ]
    },
    {
      "cell_type": "code",
      "source": [
        "# 関数を読み込む\n",
        "from train_valid import train, valid\n",
        "\n",
        "# # 訓練用の関数（1エポックの処理）を定義\n",
        "# def train(model, criterion, optimizer, train_loader, device, scheduler=None):\n",
        "#       return epoch_loss, epoch_acc # 1エポックの1データ当たりのロスと正解率\n",
        "\n",
        "# # 検証用の関数（1エポックの処理）を定義\n",
        "# def valid(model, criterion, optimizer, valtest_loader, device):\n",
        "#       return val_loss, val_acc # 1エポックの1データ当たりのロスと正解率\n"
      ],
      "metadata": {
        "id": "wmfs9gihQRRG"
      },
      "execution_count": null,
      "outputs": []
    },
    {
      "cell_type": "markdown",
      "metadata": {
        "id": "cReVgC4_2JvB"
      },
      "source": [
        "## 訓練を実施する\n",
        "\n",
        "- 30エポック = train: 364データ x 30回"
      ]
    },
    {
      "cell_type": "code",
      "source": [
        "# device : 'cpu'\n",
        "device = 'cpu'"
      ],
      "metadata": {
        "id": "ThxXr-LWbUB2"
      },
      "execution_count": null,
      "outputs": []
    },
    {
      "cell_type": "code",
      "metadata": {
        "colab": {
          "base_uri": "https://localhost:8080/"
        },
        "id": "hqPQ8URgen6M",
        "outputId": "a8d0840d-1837-48ba-d8a7-726a8c5c57c8"
      },
      "source": [
        "# 訓練を実施する\n",
        "\n",
        "# 訓練の長さ\n",
        "EPOCHS=30\n",
        "\n",
        "# 訓練と検証の状況を記録する空の入れ物\n",
        "train_loss_list = [] # 訓練ロス\n",
        "train_acc_list = [] # 訓練の正解率\n",
        "val_loss_list = [] # 検証ロス\n",
        "val_acc_list = [] # 検証の正解率\n",
        "\n",
        "for epoch in range(EPOCHS):\n",
        "    # エポックの処理\n",
        "    # 訓練\n",
        "    loss, acc = train(model, criterion, optimizer, train_loader, device)\n",
        "\n",
        "    # 検証\n",
        "    val_loss, val_acc = valid(model, criterion, optimizer, val_loader, device)\n",
        "\n",
        "    print('epoch %d, \\ttrain_loss: %.2f \\tval_loss: %.2f \\t\\ttrain_acc: %.2f \\tval_acc: %.2f' % (epoch, loss, val_loss, acc, val_acc))\n",
        "\n",
        "    # 訓練と検証の状況を記録\n",
        "    train_loss_list.append(loss)\n",
        "    train_acc_list.append(acc)\n",
        "    val_loss_list.append(val_loss)\n",
        "    val_acc_list.append(val_acc)"
      ],
      "execution_count": null,
      "outputs": [
        {
          "output_type": "stream",
          "name": "stdout",
          "text": [
            "epoch 0, \ttrain_loss: 0.66 \tval_loss: 0.64 \t\ttrain_acc: 0.61 \tval_acc: 0.66\n",
            "epoch 1, \ttrain_loss: 0.62 \tval_loss: 0.60 \t\ttrain_acc: 0.64 \tval_acc: 0.69\n",
            "epoch 2, \ttrain_loss: 0.60 \tval_loss: 0.57 \t\ttrain_acc: 0.67 \tval_acc: 0.72\n",
            "epoch 3, \ttrain_loss: 0.56 \tval_loss: 0.53 \t\ttrain_acc: 0.73 \tval_acc: 0.81\n",
            "epoch 4, \ttrain_loss: 0.51 \tval_loss: 0.48 \t\ttrain_acc: 0.83 \tval_acc: 0.89\n",
            "epoch 5, \ttrain_loss: 0.47 \tval_loss: 0.43 \t\ttrain_acc: 0.90 \tval_acc: 0.94\n",
            "epoch 6, \ttrain_loss: 0.42 \tval_loss: 0.38 \t\ttrain_acc: 0.92 \tval_acc: 0.96\n",
            "epoch 7, \ttrain_loss: 0.37 \tval_loss: 0.33 \t\ttrain_acc: 0.93 \tval_acc: 0.97\n",
            "epoch 8, \ttrain_loss: 0.34 \tval_loss: 0.30 \t\ttrain_acc: 0.93 \tval_acc: 0.97\n",
            "epoch 9, \ttrain_loss: 0.32 \tval_loss: 0.27 \t\ttrain_acc: 0.93 \tval_acc: 0.97\n",
            "epoch 10, \ttrain_loss: 0.27 \tval_loss: 0.24 \t\ttrain_acc: 0.94 \tval_acc: 0.97\n",
            "epoch 11, \ttrain_loss: 0.25 \tval_loss: 0.21 \t\ttrain_acc: 0.94 \tval_acc: 0.97\n",
            "epoch 12, \ttrain_loss: 0.22 \tval_loss: 0.19 \t\ttrain_acc: 0.94 \tval_acc: 0.97\n",
            "epoch 13, \ttrain_loss: 0.21 \tval_loss: 0.19 \t\ttrain_acc: 0.94 \tval_acc: 0.96\n",
            "epoch 14, \ttrain_loss: 0.19 \tval_loss: 0.17 \t\ttrain_acc: 0.94 \tval_acc: 0.97\n",
            "epoch 15, \ttrain_loss: 0.18 \tval_loss: 0.16 \t\ttrain_acc: 0.94 \tval_acc: 0.97\n",
            "epoch 16, \ttrain_loss: 0.17 \tval_loss: 0.15 \t\ttrain_acc: 0.95 \tval_acc: 0.97\n",
            "epoch 17, \ttrain_loss: 0.16 \tval_loss: 0.14 \t\ttrain_acc: 0.95 \tval_acc: 0.97\n",
            "epoch 18, \ttrain_loss: 0.15 \tval_loss: 0.16 \t\ttrain_acc: 0.95 \tval_acc: 0.96\n",
            "epoch 19, \ttrain_loss: 0.15 \tval_loss: 0.13 \t\ttrain_acc: 0.95 \tval_acc: 0.96\n",
            "epoch 20, \ttrain_loss: 0.15 \tval_loss: 0.15 \t\ttrain_acc: 0.96 \tval_acc: 0.96\n",
            "epoch 21, \ttrain_loss: 0.14 \tval_loss: 0.12 \t\ttrain_acc: 0.94 \tval_acc: 0.97\n",
            "epoch 22, \ttrain_loss: 0.13 \tval_loss: 0.12 \t\ttrain_acc: 0.96 \tval_acc: 0.97\n",
            "epoch 23, \ttrain_loss: 0.12 \tval_loss: 0.12 \t\ttrain_acc: 0.96 \tval_acc: 0.97\n",
            "epoch 24, \ttrain_loss: 0.12 \tval_loss: 0.12 \t\ttrain_acc: 0.96 \tval_acc: 0.96\n",
            "epoch 25, \ttrain_loss: 0.11 \tval_loss: 0.11 \t\ttrain_acc: 0.96 \tval_acc: 0.97\n",
            "epoch 26, \ttrain_loss: 0.11 \tval_loss: 0.14 \t\ttrain_acc: 0.97 \tval_acc: 0.95\n",
            "epoch 27, \ttrain_loss: 0.10 \tval_loss: 0.11 \t\ttrain_acc: 0.96 \tval_acc: 0.97\n",
            "epoch 28, \ttrain_loss: 0.10 \tval_loss: 0.11 \t\ttrain_acc: 0.97 \tval_acc: 0.97\n",
            "epoch 29, \ttrain_loss: 0.10 \tval_loss: 0.11 \t\ttrain_acc: 0.97 \tval_acc: 0.98\n"
          ]
        }
      ]
    },
    {
      "cell_type": "markdown",
      "metadata": {
        "id": "komuc-KcpeNL"
      },
      "source": [
        "## 訓練の様子をグラフ表示"
      ]
    },
    {
      "cell_type": "code",
      "metadata": {
        "id": "sirfynGPe5BM",
        "colab": {
          "base_uri": "https://localhost:8080/",
          "height": 410
        },
        "outputId": "7b249815-94a7-4f54-82c2-42354a32b28c"
      },
      "source": [
        "# 損失が減少していく様子をグラフ表示する\n",
        "%matplotlib inline\n",
        "from matplotlib import pyplot as plt\n",
        "\n",
        "# 図の大きさをインチ単位で指定する\n",
        "plt.figure(figsize=(6, 4))\n",
        "\n",
        "plt.title('Learning Loss Curve (MLP)') # タイトル\n",
        "plt.plot(train_loss_list, label='train') # 訓練ロスグラフ\n",
        "plt.plot(val_loss_list, label='val') # 検証ロスグラフ\n",
        "plt.legend() # 凡例\n",
        "plt.xlabel('epoch')\n",
        "plt.ylabel('loss')\n",
        "plt.grid(axis=\"both\") # グリッド表示\n",
        "\n",
        "plt.show()"
      ],
      "execution_count": null,
      "outputs": [
        {
          "output_type": "display_data",
          "data": {
            "text/plain": [
              "<Figure size 600x400 with 1 Axes>"
            ],
            "image/png": "[encoded data removed]"
          },
          "metadata": {}
        }
      ]
    },
    {
      "cell_type": "code",
      "metadata": {
        "colab": {
          "base_uri": "https://localhost:8080/",
          "height": 427
        },
        "id": "joOWdyADjjqw",
        "outputId": "48b074e2-a1ca-4c96-9a33-c52d621dc7a8"
      },
      "source": [
        "# 正解率が上昇していく様子をグラフ表示する\n",
        "\n",
        "# 図の大きさをインチ単位で指定する\n",
        "plt.figure(figsize=(6, 4))\n",
        "\n",
        "plt.title('Validation Accuracy (MLP)') # タイトル\n",
        "plt.plot(train_acc_list, label='train_acc')\n",
        "plt.plot(val_acc_list, label='val_acc')\n",
        "plt.legend() # 凡例\n",
        "plt.xlabel('epoch')\n",
        "plt.ylabel('acc')\n",
        "plt.grid(axis=\"both\") # グリッド表示\n",
        "\n",
        "plt.show()\n",
        "print(f'正解率：{val_acc_list[-1]:.3f}')\n",
        "# print('正解率：',val_acc_list[-1]*100, '%')"
      ],
      "execution_count": null,
      "outputs": [
        {
          "output_type": "display_data",
          "data": {
            "text/plain": [
              "<Figure size 600x400 with 1 Axes>"
            ],
            "image/png": "[encoded data removed]"
          },
          "metadata": {}
        },
        {
          "output_type": "stream",
          "name": "stdout",
          "text": [
            "正解率：0.980\n"
          ]
        }
      ]
    },
    {
      "cell_type": "markdown",
      "metadata": {
        "id": "Sdpf-p4Qo09Y"
      },
      "source": [
        "## 訓練済みモデルを保存する\n"
      ]
    },
    {
      "cell_type": "code",
      "metadata": {
        "id": "ipWmAjc7pCnd"
      },
      "source": [
        "# 現在の作業ディレクトリに訓練済みモデルのパラメータ値を保存する\n",
        "\n",
        "torch.save(model.state_dict(), './cancer_mlp.pkl')"
      ],
      "execution_count": null,
      "outputs": []
    },
    {
      "cell_type": "code",
      "source": [
        "# フォルダを確認する\n",
        "!ls -F"
      ],
      "metadata": {
        "colab": {
          "base_uri": "https://localhost:8080/"
        },
        "id": "-eM1EYYlrf5x",
        "outputId": "3970928d-6cb8-45d7-c345-0e2be090361a"
      },
      "execution_count": null,
      "outputs": [
        {
          "output_type": "stream",
          "name": "stdout",
          "text": [
            "breastcancer.xlsx  cancer_mlp.pkl  __pycache__/  train_valid.py\n"
          ]
        }
      ]
    },
    {
      "cell_type": "code",
      "source": [],
      "metadata": {
        "id": "koHmFH2Vb3FS"
      },
      "execution_count": null,
      "outputs": []
    },
    {
      "cell_type": "markdown",
      "metadata": {
        "id": "7MIkhDcSRuq1"
      },
      "source": [
        "# 学習済みモデルを評価する"
      ]
    },
    {
      "cell_type": "markdown",
      "metadata": {
        "id": "d9Xps6HjR3UZ"
      },
      "source": [
        "## テストデータでモデルの予測性能を評価する"
      ]
    },
    {
      "cell_type": "code",
      "metadata": {
        "id": "6lQUv3jURv5R",
        "colab": {
          "base_uri": "https://localhost:8080/"
        },
        "outputId": "6ddf2b2a-a712-4457-dc5a-9afc1a789f53"
      },
      "source": [
        "# テストを実施する\n",
        "\n",
        "# テスト\n",
        "test_loss, test_acc = valid(model, criterion, optimizer, test_loader, device)\n",
        "print('test_loss: %.2f \\ttest_acc: %.2f' % (test_loss, test_acc))\n"
      ],
      "execution_count": null,
      "outputs": [
        {
          "output_type": "stream",
          "name": "stdout",
          "text": [
            "test_loss: 0.14 \ttest_acc: 0.95\n"
          ]
        }
      ]
    },
    {
      "cell_type": "code",
      "source": [],
      "metadata": {
        "id": "rmAlS-rF9UVO"
      },
      "execution_count": null,
      "outputs": []
    },
    {
      "cell_type": "code",
      "source": [],
      "metadata": {
        "id": "nnf7TzqL08It"
      },
      "execution_count": null,
      "outputs": []
    },
    {
      "cell_type": "markdown",
      "metadata": {
        "id": "8jm4cGxWF16V"
      },
      "source": [
        "# まとめ\n",
        "フレームワーク（PyTorch）を利用して，全結合型ニューラルネットワークモデル（MLP: Multi-Layer Perseptron）を構築し，Cancerデータの分類を行った．\n",
        "- 95%以上の高精度で，Cancerデータのがんの悪性と良性を予測できた\n",
        "- ニューラルネットワークの**「学習」の一連の手続き**が理解できた\n",
        "  1. データの準備\n",
        "    1. データの前処理（スケール変換とテンソル変換）\n",
        "    1. データセット（データとラベルの組）の作成\n",
        "    1. データ分割（訓練用，検証用，テスト用）\n",
        "    1. データローダの作成\n",
        "  1. MLPモデルの定義\n",
        "  1. モデルの訓練と検証\n",
        "  1. モデルの評価と推論\n",
        "- ニューラルネットワークの**「学習」の技術用語**が理解できた\n",
        "  - エポック\n",
        "  - ミニバッチ\n",
        "- フレームワークPyTorchの使い方が理解できた\n",
        "- MLPモデルの構造と定義方法が理解できた\n",
        "- モデルの訓練と検証方法が理解できた\n",
        "  - 訓練データで訓練，検証データで学習状況の確認\n",
        "- モデルの性能評価方法が理解できた\n",
        "  - テストデータ\n"
      ]
    },
    {
      "cell_type": "code",
      "metadata": {
        "id": "eBGKTg71Ec8z"
      },
      "source": [],
      "execution_count": null,
      "outputs": []
    },
    {
      "cell_type": "code",
      "source": [],
      "metadata": {
        "id": "t4SNZGwydk5Y"
      },
      "execution_count": null,
      "outputs": []
    },
    {
      "cell_type": "markdown",
      "source": [
        "# [提出課題]\n",
        "1. 課題1\n",
        "  1. MLPモデルの層を以下のように修正する\n",
        "    ```\n",
        "    # 提出課題1では以下のネットワーク設定を使用する（以下のコメントを外し，上をコメントにする）\n",
        "    self.layer_1 = nn.Linear(30, 10)      # 入力：30，入力層出力：10\n",
        "    self.layer_2 = nn.Linear(10, 5)      # 中間層入力：10，中間層出力：5\n",
        "    self.layer_3 = nn.Linear(5, 2)       # 出力層入力：5，出力：2\n",
        "    ```\n",
        "  1. 以下の手順でプログラムを再実行する\n",
        "    1. メニューバーの，ランタイム ／ ランタイムを再起動\n",
        "    1. メニューバーの，ランタイム ／ すべてのセルを実行\n",
        "\n",
        "  1. テストデータでモデルの予測性能を評価する\n",
        "    1. test_loss の値を小数第二位までで答えよ\n",
        "    1. test_acc の値を小数第二位までで答えよ\n",
        "\n",
        "\n",
        "1. 課題2\n",
        "\n",
        "  1. MLPモデルの層を以下のように修正する\n",
        "    ```\n",
        "    # 提出課題2では以下のネットワーク設定を使用する（以下のコメントを外し，上をコメントにする）\n",
        "    self.layer_1 = nn.Linear(30, 60)      # 入力：30，入力層出力：60\n",
        "    self.layer_2 = nn.Linear(60, 10)      # 中間層入力：60，中間層出力：10\n",
        "    self.layer_3 = nn.Linear(10, 2)       # 出力層入力：10，出力：2\n",
        "    ```\n",
        "  1. 以下の手順でプログラムを再実行する\n",
        "    1. メニューバーの，ランタイム ／ ランタイムを再起動\n",
        "    1. メニューバーの，ランタイム ／ すべてのセルを実行\n",
        "\n",
        "  1. テストデータでモデルの予測性能を評価する\n",
        "    1. test_loss の値を小数第二位までで答えよ\n",
        "    1. test_acc の値を小数第二位までで答えよ"
      ],
      "metadata": {
        "id": "bueCRXTknrV_"
      }
    },
    {
      "cell_type": "code",
      "source": [],
      "metadata": {
        "id": "-fmJCr9AH2QA"
      },
      "execution_count": null,
      "outputs": []
    }
  ]
}