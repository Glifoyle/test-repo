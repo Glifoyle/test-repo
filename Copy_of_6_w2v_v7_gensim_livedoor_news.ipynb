{
  "nbformat": 4,
  "nbformat_minor": 0,
  "metadata": {
    "accelerator": "GPU",
    "colab": {
      "provenance": [],
      "include_colab_link": true
    },
    "kernelspec": {
      "display_name": "Python 3",
      "language": "python",
      "name": "python3"
    },
    "language_info": {
      "codemirror_mode": {
        "name": "ipython",
        "version": 3
      },
      "file_extension": ".py",
      "mimetype": "text/x-python",
      "name": "python",
      "nbconvert_exporter": "python",
      "pygments_lexer": "ipython3",
      "version": "3.7.10"
    }
  },
  "cells": [
    {
      "cell_type": "markdown",
      "metadata": {
        "id": "view-in-github",
        "colab_type": "text"
      },
      "source": [
        "<a href=\"https://colab.research.google.com/github/Glifoyle/test-repo/blob/master/Copy_of_6_w2v_v7_gensim_livedoor_news.ipynb\" target=\"_parent\"><img src=\"https://colab.research.google.com/assets/colab-badge.svg\" alt=\"Open In Colab\"/></a>"
      ]
    },
    {
      "cell_type": "markdown",
      "metadata": {
        "id": "VYlVm0kpjx57"
      },
      "source": [
        "\n",
        "# 目的：単語ベクトルと日本語の自然言語処理を理解する\n",
        "\n",
        "## テーマ1：単語ベクトルと，単語ベクトルによる単語間の演算を理解する\n",
        "## テーマ2：発展課題：日本語自然言語処理を体験する（単語ベクトルを取得する）\n",
        "\n",
        "<br>\n",
        "&copy; 2021-2024 Hiro Kimura\n",
        "<br>\n"
      ]
    },
    {
      "cell_type": "markdown",
      "metadata": {
        "id": "UYoy2qCrkI_D"
      },
      "source": [
        "## ポイント\n",
        "\n",
        "この教材では以下を行う：\n",
        "1. 学習済み単語ベクトルで演算を行う\n",
        "  1. ベクトル値\n",
        "  1. 単語間の距離\n",
        "  1. 類似度\n",
        "\n",
        "\n",
        "2. 学習により単語ベクトルを生成する（発展課題）\n",
        "  1. Livedoorニュースデータからコーパスを作成する\n",
        "    1. ダウンロード\n",
        "    1. データの結合\n",
        "    1. データとラベルの整理\n",
        "  1. 日本語解析用ツールをインストール\n",
        "    1. gensim\n",
        "    1. MeCab + ipadic\n",
        "  1. コーパスからデータセットを作成する\n",
        "    1. 形態素解析（単語に分割）\n",
        "    1. クリーニング （不要なタグ記号等を除く）\n",
        "    1. 正規化（表記の統一など）\n",
        "    1. 単語の数値化\n",
        "  1. 単語間の関係を考慮した単語ベクトルの生成\n",
        "    1. データの前処理\n",
        "    1. 学習用データセットの作成\n",
        "    1. Word2Vecの学習\n",
        "  1. 単語ベクトルで様々な演算を行う\n",
        "    1. 類似度・距離\n",
        "    1. 加減算  \n"
      ]
    },
    {
      "cell_type": "markdown",
      "source": [
        "# 実習の準備をする\n",
        "  1. GPUを確認する\n",
        "  1. タイムゾーンを東京にする\n",
        "  1. Google Driveをマウントする\n",
        "  1. 作業フォルダを作成する\n",
        "\n",
        "<!--\n",
        "  1. ライブラリを導入する\n",
        "  1. 開発環境を整備する\n",
        "-->\n",
        "\n",
        "\n"
      ],
      "metadata": {
        "id": "p1ejzuyGmjzn"
      }
    },
    {
      "cell_type": "markdown",
      "source": [
        "## GPUを確認する"
      ],
      "metadata": {
        "id": "DXnAty0YleCc"
      }
    },
    {
      "cell_type": "code",
      "execution_count": null,
      "metadata": {
        "colab": {
          "base_uri": "https://localhost:8080/"
        },
        "id": "BcsLoB9oyk06",
        "outputId": "86dff1ed-335e-4ca4-cd04-7fac9139ba7a"
      },
      "outputs": [
        {
          "output_type": "stream",
          "name": "stdout",
          "text": [
            "cuda\n"
          ]
        }
      ],
      "source": [
        "import torch\n",
        "\n",
        "# GPUの設定であればcuda，そうでなければcpu\n",
        "device = torch.device('cuda' if torch.cuda.is_available() else 'cpu')\n",
        "print(device)"
      ]
    },
    {
      "cell_type": "code",
      "execution_count": null,
      "metadata": {
        "colab": {
          "base_uri": "https://localhost:8080/"
        },
        "id": "jOZiNOh8zgGf",
        "outputId": "7765cedd-9783-460f-ac26-dd9caf4f5f7e"
      },
      "outputs": [
        {
          "output_type": "stream",
          "name": "stdout",
          "text": [
            "Wed Jul 10 04:02:44 2024       \n",
            "+---------------------------------------------------------------------------------------+\n",
            "| NVIDIA-SMI 535.104.05             Driver Version: 535.104.05   CUDA Version: 12.2     |\n",
            "|-----------------------------------------+----------------------+----------------------+\n",
            "| GPU  Name                 Persistence-M | Bus-Id        Disp.A | Volatile Uncorr. ECC |\n",
            "| Fan  Temp   Perf          Pwr:Usage/Cap |         Memory-Usage | GPU-Util  Compute M. |\n",
            "|                                         |                      |               MIG M. |\n",
            "|=========================================+======================+======================|\n",
            "|   0  Tesla T4                       Off | 00000000:00:04.0 Off |                    0 |\n",
            "| N/A   67C    P8              12W /  70W |      3MiB / 15360MiB |      0%      Default |\n",
            "|                                         |                      |                  N/A |\n",
            "+-----------------------------------------+----------------------+----------------------+\n",
            "                                                                                         \n",
            "+---------------------------------------------------------------------------------------+\n",
            "| Processes:                                                                            |\n",
            "|  GPU   GI   CI        PID   Type   Process name                            GPU Memory |\n",
            "|        ID   ID                                                             Usage      |\n",
            "|=======================================================================================|\n",
            "|  No running processes found                                                           |\n",
            "+---------------------------------------------------------------------------------------+\n"
          ]
        }
      ],
      "source": [
        "# 割り当てられたGPUを調べる\n",
        "!nvidia-smi"
      ]
    },
    {
      "cell_type": "markdown",
      "metadata": {
        "id": "B-RV-JtnClJS"
      },
      "source": [
        "## タイムゾーンを東京に変更する"
      ]
    },
    {
      "cell_type": "code",
      "execution_count": null,
      "metadata": {
        "colab": {
          "base_uri": "https://localhost:8080/"
        },
        "id": "GTAXsW1ICspR",
        "outputId": "25431a01-2e9d-4393-fbe1-f8800b849c75"
      },
      "outputs": [
        {
          "output_type": "stream",
          "name": "stdout",
          "text": [
            "Wed Jul 10 04:02:47 AM UTC 2024\n"
          ]
        }
      ],
      "source": [
        "!date"
      ]
    },
    {
      "cell_type": "code",
      "execution_count": null,
      "metadata": {
        "id": "yuXwhJiVCp6q"
      },
      "outputs": [],
      "source": [
        "!rm /etc/localtime\n",
        "!ln -s /usr/share/zoneinfo/Asia/Tokyo /etc/localtime"
      ]
    },
    {
      "cell_type": "code",
      "execution_count": null,
      "metadata": {
        "colab": {
          "base_uri": "https://localhost:8080/"
        },
        "id": "0z7Wc6keC1BZ",
        "outputId": "be0ca8ef-081e-497f-d80a-a37aaa63c8a1"
      },
      "outputs": [
        {
          "output_type": "stream",
          "name": "stdout",
          "text": [
            "Wed Jul 10 01:02:54 PM JST 2024\n"
          ]
        }
      ],
      "source": [
        "!date"
      ]
    },
    {
      "cell_type": "markdown",
      "metadata": {
        "id": "_Sy5cMo-TLTX"
      },
      "source": [
        "## Google Driveをマウントする"
      ]
    },
    {
      "cell_type": "code",
      "metadata": {
        "colab": {
          "base_uri": "https://localhost:8080/"
        },
        "id": "hkizffRYTM_n",
        "outputId": "49168a27-c130-4a9b-bbdd-36010c7dbdd3"
      },
      "source": [
        "from google.colab import drive\n",
        "drive.mount('/content/drive')"
      ],
      "execution_count": null,
      "outputs": [
        {
          "output_type": "stream",
          "name": "stdout",
          "text": [
            "Mounted at /content/drive\n"
          ]
        }
      ]
    },
    {
      "cell_type": "markdown",
      "source": [
        "## 作業フォルダを作成する"
      ],
      "metadata": {
        "id": "H4sKEFdbX9h8"
      }
    },
    {
      "cell_type": "code",
      "metadata": {
        "colab": {
          "base_uri": "https://localhost:8080/",
          "height": 55
        },
        "id": "yu2QshdnufI4",
        "outputId": "db5416b9-7b07-4e75-a46d-758b997c3b20"
      },
      "source": [
        "# 作業フォルダ（作業ディレクトリ）を作成\n",
        "import os\n",
        "\n",
        "chap_dir = \"/content/drive/MyDrive/practice/chap_w2v\"\n",
        "if not os.path.exists(chap_dir): # ディレクトリが存在していなければ\n",
        "    # os.mkdir(chap_dir)\n",
        "    os.makedirs(chap_dir) # ディレクトリを，途中のディレクトリも含めて，作成する\n",
        "\n",
        "os.chdir(chap_dir) # 今回の作業ディレクトリに移動する\n",
        "os.getcwd() # 現在の作業ディレクトリを表示する"
      ],
      "execution_count": null,
      "outputs": [
        {
          "output_type": "execute_result",
          "data": {
            "text/plain": [
              "'/content/drive/MyDrive/practice/chap_w2v'"
            ],
            "application/vnd.google.colaboratory.intrinsic+json": {
              "type": "string"
            }
          },
          "metadata": {},
          "execution_count": 7
        }
      ]
    },
    {
      "cell_type": "markdown",
      "metadata": {
        "id": "CCHiV4ZGZR00"
      },
      "source": [
        "# テーマ1：単語ベクトルで演算を行う\n",
        "大規模な日本語コーパスとして日本語Wikipediaのデータで日本語学習済みの単語ベクトルを用いて，単語間の演算を行い，単語分散表現の効果を確認する\n",
        "1. 東北大学が公開しているエンティティベクトル（学習済み単語ベクトル）をダウンロードして解凍する\n",
        "2. エンティティベクトルをWord2Vecのフォーマットに変換する\n",
        "3. 単語間の演算を行う"
      ]
    },
    {
      "cell_type": "markdown",
      "source": [
        "## 単語ベクトル（Word2Vec）の導入"
      ],
      "metadata": {
        "id": "Qy12vMrQd_z1"
      }
    },
    {
      "cell_type": "code",
      "metadata": {
        "colab": {
          "base_uri": "https://localhost:8080/"
        },
        "id": "qN0rtfjx6qVf",
        "outputId": "5624cd2e-ea9b-4b43-980c-5a6aee5d835f"
      },
      "source": [
        "# # 現在のディレクトリを確認\n",
        "! pwd\n",
        "! ls -F"
      ],
      "execution_count": null,
      "outputs": [
        {
          "output_type": "stream",
          "name": "stdout",
          "text": [
            "/content/drive/MyDrive/practice/chap_w2v\n"
          ]
        }
      ]
    },
    {
      "cell_type": "code",
      "metadata": {
        "colab": {
          "base_uri": "https://localhost:8080/"
        },
        "id": "bO-EV3Uf2_4q",
        "outputId": "a4d218c4-502c-4143-d9f0-82d42458b577"
      },
      "source": [
        "# エンティティベクトルをダウンロード（1.3GB，約2分かかる）\n",
        "! wget \"http://www.cl.ecei.tohoku.ac.jp/~m-suzuki/jawiki_vector/data/20170201.tar.bz2\""
      ],
      "execution_count": null,
      "outputs": [
        {
          "output_type": "stream",
          "name": "stdout",
          "text": [
            "--2024-07-10 13:11:57--  http://www.cl.ecei.tohoku.ac.jp/~m-suzuki/jawiki_vector/data/20170201.tar.bz2\n",
            "Resolving www.cl.ecei.tohoku.ac.jp (www.cl.ecei.tohoku.ac.jp)... 130.34.192.83\n",
            "Connecting to www.cl.ecei.tohoku.ac.jp (www.cl.ecei.tohoku.ac.jp)|130.34.192.83|:80... connected.\n",
            "HTTP request sent, awaiting response... 200 OK\n",
            "Length: 1373795477 (1.3G) [application/x-bzip2]\n",
            "Saving to: ‘20170201.tar.bz2’\n",
            "\n",
            "20170201.tar.bz2    100%[===================>]   1.28G  21.9MB/s    in 61s     \n",
            "\n",
            "2024-07-10 13:12:58 (21.6 MB/s) - ‘20170201.tar.bz2’ saved [1373795477/1373795477]\n",
            "\n"
          ]
        }
      ]
    },
    {
      "cell_type": "code",
      "metadata": {
        "colab": {
          "base_uri": "https://localhost:8080/"
        },
        "id": "8bqnB8Em8Rm4",
        "outputId": "8dadfb6f-c026-499f-9a68-e56535d1a232"
      },
      "source": [
        "# ファイルを確認\n",
        "! ls -F"
      ],
      "execution_count": null,
      "outputs": [
        {
          "output_type": "stream",
          "name": "stdout",
          "text": [
            "20170201.tar.bz2\n"
          ]
        }
      ]
    },
    {
      "cell_type": "code",
      "metadata": {
        "id": "ivffBVMB3pTt"
      },
      "source": [
        "# ファイルを解凍する（3分30秒程度かかる）\n",
        "# ./jawiki/ 以下のフォルダが作成される\n",
        "\n",
        "import tarfile\n",
        "import os\n",
        "\n",
        "# 解凍\n",
        "tar = tarfile.open(\"./20170201.tar.bz2\", \"r:bz2\")\n",
        "tar.extractall(\"./jawiki/\")\n",
        "tar.close()\n"
      ],
      "execution_count": null,
      "outputs": []
    },
    {
      "cell_type": "code",
      "metadata": {
        "colab": {
          "base_uri": "https://localhost:8080/"
        },
        "id": "K2EkgAqU9fbb",
        "outputId": "3dfd6ee6-a412-447f-dba5-814f6b565fc9"
      },
      "source": [
        "# ファイルを確認\n",
        "! ls -F"
      ],
      "execution_count": null,
      "outputs": [
        {
          "output_type": "stream",
          "name": "stdout",
          "text": [
            "20170201.tar.bz2  jawiki/\n"
          ]
        }
      ]
    },
    {
      "cell_type": "markdown",
      "metadata": {
        "id": "tXT42y-hE8ox"
      },
      "source": [
        "# 単語間の演算を行う\n",
        "\n",
        "- gensin：単語ベクトルを扱うツール\n"
      ]
    },
    {
      "cell_type": "code",
      "metadata": {
        "id": "I6pL8_ZK-vWf"
      },
      "source": [
        "# エンティティベクトルをw2vのフォーマットに変換する（約30秒かかる）\n",
        "\n",
        "from gensim.models import KeyedVectors\n",
        "\n",
        "model_jw = KeyedVectors.load_word2vec_format(\n",
        "    \"./jawiki/entity_vector/entity_vector.model.bin\", binary=True)\n"
      ],
      "execution_count": null,
      "outputs": []
    },
    {
      "cell_type": "code",
      "metadata": {
        "id": "NdNoHHlh_hBD"
      },
      "source": [
        "# ファイルに保存する（約3分かかる）\n",
        "model_jw.save_word2vec_format(\"./jawiki/jawiki_w2v.vec\")"
      ],
      "execution_count": null,
      "outputs": []
    },
    {
      "cell_type": "code",
      "metadata": {
        "colab": {
          "base_uri": "https://localhost:8080/"
        },
        "id": "VatPNS3KB1WV",
        "outputId": "82872648-d067-4229-a96f-765bbefce87c"
      },
      "source": [
        "# 単語ベクトル（200次元）を確認する\n",
        "wv1 = model_jw['山形']\n",
        "print(wv1.shape)\n",
        "print(wv1)"
      ],
      "execution_count": null,
      "outputs": [
        {
          "output_type": "stream",
          "name": "stdout",
          "text": [
            "(200,)\n",
            "[ 1.0997447   0.8196625   0.8369182  -1.2915025  -0.06917344  0.16544713\n",
            " -1.2095165  -0.9141803  -0.18874143  0.61299783 -1.1284201   1.127517\n",
            " -0.40697736 -0.3943502   3.0227787  -0.27428445  0.34976038  0.892071\n",
            "  0.6544367  -0.09852517 -0.27865645 -1.2212168  -0.5908141  -0.909622\n",
            "  0.811184   -0.23257841 -0.13242802 -1.3306999  -0.42543045 -1.5823678\n",
            " -0.06474027 -0.6807919   0.93179566 -1.4261703   1.5826771   0.23798552\n",
            "  0.15092313  1.0781382   0.97536963  1.0345681  -0.4893855   1.2355504\n",
            " -1.1773647  -0.5797864   0.87899554  0.31232962 -0.07045349 -0.1570589\n",
            "  0.86451596  1.875505    1.1548423  -1.2485168   1.5853759  -1.4500644\n",
            "  0.90929335  1.2907407  -0.26110485 -0.23115727 -0.22397086 -0.41572917\n",
            " -0.35956278  0.96473366 -1.7440711  -0.875481   -0.04452347  1.6692209\n",
            " -0.839226    0.33410925  1.1115055   0.21318859 -0.46992478  0.03419644\n",
            " -0.63869476  0.9341197   0.13374513  0.10631881  0.7268205  -0.4531535\n",
            " -1.2031064  -0.65960604  0.8011626   2.368447    0.26882893 -0.11930195\n",
            " -1.8289616   1.3481599  -2.5789652   0.48486665 -0.1152654  -1.4764456\n",
            "  0.43964562  0.828479   -0.6085332  -0.21973643 -0.5206956   1.4422909\n",
            " -0.89297336 -0.41594675 -0.06200103 -1.6975641  -0.5485      0.0548425\n",
            " -0.89707357 -0.948398    1.0258183  -0.84670955 -0.6157754   0.19682619\n",
            " -0.99052006  0.80124074  0.44789863 -1.0617025   0.266595   -0.7869915\n",
            "  0.00896918  0.15166594 -1.0181683  -0.46310487 -0.7510198   0.9079776\n",
            "  0.5430332   1.2797049  -0.20566684 -1.6053201  -0.95047873 -0.07085077\n",
            "  0.27437374 -1.0518787  -0.28944457 -0.9882352   0.07412586 -0.36252162\n",
            "  1.3953209  -0.5223459  -1.0862724  -0.82156825  1.0435547  -0.58163375\n",
            " -1.8335578   0.49565902 -0.05345155  0.40670025  0.62399405 -1.7601848\n",
            " -0.20315428  2.3993654   1.6534106   0.28439945 -0.8031481   1.5633386\n",
            " -0.596348   -0.385413   -0.35853833 -0.8741361  -2.4051423  -1.0454801\n",
            "  1.5765177  -1.1435599   0.34991065 -0.4504893  -0.58509755  0.07909663\n",
            "  0.6025235  -0.01527285  1.564623   -1.3949581   1.3243251   1.3703753\n",
            "  0.2017783   1.4469235   0.93232226  0.55607843  0.55704075 -0.26421311\n",
            " -0.7489578   0.8965199   0.13725632  0.8924111   1.7182567  -0.0533218\n",
            "  1.8007578   1.1971482  -0.51456517  0.3525685   0.4670582  -1.6291707\n",
            " -0.26419127 -1.8176143   1.0327939   0.5356601  -1.5712459   0.7901729\n",
            " -1.436065    0.44457313  1.5546227   0.92213243  1.0215938  -2.6062002\n",
            " -0.42624995 -0.68938017]\n"
          ]
        }
      ]
    },
    {
      "cell_type": "markdown",
      "metadata": {
        "id": "qO9c0Kzbn_QJ"
      },
      "source": [
        "類似度（コサイン類似度）：\n",
        "\\begin{align}\n",
        "コサイン類似度 & = \\frac{Vec1とVec2の内積}{(Vec1の大きさ)*(Vec2の大きさ)}\n",
        "  & = \\frac{a_1b_1+a_2b_2+...+a_nb_n}{\\sqrt{a_1^2+a_2^2+...+a_n^2} \\sqrt{b_1^2+b_2^2+...+b_n^2}}\n",
        "\\end{align}"
      ]
    },
    {
      "cell_type": "code",
      "metadata": {
        "colab": {
          "base_uri": "https://localhost:8080/"
        },
        "id": "TTfbLtWgI_Jw",
        "outputId": "a17ce019-ae28-4ad7-db42-8e51802142c2"
      },
      "source": [
        "# 単語の類似度\n",
        "similarity = model_jw.similarity('山形', '山形')\n",
        "print(similarity)"
      ],
      "execution_count": null,
      "outputs": [
        {
          "output_type": "stream",
          "name": "stdout",
          "text": [
            "1.0\n"
          ]
        }
      ]
    },
    {
      "cell_type": "code",
      "metadata": {
        "colab": {
          "base_uri": "https://localhost:8080/"
        },
        "id": "-6dI7qvuIqJ3",
        "outputId": "0033d45d-7232-4821-89e1-3ecdd8a7bdfd"
      },
      "source": [
        "# 単語の類似度\n",
        "similarity = model_jw.similarity('山形', 'ニューヨーク')\n",
        "# distance = model_jw.distance('山形', '南極')\n",
        "print(similarity)"
      ],
      "execution_count": null,
      "outputs": [
        {
          "output_type": "stream",
          "name": "stdout",
          "text": [
            "0.085347414\n"
          ]
        }
      ]
    },
    {
      "cell_type": "code",
      "metadata": {
        "colab": {
          "base_uri": "https://localhost:8080/"
        },
        "id": "VM_i7fyeoRSM",
        "outputId": "73b3f538-6e8a-4382-cbb5-0104bca0e32f"
      },
      "source": [
        "# 単語の距離\n",
        "distance = model_jw.distance('山形', '山形')\n",
        "print(distance)"
      ],
      "execution_count": null,
      "outputs": [
        {
          "output_type": "stream",
          "name": "stdout",
          "text": [
            "0.0\n"
          ]
        }
      ]
    },
    {
      "cell_type": "code",
      "metadata": {
        "colab": {
          "base_uri": "https://localhost:8080/"
        },
        "id": "jUfCpwnNoZ55",
        "outputId": "8b5e8051-a2d6-47cb-d28d-e06c84872b49"
      },
      "source": [
        "# 単語の距離\n",
        "distance = model_jw.distance('山形', 'ニューヨーク')\n",
        "# distance = model_jw.distance('山形', '南極')\n",
        "print(distance)"
      ],
      "execution_count": null,
      "outputs": [
        {
          "output_type": "stream",
          "name": "stdout",
          "text": [
            "0.9146525859832764\n"
          ]
        }
      ]
    },
    {
      "cell_type": "code",
      "metadata": {
        "colab": {
          "base_uri": "https://localhost:8080/"
        },
        "id": "_ibPDfklDqB4",
        "outputId": "e0d40fae-3067-4357-d711-1a54f428749b"
      },
      "source": [
        "# 単語の演算　山形と近いのは\n",
        "words = model_jw.similar_by_word('山形', topn=10)\n",
        "for word in words:\n",
        "  print(word)"
      ],
      "execution_count": null,
      "outputs": [
        {
          "output_type": "stream",
          "name": "stdout",
          "text": [
            "('秋田', 0.811007022857666)\n",
            "('福島', 0.7636185884475708)\n",
            "('栃木', 0.7335861325263977)\n",
            "('香川', 0.7301021814346313)\n",
            "('長野', 0.7231136560440063)\n",
            "('岩手', 0.7200448513031006)\n",
            "('大分', 0.7196505665779114)\n",
            "('青森', 0.719536304473877)\n",
            "('仙台', 0.7151240110397339)\n",
            "('熊本', 0.7114702463150024)\n"
          ]
        }
      ]
    },
    {
      "cell_type": "code",
      "metadata": {
        "colab": {
          "base_uri": "https://localhost:8080/"
        },
        "id": "0WaXfM7kcvsW",
        "outputId": "0cfdd65b-175f-4d5a-9b21-842fcab616b3"
      },
      "source": [
        "# 単語の演算　山形と川と言ったら？\n",
        "words = model_jw.most_similar(positive=['山形','河川'], topn=5)\n",
        "for word in words:\n",
        "  print(word)"
      ],
      "execution_count": null,
      "outputs": [
        {
          "output_type": "stream",
          "name": "stdout",
          "text": [
            "('[最上川]', 0.7070518136024475)\n",
            "('[旭川_(岡山県)]', 0.6735597252845764)\n",
            "('[信濃川]', 0.6719672679901123)\n",
            "('[阿賀野川]', 0.6703377366065979)\n",
            "('本川', 0.6636521816253662)\n"
          ]
        }
      ]
    },
    {
      "cell_type": "code",
      "metadata": {
        "colab": {
          "base_uri": "https://localhost:8080/"
        },
        "id": "VHbUBl-y1DUZ",
        "outputId": "cc439121-6297-495d-83de-0fafbd005904"
      },
      "source": [
        "# 類似の単語\n",
        "words = model_jw.most_similar(positive=['フルート', 'ピアノ'], topn=3)\n",
        "for word in words:\n",
        "  print(word)"
      ],
      "execution_count": null,
      "outputs": [
        {
          "output_type": "stream",
          "name": "stdout",
          "text": [
            "('チェロ', 0.9055847525596619)\n",
            "('[ピアノ]', 0.8905407190322876)\n",
            "('ヴァイオリン', 0.8903535008430481)\n"
          ]
        }
      ]
    },
    {
      "cell_type": "code",
      "metadata": {
        "colab": {
          "base_uri": "https://localhost:8080/"
        },
        "id": "nZQMIEp1J_Sj",
        "outputId": "1d407f89-4be1-4cba-ea84-a13f429e189d"
      },
      "source": [
        "# 単語の演算　王様 - 男 + 女　は？（cos距離）\n",
        "words = model_jw.most_similar_cosmul(positive=['王様', '女'], negative=['男'], topn=1)\n",
        "for word in words:\n",
        "  print(word)"
      ],
      "execution_count": null,
      "outputs": [
        {
          "output_type": "stream",
          "name": "stdout",
          "text": [
            "('お姫様', 0.9508086442947388)\n"
          ]
        }
      ]
    },
    {
      "cell_type": "code",
      "metadata": {
        "colab": {
          "base_uri": "https://localhost:8080/"
        },
        "id": "_a6C38PlCJDD",
        "outputId": "5720b8ff-5b7b-4a4c-e894-6be8e1412373"
      },
      "source": [
        "# 単語の演算　王様 - 男 + 女　は？\n",
        "words = model_jw.most_similar(positive=['王様','女'], negative=['男'], topn=1)\n",
        "for word in words:\n",
        "  print(word)"
      ],
      "execution_count": null,
      "outputs": [
        {
          "output_type": "stream",
          "name": "stdout",
          "text": [
            "('お姫様', 0.7259090542793274)\n"
          ]
        }
      ]
    },
    {
      "cell_type": "code",
      "metadata": {
        "colab": {
          "base_uri": "https://localhost:8080/"
        },
        "id": "8OfQWthe2eY1",
        "outputId": "a2cc8d57-0d60-4482-9ba0-751119582b69"
      },
      "source": [
        "# 単語の演算　ロンドン - イギリス + 日本　は？\n",
        "words = model_jw.most_similar(positive=['ロンドン','日本'], negative=['イギリス'], topn=1)\n",
        "for word in words:\n",
        "  print(word)"
      ],
      "execution_count": null,
      "outputs": [
        {
          "output_type": "stream",
          "name": "stdout",
          "text": [
            "('東京', 0.6461172103881836)\n"
          ]
        }
      ]
    },
    {
      "cell_type": "code",
      "metadata": {
        "colab": {
          "base_uri": "https://localhost:8080/"
        },
        "id": "hvirJPFQ3IeV",
        "outputId": "74beb348-83be-44fc-da69-74e28f1f309c"
      },
      "source": [
        "# 仲間外れの単語は？\n",
        "\n",
        "l = [\"金沢\", \"ピアノ\", \"盛岡\", \"仙台\", \"水戸\", \"甲府\"]\n",
        "words = model_jw.doesnt_match(l)\n",
        "print(words)"
      ],
      "execution_count": null,
      "outputs": [
        {
          "output_type": "stream",
          "name": "stdout",
          "text": [
            "ピアノ\n"
          ]
        }
      ]
    },
    {
      "cell_type": "code",
      "metadata": {
        "colab": {
          "base_uri": "https://localhost:8080/"
        },
        "id": "EUy0h8IS3TxZ",
        "outputId": "d5d8d664-64ef-4a25-d5e7-daff514d72ed"
      },
      "source": [
        "# 仲間外れの単語は？\n",
        "\n",
        "l = [\"金沢\", \"福岡\", \"盛岡\", \"仙台\", \"水戸\", \"甲府\"]\n",
        "words = model_jw.doesnt_match(l)\n",
        "print(words)"
      ],
      "execution_count": null,
      "outputs": [
        {
          "output_type": "stream",
          "name": "stdout",
          "text": [
            "福岡\n"
          ]
        }
      ]
    },
    {
      "cell_type": "code",
      "metadata": {
        "colab": {
          "base_uri": "https://localhost:8080/"
        },
        "id": "C8mEzOcA4UO5",
        "outputId": "0dd68f73-0811-47ed-bb8c-b7b17d4c0c11"
      },
      "source": [
        "# 単語の演算　猫といったら？\n",
        "words = model_jw.similar_by_word('猫', topn=10)\n",
        "for word in words:\n",
        "  print(word)"
      ],
      "execution_count": null,
      "outputs": [
        {
          "output_type": "stream",
          "name": "stdout",
          "text": [
            "('[ネコ]', 0.8454327583312988)\n",
            "('ネコ', 0.8190229535102844)\n",
            "('[猫]', 0.8119831681251526)\n",
            "('ウサギ', 0.8038156032562256)\n",
            "('小鳥', 0.7744659781455994)\n",
            "('子猫', 0.7610605955123901)\n",
            "('[犬]', 0.7583129405975342)\n",
            "('ネズミ', 0.7523773908615112)\n",
            "('子犬', 0.7486448884010315)\n",
            "('犬', 0.7439809441566467)\n"
          ]
        }
      ]
    },
    {
      "cell_type": "code",
      "metadata": {
        "colab": {
          "base_uri": "https://localhost:8080/"
        },
        "id": "PcySfnA_4K_4",
        "outputId": "feca36bb-6944-42c0-efae-75bb8fed998a"
      },
      "source": [
        "# 単語の演算　猫といったら？\n",
        "words = model_jw.similar_by_word('ねこ', topn=10)\n",
        "for word in words:\n",
        "  print(word)"
      ],
      "execution_count": null,
      "outputs": [
        {
          "output_type": "stream",
          "name": "stdout",
          "text": [
            "('いぬ', 0.7891684174537659)\n",
            "('うさぎ', 0.7774231433868408)\n",
            "('みみ', 0.7745429277420044)\n",
            "('くじら', 0.7738558053970337)\n",
            "('とー', 0.773608386516571)\n",
            "('にゃん', 0.7709331512451172)\n",
            "('ひな', 0.7699280381202698)\n",
            "('ひみつ', 0.7685192227363586)\n",
            "('えほん', 0.761918306350708)\n",
            "('なぞ', 0.7601579427719116)\n"
          ]
        }
      ]
    },
    {
      "cell_type": "markdown",
      "metadata": {
        "id": "Gdn3GSy6c1KV"
      },
      "source": [
        "# テーマ2：発展課題：学習により単語ベクトルを取得する\n",
        "\n",
        "  1. Livedoorニュースデータからコーパスを作成する\n",
        "    1. ダウンロード\n",
        "    1. クリーニング （不要なタグ記号等を除く）\n",
        "    1. データの結合\n",
        "    1. データとラベルの整理\n",
        "  1. 日本語解析用ツールをインストール\n",
        "    1. gensim\n",
        "    1. MeCab + ipadic\n",
        "  1. コーパスからデータセットを作成する\n",
        "    1. 形態素解析（単語に分割）\n",
        "    1. クリーニング （不要なタグ記号等を除く）\n",
        "    1. 正規化（表記の統一など）\n",
        "    1. 単語の数値化\n",
        "  1. 単語間の関係を考慮した単語ベクトルの生成\n",
        "    1. データの前処理\n",
        "    1. 学習用データセットの作成\n",
        "    1. Word2Vecの学習\n",
        "  1. 単語ベクトルで様々な演算を行う\n",
        "    1. 類似度・距離\n",
        "    1. 加減算  "
      ]
    },
    {
      "cell_type": "markdown",
      "metadata": {
        "id": "KN5HHNFPT8H9"
      },
      "source": [
        "# コーパスを作成する"
      ]
    },
    {
      "cell_type": "markdown",
      "metadata": {
        "id": "tKSlUF_HT9fj"
      },
      "source": [
        "## Livedoorニュースデータ（2014年2月9日）を取得する\n",
        "1. [ldcc-20140209.tar.gz](https://www.rondhuit.com/download.html#ldcc) を Google Driveの '/content/drive/MyDrive/practice/' の実習用のカレントディレクトリにダウンロードする\n",
        "\n",
        "\n",
        "2. ダウンロードした ZIPファイルを， 実習用のカレントディレクトリに解凍する\n"
      ]
    },
    {
      "cell_type": "code",
      "metadata": {
        "colab": {
          "base_uri": "https://localhost:8080/"
        },
        "id": "2EOydrYLWXqE",
        "outputId": "3bb8a4f4-b563-4410-eea2-17de53e074f0"
      },
      "source": [
        "# # 現在のディレクトリを確認\n",
        "!pwd\n",
        "!ls -F"
      ],
      "execution_count": null,
      "outputs": [
        {
          "output_type": "stream",
          "name": "stdout",
          "text": [
            "/content/drive/MyDrive/practice/chap_w2v\n",
            "20170201.tar.bz2  jawiki/\n"
          ]
        }
      ]
    },
    {
      "cell_type": "code",
      "metadata": {
        "id": "8Vh0a49Gp-rS",
        "colab": {
          "base_uri": "https://localhost:8080/"
        },
        "outputId": "9e2b36a4-d234-4239-ce57-139ad386045e"
      },
      "source": [
        "# Livedoorニュースのファイルをダウンロード\n",
        "! wget \"https://www.rondhuit.com/download/ldcc-20140209.tar.gz\"\n",
        "# !curl -OL \"https://www.rondhuit.com/download/ldcc-20140209.tar.gz\""
      ],
      "execution_count": null,
      "outputs": [
        {
          "output_type": "stream",
          "name": "stdout",
          "text": [
            "--2024-07-10 13:37:15--  https://www.rondhuit.com/download/ldcc-20140209.tar.gz\n",
            "Resolving www.rondhuit.com (www.rondhuit.com)... 59.106.19.174\n",
            "Connecting to www.rondhuit.com (www.rondhuit.com)|59.106.19.174|:443... connected.\n",
            "HTTP request sent, awaiting response... 200 OK\n",
            "Length: 8855190 (8.4M) [application/x-gzip]\n",
            "Saving to: ‘ldcc-20140209.tar.gz’\n",
            "\n",
            "ldcc-20140209.tar.g 100%[===================>]   8.44M  2.63MB/s    in 3.2s    \n",
            "\n",
            "2024-07-10 13:37:19 (2.63 MB/s) - ‘ldcc-20140209.tar.gz’ saved [8855190/8855190]\n",
            "\n"
          ]
        }
      ]
    },
    {
      "cell_type": "code",
      "metadata": {
        "colab": {
          "base_uri": "https://localhost:8080/"
        },
        "id": "nONUfuIfWfXg",
        "outputId": "f20da89c-0c5f-41a0-e912-d18d9f981bd4"
      },
      "source": [
        "!ls -F"
      ],
      "execution_count": null,
      "outputs": [
        {
          "output_type": "stream",
          "name": "stdout",
          "text": [
            "20170201.tar.bz2  jawiki/  ldcc-20140209.tar.gz\n"
          ]
        }
      ]
    },
    {
      "cell_type": "code",
      "source": [
        "# dest_pathが存在しないとき\n",
        "# tarファイルを展開する（70秒程度）\n",
        "\n",
        "import os\n",
        "\n",
        "dest_path = \"./dataset/livedoor/\"     # 解凍先ディレクトリ\n",
        "tar_path = \"./ldcc-20140209.tar.gz\"  # 解凍するtarファイル\n",
        "\n",
        "# ファイルを展開する（70秒程度）\n",
        "if not os.path.exists(dest_path):\n",
        "    tar = tarfile.open(tar_path, \"r:gz\")\n",
        "    tar.extractall(dest_path)\n",
        "    tar.close()\n",
        "else:\n",
        "    print(f\"{dest_path} already exists!\")"
      ],
      "metadata": {
        "id": "DmEZNWBmuv7m"
      },
      "execution_count": null,
      "outputs": []
    },
    {
      "cell_type": "code",
      "metadata": {
        "colab": {
          "base_uri": "https://localhost:8080/"
        },
        "id": "RzMR97d5W9Uf",
        "outputId": "5163e3ad-65c7-4dcd-ab27-287ad592f3e3"
      },
      "source": [
        "# カレントディレクトリ以下のファイルとディレクトリを確認\n",
        "# ./dataset/livedoor/text/ にカテゴリー別にフォルダで分離されて記事が配置されている\n",
        "# フォルダ名がカテゴリー名，フォルダ数がカテゴリー数\n",
        "\n",
        "# フォルダ名（=カテゴリー名）をリストとして表示する\n",
        "files_folders = [name for name in os.listdir(\"./dataset/livedoor/text/\")]\n",
        "print(files_folders)\n",
        "print(len(files_folders))"
      ],
      "execution_count": null,
      "outputs": [
        {
          "output_type": "stream",
          "name": "stdout",
          "text": [
            "['CHANGES.txt', 'dokujo-tsushin', 'it-life-hack', 'kaden-channel', 'livedoor-homme', 'movie-enter', 'peachy', 'README.txt', 'smax', 'sports-watch', 'topic-news']\n",
            "11\n"
          ]
        }
      ]
    },
    {
      "cell_type": "code",
      "metadata": {
        "colab": {
          "base_uri": "https://localhost:8080/"
        },
        "id": "keY2WGdwjzLD",
        "outputId": "3dd3b35c-8aef-4e5e-fd3b-1b932b5ce9f5"
      },
      "source": [
        "# カテゴリーのフォルダのみを抽出\n",
        "categories = [name for name in os.listdir(\n",
        "    \"./dataset/livedoor/text/\") if os.path.isdir(\"./dataset/livedoor/text/\"+name)]\n",
        "\n",
        "print(\"カテゴリー数:\", len(categories))\n",
        "print(categories)"
      ],
      "execution_count": null,
      "outputs": [
        {
          "output_type": "stream",
          "name": "stdout",
          "text": [
            "カテゴリー数: 9\n",
            "['dokujo-tsushin', 'it-life-hack', 'kaden-channel', 'livedoor-homme', 'movie-enter', 'peachy', 'smax', 'sports-watch', 'topic-news']\n"
          ]
        }
      ]
    },
    {
      "cell_type": "code",
      "metadata": {
        "colab": {
          "base_uri": "https://localhost:8080/"
        },
        "id": "Z201OQ7gvYOY",
        "outputId": "4a2f0dec-6bef-457b-8b09-c7328be4f43d"
      },
      "source": [
        "# 記事ファイルの構造を確認してみる\n",
        "# 一例として、movie-enterカテゴリーの一つの記事\n",
        "file_name = \"./dataset/livedoor/text/movie-enter/movie-enter-6255260.txt\"\n",
        "\n",
        "with open(file_name, encoding='utf-8') as text_file:\n",
        "    text = text_file.readlines()\n",
        "    print(\"0：\", text[0])  # URL情報\n",
        "    print(\"1：\", text[1])  # タイムスタンプ\n",
        "    print(\"2：\", text[2])  # タイトル\n",
        "    print(\"3：\", text[3])  # 本文\n",
        "    print(\"-1：\", text[-1])  # 本文\n",
        "    print(\"n：\", len(text))  # 本文"
      ],
      "execution_count": null,
      "outputs": [
        {
          "output_type": "stream",
          "name": "stdout",
          "text": [
            "0： http://news.livedoor.com/article/detail/6255260/\n",
            "\n",
            "1： 2012-02-07T09:00:00+0900\n",
            "\n",
            "2： 新しいヴァンパイアが誕生！　ジョニデ主演『ダーク・シャドウ』の公開日が決定\n",
            "\n",
            "3： 　こんなヴァンパイアは見たことがない！　ジョニー・デップとティム・バートン監督がタッグを組んだ映画『ダーク・シャドウズ（原題）』の邦題が『ダーク・シャドウ』に決定。日本公開日が5月19日に決まった。さらに、ジョニー・デップ演じるヴァンパイアの写真が公開された。\n",
            "\n",
            "-1： ・ティム・バートンとジョニデが8度目のタッグ、念願のバンパイア役を演じる\n",
            "\n",
            "n： 17\n"
          ]
        }
      ]
    },
    {
      "cell_type": "markdown",
      "source": [
        "## クリーニングとデータの抽出\n",
        "\n"
      ],
      "metadata": {
        "id": "MCjGmSLgr-wY"
      }
    },
    {
      "cell_type": "code",
      "metadata": {
        "id": "CoKvaAK1vurV"
      },
      "source": [
        "# 本文を取得する前処理（クリーニング）関数を定義\n",
        "\n",
        "def extract_main_txt(file_name):\n",
        "    with open(file_name, encoding='utf-8') as text_file:\n",
        "        # 今回はタイトル行は外したいので、3要素目以降の本文のみ使用\n",
        "        text = text_file.readlines()[3:]\n",
        "\n",
        "        # 具体的なクリーニング内容\n",
        "        # 3要素目以降にも本文が入っている場合があるので、リストにして、後で結合させる\n",
        "        text = [sentence.strip() for sentence in text]  # 空白文字(スペースやタブ、改行)の削除\n",
        "        text = list(filter(lambda line: line != '', text))\n",
        "        text = ''.join(text)\n",
        "        text = text.translate(str.maketrans(\n",
        "            {'\\n': '', '\\t': '', '\\r': '', '\\u3000': ''}))  # 改行やタブ、全角スペースを消す\n",
        "        return text\n"
      ],
      "execution_count": null,
      "outputs": []
    },
    {
      "cell_type": "code",
      "metadata": {
        "id": "vq2ebKoOxThi",
        "collapsed": true
      },
      "source": [
        "# 前処理した本文と、カテゴリーのラベルをリストに追加していく\n",
        "# 約1分（負荷状況により10秒～20分程度の場合もある）\n",
        "import glob\n",
        "\n",
        "list_text = []\n",
        "list_label = []\n",
        "\n",
        "for cat in categories:\n",
        "    text_files = glob.glob(os.path.join(\"./dataset/livedoor/text\", cat, \"*.txt\"))\n",
        "\n",
        "    # 前処理extract_main_txtを実施しながら本文を取得\n",
        "    body = [extract_main_txt(text_file) for text_file in text_files]\n",
        "\n",
        "    label = [cat] * len(body)  # bodyの数文だけカテゴリー名のラベルのリストを作成\n",
        "\n",
        "    list_text.extend(body)  # appendが要素を追加するのに対して、extendはリストごと追加する\n",
        "    list_label.extend(label)\n"
      ],
      "execution_count": null,
      "outputs": []
    },
    {
      "cell_type": "code",
      "metadata": {
        "colab": {
          "base_uri": "https://localhost:8080/"
        },
        "id": "bKPb_LJxxuOM",
        "outputId": "48421d79-4d4b-43e2-bd83-ce3d38bc6f5e"
      },
      "source": [
        "# 例として，1番目の文章とラベルを確認\n",
        "# 本文の総数は 7,376\n",
        "\n",
        "print(\"最初の本文：\",list_text[0])\n",
        "print(\"最初のラベル：\", list_label[0])\n",
        "print(\"本文の総数：\", len(list_text))"
      ],
      "execution_count": null,
      "outputs": [
        {
          "output_type": "stream",
          "name": "stdout",
          "text": [
            "最初の本文： もうすぐジューン・ブライドと呼ばれる６月。独女の中には自分の式はまだなのに呼ばれてばかり……という「お祝い貧乏」状態の人も多いのではないだろうか？さらに出席回数を重ねていくと、こんなお願いごとをされることも少なくない。「お願いがあるんだけど……友人代表のスピーチ、やってくれないかな？」さてそんなとき、独女はどう対応したらいいか？最近だとインターネット等で検索すれば友人代表スピーチ用の例文サイトがたくさん出てくるので、それらを参考にすれば、無難なものは誰でも作成できる。しかし由利さん（33歳）はネットを参考にして作成したものの「これで本当にいいのか不安でした。一人暮らしなので聞かせて感想をいってくれる人もいないし、かといって他の友人にわざわざ聞かせるのもどうかと思うし……」ということで活用したのが、なんとインターネットの悩み相談サイトに。そこに作成したスピーチ文を掲載し「これで大丈夫か添削してください」とメッセージを送ったというのである。「一晩で3人位の人が添削してくれましたよ。ちなみに自分以外にもそういう人はたくさんいて、その相談サイトには同じように添削をお願いする投稿がいっぱいありました」（由利さん）。ためしに教えてもらったそのサイトをみてみると、確かに「結婚式のスピーチの添削お願いします」という投稿が1000件を超えるくらいあった。めでたい結婚式の影でこんなネットコミュニティがあったとは知らなかった。しかし「事前にお願いされるスピーチなら準備ができるしまだいいですよ。一番嫌なのは何といってもサプライズスピーチ！」と語るのは昨年だけで10万以上お祝いにかかったというお祝い貧乏独女の薫さん（35歳）「私は基本的に人前で話すのが苦手なんですよ。だからいきなり指名されるとしどろもどろになって何もいえなくなる。そうすると自己嫌悪に陥って終わった後でもまったく楽しめなくなりますね」サプライズスピーチのメリットとしては、準備していない状態なので、フランクな本音をしゃべってもらえるという楽しさがあるようだ。しかしそれも上手に対応できる人ならいいが、苦手な人の場合だと「フランク」ではなく「しどろもどろ」になる危険性大。ちなみにプロの司会者の場合、本当のサプライズではなく式の最中に「のちほどサプライズスピーチとしてご指名させていただきます」という一言があることも多いようだが、薫さん曰く「そんな何分前に言われても無理！」らしい。要は「サプライズを楽しめる」というタイプの人選が大切ということか。一方「ありきたりじゃつまらないし、ネットで例文を検索している際に『こんな方法もあるのか！』って思って取り入れました」という幸恵さん（30歳）が行ったスピーチは「手紙形式のスピーチ」というもの。「○○ちゃんへみたいな感じで新婦の友人にお手紙を書いて読み上げるやり方です。これなら多少フランクな書き方でも大丈夫だし、何より暗記しないで堂々と読み上げることができますよね。読んだものはそのまま友人にあげれば一応記念にもなります」（幸恵さん）なるほど、確かにこれなら読みあげればいいだけなので、人前で話すのが苦手な人でも失敗しないかもしれない。主役はあくまで新郎新婦ながらも、いざとなると緊張し、内容もあれこれ考えて、こっそりリハーサル……そんな人知れず頑張るスピーチ担当独女たちにも幸あれ（高山惠）\n",
            "最初のラベル： dokujo-tsushin\n",
            "本文の総数： 7376\n"
          ]
        }
      ]
    },
    {
      "cell_type": "code",
      "metadata": {
        "colab": {
          "base_uri": "https://localhost:8080/",
          "height": 243
        },
        "id": "a_Kf1D9xxuvP",
        "outputId": "0c965036-02e4-4d7d-f129-68c3bf6f09c3"
      },
      "source": [
        "# リストデータをpandasのDataFrameに読み込む\n",
        "import pandas as pd\n",
        "\n",
        "df = pd.DataFrame({'text': list_text, 'label': list_label})\n",
        "\n",
        "# 大きさを確認しておく（7,376文章が存在）\n",
        "print(df.shape)\n",
        "\n",
        "# print(df.head())\n",
        "df.head()\n"
      ],
      "execution_count": null,
      "outputs": [
        {
          "output_type": "stream",
          "name": "stdout",
          "text": [
            "(7376, 2)\n"
          ]
        },
        {
          "output_type": "execute_result",
          "data": {
            "text/plain": [
              "                                                text           label\n",
              "0  もうすぐジューン・ブライドと呼ばれる６月。独女の中には自分の式はまだなのに呼ばれてばかり……...  dokujo-tsushin\n",
              "1  携帯電話が普及する以前、恋人への連絡ツールは一般電話が普通だった。恋人と別れたら、手帳に書か...  dokujo-tsushin\n",
              "2  「男性はやっぱり、女性の“すっぴん”が大好きなんですかね」と不満そうに話すのは、出版関係で働...  dokujo-tsushin\n",
              "3  ヒップの加齢による変化は「たわむ→下がる→内に流れる」、バストは「そげる→たわむ→外に流れる...  dokujo-tsushin\n",
              "4  6月から支給される子ども手当だが、当初は子ども一人当たり月額2万6000円が支給されるはずだ...  dokujo-tsushin"
            ],
            "text/html": [
              "\n",
              "  <div id=\"df-1263c7c0-f2e7-43e2-9c9c-e998cbb8cf66\" class=\"colab-df-container\">\n",
              "    <div>\n",
              "<style scoped>\n",
              "    .dataframe tbody tr th:only-of-type {\n",
              "        vertical-align: middle;\n",
              "    }\n",
              "\n",
              "    .dataframe tbody tr th {\n",
              "        vertical-align: top;\n",
              "    }\n",
              "\n",
              "    .dataframe thead th {\n",
              "        text-align: right;\n",
              "    }\n",
              "</style>\n",
              "<table border=\"1\" class=\"dataframe\">\n",
              "  <thead>\n",
              "    <tr style=\"text-align: right;\">\n",
              "      <th></th>\n",
              "      <th>text</th>\n",
              "      <th>label</th>\n",
              "    </tr>\n",
              "  </thead>\n",
              "  <tbody>\n",
              "    <tr>\n",
              "      <th>0</th>\n",
              "      <td>もうすぐジューン・ブライドと呼ばれる６月。独女の中には自分の式はまだなのに呼ばれてばかり……...</td>\n",
              "      <td>dokujo-tsushin</td>\n",
              "    </tr>\n",
              "    <tr>\n",
              "      <th>1</th>\n",
              "      <td>携帯電話が普及する以前、恋人への連絡ツールは一般電話が普通だった。恋人と別れたら、手帳に書か...</td>\n",
              "      <td>dokujo-tsushin</td>\n",
              "    </tr>\n",
              "    <tr>\n",
              "      <th>2</th>\n",
              "      <td>「男性はやっぱり、女性の“すっぴん”が大好きなんですかね」と不満そうに話すのは、出版関係で働...</td>\n",
              "      <td>dokujo-tsushin</td>\n",
              "    </tr>\n",
              "    <tr>\n",
              "      <th>3</th>\n",
              "      <td>ヒップの加齢による変化は「たわむ→下がる→内に流れる」、バストは「そげる→たわむ→外に流れる...</td>\n",
              "      <td>dokujo-tsushin</td>\n",
              "    </tr>\n",
              "    <tr>\n",
              "      <th>4</th>\n",
              "      <td>6月から支給される子ども手当だが、当初は子ども一人当たり月額2万6000円が支給されるはずだ...</td>\n",
              "      <td>dokujo-tsushin</td>\n",
              "    </tr>\n",
              "  </tbody>\n",
              "</table>\n",
              "</div>\n",
              "    <div class=\"colab-df-buttons\">\n",
              "\n",
              "  <div class=\"colab-df-container\">\n",
              "    <button class=\"colab-df-convert\" onclick=\"convertToInteractive('df-1263c7c0-f2e7-43e2-9c9c-e998cbb8cf66')\"\n",
              "            title=\"Convert this dataframe to an interactive table.\"\n",
              "            style=\"display:none;\">\n",
              "\n",
              "  <svg xmlns=\"http://www.w3.org/2000/svg\" height=\"24px\" viewBox=\"0 -960 960 960\">\n",
              "    <path d=\"M120-120v-720h720v720H120Zm60-500h600v-160H180v160Zm220 220h160v-160H400v160Zm0 220h160v-160H400v160ZM180-400h160v-160H180v160Zm440 0h160v-160H620v160ZM180-180h160v-160H180v160Zm440 0h160v-160H620v160Z\"/>\n",
              "  </svg>\n",
              "    </button>\n",
              "\n",
              "  <style>\n",
              "    .colab-df-container {\n",
              "      display:flex;\n",
              "      gap: 12px;\n",
              "    }\n",
              "\n",
              "    .colab-df-convert {\n",
              "      background-color: #E8F0FE;\n",
              "      border: none;\n",
              "      border-radius: 50%;\n",
              "      cursor: pointer;\n",
              "      display: none;\n",
              "      fill: #1967D2;\n",
              "      height: 32px;\n",
              "      padding: 0 0 0 0;\n",
              "      width: 32px;\n",
              "    }\n",
              "\n",
              "    .colab-df-convert:hover {\n",
              "      background-color: #E2EBFA;\n",
              "      box-shadow: 0px 1px 2px rgba(60, 64, 67, 0.3), 0px 1px 3px 1px rgba(60, 64, 67, 0.15);\n",
              "      fill: #174EA6;\n",
              "    }\n",
              "\n",
              "    .colab-df-buttons div {\n",
              "      margin-bottom: 4px;\n",
              "    }\n",
              "\n",
              "    [theme=dark] .colab-df-convert {\n",
              "      background-color: #3B4455;\n",
              "      fill: #D2E3FC;\n",
              "    }\n",
              "\n",
              "    [theme=dark] .colab-df-convert:hover {\n",
              "      background-color: #434B5C;\n",
              "      box-shadow: 0px 1px 3px 1px rgba(0, 0, 0, 0.15);\n",
              "      filter: drop-shadow(0px 1px 2px rgba(0, 0, 0, 0.3));\n",
              "      fill: #FFFFFF;\n",
              "    }\n",
              "  </style>\n",
              "\n",
              "    <script>\n",
              "      const buttonEl =\n",
              "        document.querySelector('#df-1263c7c0-f2e7-43e2-9c9c-e998cbb8cf66 button.colab-df-convert');\n",
              "      buttonEl.style.display =\n",
              "        google.colab.kernel.accessAllowed ? 'block' : 'none';\n",
              "\n",
              "      async function convertToInteractive(key) {\n",
              "        const element = document.querySelector('#df-1263c7c0-f2e7-43e2-9c9c-e998cbb8cf66');\n",
              "        const dataTable =\n",
              "          await google.colab.kernel.invokeFunction('convertToInteractive',\n",
              "                                                    [key], {});\n",
              "        if (!dataTable) return;\n",
              "\n",
              "        const docLinkHtml = 'Like what you see? Visit the ' +\n",
              "          '<a target=\"_blank\" href=https://colab.research.google.com/notebooks/data_table.ipynb>data table notebook</a>'\n",
              "          + ' to learn more about interactive tables.';\n",
              "        element.innerHTML = '';\n",
              "        dataTable['output_type'] = 'display_data';\n",
              "        await google.colab.output.renderOutput(dataTable, element);\n",
              "        const docLink = document.createElement('div');\n",
              "        docLink.innerHTML = docLinkHtml;\n",
              "        element.appendChild(docLink);\n",
              "      }\n",
              "    </script>\n",
              "  </div>\n",
              "\n",
              "\n",
              "<div id=\"df-f682d3db-99c8-4bd2-915b-e7562b96fa54\">\n",
              "  <button class=\"colab-df-quickchart\" onclick=\"quickchart('df-f682d3db-99c8-4bd2-915b-e7562b96fa54')\"\n",
              "            title=\"Suggest charts\"\n",
              "            style=\"display:none;\">\n",
              "\n",
              "<svg xmlns=\"http://www.w3.org/2000/svg\" height=\"24px\"viewBox=\"0 0 24 24\"\n",
              "     width=\"24px\">\n",
              "    <g>\n",
              "        <path d=\"M19 3H5c-1.1 0-2 .9-2 2v14c0 1.1.9 2 2 2h14c1.1 0 2-.9 2-2V5c0-1.1-.9-2-2-2zM9 17H7v-7h2v7zm4 0h-2V7h2v10zm4 0h-2v-4h2v4z\"/>\n",
              "    </g>\n",
              "</svg>\n",
              "  </button>\n",
              "\n",
              "<style>\n",
              "  .colab-df-quickchart {\n",
              "      --bg-color: #E8F0FE;\n",
              "      --fill-color: #1967D2;\n",
              "      --hover-bg-color: #E2EBFA;\n",
              "      --hover-fill-color: #174EA6;\n",
              "      --disabled-fill-color: #AAA;\n",
              "      --disabled-bg-color: #DDD;\n",
              "  }\n",
              "\n",
              "  [theme=dark] .colab-df-quickchart {\n",
              "      --bg-color: #3B4455;\n",
              "      --fill-color: #D2E3FC;\n",
              "      --hover-bg-color: #434B5C;\n",
              "      --hover-fill-color: #FFFFFF;\n",
              "      --disabled-bg-color: #3B4455;\n",
              "      --disabled-fill-color: #666;\n",
              "  }\n",
              "\n",
              "  .colab-df-quickchart {\n",
              "    background-color: var(--bg-color);\n",
              "    border: none;\n",
              "    border-radius: 50%;\n",
              "    cursor: pointer;\n",
              "    display: none;\n",
              "    fill: var(--fill-color);\n",
              "    height: 32px;\n",
              "    padding: 0;\n",
              "    width: 32px;\n",
              "  }\n",
              "\n",
              "  .colab-df-quickchart:hover {\n",
              "    background-color: var(--hover-bg-color);\n",
              "    box-shadow: 0 1px 2px rgba(60, 64, 67, 0.3), 0 1px 3px 1px rgba(60, 64, 67, 0.15);\n",
              "    fill: var(--button-hover-fill-color);\n",
              "  }\n",
              "\n",
              "  .colab-df-quickchart-complete:disabled,\n",
              "  .colab-df-quickchart-complete:disabled:hover {\n",
              "    background-color: var(--disabled-bg-color);\n",
              "    fill: var(--disabled-fill-color);\n",
              "    box-shadow: none;\n",
              "  }\n",
              "\n",
              "  .colab-df-spinner {\n",
              "    border: 2px solid var(--fill-color);\n",
              "    border-color: transparent;\n",
              "    border-bottom-color: var(--fill-color);\n",
              "    animation:\n",
              "      spin 1s steps(1) infinite;\n",
              "  }\n",
              "\n",
              "  @keyframes spin {\n",
              "    0% {\n",
              "      border-color: transparent;\n",
              "      border-bottom-color: var(--fill-color);\n",
              "      border-left-color: var(--fill-color);\n",
              "    }\n",
              "    20% {\n",
              "      border-color: transparent;\n",
              "      border-left-color: var(--fill-color);\n",
              "      border-top-color: var(--fill-color);\n",
              "    }\n",
              "    30% {\n",
              "      border-color: transparent;\n",
              "      border-left-color: var(--fill-color);\n",
              "      border-top-color: var(--fill-color);\n",
              "      border-right-color: var(--fill-color);\n",
              "    }\n",
              "    40% {\n",
              "      border-color: transparent;\n",
              "      border-right-color: var(--fill-color);\n",
              "      border-top-color: var(--fill-color);\n",
              "    }\n",
              "    60% {\n",
              "      border-color: transparent;\n",
              "      border-right-color: var(--fill-color);\n",
              "    }\n",
              "    80% {\n",
              "      border-color: transparent;\n",
              "      border-right-color: var(--fill-color);\n",
              "      border-bottom-color: var(--fill-color);\n",
              "    }\n",
              "    90% {\n",
              "      border-color: transparent;\n",
              "      border-bottom-color: var(--fill-color);\n",
              "    }\n",
              "  }\n",
              "</style>\n",
              "\n",
              "  <script>\n",
              "    async function quickchart(key) {\n",
              "      const quickchartButtonEl =\n",
              "        document.querySelector('#' + key + ' button');\n",
              "      quickchartButtonEl.disabled = true;  // To prevent multiple clicks.\n",
              "      quickchartButtonEl.classList.add('colab-df-spinner');\n",
              "      try {\n",
              "        const charts = await google.colab.kernel.invokeFunction(\n",
              "            'suggestCharts', [key], {});\n",
              "      } catch (error) {\n",
              "        console.error('Error during call to suggestCharts:', error);\n",
              "      }\n",
              "      quickchartButtonEl.classList.remove('colab-df-spinner');\n",
              "      quickchartButtonEl.classList.add('colab-df-quickchart-complete');\n",
              "    }\n",
              "    (() => {\n",
              "      let quickchartButtonEl =\n",
              "        document.querySelector('#df-f682d3db-99c8-4bd2-915b-e7562b96fa54 button');\n",
              "      quickchartButtonEl.style.display =\n",
              "        google.colab.kernel.accessAllowed ? 'block' : 'none';\n",
              "    })();\n",
              "  </script>\n",
              "</div>\n",
              "\n",
              "    </div>\n",
              "  </div>\n"
            ],
            "application/vnd.google.colaboratory.intrinsic+json": {
              "type": "dataframe",
              "variable_name": "df",
              "summary": "{\n  \"name\": \"df\",\n  \"rows\": 7376,\n  \"fields\": [\n    {\n      \"column\": \"text\",\n      \"properties\": {\n        \"dtype\": \"string\",\n        \"num_unique_values\": 7368,\n        \"samples\": [\n          \"TBS\\u300cS1\\u300d\\uff0827\\u65e5\\u6df1\\u591c\\uff09\\u3067\\u306f\\u3001\\u5317\\u6d77\\u9053\\u65e5\\u672c\\u30cf\\u30e0\\u30d5\\u30a1\\u30a4\\u30bf\\u30fc\\u30ba\\u306e\\u30a8\\u30fc\\u30b9\\u30fb\\u30c0\\u30eb\\u30d3\\u30c3\\u30b7\\u30e5\\u6709\\u3068\\u3001\\u30d7\\u30ed\\u91ce\\u7403\\u89e3\\u8aac\\u8005\\u30fb\\u6851\\u7530\\u771f\\u6f84\\u6c0f\\u304c\\u5bfe\\u8ac7\\u3057\\u305f\\u69d8\\u5b50\\u3092\\u653e\\u9001\\u3057\\u305f\\u3002\\u300c\\uff08\\u4f53\\u91cd\\u306f\\uff09\\u53bb\\u5e74\\u306e\\u3053\\u306e\\u6642\\u671f\\u304b\\u308910\\u30ad\\u30ed\\u304f\\u3089\\u3044\\u9055\\u3044\\u307e\\u3059\\u306d\\u300d\\u3068\\u3001\\u8089\\u4f53\\u6539\\u9020\\u306b\\u3088\\u308b\\u30d1\\u30ef\\u30fc\\u30a2\\u30c3\\u30d7\\u306b\\u6210\\u529f\\u3057\\u3066\\u3044\\u308b\\u4eca\\u30b7\\u30fc\\u30ba\\u30f3\\u306e\\u30c0\\u30eb\\u30d3\\u30c3\\u30b7\\u30e5\\u3002\\u540c\\u3058\\u6295\\u624b\\u3067\\u3082\\u3042\\u308b\\u6851\\u7530\\u6c0f\\u304c\\u300c\\u898b\\u3066\\u3044\\u308b\\u9650\\u308a\\u3067\\u306f\\u3001\\u50d5\\u306a\\u3093\\u304b\\u306f10\\u30ad\\u30ed\\u5897\\u3048\\u305f\\u3089\\u52d5\\u3051\\u306a\\u3044\\u3068\\u601d\\u3046\\u3093\\u3067\\u3059\\u3051\\u3069\\u3001\\u920d\\u3044\\u3068\\u304b\\u8eab\\u4f53\\u304c\\u5207\\u308c\\u3066\\u306a\\u3044\\u3068\\u304b\\u5168\\u304f\\u306a\\u3044\\u3067\\u3059\\u3088\\u306d\\u300d\\u3068\\u5c0b\\u306d\\u308b\\u3068\\u3001\\u300c\\u306a\\u3044\\u3067\\u3059\\u306d\\u300d\\u3068\\u30ad\\u30c3\\u30d1\\u30ea\\u3002\\u300c\\u6295\\u3052\\u308b\\u306e\\u3082\\u305d\\u3046\\u3067\\u3059\\u3057\\u3001\\u7d30\\u304b\\u3044\\u52d5\\u304d\\u3092\\u3059\\u308b\\u306e\\u306b\\u3082\\u91cd\\u3055\\u3092\\u611f\\u3058\\u3066\\u3044\\u306a\\u3044\\u300d\\u3068\\u7d9a\\u3051\\u305f\\u3002\\u307e\\u305f\\u3001\\u5897\\u91cf\\u306e\\u88cf\\u5074\\u3092\\u8a9e\\u3063\\u305f\\u30c0\\u30eb\\u30d3\\u30c3\\u30b7\\u30e5\\u3002\\u300c\\u5f37\\u5ea6\\u3092\\u4e0a\\u3052\\u3066\\u3001\\u98df\\u4e8b\\u3082\\u5909\\u3048\\u3066\\u3001\\u30b5\\u30d7\\u30ea\\u30e1\\u30f3\\u30c8\\u3082\\u5909\\u3048\\u3066\\u3001\\u3057\\u3063\\u304b\\u308a\\u8eab\\u4f53\\u3092\\u5927\\u304d\\u304f\\u3057\\u3088\\u3046\\u3001\\u5f37\\u304f\\u3057\\u3088\\u3046\\u3063\\u3066\\u3044\\u3046\\u6c17\\u6301\\u3061\\u3067\\u3084\\u308a\\u307e\\u3057\\u305f\\u306d\\u3002\\u8db3\\u3082\\u901f\\u304f\\u306a\\u3044\\u3067\\u3059\\u3057\\u3001\\u30b8\\u30e3\\u30f3\\u30d7\\u529b\\u3082\\u305d\\u3093\\u306a\\u3042\\u308b\\u308f\\u3051\\u3067\\u306f\\u306a\\u3044\\u3002\\u30a2\\u30b9\\u30ea\\u30fc\\u30c8\\u3068\\u3057\\u3066\\u8eab\\u4f53\\u80fd\\u529b\\u304c\\u9ad8\\u3044\\u65b9\\u3067\\u306f\\u306a\\u3044\\u3067\\u3059\\u3051\\u3069\\u3001\\u91ce\\u7403\\u9078\\u624b\\u3067\\u3042\\u308b\\u524d\\u306b\\u30a2\\u30b9\\u30ea\\u30fc\\u30c8\\u306a\\u306e\\u3067\\u3001\\u305d\\u3053\\u3092\\u3057\\u3063\\u304b\\u308a\\u6574\\u5099\\u3057\\u3066\\u9ad8\\u3044\\u30ec\\u30d9\\u30eb\\u306b\\u6301\\u3063\\u3066\\u3044\\u304d\\u305f\\u3044\\u3002\\u91ce\\u7403\\u306e\\u6280\\u8853\\u4e91\\u3005\\u306e\\u524d\\u306b\\u3001\\u305d\\u3053\\u3092\\u3057\\u3063\\u304b\\u308a\\u3084\\u308a\\u305f\\u3044\\u300d\\u3068\\u9ad8\\u3044\\u5411\\u4e0a\\u5fc3\\u3092\\u8997\\u304b\\u305b\\u3064\\u3064\\u3001\\u300c\\u8eab\\u4f53\\u3092\\u5927\\u304d\\u304f\\u3059\\u308b\\u306b\\u306f\\u3001\\u98df\\u4e8b\\u3092\\u6442\\u3089\\u306a\\u304d\\u3083\\u3044\\u3051\\u306a\\u3044\\u3002\\u4e00\\u65e56\\u98df\\u3068\\u304b7\\u98df\\u3001\\u305d\\u306e\\u9593\\u306b\\u30d7\\u30ed\\u30c6\\u30a4\\u30f3\\u3068\\u304b\\u3082\\u4e00\\u65e55\\u30016\\u56de\\u6442\\u3063\\u3066\\u5e38\\u306b\\u5410\\u304d\\u305d\\u3046\\u306a\\u72b6\\u614b\\u3067\\u6bce\\u65e5\\u904e\\u3054\\u3057\\u3066\\u307e\\u3057\\u305f\\u300d\\u3068\\u6050\\u308b\\u3079\\u304d\\u98df\\u751f\\u6d3b\\u3082\\u660e\\u304b\\u3059\\u3002\\u3055\\u3089\\u306b\\u306f\\u3001\\u300c\\u307e\\u306010\\u30ad\\u30ed\\u5897\\u3048\\u3066\\u3082\\u5927\\u4e08\\u592b\\u3060\\u3068\\u601d\\u3044\\u307e\\u3059\\u3002105\\u3001106\\u304f\\u3089\\u3044\\u307e\\u3067\\u306f\\u6700\\u7d42\\u7684\\u306b\\u306f\\u3044\\u304d\\u305f\\u3044\\u304b\\u306a\\u3068\\u601d\\u3046\\u300d\\u3068\\u3044\\u3046\\u30c0\\u30eb\\u30d3\\u30c3\\u30b7\\u30e5\\u306f\\u3001\\u305d\\u306e\\u4ed6\\u306b\\u3082\\u3001\\u5909\\u5316\\u7403\\u306e\\u79d8\\u5bc6\\u3084\\u300c\\u672c\\u5f53\\u306b\\u4ef2\\u304c\\u826f\\u3044\\u300d\\u3068\\u8a9e\\u308b\\u658e\\u85e4\\u4f51\\u6a39\\u3068\\u306e\\u95a2\\u4fc2\\u306b\\u3064\\u3044\\u3066\\u7b54\\u3048\\u3001\\u5bfe\\u8ac7\\u306e\\u6700\\u5f8c\\u306b\\u81ea\\u8eab\\u306e\\u6700\\u7d42\\u76ee\\u6a19\\u3092\\u300c\\u76ee\\u6307\\u3057\\u3066\\u3044\\u308b\\u3068\\u3053\\u308d\\u306f\\u8ab0\\u3082\\u898b\\u305f\\u3053\\u3068\\u306e\\u306a\\u3044\\u30d4\\u30c3\\u30c1\\u30e3\\u30fc\\u3002\\u3060\\u304b\\u3089\\uff08\\u81ea\\u5206\\u306b\\u3082\\uff09\\u5206\\u304b\\u3089\\u306a\\u3044\\u3067\\u3059\\u3088\\u306d\\u3002\\u4eba\\u9593\\u306e\\u4e2d\\u3067\\u4e00\\u756a\\u300d\\u3068\\u58ee\\u5927\\u306a\\u30b4\\u30fc\\u30eb\\u3092\\u53e3\\u306b\\u3057\\u305f\\u3002\",\n          \"MEDIAS ES N-05D\\u306b\\u30bd\\u30d5\\u30c8\\u30a6\\u30a7\\u30a2\\u66f4\\u65b0\\uff01NTT\\u30c9\\u30b3\\u30e2\\u306f17\\u65e5\\u3001\\u65b0\\u30b5\\u30fc\\u30d3\\u30b9\\u300c\\u30b9\\u30de\\u30fc\\u30c8\\u30d5\\u30a9\\u30f3\\u3042\\u3093\\u3057\\u3093\\u9060\\u9694\\u30b5\\u30dd\\u30fc\\u30c8\\u300d\\u306b\\u5bfe\\u5fdc\\u3057\\u3001\\u8584\\u30556.7mm\\u306e\\u30b9\\u30ea\\u30e0\\u30c7\\u30b6\\u30a4\\u30f3\\u3092\\u63a1\\u7528\\u3057\\u305f\\u201cMEDIAS\\u201d\\u30b7\\u30ea\\u30fc\\u30ba\\u6700\\u65b0\\u30e2\\u30c7\\u30eb\\u306eAndroid\\u30b9\\u30de\\u30fc\\u30c8\\u30d5\\u30a9\\u30f3\\u300cdocomo with series MEDIAS ES N-05D\\u300d\\uff08NEC\\u30ab\\u30b7\\u30aa\\u30e2\\u30d0\\u30a4\\u30eb\\u30b3\\u30df\\u30e5\\u30cb\\u30b1\\u30fc\\u30b7\\u30e7\\u30f3\\u30ba\\u88fd\\uff09\\u306b\\u304a\\u3044\\u3066\\u7279\\u5b9a\\u6761\\u4ef6\\u3067\\u30ab\\u30e1\\u30e9\\u304c\\u8d77\\u52d5\\u3067\\u304d\\u306a\\u3044\\u306a\\u3069\\u306e\\u4e0d\\u5177\\u5408\\u306a\\u3069\\u304c\\u898b\\u3064\\u304b\\u3063\\u305f\\u3068\\u3057\\u3066\\u30cd\\u30c3\\u30c8\\u30ef\\u30fc\\u30af\\u7d4c\\u7531\\u306b\\u3088\\u308b\\u672c\\u4f53\\u30d5\\u30a1\\u30fc\\u30e0\\u30a6\\u30a7\\u30a2\\u30a2\\u30c3\\u30d7\\u30c7\\u30fc\\u30c8\\u30b5\\u30fc\\u30d3\\u30b9\\u300c\\u30bd\\u30d5\\u30c8\\u30a6\\u30a7\\u30a2\\u66f4\\u65b0\\u300d\\u3092\\u63d0\\u4f9b\\u958b\\u59cb\\u3057\\u305f\\u3053\\u3068\\u3092\\u304a\\u77e5\\u3089\\u305b\\u3057\\u3066\\u3044\\u307e\\u3059\\u3002\\u4eca\\u56de\\u306e\\u66f4\\u65b0\\u3067\\u4fee\\u6b63\\u3055\\u308c\\u308b\\u4e0d\\u5177\\u5408\\u306f\\u4ee5\\u4e0b\\u306e2\\u70b9\\u3067\\u3059\\u3002MEDIAS ES N-05D\\u306e\\u30bd\\u30d5\\u30c8\\u30a6\\u30a7\\u30a2\\u66f4\\u65b0\\u306f\\u306f\\u3058\\u3081\\u3066\\u3067\\u3001\\u66f4\\u65b0\\u306b\\u304b\\u304b\\u308b\\u6642\\u9593\\u306f\\u7d047\\u5206\\u3002\\u66f4\\u65b0\\u671f\\u9593\\u306f2015\\u5e745\\u670831\\u65e5\\u307e\\u3067\\u3002\\u203b\\u4e0b\\u8a18\\u4ee5\\u5916\\u306b\\u3082\\u3001\\u3088\\u308a\\u5feb\\u9069\\u306b\\u3054\\u5229\\u7528\\u3044\\u305f\\u3060\\u304f\\u305f\\u3081\\u306e\\u66f4\\u65b0\\u3084\\u4e00\\u90e8\\u4ed5\\u69d8\\u304a\\u3088\\u3073\\u8868\\u793a\\u5909\\u66f4\\u306a\\u3069\\u304c\\u542b\\u307e\\u308c\\u3066\\u3044\\u307e\\u3059\\u3002\\u6539\\u5584\\u3055\\u308c\\u308b\\u4e8b\\u8c61\\u30fbBluetooth\\u63a5\\u7d9a\\u3092\\u5207\\u65ad\\u3057\\u305f\\u306b\\u3082\\u304b\\u304b\\u308f\\u3089\\u305a\\u3001\\u300c\\u5bfe\\u5fdc\\u6a5f\\u5668\\u63a5\\u7d9a\\u4e2d\\u300d\\u306e\\u753b\\u9762\\u8868\\u793a\\u304c\\u6d88\\u3048\\u306a\\u3044\\u5834\\u5408\\u304c\\u3042\\u308b\\u3002\\u30fb\\u7279\\u5b9a\\u6761\\u4ef6\\u306b\\u304a\\u3044\\u3066\\u3001\\u307e\\u308c\\u306b\\u30ab\\u30e1\\u30e9\\u304c\\u8d77\\u52d5\\u3067\\u304d\\u306a\\u3044\\u5834\\u5408\\u304c\\u3042\\u308b\\u3002\\u66f4\\u65b0\\u306f\\u3001\\u81ea\\u52d5\\u66f4\\u65b0\\u306b\\u5bfe\\u5fdc\\u3057\\u3066\\u304a\\u308a\\u3001\\u65b0\\u3057\\u3044\\u30bd\\u30d5\\u30c8\\u30a6\\u30a7\\u30a2\\u3092\\u81ea\\u52d5\\u3067\\u30c0\\u30a6\\u30f3\\u30ed\\u30fc\\u30c9\\u3057\\u3001\\u3042\\u3089\\u304b\\u3058\\u3081\\u8a2d\\u5b9a\\u3057\\u305f\\u6642\\u9593\\uff08\\u30c7\\u30d5\\u30a9\\u30eb\\u30c8\\u306f\\u5348\\u524d2\\u6642\\u301c\\u5348\\u524d4\\u6642\\uff09\\u306b\\u66f8\\u63db\\u3048\\u304c\\u884c\\u308f\\u308c\\u307e\\u3059\\u3002\\u307e\\u305f\\u3001\\u30db\\u30fc\\u30e0\\u753b\\u9762\\u306b\\u3066\\u300c\\u30e1\\u30cb\\u30e5\\u30fc\\u30dc\\u30bf\\u30f3\\u300d\\u21d2\\u300c\\u8a2d\\u5b9a\\u300d\\u21d2\\u300c\\u7aef\\u672b\\u60c5\\u5831\\u300d\\u21d2\\u300c\\u30bd\\u30d5\\u30c8\\u30a6\\u30a7\\u30a2\\u66f4\\u65b0\\u300d\\u3092\\u9078\\u629e\\u3057\\u3001\\u753b\\u9762\\u306e\\u6848\\u5185\\u306b\\u5f93\\u3063\\u3066\\u64cd\\u4f5c\\u3092\\u884c\\u3046\\u3053\\u3068\\u3067\\u3001\\u5373\\u6642\\u66f4\\u65b0\\u3082\\u53ef\\u80fd\\u3068\\u306a\\u3063\\u3066\\u3044\\u307e\\u3059\\u3002\\u8a73\\u3057\\u3044\\u64cd\\u4f5c\\u624b\\u9806\\u306f\\u300c\\u30bd\\u30d5\\u30c8\\u30a6\\u30a7\\u30a2\\u66f4\\u65b0 \\u7c21\\u6613\\u64cd\\u4f5c\\u624b\\u9806\\uff08MEDIAS ES N-05D\\uff09\\uff08PDF\\u5f62\\u5f0f\\uff1a249KB\\uff09\\u300d\\u3092\\u53c2\\u7167\\u3057\\u3066\\u4e0b\\u3055\\u3044\\u3002\\u30bd\\u30d5\\u30c8\\u30a6\\u30a7\\u30a2\\u66f4\\u65b0\\u3092\\u884c\\u3046\\u969b\\u306b\\u306f\\u3001\\u4ee5\\u4e0b\\u306e\\u6ce8\\u610f\\u70b9\\u304c\\u3042\\u308a\\u307e\\u3059\\u306e\\u3067\\u3001\\u3054\\u6ce8\\u610f\\u304f\\u3060\\u3055\\u3044\\u3002\\u30fb\\u30bd\\u30d5\\u30c8\\u30a6\\u30a7\\u30a2\\u66f4\\u65b0\\u4e2d\\u306f\\u96fb\\u6c60\\u30d1\\u30c3\\u30af\\u3092\\u5916\\u3055\\u306a\\u3044\\u3067\\u304f\\u3060\\u3055\\u3044\\u3002\\u66f4\\u65b0\\u306b\\u5931\\u6557\\u3059\\u308b\\u3053\\u3068\\u304c\\u3042\\u308a\\u307e\\u3059\\u3002\\u30fb\\u30bd\\u30d5\\u30c8\\u30a6\\u30a7\\u30a2\\u66f4\\u65b0\\u3092\\u884c\\u3046\\u969b\\u306f\\u3001\\u96fb\\u6c60\\u3092\\u30d5\\u30eb\\u5145\\u96fb\\u3057\\u3066\\u304a\\u3044\\u3066\\u304f\\u3060\\u3055\\u3044\\u3002\\u30fb\\u6b21\\u306e\\u5834\\u5408\\u306f\\u30bd\\u30d5\\u30c8\\u30a6\\u30a7\\u30a2\\u3092\\u66f4\\u65b0\\u3067\\u304d\\u307e\\u305b\\u3093\\u3002\\u30fb\\u901a\\u8a71\\u4e2d\\u30fb\\u570f\\u5916\\u306b\\u3044\\u308b\\u3068\\u304d\\u30fb\\u56fd\\u969b\\u30ed\\u30fc\\u30df\\u30f3\\u30b0\\u4e2d\\u30fb\\u6a5f\\u5185\\u30e2\\u30fc\\u30c9\\u4e2d\\u30fbWi-Fi\\u30cd\\u30c3\\u30c8\\u30ef\\u30fc\\u30af\\u3068\\u306e\\u63a5\\u7d9a\\u4e2d\\u30fbOS\\u30d0\\u30fc\\u30b8\\u30e7\\u30f3\\u30a2\\u30c3\\u30d7\\u4e2d\\u30fb\\u65e5\\u4ed8\\u30fb\\u6642\\u523b\\u3092\\u6b63\\u3057\\u304f\\u8a2d\\u5b9a\\u3057\\u3066\\u3044\\u306a\\u3044\\u3068\\u304d\\u30fb\\u30bd\\u30d5\\u30c8\\u30a6\\u30a7\\u30a2\\u66f4\\u65b0\\u306b\\u5fc5\\u8981\\u306a\\u96fb\\u6c60\\u6b8b\\u91cf\\u304c\\u306a\\u3044\\u3068\\u304d\\u30fb\\u30bd\\u30d5\\u30c8\\u30a6\\u30a7\\u30a2\\u66f4\\u65b0\\u306b\\u5fc5\\u8981\\u306a\\u7a7a\\u304d\\u5bb9\\u91cf\\u304c\\u5341\\u5206\\u3067\\u306a\\u3044\\u3068\\u304d\\u30fb\\u30bd\\u30d5\\u30c8\\u30a6\\u30a7\\u30a2\\u66f4\\u65b0\\uff08\\u30c0\\u30a6\\u30f3\\u30ed\\u30fc\\u30c9\\u3001\\u66f8\\u63db\\u3048\\uff09\\u306b\\u306f\\u6642\\u9593\\u304c\\u304b\\u304b\\u308b\\u3053\\u3068\\u304c\\u3042\\u308a\\u307e\\u3059\\u3002\\u30fb\\u30bd\\u30d5\\u30c8\\u30a6\\u30a7\\u30a2\\u66f4\\u65b0\\u4e2d\\u306f\\u3001\\u96fb\\u8a71\\u306e\\u767a\\u4fe1\\u3001\\u7740\\u4fe1\\u3001\\u5404\\u7a2e\\u901a\\u8a71\\u6a5f\\u80fd\\u304a\\u3088\\u3073\\u305d\\u306e\\u4ed6\\u306e\\u6a5f\\u80fd\\u3092\\u5229\\u7528\\u3059\\u308b\\u3053\\u3068\\u306f\\u3067\\u304d\\u307e\\u305b\\u3093\\uff08\\u30c0\\u30a6\\u30f3\\u30ed\\u30fc\\u30c9\\u4e2d\\u306f\\u97f3\\u58f0\\u7740\\u4fe1\\u304c\\u53ef\\u80fd\\u3067\\u3059\\uff09\\u3002\\u30fb\\u30bd\\u30d5\\u30c8\\u30a6\\u30a7\\u30a2\\u66f4\\u65b0\\u306f\\u3001\\u96fb\\u6ce2\\u304c\\u5f37\\u304f\\u3001\\u30a2\\u30f3\\u30c6\\u30ca\\u30de\\u30fc\\u30af\\u304c4\\u672c\\u8868\\u793a\\u3055\\u308c\\u3066\\u3044\\u308b\\u72b6\\u614b\\u3067\\u3001\\u79fb\\u52d5\\u305b\\u305a\\u306b\\u5b9f\\u884c\\u3059\\u308b\\u3053\\u3068\\u3092\\u304a\\u3059\\u3059\\u3081\\u3057\\u307e\\u3059\\u3002\\u30fb\\u30bd\\u30d5\\u30c8\\u30a6\\u30a7\\u30a2\\u30c0\\u30a6\\u30f3\\u30ed\\u30fc\\u30c9\\u4e2d\\u306b\\u96fb\\u6ce2\\u72b6\\u614b\\u304c\\u60aa\\u304f\\u306a\\u308a\\u3001\\u30c0\\u30a6\\u30f3\\u30ed\\u30fc\\u30c9\\u304c\\u4e2d\\u6b62\\u3055\\u308c\\u305f\\u5834\\u5408\\u306f\\u3001\\u518d\\u5ea6\\u96fb\\u6ce2\\u72b6\\u614b\\u306e\\u3088\\u3044\\u5834\\u6240\\u3067\\u30bd\\u30d5\\u30c8\\u30a6\\u30a7\\u30a2\\u66f4\\u65b0\\u3092\\u884c\\u3063\\u3066\\u304f\\u3060\\u3055\\u3044\\u3002\\u30fb\\u3059\\u3067\\u306b\\u30bd\\u30d5\\u30c8\\u30a6\\u30a7\\u30a2\\u66f4\\u65b0\\u6e08\\u307f\\u306e\\u5834\\u5408\\u306f\\u3001\\u30bd\\u30d5\\u30c8\\u30a6\\u30a7\\u30a2\\u66f4\\u65b0\\u306e\\u30c1\\u30a7\\u30c3\\u30af\\u3092\\u884c\\u3063\\u305f\\u969b\\u306b\\u300c\\u66f4\\u65b0\\u306e\\u5fc5\\u8981\\u306f\\u3042\\u308a\\u307e\\u305b\\u3093\\u3002\\u3053\\u306e\\u307e\\u307e\\u304a\\u4f7f\\u3044\\u304f\\u3060\\u3055\\u3044\\u3002\\u300d\\u3068\\u8868\\u793a\\u3055\\u308c\\u307e\\u3059\\u3002\\u30d0\\u30fc\\u30b8\\u30e7\\u30f3\\u306e\\u78ba\\u8a8d\\u65b9\\u6cd5\\u306e\\u624b\\u9806\\u3067\\u3054\\u78ba\\u8a8d\\u3044\\u305f\\u3060\\u304d\\u3001\\u300cA1001701\\u300d\\u3068\\u8868\\u793a\\u3055\\u308c\\u308c\\u3070\\u6700\\u65b0\\u306e\\u30bd\\u30d5\\u30c8\\u30a6\\u30a7\\u30a2\\u3067\\u3059\\u3002\\u30fb\\u30d0\\u30fc\\u30b8\\u30e7\\u30f3\\u306e\\u78ba\\u8a8d\\u65b9\\u6cd5\\u30fbMEDIAS ES N-05D\\u306e\\u5de6\\u4e0b\\u306e\\u300c\\u30e1\\u30cb\\u30e5\\u30fc\\u30dc\\u30bf\\u30f3\\u300d\\u2192\\u300c\\u8a2d\\u5b9a\\u300d\\u2192\\u300c\\u7aef\\u672b\\u60c5\\u5831\\u300d\\u2192\\u300c\\u30d3\\u30eb\\u30c9\\u756a\\u53f7\\u300d\\u30fb\\u30bd\\u30d5\\u30c8\\u30a6\\u30a7\\u30a2\\u66f4\\u65b0\\u4e2d\\u306b\\u9001\\u4fe1\\u3055\\u308c\\u3066\\u304d\\u305f\\u3001SMS\\u306fSMS\\u30bb\\u30f3\\u30bf\\u30fc\\u306b\\u4fdd\\u7ba1\\u3055\\u308c\\u307e\\u3059\\u3002\\u30fb\\u30bd\\u30d5\\u30c8\\u30a6\\u30a7\\u30a2\\u66f4\\u65b0\\u306e\\u969b\\u3001\\u304a\\u5ba2\\u69d8\\u306eMEDIAS ES N-05D\\u56fa\\u6709\\u306e\\u60c5\\u5831\\uff08\\u6a5f\\u7a2e\\u3084\\u88fd\\u9020\\u756a\\u53f7\\u306a\\u3069\\uff09\\u304c\\u3001\\u81ea\\u52d5\\u7684\\u306b\\u30b5\\u30fc\\u30d0\\u30fc\\uff08\\u5f53\\u793e\\u304c\\u7ba1\\u7406\\u3059\\u308b\\u30bd\\u30d5\\u30c8\\u30a6\\u30a7\\u30a2\\u66f4\\u65b0\\u7528\\u30b5\\u30fc\\u30d0\\u30fc\\uff09\\u306b\\u9001\\u4fe1\\u3055\\u308c\\u307e\\u3059\\u3002\\u5f53\\u793e\\u306f\\u9001\\u4fe1\\u3055\\u308c\\u305f\\u60c5\\u5831\\u3092\\u3001\\u30bd\\u30d5\\u30c8\\u30a6\\u30a7\\u30a2\\u66f4\\u65b0\\u4ee5\\u5916\\u306e\\u76ee\\u7684\\u306b\\u306f\\u5229\\u7528\\u3044\\u305f\\u3057\\u307e\\u305b\\u3093\\u3002\\u30fb\\u30bd\\u30d5\\u30c8\\u30a6\\u30a7\\u30a2\\u66f4\\u65b0\\u306b\\u5931\\u6557\\u3057\\u305f\\u5834\\u5408\\u3001\\u300c\\u66f8\\u63db\\u3048\\u5931\\u6557\\u3057\\u307e\\u3057\\u305f\\u300d\\u3068\\u8868\\u793a\\u3055\\u308c\\u3001\\u4e00\\u5207\\u306e\\u64cd\\u4f5c\\u304c\\u3067\\u304d\\u306a\\u304f\\u306a\\u308b\\u53ef\\u80fd\\u6027\\u304c\\u3042\\u308a\\u307e\\u3059\\u3002\\u305d\\u306e\\u5834\\u5408\\u306b\\u306f\\u3001\\u5927\\u5909\\u304a\\u624b\\u6570\\u3067\\u3059\\u304c\\u30c9\\u30b3\\u30e2\\u6307\\u5b9a\\u306e\\u6545\\u969c\\u53d6\\u6271\\u7a93\\u53e3\\u307e\\u3067\\u304a\\u8d8a\\u3057\\u3044\\u305f\\u3060\\u3051\\u307e\\u3059\\u3088\\u3046\\u304a\\u9858\\u3044\\u3044\\u305f\\u3057\\u307e\\u3059\\u3002\\u30fbPIN\\u30b3\\u30fc\\u30c9\\u304c\\u8a2d\\u5b9a\\u3055\\u308c\\u3066\\u3044\\u308b\\u3068\\u304d\\u306f\\u3001\\u66f8\\u304d\\u63db\\u3048\\u51e6\\u7406\\u5f8c\\u306e\\u518d\\u8d77\\u52d5\\u306e\\u9014\\u4e2d\\u306b\\u3066\\u3001PIN\\u30b3\\u30fc\\u30c9\\u3092\\u5165\\u529b\\u3059\\u308b\\u753b\\u9762\\u304c\\u8868\\u793a\\u3055\\u308c\\u3001PIN\\u30b3\\u30fc\\u30c9\\u3092\\u5165\\u529b\\u3059\\u308b\\u5fc5\\u8981\\u304c\\u3042\\u308a\\u307e\\u3059\\u3002\\u30fb\\u30bd\\u30d5\\u30c8\\u30a6\\u30a7\\u30a2\\u66f4\\u65b0\\u4e2d\\u306f\\u3001\\u4ed6\\u306e\\u30a2\\u30d7\\u30ea\\u30b1\\u30fc\\u30b7\\u30e7\\u30f3\\u3092\\u8d77\\u52d5\\u3057\\u306a\\u3044\\u3067\\u304f\\u3060\\u3055\\u3044\\u3002\\u8a18\\u4e8b\\u57f7\\u7b46\\uff1amemn0ck\\u25a0\\u95a2\\u9023\\u30ea\\u30f3\\u30af\\u30fb\\u30a8\\u30b9\\u30de\\u30c3\\u30af\\u30b9\\uff08S-MAX\\uff09\\u30fb\\u30a8\\u30b9\\u30de\\u30c3\\u30af\\u30b9\\uff08S-MAX\\uff09 smaxjp on Twitter\\u30fbMEDIAS ES N-05D\\u306e\\u88fd\\u54c1\\u30a2\\u30c3\\u30d7\\u30c7\\u30fc\\u30c8\\u60c5\\u5831 | \\u304a\\u5ba2\\u69d8\\u30b5\\u30dd\\u30fc\\u30c8 | NTT\\u30c9\\u30b3\\u30e2\",\n          \"\\u69d8\\u3005\\u306a\\u7a2e\\u985e\\u306e\\u732b\\u3068\\u6c17\\u8efd\\u306b\\u904a\\u3079\\u308b\\u300c\\u732b\\u30ab\\u30d5\\u30a7\\u300d\\u304c\\u65e5\\u672c\\u306b\\u767b\\u5834\\u3057\\u305f\\u306e\\u306f2004\\u5e74\\u3002\\u30da\\u30c3\\u30c8\\u30d6\\u30fc\\u30e0\\u306e\\u8ffd\\u3044\\u98a8\\u3092\\u53d7\\u3051\\u3001\\u5e97\\u8217\\u6570\\u306f\\u5897\\u52a0\\u30c8\\u30ec\\u30f3\\u30c9\\u306b\\u3042\\u308b\\u3002\\u7279\\u306b\\u304a\\u53f0\\u5834\\u306e\\u300c\\u732b\\u3060\\uff01\\u30ab\\u30d5\\u30a7\\u300d\\u306f\\u65e5\\u672c\\u6700\\u5927\\u7d1a(\\u7d04200\\u576a)\\u306e\\u30d7\\u30ec\\u30a4\\u30b9\\u30da\\u30fc\\u30b9\\u3092\\u5099\\u3048\\u3066\\u304a\\u308a\\u3001\\u732b\\u3068\\u3086\\u3063\\u305f\\u308a\\u904a\\u3079\\u308b\\u3053\\u3068\\u304b\\u3089\\u6570\\u3042\\u308b\\u732b\\u30ab\\u30d5\\u30a7\\u306e\\u306a\\u304b\\u3067\\u3082\\u4eba\\u6c17\\u306e\\u30b9\\u30dd\\u30c3\\u30c8\\u3060\\u3002\\u4eca\\u56de\\u30013D\\u6620\\u50cf\\u3092\\u300c\\u64ae\\u308b\\u300d\\u9762\\u767d\\u3055\\u3092\\u7814\\u7a76\\u3057\\u3066\\u3044\\u308b\\u300c\\u64ae\\u308b!3D MOVIE\\u7814\\u7a76\\u6240\\u300d\\u3067\\u306f\\u3001\\u305d\\u3093\\u306a\\u304a\\u53f0\\u5834\\u306e\\u300c\\u732b\\u3060\\uff01\\u30ab\\u30d5\\u30a7\\u300d\\u3067\\u64ae\\u5f71\\u3092\\u6562\\u884c\\u3057\\u305f\\u30023D\\u30d3\\u30c7\\u30aa\\u30ab\\u30e1\\u30e9\\u3067\\u732b\\u30ab\\u30d5\\u30a7\\u3092\\u6620\\u305b\\u3070\\u3001\\u3055\\u3082\\u5e97\\u5185\\u306b\\u3044\\u308b\\u304b\\u306e\\u3088\\u3046\\u306a\\u81e8\\u5834\\u611f\\u3092\\u5473\\u308f\\u3046\\u3053\\u3068\\u304c\\u3067\\u304d\\u308b\\u306e\\u3067\\u306f\\u306a\\u3044\\u304b\\u3001\\u3068\\u3044\\u3046\\u3053\\u3068\\u3067\\u5b9f\\u969b\\u306b\\u64ae\\u5f71\\u306b\\u30c1\\u30e3\\u30f3\\u30b8\\u3057\\u305f\\u3068\\u3044\\u3046\\u8a33\\u3060\\u3002\\u4eca\\u56de\\u64ae\\u5f71\\u306b\\u7528\\u3044\\u305f\\u306e\\u306fJVC\\u306e3D\\u30d3\\u30c7\\u30aa\\u30ab\\u30e1\\u30e9\\u300eGS-TD1\\u300f\\u3060\\u3002\\u3053\\u308c\\u307e\\u30673D\\u6620\\u50cf\\u3092\\u300c\\u898b\\u308b\\u3053\\u3068\\u306e\\u3067\\u304d\\u308b\\u300d\\u30c6\\u30ec\\u30d3\\u3084\\u6620\\u753b\\u306f\\u591a\\u3044\\u4e00\\u65b9\\u3001\\u300c\\u64ae\\u308b\\u3053\\u3068\\u306e\\u3067\\u304d\\u308b\\u300d\\u30d3\\u30c7\\u30aa\\u30ab\\u30e1\\u30e9\\u306f\\u5c11\\u306a\\u304b\\u3063\\u305f\\u304c\\u3001\\u300eGS-TD1\\u300f\\u306f\\u3072\\u3068\\u5473\\u9055\\u3046\\u3002\\u30cf\\u30a4\\u30d3\\u30b8\\u30e7\\u30f3\\u30e0\\u30fc\\u30d3\\u30fc\\u201cEverio \\uff08\\u30a8\\u30d6\\u30ea\\u30aa\\uff09\\u201d\\u30b7\\u30ea\\u30fc\\u30ba\\u306e3D\\u5bfe\\u5fdc\\u30e2\\u30c7\\u30eb\\u3067\\u3042\\u308b\\u300eGS-TD1\\u300f\\u306f\\u3001\\u624b\\u8efd\\u306b\\u30d5\\u30eb\\u30cf\\u30a4\\u30d3\\u30b8\\u30e7\\u30f3\\u30673D\\u6620\\u50cf\\u3092\\u64ae\\u308b\\u3053\\u3068\\u304c\\u3067\\u304d\\u308b\\u306e\\u3060\\u3002\\u300eGS-TD1\\u300f\\u306f\\u5199\\u771f\\u3068\\u52d5\\u753b\\u3001\\u4e21\\u65b9\\u306e3D\\u64ae\\u5f71\\u304c\\u53ef\\u80fd\\u3002\\u4eca\\u56de\\u306f\\u3001\\u307e\\u305a3D\\u5199\\u771f\\u3092\\u7d39\\u4ecb\\u3057\\u3001\\u6700\\u5f8c\\u306b\\u300cYouTube\\u300d\\u4e0a\\u30673D\\u6620\\u50cf\\u3092\\u7d39\\u4ecb\\u3057\\u3066\\u3044\\u308b\\u306e\\u3067\\u3001\\u5199\\u771f\\u3068\\u52d5\\u753b\\u3042\\u308f\\u305b\\u3066\\u3054\\u89a7\\u3044\\u305f\\u3060\\u304d\\u305f\\u3044\\u3002\\u6b21\\u306e\\u5199\\u771f\\u306f\\u3001\\u5168\\u3066\\u300eGS-TD1\\u300f\\u3067\\u64ae\\u5f71\\u3057\\u305f\\u3082\\u306e\\u3067\\u3001\\u4e0a\\u304c2D\\u5199\\u771f\\u3001\\u4e0b\\u304c3D\\u5199\\u771f\\u3060\\u30023D\\u5199\\u771f\\u306f\\u3001\\u5de6\\u53f3\\u304c\\u8d64\\u3068\\u9752\\u306e\\u300c3D\\u30e1\\u30ac\\u30cd\\u300d\\u3067\\u898b\\u308b\\u3053\\u3068\\u304c\\u3067\\u304d\\u308b\\u3002\\uff083D\\u30e1\\u30ac\\u30cd\\u306e\\u4f5c\\u308a\\u65b9\\u306f\\u3001\\u3053\\u3061\\u3089\\u306e\\u8a18\\u4e8b\\u3092\\u53c2\\u8003\\u306b\\uff09\\uff08\\u732b\\u30ab\\u30d5\\u30a7\\u306e\\u30d7\\u30ec\\u30a4\\u30eb\\u30fc\\u30e0\\u3067\\u3061\\u3087\\u3053\\u3093\\u3068\\u5ea7\\u308a\\u8fbc\\u3080\\u732b\\u3001\\u4e0a\\u304c2D\\u3001\\u4e0b\\u304c3D\\u5199\\u771f\\uff092D\\u3067\\u306f\\u6c17\\u3065\\u304d\\u3065\\u3089\\u3044\\u304c\\u30013D\\u3067\\u306f\\u624b\\u524d\\u306e\\u30cd\\u30b3\\u3068\\u753b\\u9762\\u5965\\u306e\\u6905\\u5b50\\u306a\\u3069\\u3068\\u306e\\u8ddd\\u96e2\\u306e\\u5bfe\\u6bd4\\u3092\\u5b9f\\u611f\\u3059\\u308b\\u3053\\u3068\\u304c\\u3067\\u304d\\u308b\\u3060\\u308d\\u3046\\u3002\\u732b\\u3068\\u540c\\u3058\\u304f\\u3089\\u3044\\u307e\\u3067\\u76ee\\u7dda\\u3092\\u4e0b\\u3052\\u3066\\u3001\\u5e8a\\u3092\\u9060\\u304f\\u307e\\u3067\\u64ae\\u5f71\\u3059\\u308b\\u3068\\u7acb\\u4f53\\u611f\\u304c\\u51fa\\u3084\\u3059\\u304f\\u306a\\u308b\\u3002\\uff08\\u7a7a\\u304d\\u7bb1\\u306b\\u6f5c\\u308a\\u8fbc\\u3080\\u732b\\u3068\\u3001\\u305d\\u306e\\u69d8\\u5b50\\u3092\\u7aba\\u3046\\u732b\\u3001\\u4e0a\\u304c2D\\u3001\\u4e0b\\u304c3D\\u5199\\u771f\\uff09\\u5199\\u771f\\u306e\\u7a7a\\u304d\\u7bb1\\u306e\\u3088\\u3046\\u306a\\u30b9\\u30af\\u30a8\\u30a2\\u306a\\u5f62\\u72b6\\u306e\\u3082\\u306e\\u306f3D\\u3067\\u898b\\u305f\\u6642\\u306b\\u7acb\\u4f53\\u7684\\u306b\\u611f\\u3058\\u3084\\u3059\\u3044\\u3088\\u3046\\u3060\\u3002\\u307e\\u305f\\u3001\\u4eba\\u7269\\u3092\\u524d\\u666f\\u306b\\u3057\\u3066\\u80a9\\u8d8a\\u3057\\u306b\\u64ae\\u5f71\\u3057\\u3066\\u3082\\u7acb\\u4f53\\u611f\\u3092\\u51fa\\u3057\\u3084\\u3059\\u3044\\u3002\\uff08\\u4eba\\u7269\\u306e\\u5f8c\\u308d\\u306b\\u3082\\u732b\\u304c\\u3044\\u308b\\u3002\\u4e0a\\u304c2D\\u3001\\u4e0b\\u304c3D\\u5199\\u771f\\uff09\\u30ab\\u30e1\\u30e9\\u3068\\u732b3\\u5339\\u306e\\u8ddd\\u96e2\\u304c\\u305d\\u308c\\u305e\\u308c\\u7570\\u306a\\u3063\\u3066\\u3044\\u308b\\u305f\\u3081\\u7acb\\u4f53\\u611f\\u304c\\u51fa\\u3066\\u3044\\u308b\\u3002\\u64ae\\u5f71\\u3059\\u308b\\u5bfe\\u8c61\\u3068\\u306e\\u8ddd\\u96e2\\u306f\\u30d0\\u30ea\\u30a8\\u30fc\\u30b7\\u30e7\\u30f3\\u304c\\u3042\\u3063\\u305f\\u65b9\\u304c\\u826f\\u3044\\u3088\\u3046\\u3060\\u3002\\uff08\\u540c\\u3058\\u65b9\\u5411\\u3092\\u898b\\u3064\\u3081\\u308b2\\u5339\\u306e\\u732b\\u3001\\u4e0a\\u304c2D\\u3001\\u4e0b\\u304c3D\\u5199\\u771f\\uff09\\u58c1\\u3084\\u5e8a\\u304b\\u3089\\u64ae\\u5f71\\u3059\\u308b\\u5bfe\\u8c61\\u306f\\u96e2\\u308c\\u3066\\u3044\\u308b\\u65b9\\u304c\\u7acb\\u4f53\\u611f\\u304c\\u3067\\u308b\\u3002\\u3053\\u306e\\u5199\\u771f\\u3067\\u306f\\u732b\\u306e\\u5ea7\\u3063\\u3066\\u3044\\u308b\\u6905\\u5b50\\u304c\\u305d\\u306e\\u5f79\\u5272\\u3092\\u62c5\\u3044\\u7acb\\u4f53\\u611f\\u3092\\u5f37\\u8abf\\u3057\\u3066\\u3044\\u308b\\u3002\\uff08\\u30c6\\u30fc\\u30d6\\u30eb\\u306b\\u5bdd\\u305d\\u3079\\u308b2\\u5339\\u306e\\u732b\\u3001\\u4e0a\\u304c2D\\u3001\\u4e0b\\u304c3D\\u5199\\u771f\\uff09\\u30c6\\u30fc\\u30d6\\u30eb\\u306e\\u4e0a\\u3082\\u3001\\u58c1\\u3084\\u5e8a\\u304b\\u3089\\u96e2\\u308c\\u3066\\u3044\\u308b\\u306e\\u3067\\u7acb\\u4f53\\u611f\\u304c\\u3067\\u3084\\u3059\\u3044\\u3002\\u4ee5\\u4e0a\\u304c\\u5199\\u771f\\u306b\\u3088\\u308b3D\\u3060\\u304c\\u3001\\u6b21\\u306e\\u300cYouTube\\u300d\\u306b\\u63b2\\u8f09\\u3057\\u305f\\u52d5\\u753b\\u3067\\u306f\\u3001\\u4fca\\u654f\\u306b\\u52d5\\u304d\\u56de\\u308b\\u732b\\u305f\\u3061\\u3092\\u64ae\\u5f71\\u3057\\u3066\\u3044\\u308b\\u306e\\u3067\\u305c\\u3072\\u3054\\u89a7\\u3044\\u305f\\u3060\\u304d\\u305f\\u3044\\u3002\\u203bBGM by\\u300cPresence of Music\\u300d\\u3053\\u308c\\u307e\\u3067\\u3001\\u300c\\u64ae\\u308b!3D MOVIE\\u7814\\u7a76\\u6240\\u300d\\u3067\\u306f\\u51683\\u56de\\u306b\\u6e21\\u308a\\u69d8\\u3005\\u306a\\u3082\\u306e\\u30923D\\u3067\\u64ae\\u5f71\\u3057\\u3066\\u304d\\u305f\\u304c\\u3001\\u7b2c1\\u56de\\u300c\\u7f8e\\u5973\\u3068\\u6a2a\\u6d5c\\u30c7\\u30fc\\u30c8\\u30b9\\u30dd\\u30c3\\u30c8\\u3092\\u64ae\\u3063\\u3066\\u307f\\u305f\\uff01\\u300d\\u3067\\u306f\\u9060\\u666f\\u304c\\u7279\\u306b\\u969b\\u7acb\\u3063\\u3066\\u7f8e\\u3057\\u304f\\u64ae\\u5f71\\u3067\\u304d\\u305f\\u3002\\u7b2c2\\u56de\\u300c\\u300eGS-TD1\\u300f\\u3067\\u68ee\\u4e0b\\u60a0\\u91cc\\u3055\\u3093\\u3092\\u64ae\\u5f71\\u3057\\u3066\\u307f\\u305f\\uff01\\u300d\\u3067\\u306f\\u3001\\u68ee\\u4e0b\\u3055\\u3093\\u306e\\u8feb\\u529b\\u6e80\\u70b9\\u306e\\u30dc\\u30c7\\u30a3\\u3092\\u3088\\u308a\\u9b45\\u529b\\u7684\\u306b\\u6620\\u3059\\u3053\\u3068\\u304c\\u3067\\u304d\\u305f\\u3002\\u305d\\u3057\\u3066\\u6700\\u7d42\\u56de\\u3068\\u306a\\u308b\\u4eca\\u56de\\u306f\\u3001\\u524d2\\u56de\\u306e\\u7814\\u7a76\\u7d50\\u679c\\u3092\\u8e0f\\u307e\\u3048\\u3001\\u732b\\u305f\\u3061\\u304c\\u3055\\u3082\\u76ee\\u306e\\u524d\\u3067\\u904a\\u3093\\u3067\\u3044\\u308b\\u304b\\u306e\\u3088\\u3046\\u306a\\u7acb\\u4f53\\u611f\\u3068\\u81e8\\u5834\\u611f\\u3092\\u3082\\u3063\\u305f\\u52d5\\u753b\\u304c\\u64ae\\u5f71\\u3067\\u304d\\u305f\\u3068\\u601d\\u3046\\u3002\\u3053\\u306e\\u3088\\u3046\\u306b\\u30013D\\u6620\\u50cf\\u306f\\u64ae\\u308b\\u5bfe\\u8c61\\u306b\\u3088\\u3063\\u3066\\u69d8\\u3005\\u306a\\u5473\\u308f\\u3044\\u3092\\u898b\\u305b\\u308b\\u3088\\u3046\\u3060\\u30023D\\u64ae\\u5f71\\u306f\\u3001\\u307e\\u3060\\u3053\\u308c\\u304b\\u3089\\u306e\\u30b8\\u30e3\\u30f3\\u30eb\\u3067\\u3042\\u308b\\u3082\\u306e\\u306e\\u3001\\u78ba\\u5b9f\\u306b\\u666e\\u53ca\\u3057\\u3066\\u3086\\u304f\\u3067\\u3042\\u308d\\u3046\\u30b8\\u30e3\\u30f3\\u30eb\\u3067\\u3082\\u3042\\u308b\\u3002\\u3055\\u3089\\u306b\\u4eca\\u306a\\u3089\\u3001Everio\\u300cGS-TD1\\u300d\\u30ad\\u30e3\\u30c3\\u30b7\\u30e5\\u30d0\\u30c3\\u30af\\u30ad\\u30e3\\u30f3\\u30da\\u30fc\\u30f3\\u3082\\u958b\\u50ac\\u4e2d\\u30022011\\u5e7411\\u670830\\u65e5\\u307e\\u3067\\u306b\\u8cfc\\u5165\\u3059\\u308b\\u3068\\u300115,000\\u5186\\u304c\\u30ad\\u30e3\\u30b7\\u30e5\\u30d0\\u30c3\\u30af\\u3055\\u308c\\u308b\\u3002\\u30ad\\u30e3\\u30f3\\u30da\\u30fc\\u30f3\\u306f\\u8cfc\\u5165\\u8005\\u5168\\u54e1\\u304c\\u5bfe\\u8c61\\u3068\\u306a\\u308a\\u3001\\u5546\\u54c1\\u30d0\\u30fc\\u30b3\\u30fc\\u30c9\\u306a\\u3069\\u306e\\u5fc5\\u8981\\u66f8\\u985e\\u3092\\u6dfb\\u4ed8\\u3059\\u308b\\u3060\\u3051\\u3067\\u5fdc\\u52df\\u3059\\u308b\\u3053\\u3068\\u304c\\u3067\\u304d\\u308b\\u3068\\u3044\\u3046\\u304b\\u3089\\u3001\\u5b9f\\u306b\\u304a\\u5f97\\u306a\\u30ad\\u30e3\\u30f3\\u30da\\u30fc\\u30f3\\u3060\\u3002\\u3053\\u308c\\u304b\\u3089\\u306e\\u5b63\\u7bc0\\u3001\\u30d3\\u30c7\\u30aa\\u30ab\\u30e1\\u30e9\\u306f\\u79cb\\u306e\\u884c\\u697d\\u3084\\u904b\\u52d5\\u4f1a\\u306a\\u3069\\u69d8\\u3005\\u306a\\u30b7\\u30fc\\u30f3\\u3067\\u91cd\\u5b9d\\u3059\\u308b\\u3002Everio\\u300cGS-TD1\\u300d\\u3067\\u5468\\u56f2\\u306b\\u5dee\\u3092\\u3064\\u3051\\u3001\\u4e00\\u6b69\\u9032\\u3093\\u3060\\u30c6\\u30af\\u30ce\\u30ed\\u30b8\\u30fc\\u306e3D\\u64ae\\u5f71\\u306b\\u3055\\u3063\\u305d\\u304f\\u30c1\\u30e3\\u30f3\\u30b8\\u3057\\u3066\\u307f\\u3066\\u306f\\u3044\\u304b\\u304c\\u3060\\u308d\\u3046\\u304b\\uff3b\\u8a73\\u3057\\u304f\\u306f\\u3053\\u3061\\u3089\\uff3d\\u4eca\\u56de\\u3067\\u300c\\u64ae\\u308b!3D MOVIE\\u7814\\u7a76\\u6240\\u300d\\u306f\\u6700\\u7d42\\u56de\\u3068\\u306a\\u308a\\u307e\\u3059\\u304c\\u3001\\u4eca\\u56de\\u306e\\u7279\\u96c6\\u4ee5\\u5916\\u306e3D\\u6620\\u50cf\\u306f\\u300cGS-TD1\\u30b9\\u30da\\u30b7\\u30e3\\u30eb\\u30b5\\u30a4\\u30c8\\u300d\\u3067\\u3082\\u3054\\u89a7\\u3044\\u305f\\u3060\\u3051\\u307e\\u3059\\u3002\\u3053\\u308c\\u307e\\u3067\\u3054\\u89a7\\u9802\\u304d\\u3042\\u308a\\u304c\\u3068\\u3046\\u3054\\u3056\\u3044\\u307e\\u3057\\u305f\\u3002\\u25a0\\u95a2\\u9023URL\\u30fb3D\\u30cf\\u30a4\\u30d3\\u30b8\\u30e7\\u30f3\\u30e0\\u30fc\\u30d3\\u30fc Everio GS-TD1 - \\u88fd\\u54c1\\u60c5\\u5831\\u30fbGS-TD1\\u30b9\\u30da\\u30b7\\u30e3\\u30eb\\u30b5\\u30a4\\u30c8\\u30fb\\u64ae\\u308b!3D MOVIE\\u7814\\u7a76\\u6240 - livedoorHOMME\\u7279\\u96c6\\u25a0\\u53d6\\u6750\\u5354\\u529b\\u30fb\\u732b\\u3060\\uff01\\u30ab\\u30d5\\u30a73D\\u30cf\\u30a4\\u30d3\\u30b8\\u30e7\\u30f3\\u30e0\\u30fc\\u30d3\\u30fc Everio GS-TD12\\u672c\\u306eF1.2\\u9ad8\\u89e3\\u50cf\\u5ea6\\u30ec\\u30f3\\u30ba\\u30682\\u3064\\u306e\\u9ad8\\u611f\\u5ea6B.S.I.CMOS\\u30bb\\u30f3\\u30b5\\u30fc\\u3092\\u642d\\u8f09\\u3057\\u305f\\u672c\\u683c\\uff12\\u773c3D\\u30cf\\u30a4\\u30d3\\u30b8\\u30e7\\u30f3\\u30e0\\u30fc\\u30d3\\u30fc\\u300c\\u30a8\\u30d6\\u30ea\\u30aa(Everio)\\u300dGS-TD1\\u3002\\u30fb\\u300c\\u30a8\\u30d6\\u30ea\\u30aa(Everio)\\u300dGS-TD1\\u88fd\\u54c1\\u60c5\\u5831\\u30fbGS-TD1\\u30b9\\u30da\\u30b7\\u30e3\\u30eb\\u30b5\\u30a4\\u30c8\"\n        ],\n        \"semantic_type\": \"\",\n        \"description\": \"\"\n      }\n    },\n    {\n      \"column\": \"label\",\n      \"properties\": {\n        \"dtype\": \"category\",\n        \"num_unique_values\": 9,\n        \"samples\": [\n          \"sports-watch\",\n          \"it-life-hack\",\n          \"peachy\"\n        ],\n        \"semantic_type\": \"\",\n        \"description\": \"\"\n      }\n    }\n  ]\n}"
            }
          },
          "metadata": {},
          "execution_count": 48
        }
      ]
    },
    {
      "cell_type": "code",
      "metadata": {
        "colab": {
          "base_uri": "https://localhost:8080/"
        },
        "id": "kB8p83xi02ck",
        "outputId": "57674257-9520-4de4-c9ef-63e039a7a08b"
      },
      "source": [
        "# カテゴリーの辞書を作成\n",
        "# 双方向：番号 ⇒ カテゴリー名，カテゴリー名 ⇒ 番号\n",
        "\n",
        "dic_id2cat = dict(zip(list(range(len(categories))), categories))\n",
        "dic_cat2id = dict(zip(categories, list(range(len(categories)))))\n",
        "\n",
        "print(dic_id2cat)\n",
        "print(dic_cat2id)\n"
      ],
      "execution_count": null,
      "outputs": [
        {
          "output_type": "stream",
          "name": "stdout",
          "text": [
            "{0: 'dokujo-tsushin', 1: 'it-life-hack', 2: 'kaden-channel', 3: 'livedoor-homme', 4: 'movie-enter', 5: 'peachy', 6: 'smax', 7: 'sports-watch', 8: 'topic-news'}\n",
            "{'dokujo-tsushin': 0, 'it-life-hack': 1, 'kaden-channel': 2, 'livedoor-homme': 3, 'movie-enter': 4, 'peachy': 5, 'smax': 6, 'sports-watch': 7, 'topic-news': 8}\n"
          ]
        }
      ]
    },
    {
      "cell_type": "code",
      "metadata": {
        "colab": {
          "base_uri": "https://localhost:8080/",
          "height": 226
        },
        "id": "gXETj1ZeoWlM",
        "outputId": "099008a2-a774-46b1-d9c8-0da112f01533"
      },
      "source": [
        "# DataFrameにカテゴリーindexの列を作成\n",
        "df[\"label_index\"] = df[\"label\"].map(dic_cat2id)\n",
        "df.head()\n",
        "\n",
        "# label列を消去し、text, indexの順番にする\n",
        "df = df.loc[:, [\"text\", \"label_index\"]]\n",
        "df.head()"
      ],
      "execution_count": null,
      "outputs": [
        {
          "output_type": "execute_result",
          "data": {
            "text/plain": [
              "                                                text  label_index\n",
              "0  もうすぐジューン・ブライドと呼ばれる６月。独女の中には自分の式はまだなのに呼ばれてばかり……...            0\n",
              "1  携帯電話が普及する以前、恋人への連絡ツールは一般電話が普通だった。恋人と別れたら、手帳に書か...            0\n",
              "2  「男性はやっぱり、女性の“すっぴん”が大好きなんですかね」と不満そうに話すのは、出版関係で働...            0\n",
              "3  ヒップの加齢による変化は「たわむ→下がる→内に流れる」、バストは「そげる→たわむ→外に流れる...            0\n",
              "4  6月から支給される子ども手当だが、当初は子ども一人当たり月額2万6000円が支給されるはずだ...            0"
            ],
            "text/html": [
              "\n",
              "  <div id=\"df-c35d644e-f3ce-4a13-afb6-9d8e5de94e9c\" class=\"colab-df-container\">\n",
              "    <div>\n",
              "<style scoped>\n",
              "    .dataframe tbody tr th:only-of-type {\n",
              "        vertical-align: middle;\n",
              "    }\n",
              "\n",
              "    .dataframe tbody tr th {\n",
              "        vertical-align: top;\n",
              "    }\n",
              "\n",
              "    .dataframe thead th {\n",
              "        text-align: right;\n",
              "    }\n",
              "</style>\n",
              "<table border=\"1\" class=\"dataframe\">\n",
              "  <thead>\n",
              "    <tr style=\"text-align: right;\">\n",
              "      <th></th>\n",
              "      <th>text</th>\n",
              "      <th>label_index</th>\n",
              "    </tr>\n",
              "  </thead>\n",
              "  <tbody>\n",
              "    <tr>\n",
              "      <th>0</th>\n",
              "      <td>もうすぐジューン・ブライドと呼ばれる６月。独女の中には自分の式はまだなのに呼ばれてばかり……...</td>\n",
              "      <td>0</td>\n",
              "    </tr>\n",
              "    <tr>\n",
              "      <th>1</th>\n",
              "      <td>携帯電話が普及する以前、恋人への連絡ツールは一般電話が普通だった。恋人と別れたら、手帳に書か...</td>\n",
              "      <td>0</td>\n",
              "    </tr>\n",
              "    <tr>\n",
              "      <th>2</th>\n",
              "      <td>「男性はやっぱり、女性の“すっぴん”が大好きなんですかね」と不満そうに話すのは、出版関係で働...</td>\n",
              "      <td>0</td>\n",
              "    </tr>\n",
              "    <tr>\n",
              "      <th>3</th>\n",
              "      <td>ヒップの加齢による変化は「たわむ→下がる→内に流れる」、バストは「そげる→たわむ→外に流れる...</td>\n",
              "      <td>0</td>\n",
              "    </tr>\n",
              "    <tr>\n",
              "      <th>4</th>\n",
              "      <td>6月から支給される子ども手当だが、当初は子ども一人当たり月額2万6000円が支給されるはずだ...</td>\n",
              "      <td>0</td>\n",
              "    </tr>\n",
              "  </tbody>\n",
              "</table>\n",
              "</div>\n",
              "    <div class=\"colab-df-buttons\">\n",
              "\n",
              "  <div class=\"colab-df-container\">\n",
              "    <button class=\"colab-df-convert\" onclick=\"convertToInteractive('df-c35d644e-f3ce-4a13-afb6-9d8e5de94e9c')\"\n",
              "            title=\"Convert this dataframe to an interactive table.\"\n",
              "            style=\"display:none;\">\n",
              "\n",
              "  <svg xmlns=\"http://www.w3.org/2000/svg\" height=\"24px\" viewBox=\"0 -960 960 960\">\n",
              "    <path d=\"M120-120v-720h720v720H120Zm60-500h600v-160H180v160Zm220 220h160v-160H400v160Zm0 220h160v-160H400v160ZM180-400h160v-160H180v160Zm440 0h160v-160H620v160ZM180-180h160v-160H180v160Zm440 0h160v-160H620v160Z\"/>\n",
              "  </svg>\n",
              "    </button>\n",
              "\n",
              "  <style>\n",
              "    .colab-df-container {\n",
              "      display:flex;\n",
              "      gap: 12px;\n",
              "    }\n",
              "\n",
              "    .colab-df-convert {\n",
              "      background-color: #E8F0FE;\n",
              "      border: none;\n",
              "      border-radius: 50%;\n",
              "      cursor: pointer;\n",
              "      display: none;\n",
              "      fill: #1967D2;\n",
              "      height: 32px;\n",
              "      padding: 0 0 0 0;\n",
              "      width: 32px;\n",
              "    }\n",
              "\n",
              "    .colab-df-convert:hover {\n",
              "      background-color: #E2EBFA;\n",
              "      box-shadow: 0px 1px 2px rgba(60, 64, 67, 0.3), 0px 1px 3px 1px rgba(60, 64, 67, 0.15);\n",
              "      fill: #174EA6;\n",
              "    }\n",
              "\n",
              "    .colab-df-buttons div {\n",
              "      margin-bottom: 4px;\n",
              "    }\n",
              "\n",
              "    [theme=dark] .colab-df-convert {\n",
              "      background-color: #3B4455;\n",
              "      fill: #D2E3FC;\n",
              "    }\n",
              "\n",
              "    [theme=dark] .colab-df-convert:hover {\n",
              "      background-color: #434B5C;\n",
              "      box-shadow: 0px 1px 3px 1px rgba(0, 0, 0, 0.15);\n",
              "      filter: drop-shadow(0px 1px 2px rgba(0, 0, 0, 0.3));\n",
              "      fill: #FFFFFF;\n",
              "    }\n",
              "  </style>\n",
              "\n",
              "    <script>\n",
              "      const buttonEl =\n",
              "        document.querySelector('#df-c35d644e-f3ce-4a13-afb6-9d8e5de94e9c button.colab-df-convert');\n",
              "      buttonEl.style.display =\n",
              "        google.colab.kernel.accessAllowed ? 'block' : 'none';\n",
              "\n",
              "      async function convertToInteractive(key) {\n",
              "        const element = document.querySelector('#df-c35d644e-f3ce-4a13-afb6-9d8e5de94e9c');\n",
              "        const dataTable =\n",
              "          await google.colab.kernel.invokeFunction('convertToInteractive',\n",
              "                                                    [key], {});\n",
              "        if (!dataTable) return;\n",
              "\n",
              "        const docLinkHtml = 'Like what you see? Visit the ' +\n",
              "          '<a target=\"_blank\" href=https://colab.research.google.com/notebooks/data_table.ipynb>data table notebook</a>'\n",
              "          + ' to learn more about interactive tables.';\n",
              "        element.innerHTML = '';\n",
              "        dataTable['output_type'] = 'display_data';\n",
              "        await google.colab.output.renderOutput(dataTable, element);\n",
              "        const docLink = document.createElement('div');\n",
              "        docLink.innerHTML = docLinkHtml;\n",
              "        element.appendChild(docLink);\n",
              "      }\n",
              "    </script>\n",
              "  </div>\n",
              "\n",
              "\n",
              "<div id=\"df-c1a2aee0-4c91-47fb-863b-baa65af5c169\">\n",
              "  <button class=\"colab-df-quickchart\" onclick=\"quickchart('df-c1a2aee0-4c91-47fb-863b-baa65af5c169')\"\n",
              "            title=\"Suggest charts\"\n",
              "            style=\"display:none;\">\n",
              "\n",
              "<svg xmlns=\"http://www.w3.org/2000/svg\" height=\"24px\"viewBox=\"0 0 24 24\"\n",
              "     width=\"24px\">\n",
              "    <g>\n",
              "        <path d=\"M19 3H5c-1.1 0-2 .9-2 2v14c0 1.1.9 2 2 2h14c1.1 0 2-.9 2-2V5c0-1.1-.9-2-2-2zM9 17H7v-7h2v7zm4 0h-2V7h2v10zm4 0h-2v-4h2v4z\"/>\n",
              "    </g>\n",
              "</svg>\n",
              "  </button>\n",
              "\n",
              "<style>\n",
              "  .colab-df-quickchart {\n",
              "      --bg-color: #E8F0FE;\n",
              "      --fill-color: #1967D2;\n",
              "      --hover-bg-color: #E2EBFA;\n",
              "      --hover-fill-color: #174EA6;\n",
              "      --disabled-fill-color: #AAA;\n",
              "      --disabled-bg-color: #DDD;\n",
              "  }\n",
              "\n",
              "  [theme=dark] .colab-df-quickchart {\n",
              "      --bg-color: #3B4455;\n",
              "      --fill-color: #D2E3FC;\n",
              "      --hover-bg-color: #434B5C;\n",
              "      --hover-fill-color: #FFFFFF;\n",
              "      --disabled-bg-color: #3B4455;\n",
              "      --disabled-fill-color: #666;\n",
              "  }\n",
              "\n",
              "  .colab-df-quickchart {\n",
              "    background-color: var(--bg-color);\n",
              "    border: none;\n",
              "    border-radius: 50%;\n",
              "    cursor: pointer;\n",
              "    display: none;\n",
              "    fill: var(--fill-color);\n",
              "    height: 32px;\n",
              "    padding: 0;\n",
              "    width: 32px;\n",
              "  }\n",
              "\n",
              "  .colab-df-quickchart:hover {\n",
              "    background-color: var(--hover-bg-color);\n",
              "    box-shadow: 0 1px 2px rgba(60, 64, 67, 0.3), 0 1px 3px 1px rgba(60, 64, 67, 0.15);\n",
              "    fill: var(--button-hover-fill-color);\n",
              "  }\n",
              "\n",
              "  .colab-df-quickchart-complete:disabled,\n",
              "  .colab-df-quickchart-complete:disabled:hover {\n",
              "    background-color: var(--disabled-bg-color);\n",
              "    fill: var(--disabled-fill-color);\n",
              "    box-shadow: none;\n",
              "  }\n",
              "\n",
              "  .colab-df-spinner {\n",
              "    border: 2px solid var(--fill-color);\n",
              "    border-color: transparent;\n",
              "    border-bottom-color: var(--fill-color);\n",
              "    animation:\n",
              "      spin 1s steps(1) infinite;\n",
              "  }\n",
              "\n",
              "  @keyframes spin {\n",
              "    0% {\n",
              "      border-color: transparent;\n",
              "      border-bottom-color: var(--fill-color);\n",
              "      border-left-color: var(--fill-color);\n",
              "    }\n",
              "    20% {\n",
              "      border-color: transparent;\n",
              "      border-left-color: var(--fill-color);\n",
              "      border-top-color: var(--fill-color);\n",
              "    }\n",
              "    30% {\n",
              "      border-color: transparent;\n",
              "      border-left-color: var(--fill-color);\n",
              "      border-top-color: var(--fill-color);\n",
              "      border-right-color: var(--fill-color);\n",
              "    }\n",
              "    40% {\n",
              "      border-color: transparent;\n",
              "      border-right-color: var(--fill-color);\n",
              "      border-top-color: var(--fill-color);\n",
              "    }\n",
              "    60% {\n",
              "      border-color: transparent;\n",
              "      border-right-color: var(--fill-color);\n",
              "    }\n",
              "    80% {\n",
              "      border-color: transparent;\n",
              "      border-right-color: var(--fill-color);\n",
              "      border-bottom-color: var(--fill-color);\n",
              "    }\n",
              "    90% {\n",
              "      border-color: transparent;\n",
              "      border-bottom-color: var(--fill-color);\n",
              "    }\n",
              "  }\n",
              "</style>\n",
              "\n",
              "  <script>\n",
              "    async function quickchart(key) {\n",
              "      const quickchartButtonEl =\n",
              "        document.querySelector('#' + key + ' button');\n",
              "      quickchartButtonEl.disabled = true;  // To prevent multiple clicks.\n",
              "      quickchartButtonEl.classList.add('colab-df-spinner');\n",
              "      try {\n",
              "        const charts = await google.colab.kernel.invokeFunction(\n",
              "            'suggestCharts', [key], {});\n",
              "      } catch (error) {\n",
              "        console.error('Error during call to suggestCharts:', error);\n",
              "      }\n",
              "      quickchartButtonEl.classList.remove('colab-df-spinner');\n",
              "      quickchartButtonEl.classList.add('colab-df-quickchart-complete');\n",
              "    }\n",
              "    (() => {\n",
              "      let quickchartButtonEl =\n",
              "        document.querySelector('#df-c1a2aee0-4c91-47fb-863b-baa65af5c169 button');\n",
              "      quickchartButtonEl.style.display =\n",
              "        google.colab.kernel.accessAllowed ? 'block' : 'none';\n",
              "    })();\n",
              "  </script>\n",
              "</div>\n",
              "\n",
              "    </div>\n",
              "  </div>\n"
            ],
            "application/vnd.google.colaboratory.intrinsic+json": {
              "type": "dataframe",
              "variable_name": "df",
              "summary": "{\n  \"name\": \"df\",\n  \"rows\": 7376,\n  \"fields\": [\n    {\n      \"column\": \"text\",\n      \"properties\": {\n        \"dtype\": \"string\",\n        \"num_unique_values\": 7368,\n        \"samples\": [\n          \"TBS\\u300cS1\\u300d\\uff0827\\u65e5\\u6df1\\u591c\\uff09\\u3067\\u306f\\u3001\\u5317\\u6d77\\u9053\\u65e5\\u672c\\u30cf\\u30e0\\u30d5\\u30a1\\u30a4\\u30bf\\u30fc\\u30ba\\u306e\\u30a8\\u30fc\\u30b9\\u30fb\\u30c0\\u30eb\\u30d3\\u30c3\\u30b7\\u30e5\\u6709\\u3068\\u3001\\u30d7\\u30ed\\u91ce\\u7403\\u89e3\\u8aac\\u8005\\u30fb\\u6851\\u7530\\u771f\\u6f84\\u6c0f\\u304c\\u5bfe\\u8ac7\\u3057\\u305f\\u69d8\\u5b50\\u3092\\u653e\\u9001\\u3057\\u305f\\u3002\\u300c\\uff08\\u4f53\\u91cd\\u306f\\uff09\\u53bb\\u5e74\\u306e\\u3053\\u306e\\u6642\\u671f\\u304b\\u308910\\u30ad\\u30ed\\u304f\\u3089\\u3044\\u9055\\u3044\\u307e\\u3059\\u306d\\u300d\\u3068\\u3001\\u8089\\u4f53\\u6539\\u9020\\u306b\\u3088\\u308b\\u30d1\\u30ef\\u30fc\\u30a2\\u30c3\\u30d7\\u306b\\u6210\\u529f\\u3057\\u3066\\u3044\\u308b\\u4eca\\u30b7\\u30fc\\u30ba\\u30f3\\u306e\\u30c0\\u30eb\\u30d3\\u30c3\\u30b7\\u30e5\\u3002\\u540c\\u3058\\u6295\\u624b\\u3067\\u3082\\u3042\\u308b\\u6851\\u7530\\u6c0f\\u304c\\u300c\\u898b\\u3066\\u3044\\u308b\\u9650\\u308a\\u3067\\u306f\\u3001\\u50d5\\u306a\\u3093\\u304b\\u306f10\\u30ad\\u30ed\\u5897\\u3048\\u305f\\u3089\\u52d5\\u3051\\u306a\\u3044\\u3068\\u601d\\u3046\\u3093\\u3067\\u3059\\u3051\\u3069\\u3001\\u920d\\u3044\\u3068\\u304b\\u8eab\\u4f53\\u304c\\u5207\\u308c\\u3066\\u306a\\u3044\\u3068\\u304b\\u5168\\u304f\\u306a\\u3044\\u3067\\u3059\\u3088\\u306d\\u300d\\u3068\\u5c0b\\u306d\\u308b\\u3068\\u3001\\u300c\\u306a\\u3044\\u3067\\u3059\\u306d\\u300d\\u3068\\u30ad\\u30c3\\u30d1\\u30ea\\u3002\\u300c\\u6295\\u3052\\u308b\\u306e\\u3082\\u305d\\u3046\\u3067\\u3059\\u3057\\u3001\\u7d30\\u304b\\u3044\\u52d5\\u304d\\u3092\\u3059\\u308b\\u306e\\u306b\\u3082\\u91cd\\u3055\\u3092\\u611f\\u3058\\u3066\\u3044\\u306a\\u3044\\u300d\\u3068\\u7d9a\\u3051\\u305f\\u3002\\u307e\\u305f\\u3001\\u5897\\u91cf\\u306e\\u88cf\\u5074\\u3092\\u8a9e\\u3063\\u305f\\u30c0\\u30eb\\u30d3\\u30c3\\u30b7\\u30e5\\u3002\\u300c\\u5f37\\u5ea6\\u3092\\u4e0a\\u3052\\u3066\\u3001\\u98df\\u4e8b\\u3082\\u5909\\u3048\\u3066\\u3001\\u30b5\\u30d7\\u30ea\\u30e1\\u30f3\\u30c8\\u3082\\u5909\\u3048\\u3066\\u3001\\u3057\\u3063\\u304b\\u308a\\u8eab\\u4f53\\u3092\\u5927\\u304d\\u304f\\u3057\\u3088\\u3046\\u3001\\u5f37\\u304f\\u3057\\u3088\\u3046\\u3063\\u3066\\u3044\\u3046\\u6c17\\u6301\\u3061\\u3067\\u3084\\u308a\\u307e\\u3057\\u305f\\u306d\\u3002\\u8db3\\u3082\\u901f\\u304f\\u306a\\u3044\\u3067\\u3059\\u3057\\u3001\\u30b8\\u30e3\\u30f3\\u30d7\\u529b\\u3082\\u305d\\u3093\\u306a\\u3042\\u308b\\u308f\\u3051\\u3067\\u306f\\u306a\\u3044\\u3002\\u30a2\\u30b9\\u30ea\\u30fc\\u30c8\\u3068\\u3057\\u3066\\u8eab\\u4f53\\u80fd\\u529b\\u304c\\u9ad8\\u3044\\u65b9\\u3067\\u306f\\u306a\\u3044\\u3067\\u3059\\u3051\\u3069\\u3001\\u91ce\\u7403\\u9078\\u624b\\u3067\\u3042\\u308b\\u524d\\u306b\\u30a2\\u30b9\\u30ea\\u30fc\\u30c8\\u306a\\u306e\\u3067\\u3001\\u305d\\u3053\\u3092\\u3057\\u3063\\u304b\\u308a\\u6574\\u5099\\u3057\\u3066\\u9ad8\\u3044\\u30ec\\u30d9\\u30eb\\u306b\\u6301\\u3063\\u3066\\u3044\\u304d\\u305f\\u3044\\u3002\\u91ce\\u7403\\u306e\\u6280\\u8853\\u4e91\\u3005\\u306e\\u524d\\u306b\\u3001\\u305d\\u3053\\u3092\\u3057\\u3063\\u304b\\u308a\\u3084\\u308a\\u305f\\u3044\\u300d\\u3068\\u9ad8\\u3044\\u5411\\u4e0a\\u5fc3\\u3092\\u8997\\u304b\\u305b\\u3064\\u3064\\u3001\\u300c\\u8eab\\u4f53\\u3092\\u5927\\u304d\\u304f\\u3059\\u308b\\u306b\\u306f\\u3001\\u98df\\u4e8b\\u3092\\u6442\\u3089\\u306a\\u304d\\u3083\\u3044\\u3051\\u306a\\u3044\\u3002\\u4e00\\u65e56\\u98df\\u3068\\u304b7\\u98df\\u3001\\u305d\\u306e\\u9593\\u306b\\u30d7\\u30ed\\u30c6\\u30a4\\u30f3\\u3068\\u304b\\u3082\\u4e00\\u65e55\\u30016\\u56de\\u6442\\u3063\\u3066\\u5e38\\u306b\\u5410\\u304d\\u305d\\u3046\\u306a\\u72b6\\u614b\\u3067\\u6bce\\u65e5\\u904e\\u3054\\u3057\\u3066\\u307e\\u3057\\u305f\\u300d\\u3068\\u6050\\u308b\\u3079\\u304d\\u98df\\u751f\\u6d3b\\u3082\\u660e\\u304b\\u3059\\u3002\\u3055\\u3089\\u306b\\u306f\\u3001\\u300c\\u307e\\u306010\\u30ad\\u30ed\\u5897\\u3048\\u3066\\u3082\\u5927\\u4e08\\u592b\\u3060\\u3068\\u601d\\u3044\\u307e\\u3059\\u3002105\\u3001106\\u304f\\u3089\\u3044\\u307e\\u3067\\u306f\\u6700\\u7d42\\u7684\\u306b\\u306f\\u3044\\u304d\\u305f\\u3044\\u304b\\u306a\\u3068\\u601d\\u3046\\u300d\\u3068\\u3044\\u3046\\u30c0\\u30eb\\u30d3\\u30c3\\u30b7\\u30e5\\u306f\\u3001\\u305d\\u306e\\u4ed6\\u306b\\u3082\\u3001\\u5909\\u5316\\u7403\\u306e\\u79d8\\u5bc6\\u3084\\u300c\\u672c\\u5f53\\u306b\\u4ef2\\u304c\\u826f\\u3044\\u300d\\u3068\\u8a9e\\u308b\\u658e\\u85e4\\u4f51\\u6a39\\u3068\\u306e\\u95a2\\u4fc2\\u306b\\u3064\\u3044\\u3066\\u7b54\\u3048\\u3001\\u5bfe\\u8ac7\\u306e\\u6700\\u5f8c\\u306b\\u81ea\\u8eab\\u306e\\u6700\\u7d42\\u76ee\\u6a19\\u3092\\u300c\\u76ee\\u6307\\u3057\\u3066\\u3044\\u308b\\u3068\\u3053\\u308d\\u306f\\u8ab0\\u3082\\u898b\\u305f\\u3053\\u3068\\u306e\\u306a\\u3044\\u30d4\\u30c3\\u30c1\\u30e3\\u30fc\\u3002\\u3060\\u304b\\u3089\\uff08\\u81ea\\u5206\\u306b\\u3082\\uff09\\u5206\\u304b\\u3089\\u306a\\u3044\\u3067\\u3059\\u3088\\u306d\\u3002\\u4eba\\u9593\\u306e\\u4e2d\\u3067\\u4e00\\u756a\\u300d\\u3068\\u58ee\\u5927\\u306a\\u30b4\\u30fc\\u30eb\\u3092\\u53e3\\u306b\\u3057\\u305f\\u3002\",\n          \"MEDIAS ES N-05D\\u306b\\u30bd\\u30d5\\u30c8\\u30a6\\u30a7\\u30a2\\u66f4\\u65b0\\uff01NTT\\u30c9\\u30b3\\u30e2\\u306f17\\u65e5\\u3001\\u65b0\\u30b5\\u30fc\\u30d3\\u30b9\\u300c\\u30b9\\u30de\\u30fc\\u30c8\\u30d5\\u30a9\\u30f3\\u3042\\u3093\\u3057\\u3093\\u9060\\u9694\\u30b5\\u30dd\\u30fc\\u30c8\\u300d\\u306b\\u5bfe\\u5fdc\\u3057\\u3001\\u8584\\u30556.7mm\\u306e\\u30b9\\u30ea\\u30e0\\u30c7\\u30b6\\u30a4\\u30f3\\u3092\\u63a1\\u7528\\u3057\\u305f\\u201cMEDIAS\\u201d\\u30b7\\u30ea\\u30fc\\u30ba\\u6700\\u65b0\\u30e2\\u30c7\\u30eb\\u306eAndroid\\u30b9\\u30de\\u30fc\\u30c8\\u30d5\\u30a9\\u30f3\\u300cdocomo with series MEDIAS ES N-05D\\u300d\\uff08NEC\\u30ab\\u30b7\\u30aa\\u30e2\\u30d0\\u30a4\\u30eb\\u30b3\\u30df\\u30e5\\u30cb\\u30b1\\u30fc\\u30b7\\u30e7\\u30f3\\u30ba\\u88fd\\uff09\\u306b\\u304a\\u3044\\u3066\\u7279\\u5b9a\\u6761\\u4ef6\\u3067\\u30ab\\u30e1\\u30e9\\u304c\\u8d77\\u52d5\\u3067\\u304d\\u306a\\u3044\\u306a\\u3069\\u306e\\u4e0d\\u5177\\u5408\\u306a\\u3069\\u304c\\u898b\\u3064\\u304b\\u3063\\u305f\\u3068\\u3057\\u3066\\u30cd\\u30c3\\u30c8\\u30ef\\u30fc\\u30af\\u7d4c\\u7531\\u306b\\u3088\\u308b\\u672c\\u4f53\\u30d5\\u30a1\\u30fc\\u30e0\\u30a6\\u30a7\\u30a2\\u30a2\\u30c3\\u30d7\\u30c7\\u30fc\\u30c8\\u30b5\\u30fc\\u30d3\\u30b9\\u300c\\u30bd\\u30d5\\u30c8\\u30a6\\u30a7\\u30a2\\u66f4\\u65b0\\u300d\\u3092\\u63d0\\u4f9b\\u958b\\u59cb\\u3057\\u305f\\u3053\\u3068\\u3092\\u304a\\u77e5\\u3089\\u305b\\u3057\\u3066\\u3044\\u307e\\u3059\\u3002\\u4eca\\u56de\\u306e\\u66f4\\u65b0\\u3067\\u4fee\\u6b63\\u3055\\u308c\\u308b\\u4e0d\\u5177\\u5408\\u306f\\u4ee5\\u4e0b\\u306e2\\u70b9\\u3067\\u3059\\u3002MEDIAS ES N-05D\\u306e\\u30bd\\u30d5\\u30c8\\u30a6\\u30a7\\u30a2\\u66f4\\u65b0\\u306f\\u306f\\u3058\\u3081\\u3066\\u3067\\u3001\\u66f4\\u65b0\\u306b\\u304b\\u304b\\u308b\\u6642\\u9593\\u306f\\u7d047\\u5206\\u3002\\u66f4\\u65b0\\u671f\\u9593\\u306f2015\\u5e745\\u670831\\u65e5\\u307e\\u3067\\u3002\\u203b\\u4e0b\\u8a18\\u4ee5\\u5916\\u306b\\u3082\\u3001\\u3088\\u308a\\u5feb\\u9069\\u306b\\u3054\\u5229\\u7528\\u3044\\u305f\\u3060\\u304f\\u305f\\u3081\\u306e\\u66f4\\u65b0\\u3084\\u4e00\\u90e8\\u4ed5\\u69d8\\u304a\\u3088\\u3073\\u8868\\u793a\\u5909\\u66f4\\u306a\\u3069\\u304c\\u542b\\u307e\\u308c\\u3066\\u3044\\u307e\\u3059\\u3002\\u6539\\u5584\\u3055\\u308c\\u308b\\u4e8b\\u8c61\\u30fbBluetooth\\u63a5\\u7d9a\\u3092\\u5207\\u65ad\\u3057\\u305f\\u306b\\u3082\\u304b\\u304b\\u308f\\u3089\\u305a\\u3001\\u300c\\u5bfe\\u5fdc\\u6a5f\\u5668\\u63a5\\u7d9a\\u4e2d\\u300d\\u306e\\u753b\\u9762\\u8868\\u793a\\u304c\\u6d88\\u3048\\u306a\\u3044\\u5834\\u5408\\u304c\\u3042\\u308b\\u3002\\u30fb\\u7279\\u5b9a\\u6761\\u4ef6\\u306b\\u304a\\u3044\\u3066\\u3001\\u307e\\u308c\\u306b\\u30ab\\u30e1\\u30e9\\u304c\\u8d77\\u52d5\\u3067\\u304d\\u306a\\u3044\\u5834\\u5408\\u304c\\u3042\\u308b\\u3002\\u66f4\\u65b0\\u306f\\u3001\\u81ea\\u52d5\\u66f4\\u65b0\\u306b\\u5bfe\\u5fdc\\u3057\\u3066\\u304a\\u308a\\u3001\\u65b0\\u3057\\u3044\\u30bd\\u30d5\\u30c8\\u30a6\\u30a7\\u30a2\\u3092\\u81ea\\u52d5\\u3067\\u30c0\\u30a6\\u30f3\\u30ed\\u30fc\\u30c9\\u3057\\u3001\\u3042\\u3089\\u304b\\u3058\\u3081\\u8a2d\\u5b9a\\u3057\\u305f\\u6642\\u9593\\uff08\\u30c7\\u30d5\\u30a9\\u30eb\\u30c8\\u306f\\u5348\\u524d2\\u6642\\u301c\\u5348\\u524d4\\u6642\\uff09\\u306b\\u66f8\\u63db\\u3048\\u304c\\u884c\\u308f\\u308c\\u307e\\u3059\\u3002\\u307e\\u305f\\u3001\\u30db\\u30fc\\u30e0\\u753b\\u9762\\u306b\\u3066\\u300c\\u30e1\\u30cb\\u30e5\\u30fc\\u30dc\\u30bf\\u30f3\\u300d\\u21d2\\u300c\\u8a2d\\u5b9a\\u300d\\u21d2\\u300c\\u7aef\\u672b\\u60c5\\u5831\\u300d\\u21d2\\u300c\\u30bd\\u30d5\\u30c8\\u30a6\\u30a7\\u30a2\\u66f4\\u65b0\\u300d\\u3092\\u9078\\u629e\\u3057\\u3001\\u753b\\u9762\\u306e\\u6848\\u5185\\u306b\\u5f93\\u3063\\u3066\\u64cd\\u4f5c\\u3092\\u884c\\u3046\\u3053\\u3068\\u3067\\u3001\\u5373\\u6642\\u66f4\\u65b0\\u3082\\u53ef\\u80fd\\u3068\\u306a\\u3063\\u3066\\u3044\\u307e\\u3059\\u3002\\u8a73\\u3057\\u3044\\u64cd\\u4f5c\\u624b\\u9806\\u306f\\u300c\\u30bd\\u30d5\\u30c8\\u30a6\\u30a7\\u30a2\\u66f4\\u65b0 \\u7c21\\u6613\\u64cd\\u4f5c\\u624b\\u9806\\uff08MEDIAS ES N-05D\\uff09\\uff08PDF\\u5f62\\u5f0f\\uff1a249KB\\uff09\\u300d\\u3092\\u53c2\\u7167\\u3057\\u3066\\u4e0b\\u3055\\u3044\\u3002\\u30bd\\u30d5\\u30c8\\u30a6\\u30a7\\u30a2\\u66f4\\u65b0\\u3092\\u884c\\u3046\\u969b\\u306b\\u306f\\u3001\\u4ee5\\u4e0b\\u306e\\u6ce8\\u610f\\u70b9\\u304c\\u3042\\u308a\\u307e\\u3059\\u306e\\u3067\\u3001\\u3054\\u6ce8\\u610f\\u304f\\u3060\\u3055\\u3044\\u3002\\u30fb\\u30bd\\u30d5\\u30c8\\u30a6\\u30a7\\u30a2\\u66f4\\u65b0\\u4e2d\\u306f\\u96fb\\u6c60\\u30d1\\u30c3\\u30af\\u3092\\u5916\\u3055\\u306a\\u3044\\u3067\\u304f\\u3060\\u3055\\u3044\\u3002\\u66f4\\u65b0\\u306b\\u5931\\u6557\\u3059\\u308b\\u3053\\u3068\\u304c\\u3042\\u308a\\u307e\\u3059\\u3002\\u30fb\\u30bd\\u30d5\\u30c8\\u30a6\\u30a7\\u30a2\\u66f4\\u65b0\\u3092\\u884c\\u3046\\u969b\\u306f\\u3001\\u96fb\\u6c60\\u3092\\u30d5\\u30eb\\u5145\\u96fb\\u3057\\u3066\\u304a\\u3044\\u3066\\u304f\\u3060\\u3055\\u3044\\u3002\\u30fb\\u6b21\\u306e\\u5834\\u5408\\u306f\\u30bd\\u30d5\\u30c8\\u30a6\\u30a7\\u30a2\\u3092\\u66f4\\u65b0\\u3067\\u304d\\u307e\\u305b\\u3093\\u3002\\u30fb\\u901a\\u8a71\\u4e2d\\u30fb\\u570f\\u5916\\u306b\\u3044\\u308b\\u3068\\u304d\\u30fb\\u56fd\\u969b\\u30ed\\u30fc\\u30df\\u30f3\\u30b0\\u4e2d\\u30fb\\u6a5f\\u5185\\u30e2\\u30fc\\u30c9\\u4e2d\\u30fbWi-Fi\\u30cd\\u30c3\\u30c8\\u30ef\\u30fc\\u30af\\u3068\\u306e\\u63a5\\u7d9a\\u4e2d\\u30fbOS\\u30d0\\u30fc\\u30b8\\u30e7\\u30f3\\u30a2\\u30c3\\u30d7\\u4e2d\\u30fb\\u65e5\\u4ed8\\u30fb\\u6642\\u523b\\u3092\\u6b63\\u3057\\u304f\\u8a2d\\u5b9a\\u3057\\u3066\\u3044\\u306a\\u3044\\u3068\\u304d\\u30fb\\u30bd\\u30d5\\u30c8\\u30a6\\u30a7\\u30a2\\u66f4\\u65b0\\u306b\\u5fc5\\u8981\\u306a\\u96fb\\u6c60\\u6b8b\\u91cf\\u304c\\u306a\\u3044\\u3068\\u304d\\u30fb\\u30bd\\u30d5\\u30c8\\u30a6\\u30a7\\u30a2\\u66f4\\u65b0\\u306b\\u5fc5\\u8981\\u306a\\u7a7a\\u304d\\u5bb9\\u91cf\\u304c\\u5341\\u5206\\u3067\\u306a\\u3044\\u3068\\u304d\\u30fb\\u30bd\\u30d5\\u30c8\\u30a6\\u30a7\\u30a2\\u66f4\\u65b0\\uff08\\u30c0\\u30a6\\u30f3\\u30ed\\u30fc\\u30c9\\u3001\\u66f8\\u63db\\u3048\\uff09\\u306b\\u306f\\u6642\\u9593\\u304c\\u304b\\u304b\\u308b\\u3053\\u3068\\u304c\\u3042\\u308a\\u307e\\u3059\\u3002\\u30fb\\u30bd\\u30d5\\u30c8\\u30a6\\u30a7\\u30a2\\u66f4\\u65b0\\u4e2d\\u306f\\u3001\\u96fb\\u8a71\\u306e\\u767a\\u4fe1\\u3001\\u7740\\u4fe1\\u3001\\u5404\\u7a2e\\u901a\\u8a71\\u6a5f\\u80fd\\u304a\\u3088\\u3073\\u305d\\u306e\\u4ed6\\u306e\\u6a5f\\u80fd\\u3092\\u5229\\u7528\\u3059\\u308b\\u3053\\u3068\\u306f\\u3067\\u304d\\u307e\\u305b\\u3093\\uff08\\u30c0\\u30a6\\u30f3\\u30ed\\u30fc\\u30c9\\u4e2d\\u306f\\u97f3\\u58f0\\u7740\\u4fe1\\u304c\\u53ef\\u80fd\\u3067\\u3059\\uff09\\u3002\\u30fb\\u30bd\\u30d5\\u30c8\\u30a6\\u30a7\\u30a2\\u66f4\\u65b0\\u306f\\u3001\\u96fb\\u6ce2\\u304c\\u5f37\\u304f\\u3001\\u30a2\\u30f3\\u30c6\\u30ca\\u30de\\u30fc\\u30af\\u304c4\\u672c\\u8868\\u793a\\u3055\\u308c\\u3066\\u3044\\u308b\\u72b6\\u614b\\u3067\\u3001\\u79fb\\u52d5\\u305b\\u305a\\u306b\\u5b9f\\u884c\\u3059\\u308b\\u3053\\u3068\\u3092\\u304a\\u3059\\u3059\\u3081\\u3057\\u307e\\u3059\\u3002\\u30fb\\u30bd\\u30d5\\u30c8\\u30a6\\u30a7\\u30a2\\u30c0\\u30a6\\u30f3\\u30ed\\u30fc\\u30c9\\u4e2d\\u306b\\u96fb\\u6ce2\\u72b6\\u614b\\u304c\\u60aa\\u304f\\u306a\\u308a\\u3001\\u30c0\\u30a6\\u30f3\\u30ed\\u30fc\\u30c9\\u304c\\u4e2d\\u6b62\\u3055\\u308c\\u305f\\u5834\\u5408\\u306f\\u3001\\u518d\\u5ea6\\u96fb\\u6ce2\\u72b6\\u614b\\u306e\\u3088\\u3044\\u5834\\u6240\\u3067\\u30bd\\u30d5\\u30c8\\u30a6\\u30a7\\u30a2\\u66f4\\u65b0\\u3092\\u884c\\u3063\\u3066\\u304f\\u3060\\u3055\\u3044\\u3002\\u30fb\\u3059\\u3067\\u306b\\u30bd\\u30d5\\u30c8\\u30a6\\u30a7\\u30a2\\u66f4\\u65b0\\u6e08\\u307f\\u306e\\u5834\\u5408\\u306f\\u3001\\u30bd\\u30d5\\u30c8\\u30a6\\u30a7\\u30a2\\u66f4\\u65b0\\u306e\\u30c1\\u30a7\\u30c3\\u30af\\u3092\\u884c\\u3063\\u305f\\u969b\\u306b\\u300c\\u66f4\\u65b0\\u306e\\u5fc5\\u8981\\u306f\\u3042\\u308a\\u307e\\u305b\\u3093\\u3002\\u3053\\u306e\\u307e\\u307e\\u304a\\u4f7f\\u3044\\u304f\\u3060\\u3055\\u3044\\u3002\\u300d\\u3068\\u8868\\u793a\\u3055\\u308c\\u307e\\u3059\\u3002\\u30d0\\u30fc\\u30b8\\u30e7\\u30f3\\u306e\\u78ba\\u8a8d\\u65b9\\u6cd5\\u306e\\u624b\\u9806\\u3067\\u3054\\u78ba\\u8a8d\\u3044\\u305f\\u3060\\u304d\\u3001\\u300cA1001701\\u300d\\u3068\\u8868\\u793a\\u3055\\u308c\\u308c\\u3070\\u6700\\u65b0\\u306e\\u30bd\\u30d5\\u30c8\\u30a6\\u30a7\\u30a2\\u3067\\u3059\\u3002\\u30fb\\u30d0\\u30fc\\u30b8\\u30e7\\u30f3\\u306e\\u78ba\\u8a8d\\u65b9\\u6cd5\\u30fbMEDIAS ES N-05D\\u306e\\u5de6\\u4e0b\\u306e\\u300c\\u30e1\\u30cb\\u30e5\\u30fc\\u30dc\\u30bf\\u30f3\\u300d\\u2192\\u300c\\u8a2d\\u5b9a\\u300d\\u2192\\u300c\\u7aef\\u672b\\u60c5\\u5831\\u300d\\u2192\\u300c\\u30d3\\u30eb\\u30c9\\u756a\\u53f7\\u300d\\u30fb\\u30bd\\u30d5\\u30c8\\u30a6\\u30a7\\u30a2\\u66f4\\u65b0\\u4e2d\\u306b\\u9001\\u4fe1\\u3055\\u308c\\u3066\\u304d\\u305f\\u3001SMS\\u306fSMS\\u30bb\\u30f3\\u30bf\\u30fc\\u306b\\u4fdd\\u7ba1\\u3055\\u308c\\u307e\\u3059\\u3002\\u30fb\\u30bd\\u30d5\\u30c8\\u30a6\\u30a7\\u30a2\\u66f4\\u65b0\\u306e\\u969b\\u3001\\u304a\\u5ba2\\u69d8\\u306eMEDIAS ES N-05D\\u56fa\\u6709\\u306e\\u60c5\\u5831\\uff08\\u6a5f\\u7a2e\\u3084\\u88fd\\u9020\\u756a\\u53f7\\u306a\\u3069\\uff09\\u304c\\u3001\\u81ea\\u52d5\\u7684\\u306b\\u30b5\\u30fc\\u30d0\\u30fc\\uff08\\u5f53\\u793e\\u304c\\u7ba1\\u7406\\u3059\\u308b\\u30bd\\u30d5\\u30c8\\u30a6\\u30a7\\u30a2\\u66f4\\u65b0\\u7528\\u30b5\\u30fc\\u30d0\\u30fc\\uff09\\u306b\\u9001\\u4fe1\\u3055\\u308c\\u307e\\u3059\\u3002\\u5f53\\u793e\\u306f\\u9001\\u4fe1\\u3055\\u308c\\u305f\\u60c5\\u5831\\u3092\\u3001\\u30bd\\u30d5\\u30c8\\u30a6\\u30a7\\u30a2\\u66f4\\u65b0\\u4ee5\\u5916\\u306e\\u76ee\\u7684\\u306b\\u306f\\u5229\\u7528\\u3044\\u305f\\u3057\\u307e\\u305b\\u3093\\u3002\\u30fb\\u30bd\\u30d5\\u30c8\\u30a6\\u30a7\\u30a2\\u66f4\\u65b0\\u306b\\u5931\\u6557\\u3057\\u305f\\u5834\\u5408\\u3001\\u300c\\u66f8\\u63db\\u3048\\u5931\\u6557\\u3057\\u307e\\u3057\\u305f\\u300d\\u3068\\u8868\\u793a\\u3055\\u308c\\u3001\\u4e00\\u5207\\u306e\\u64cd\\u4f5c\\u304c\\u3067\\u304d\\u306a\\u304f\\u306a\\u308b\\u53ef\\u80fd\\u6027\\u304c\\u3042\\u308a\\u307e\\u3059\\u3002\\u305d\\u306e\\u5834\\u5408\\u306b\\u306f\\u3001\\u5927\\u5909\\u304a\\u624b\\u6570\\u3067\\u3059\\u304c\\u30c9\\u30b3\\u30e2\\u6307\\u5b9a\\u306e\\u6545\\u969c\\u53d6\\u6271\\u7a93\\u53e3\\u307e\\u3067\\u304a\\u8d8a\\u3057\\u3044\\u305f\\u3060\\u3051\\u307e\\u3059\\u3088\\u3046\\u304a\\u9858\\u3044\\u3044\\u305f\\u3057\\u307e\\u3059\\u3002\\u30fbPIN\\u30b3\\u30fc\\u30c9\\u304c\\u8a2d\\u5b9a\\u3055\\u308c\\u3066\\u3044\\u308b\\u3068\\u304d\\u306f\\u3001\\u66f8\\u304d\\u63db\\u3048\\u51e6\\u7406\\u5f8c\\u306e\\u518d\\u8d77\\u52d5\\u306e\\u9014\\u4e2d\\u306b\\u3066\\u3001PIN\\u30b3\\u30fc\\u30c9\\u3092\\u5165\\u529b\\u3059\\u308b\\u753b\\u9762\\u304c\\u8868\\u793a\\u3055\\u308c\\u3001PIN\\u30b3\\u30fc\\u30c9\\u3092\\u5165\\u529b\\u3059\\u308b\\u5fc5\\u8981\\u304c\\u3042\\u308a\\u307e\\u3059\\u3002\\u30fb\\u30bd\\u30d5\\u30c8\\u30a6\\u30a7\\u30a2\\u66f4\\u65b0\\u4e2d\\u306f\\u3001\\u4ed6\\u306e\\u30a2\\u30d7\\u30ea\\u30b1\\u30fc\\u30b7\\u30e7\\u30f3\\u3092\\u8d77\\u52d5\\u3057\\u306a\\u3044\\u3067\\u304f\\u3060\\u3055\\u3044\\u3002\\u8a18\\u4e8b\\u57f7\\u7b46\\uff1amemn0ck\\u25a0\\u95a2\\u9023\\u30ea\\u30f3\\u30af\\u30fb\\u30a8\\u30b9\\u30de\\u30c3\\u30af\\u30b9\\uff08S-MAX\\uff09\\u30fb\\u30a8\\u30b9\\u30de\\u30c3\\u30af\\u30b9\\uff08S-MAX\\uff09 smaxjp on Twitter\\u30fbMEDIAS ES N-05D\\u306e\\u88fd\\u54c1\\u30a2\\u30c3\\u30d7\\u30c7\\u30fc\\u30c8\\u60c5\\u5831 | \\u304a\\u5ba2\\u69d8\\u30b5\\u30dd\\u30fc\\u30c8 | NTT\\u30c9\\u30b3\\u30e2\",\n          \"\\u69d8\\u3005\\u306a\\u7a2e\\u985e\\u306e\\u732b\\u3068\\u6c17\\u8efd\\u306b\\u904a\\u3079\\u308b\\u300c\\u732b\\u30ab\\u30d5\\u30a7\\u300d\\u304c\\u65e5\\u672c\\u306b\\u767b\\u5834\\u3057\\u305f\\u306e\\u306f2004\\u5e74\\u3002\\u30da\\u30c3\\u30c8\\u30d6\\u30fc\\u30e0\\u306e\\u8ffd\\u3044\\u98a8\\u3092\\u53d7\\u3051\\u3001\\u5e97\\u8217\\u6570\\u306f\\u5897\\u52a0\\u30c8\\u30ec\\u30f3\\u30c9\\u306b\\u3042\\u308b\\u3002\\u7279\\u306b\\u304a\\u53f0\\u5834\\u306e\\u300c\\u732b\\u3060\\uff01\\u30ab\\u30d5\\u30a7\\u300d\\u306f\\u65e5\\u672c\\u6700\\u5927\\u7d1a(\\u7d04200\\u576a)\\u306e\\u30d7\\u30ec\\u30a4\\u30b9\\u30da\\u30fc\\u30b9\\u3092\\u5099\\u3048\\u3066\\u304a\\u308a\\u3001\\u732b\\u3068\\u3086\\u3063\\u305f\\u308a\\u904a\\u3079\\u308b\\u3053\\u3068\\u304b\\u3089\\u6570\\u3042\\u308b\\u732b\\u30ab\\u30d5\\u30a7\\u306e\\u306a\\u304b\\u3067\\u3082\\u4eba\\u6c17\\u306e\\u30b9\\u30dd\\u30c3\\u30c8\\u3060\\u3002\\u4eca\\u56de\\u30013D\\u6620\\u50cf\\u3092\\u300c\\u64ae\\u308b\\u300d\\u9762\\u767d\\u3055\\u3092\\u7814\\u7a76\\u3057\\u3066\\u3044\\u308b\\u300c\\u64ae\\u308b!3D MOVIE\\u7814\\u7a76\\u6240\\u300d\\u3067\\u306f\\u3001\\u305d\\u3093\\u306a\\u304a\\u53f0\\u5834\\u306e\\u300c\\u732b\\u3060\\uff01\\u30ab\\u30d5\\u30a7\\u300d\\u3067\\u64ae\\u5f71\\u3092\\u6562\\u884c\\u3057\\u305f\\u30023D\\u30d3\\u30c7\\u30aa\\u30ab\\u30e1\\u30e9\\u3067\\u732b\\u30ab\\u30d5\\u30a7\\u3092\\u6620\\u305b\\u3070\\u3001\\u3055\\u3082\\u5e97\\u5185\\u306b\\u3044\\u308b\\u304b\\u306e\\u3088\\u3046\\u306a\\u81e8\\u5834\\u611f\\u3092\\u5473\\u308f\\u3046\\u3053\\u3068\\u304c\\u3067\\u304d\\u308b\\u306e\\u3067\\u306f\\u306a\\u3044\\u304b\\u3001\\u3068\\u3044\\u3046\\u3053\\u3068\\u3067\\u5b9f\\u969b\\u306b\\u64ae\\u5f71\\u306b\\u30c1\\u30e3\\u30f3\\u30b8\\u3057\\u305f\\u3068\\u3044\\u3046\\u8a33\\u3060\\u3002\\u4eca\\u56de\\u64ae\\u5f71\\u306b\\u7528\\u3044\\u305f\\u306e\\u306fJVC\\u306e3D\\u30d3\\u30c7\\u30aa\\u30ab\\u30e1\\u30e9\\u300eGS-TD1\\u300f\\u3060\\u3002\\u3053\\u308c\\u307e\\u30673D\\u6620\\u50cf\\u3092\\u300c\\u898b\\u308b\\u3053\\u3068\\u306e\\u3067\\u304d\\u308b\\u300d\\u30c6\\u30ec\\u30d3\\u3084\\u6620\\u753b\\u306f\\u591a\\u3044\\u4e00\\u65b9\\u3001\\u300c\\u64ae\\u308b\\u3053\\u3068\\u306e\\u3067\\u304d\\u308b\\u300d\\u30d3\\u30c7\\u30aa\\u30ab\\u30e1\\u30e9\\u306f\\u5c11\\u306a\\u304b\\u3063\\u305f\\u304c\\u3001\\u300eGS-TD1\\u300f\\u306f\\u3072\\u3068\\u5473\\u9055\\u3046\\u3002\\u30cf\\u30a4\\u30d3\\u30b8\\u30e7\\u30f3\\u30e0\\u30fc\\u30d3\\u30fc\\u201cEverio \\uff08\\u30a8\\u30d6\\u30ea\\u30aa\\uff09\\u201d\\u30b7\\u30ea\\u30fc\\u30ba\\u306e3D\\u5bfe\\u5fdc\\u30e2\\u30c7\\u30eb\\u3067\\u3042\\u308b\\u300eGS-TD1\\u300f\\u306f\\u3001\\u624b\\u8efd\\u306b\\u30d5\\u30eb\\u30cf\\u30a4\\u30d3\\u30b8\\u30e7\\u30f3\\u30673D\\u6620\\u50cf\\u3092\\u64ae\\u308b\\u3053\\u3068\\u304c\\u3067\\u304d\\u308b\\u306e\\u3060\\u3002\\u300eGS-TD1\\u300f\\u306f\\u5199\\u771f\\u3068\\u52d5\\u753b\\u3001\\u4e21\\u65b9\\u306e3D\\u64ae\\u5f71\\u304c\\u53ef\\u80fd\\u3002\\u4eca\\u56de\\u306f\\u3001\\u307e\\u305a3D\\u5199\\u771f\\u3092\\u7d39\\u4ecb\\u3057\\u3001\\u6700\\u5f8c\\u306b\\u300cYouTube\\u300d\\u4e0a\\u30673D\\u6620\\u50cf\\u3092\\u7d39\\u4ecb\\u3057\\u3066\\u3044\\u308b\\u306e\\u3067\\u3001\\u5199\\u771f\\u3068\\u52d5\\u753b\\u3042\\u308f\\u305b\\u3066\\u3054\\u89a7\\u3044\\u305f\\u3060\\u304d\\u305f\\u3044\\u3002\\u6b21\\u306e\\u5199\\u771f\\u306f\\u3001\\u5168\\u3066\\u300eGS-TD1\\u300f\\u3067\\u64ae\\u5f71\\u3057\\u305f\\u3082\\u306e\\u3067\\u3001\\u4e0a\\u304c2D\\u5199\\u771f\\u3001\\u4e0b\\u304c3D\\u5199\\u771f\\u3060\\u30023D\\u5199\\u771f\\u306f\\u3001\\u5de6\\u53f3\\u304c\\u8d64\\u3068\\u9752\\u306e\\u300c3D\\u30e1\\u30ac\\u30cd\\u300d\\u3067\\u898b\\u308b\\u3053\\u3068\\u304c\\u3067\\u304d\\u308b\\u3002\\uff083D\\u30e1\\u30ac\\u30cd\\u306e\\u4f5c\\u308a\\u65b9\\u306f\\u3001\\u3053\\u3061\\u3089\\u306e\\u8a18\\u4e8b\\u3092\\u53c2\\u8003\\u306b\\uff09\\uff08\\u732b\\u30ab\\u30d5\\u30a7\\u306e\\u30d7\\u30ec\\u30a4\\u30eb\\u30fc\\u30e0\\u3067\\u3061\\u3087\\u3053\\u3093\\u3068\\u5ea7\\u308a\\u8fbc\\u3080\\u732b\\u3001\\u4e0a\\u304c2D\\u3001\\u4e0b\\u304c3D\\u5199\\u771f\\uff092D\\u3067\\u306f\\u6c17\\u3065\\u304d\\u3065\\u3089\\u3044\\u304c\\u30013D\\u3067\\u306f\\u624b\\u524d\\u306e\\u30cd\\u30b3\\u3068\\u753b\\u9762\\u5965\\u306e\\u6905\\u5b50\\u306a\\u3069\\u3068\\u306e\\u8ddd\\u96e2\\u306e\\u5bfe\\u6bd4\\u3092\\u5b9f\\u611f\\u3059\\u308b\\u3053\\u3068\\u304c\\u3067\\u304d\\u308b\\u3060\\u308d\\u3046\\u3002\\u732b\\u3068\\u540c\\u3058\\u304f\\u3089\\u3044\\u307e\\u3067\\u76ee\\u7dda\\u3092\\u4e0b\\u3052\\u3066\\u3001\\u5e8a\\u3092\\u9060\\u304f\\u307e\\u3067\\u64ae\\u5f71\\u3059\\u308b\\u3068\\u7acb\\u4f53\\u611f\\u304c\\u51fa\\u3084\\u3059\\u304f\\u306a\\u308b\\u3002\\uff08\\u7a7a\\u304d\\u7bb1\\u306b\\u6f5c\\u308a\\u8fbc\\u3080\\u732b\\u3068\\u3001\\u305d\\u306e\\u69d8\\u5b50\\u3092\\u7aba\\u3046\\u732b\\u3001\\u4e0a\\u304c2D\\u3001\\u4e0b\\u304c3D\\u5199\\u771f\\uff09\\u5199\\u771f\\u306e\\u7a7a\\u304d\\u7bb1\\u306e\\u3088\\u3046\\u306a\\u30b9\\u30af\\u30a8\\u30a2\\u306a\\u5f62\\u72b6\\u306e\\u3082\\u306e\\u306f3D\\u3067\\u898b\\u305f\\u6642\\u306b\\u7acb\\u4f53\\u7684\\u306b\\u611f\\u3058\\u3084\\u3059\\u3044\\u3088\\u3046\\u3060\\u3002\\u307e\\u305f\\u3001\\u4eba\\u7269\\u3092\\u524d\\u666f\\u306b\\u3057\\u3066\\u80a9\\u8d8a\\u3057\\u306b\\u64ae\\u5f71\\u3057\\u3066\\u3082\\u7acb\\u4f53\\u611f\\u3092\\u51fa\\u3057\\u3084\\u3059\\u3044\\u3002\\uff08\\u4eba\\u7269\\u306e\\u5f8c\\u308d\\u306b\\u3082\\u732b\\u304c\\u3044\\u308b\\u3002\\u4e0a\\u304c2D\\u3001\\u4e0b\\u304c3D\\u5199\\u771f\\uff09\\u30ab\\u30e1\\u30e9\\u3068\\u732b3\\u5339\\u306e\\u8ddd\\u96e2\\u304c\\u305d\\u308c\\u305e\\u308c\\u7570\\u306a\\u3063\\u3066\\u3044\\u308b\\u305f\\u3081\\u7acb\\u4f53\\u611f\\u304c\\u51fa\\u3066\\u3044\\u308b\\u3002\\u64ae\\u5f71\\u3059\\u308b\\u5bfe\\u8c61\\u3068\\u306e\\u8ddd\\u96e2\\u306f\\u30d0\\u30ea\\u30a8\\u30fc\\u30b7\\u30e7\\u30f3\\u304c\\u3042\\u3063\\u305f\\u65b9\\u304c\\u826f\\u3044\\u3088\\u3046\\u3060\\u3002\\uff08\\u540c\\u3058\\u65b9\\u5411\\u3092\\u898b\\u3064\\u3081\\u308b2\\u5339\\u306e\\u732b\\u3001\\u4e0a\\u304c2D\\u3001\\u4e0b\\u304c3D\\u5199\\u771f\\uff09\\u58c1\\u3084\\u5e8a\\u304b\\u3089\\u64ae\\u5f71\\u3059\\u308b\\u5bfe\\u8c61\\u306f\\u96e2\\u308c\\u3066\\u3044\\u308b\\u65b9\\u304c\\u7acb\\u4f53\\u611f\\u304c\\u3067\\u308b\\u3002\\u3053\\u306e\\u5199\\u771f\\u3067\\u306f\\u732b\\u306e\\u5ea7\\u3063\\u3066\\u3044\\u308b\\u6905\\u5b50\\u304c\\u305d\\u306e\\u5f79\\u5272\\u3092\\u62c5\\u3044\\u7acb\\u4f53\\u611f\\u3092\\u5f37\\u8abf\\u3057\\u3066\\u3044\\u308b\\u3002\\uff08\\u30c6\\u30fc\\u30d6\\u30eb\\u306b\\u5bdd\\u305d\\u3079\\u308b2\\u5339\\u306e\\u732b\\u3001\\u4e0a\\u304c2D\\u3001\\u4e0b\\u304c3D\\u5199\\u771f\\uff09\\u30c6\\u30fc\\u30d6\\u30eb\\u306e\\u4e0a\\u3082\\u3001\\u58c1\\u3084\\u5e8a\\u304b\\u3089\\u96e2\\u308c\\u3066\\u3044\\u308b\\u306e\\u3067\\u7acb\\u4f53\\u611f\\u304c\\u3067\\u3084\\u3059\\u3044\\u3002\\u4ee5\\u4e0a\\u304c\\u5199\\u771f\\u306b\\u3088\\u308b3D\\u3060\\u304c\\u3001\\u6b21\\u306e\\u300cYouTube\\u300d\\u306b\\u63b2\\u8f09\\u3057\\u305f\\u52d5\\u753b\\u3067\\u306f\\u3001\\u4fca\\u654f\\u306b\\u52d5\\u304d\\u56de\\u308b\\u732b\\u305f\\u3061\\u3092\\u64ae\\u5f71\\u3057\\u3066\\u3044\\u308b\\u306e\\u3067\\u305c\\u3072\\u3054\\u89a7\\u3044\\u305f\\u3060\\u304d\\u305f\\u3044\\u3002\\u203bBGM by\\u300cPresence of Music\\u300d\\u3053\\u308c\\u307e\\u3067\\u3001\\u300c\\u64ae\\u308b!3D MOVIE\\u7814\\u7a76\\u6240\\u300d\\u3067\\u306f\\u51683\\u56de\\u306b\\u6e21\\u308a\\u69d8\\u3005\\u306a\\u3082\\u306e\\u30923D\\u3067\\u64ae\\u5f71\\u3057\\u3066\\u304d\\u305f\\u304c\\u3001\\u7b2c1\\u56de\\u300c\\u7f8e\\u5973\\u3068\\u6a2a\\u6d5c\\u30c7\\u30fc\\u30c8\\u30b9\\u30dd\\u30c3\\u30c8\\u3092\\u64ae\\u3063\\u3066\\u307f\\u305f\\uff01\\u300d\\u3067\\u306f\\u9060\\u666f\\u304c\\u7279\\u306b\\u969b\\u7acb\\u3063\\u3066\\u7f8e\\u3057\\u304f\\u64ae\\u5f71\\u3067\\u304d\\u305f\\u3002\\u7b2c2\\u56de\\u300c\\u300eGS-TD1\\u300f\\u3067\\u68ee\\u4e0b\\u60a0\\u91cc\\u3055\\u3093\\u3092\\u64ae\\u5f71\\u3057\\u3066\\u307f\\u305f\\uff01\\u300d\\u3067\\u306f\\u3001\\u68ee\\u4e0b\\u3055\\u3093\\u306e\\u8feb\\u529b\\u6e80\\u70b9\\u306e\\u30dc\\u30c7\\u30a3\\u3092\\u3088\\u308a\\u9b45\\u529b\\u7684\\u306b\\u6620\\u3059\\u3053\\u3068\\u304c\\u3067\\u304d\\u305f\\u3002\\u305d\\u3057\\u3066\\u6700\\u7d42\\u56de\\u3068\\u306a\\u308b\\u4eca\\u56de\\u306f\\u3001\\u524d2\\u56de\\u306e\\u7814\\u7a76\\u7d50\\u679c\\u3092\\u8e0f\\u307e\\u3048\\u3001\\u732b\\u305f\\u3061\\u304c\\u3055\\u3082\\u76ee\\u306e\\u524d\\u3067\\u904a\\u3093\\u3067\\u3044\\u308b\\u304b\\u306e\\u3088\\u3046\\u306a\\u7acb\\u4f53\\u611f\\u3068\\u81e8\\u5834\\u611f\\u3092\\u3082\\u3063\\u305f\\u52d5\\u753b\\u304c\\u64ae\\u5f71\\u3067\\u304d\\u305f\\u3068\\u601d\\u3046\\u3002\\u3053\\u306e\\u3088\\u3046\\u306b\\u30013D\\u6620\\u50cf\\u306f\\u64ae\\u308b\\u5bfe\\u8c61\\u306b\\u3088\\u3063\\u3066\\u69d8\\u3005\\u306a\\u5473\\u308f\\u3044\\u3092\\u898b\\u305b\\u308b\\u3088\\u3046\\u3060\\u30023D\\u64ae\\u5f71\\u306f\\u3001\\u307e\\u3060\\u3053\\u308c\\u304b\\u3089\\u306e\\u30b8\\u30e3\\u30f3\\u30eb\\u3067\\u3042\\u308b\\u3082\\u306e\\u306e\\u3001\\u78ba\\u5b9f\\u306b\\u666e\\u53ca\\u3057\\u3066\\u3086\\u304f\\u3067\\u3042\\u308d\\u3046\\u30b8\\u30e3\\u30f3\\u30eb\\u3067\\u3082\\u3042\\u308b\\u3002\\u3055\\u3089\\u306b\\u4eca\\u306a\\u3089\\u3001Everio\\u300cGS-TD1\\u300d\\u30ad\\u30e3\\u30c3\\u30b7\\u30e5\\u30d0\\u30c3\\u30af\\u30ad\\u30e3\\u30f3\\u30da\\u30fc\\u30f3\\u3082\\u958b\\u50ac\\u4e2d\\u30022011\\u5e7411\\u670830\\u65e5\\u307e\\u3067\\u306b\\u8cfc\\u5165\\u3059\\u308b\\u3068\\u300115,000\\u5186\\u304c\\u30ad\\u30e3\\u30b7\\u30e5\\u30d0\\u30c3\\u30af\\u3055\\u308c\\u308b\\u3002\\u30ad\\u30e3\\u30f3\\u30da\\u30fc\\u30f3\\u306f\\u8cfc\\u5165\\u8005\\u5168\\u54e1\\u304c\\u5bfe\\u8c61\\u3068\\u306a\\u308a\\u3001\\u5546\\u54c1\\u30d0\\u30fc\\u30b3\\u30fc\\u30c9\\u306a\\u3069\\u306e\\u5fc5\\u8981\\u66f8\\u985e\\u3092\\u6dfb\\u4ed8\\u3059\\u308b\\u3060\\u3051\\u3067\\u5fdc\\u52df\\u3059\\u308b\\u3053\\u3068\\u304c\\u3067\\u304d\\u308b\\u3068\\u3044\\u3046\\u304b\\u3089\\u3001\\u5b9f\\u306b\\u304a\\u5f97\\u306a\\u30ad\\u30e3\\u30f3\\u30da\\u30fc\\u30f3\\u3060\\u3002\\u3053\\u308c\\u304b\\u3089\\u306e\\u5b63\\u7bc0\\u3001\\u30d3\\u30c7\\u30aa\\u30ab\\u30e1\\u30e9\\u306f\\u79cb\\u306e\\u884c\\u697d\\u3084\\u904b\\u52d5\\u4f1a\\u306a\\u3069\\u69d8\\u3005\\u306a\\u30b7\\u30fc\\u30f3\\u3067\\u91cd\\u5b9d\\u3059\\u308b\\u3002Everio\\u300cGS-TD1\\u300d\\u3067\\u5468\\u56f2\\u306b\\u5dee\\u3092\\u3064\\u3051\\u3001\\u4e00\\u6b69\\u9032\\u3093\\u3060\\u30c6\\u30af\\u30ce\\u30ed\\u30b8\\u30fc\\u306e3D\\u64ae\\u5f71\\u306b\\u3055\\u3063\\u305d\\u304f\\u30c1\\u30e3\\u30f3\\u30b8\\u3057\\u3066\\u307f\\u3066\\u306f\\u3044\\u304b\\u304c\\u3060\\u308d\\u3046\\u304b\\uff3b\\u8a73\\u3057\\u304f\\u306f\\u3053\\u3061\\u3089\\uff3d\\u4eca\\u56de\\u3067\\u300c\\u64ae\\u308b!3D MOVIE\\u7814\\u7a76\\u6240\\u300d\\u306f\\u6700\\u7d42\\u56de\\u3068\\u306a\\u308a\\u307e\\u3059\\u304c\\u3001\\u4eca\\u56de\\u306e\\u7279\\u96c6\\u4ee5\\u5916\\u306e3D\\u6620\\u50cf\\u306f\\u300cGS-TD1\\u30b9\\u30da\\u30b7\\u30e3\\u30eb\\u30b5\\u30a4\\u30c8\\u300d\\u3067\\u3082\\u3054\\u89a7\\u3044\\u305f\\u3060\\u3051\\u307e\\u3059\\u3002\\u3053\\u308c\\u307e\\u3067\\u3054\\u89a7\\u9802\\u304d\\u3042\\u308a\\u304c\\u3068\\u3046\\u3054\\u3056\\u3044\\u307e\\u3057\\u305f\\u3002\\u25a0\\u95a2\\u9023URL\\u30fb3D\\u30cf\\u30a4\\u30d3\\u30b8\\u30e7\\u30f3\\u30e0\\u30fc\\u30d3\\u30fc Everio GS-TD1 - \\u88fd\\u54c1\\u60c5\\u5831\\u30fbGS-TD1\\u30b9\\u30da\\u30b7\\u30e3\\u30eb\\u30b5\\u30a4\\u30c8\\u30fb\\u64ae\\u308b!3D MOVIE\\u7814\\u7a76\\u6240 - livedoorHOMME\\u7279\\u96c6\\u25a0\\u53d6\\u6750\\u5354\\u529b\\u30fb\\u732b\\u3060\\uff01\\u30ab\\u30d5\\u30a73D\\u30cf\\u30a4\\u30d3\\u30b8\\u30e7\\u30f3\\u30e0\\u30fc\\u30d3\\u30fc Everio GS-TD12\\u672c\\u306eF1.2\\u9ad8\\u89e3\\u50cf\\u5ea6\\u30ec\\u30f3\\u30ba\\u30682\\u3064\\u306e\\u9ad8\\u611f\\u5ea6B.S.I.CMOS\\u30bb\\u30f3\\u30b5\\u30fc\\u3092\\u642d\\u8f09\\u3057\\u305f\\u672c\\u683c\\uff12\\u773c3D\\u30cf\\u30a4\\u30d3\\u30b8\\u30e7\\u30f3\\u30e0\\u30fc\\u30d3\\u30fc\\u300c\\u30a8\\u30d6\\u30ea\\u30aa(Everio)\\u300dGS-TD1\\u3002\\u30fb\\u300c\\u30a8\\u30d6\\u30ea\\u30aa(Everio)\\u300dGS-TD1\\u88fd\\u54c1\\u60c5\\u5831\\u30fbGS-TD1\\u30b9\\u30da\\u30b7\\u30e3\\u30eb\\u30b5\\u30a4\\u30c8\"\n        ],\n        \"semantic_type\": \"\",\n        \"description\": \"\"\n      }\n    },\n    {\n      \"column\": \"label_index\",\n      \"properties\": {\n        \"dtype\": \"number\",\n        \"std\": 2,\n        \"min\": 0,\n        \"max\": 8,\n        \"num_unique_values\": 9,\n        \"samples\": [\n          7,\n          1,\n          5\n        ],\n        \"semantic_type\": \"\",\n        \"description\": \"\"\n      }\n    }\n  ]\n}"
            }
          },
          "metadata": {},
          "execution_count": 50
        }
      ]
    },
    {
      "cell_type": "code",
      "metadata": {
        "colab": {
          "base_uri": "https://localhost:8080/"
        },
        "id": "l4Y9FSfIoWvY",
        "outputId": "5f5902e5-b116-4f4c-e4bf-3d726dce2b79"
      },
      "source": [
        "print(df.shape)"
      ],
      "execution_count": null,
      "outputs": [
        {
          "output_type": "stream",
          "name": "stdout",
          "text": [
            "(7376, 2)\n"
          ]
        }
      ]
    },
    {
      "cell_type": "code",
      "metadata": {
        "id": "nJEfJcsaSTHf"
      },
      "source": [
        "# ここまでのデータ（本文とラベル番号）をcsvファイルに保存する\n",
        "\n",
        "import pickle\n",
        "\n",
        "# データフレームをファイルに保存する\n",
        "out_path = \"./dataset/livedoor/all_seq.csv\"\n",
        "df.to_csv(out_path, index=False)\n",
        "\n",
        "# 辞書をファイルに保存する\n",
        "with open(\"./dataset/livedoor/dic_id2cat.pkl\", mode='wb') as f1:\n",
        "  pickle.dump(dic_id2cat, f1)\n",
        "\n",
        "with open (\"./dataset/livedoor/dic_cat2id.pkl\", mode='wb') as f2:\n",
        "  pickle.dump(dic_cat2id, f2)"
      ],
      "execution_count": null,
      "outputs": []
    },
    {
      "cell_type": "code",
      "metadata": {
        "colab": {
          "base_uri": "https://localhost:8080/"
        },
        "id": "4-N1Rzto2pDG",
        "outputId": "7c8a2fec-56ad-4d1e-b660-04ceb8d5ffe3"
      },
      "source": [
        "!pwd\n",
        "!ls -l\n",
        "!ls -l dataset\n",
        "!ls -l dataset/livedoor"
      ],
      "execution_count": null,
      "outputs": [
        {
          "output_type": "stream",
          "name": "stdout",
          "text": [
            "/content/drive/MyDrive/practice/chap_w2v\n",
            "total 1350254\n",
            "-rw------- 1 root root 1373795477 Feb 18  2017 20170201.tar.bz2\n",
            "drwx------ 3 root root       4096 Jul 10 13:38 dataset\n",
            "drwx------ 3 root root       4096 Jul 10 13:27 jawiki\n",
            "-rw------- 1 root root    8855190 Feb  9  2014 ldcc-20140209.tar.gz\n",
            "total 4\n",
            "drwx------ 3 root root 4096 Jul 10 13:51 livedoor\n",
            "total 23752\n",
            "-rw-------  1 root root 24316399 Jul 10 13:51 all_seq.csv\n",
            "-rw-------  1 root root      157 Jul 10 13:51 dic_cat2id.pkl\n",
            "-rw-------  1 root root      157 Jul 10 13:51 dic_id2cat.pkl\n",
            "drwx------ 11 root root     4096 Feb  9  2014 text\n"
          ]
        }
      ]
    },
    {
      "cell_type": "markdown",
      "metadata": {
        "id": "bPcQekrO7HhR"
      },
      "source": [
        "# 日本語処理用のツールを導入する\n",
        "- 形態素解析ライブラリである**MeCab**と**ipadic**を使用する\n",
        "- Pythonからの利用では、さらに**mecab-python**を使用する"
      ]
    },
    {
      "cell_type": "code",
      "metadata": {
        "colab": {
          "base_uri": "https://localhost:8080/"
        },
        "id": "kPXX4pr2-kY-",
        "outputId": "a4ff5d6a-ba92-4069-ae45-4d9963821b66"
      },
      "source": [
        "# MeCabとtransformersの準備（約30秒～50秒）\n",
        "!apt install aptitude swig\n",
        "!aptitude install mecab libmecab-dev mecab-ipadic-utf8 git make curl xz-utils file -y\n",
        "!pip install mecab-python3\n",
        "# !pip install transformers==2.9.0 # これは動作する\n",
        "# # !pip install transformers==3.0.2    # tokenizer等作れず"
      ],
      "execution_count": null,
      "outputs": [
        {
          "output_type": "stream",
          "name": "stdout",
          "text": [
            "Reading package lists... Done\n",
            "Building dependency tree... Done\n",
            "Reading state information... Done\n",
            "The following additional packages will be installed:\n",
            "  aptitude-common libcwidget4 libsigc++-2.0-0v5 libxapian30 swig4.0\n",
            "Suggested packages:\n",
            "  apt-xapian-index aptitude-doc-en | aptitude-doc debtags tasksel libcwidget-dev xapian-tools\n",
            "  swig-doc swig-examples swig4.0-examples swig4.0-doc\n",
            "The following NEW packages will be installed:\n",
            "  aptitude aptitude-common libcwidget4 libsigc++-2.0-0v5 libxapian30 swig swig4.0\n",
            "0 upgraded, 7 newly installed, 0 to remove and 45 not upgraded.\n",
            "Need to get 4,954 kB of archives.\n",
            "After this operation, 22.9 MB of additional disk space will be used.\n",
            "Get:1 http://archive.ubuntu.com/ubuntu jammy/universe amd64 aptitude-common all 0.8.13-3ubuntu1 [1,719 kB]\n",
            "Get:2 http://archive.ubuntu.com/ubuntu jammy/main amd64 libsigc++-2.0-0v5 amd64 2.10.4-2ubuntu3 [12.1 kB]\n",
            "Get:3 http://archive.ubuntu.com/ubuntu jammy/universe amd64 libcwidget4 amd64 0.5.18-5build1 [306 kB]\n",
            "Get:4 http://archive.ubuntu.com/ubuntu jammy/universe amd64 libxapian30 amd64 1.4.18-4 [701 kB]\n",
            "Get:5 http://archive.ubuntu.com/ubuntu jammy/universe amd64 aptitude amd64 0.8.13-3ubuntu1 [1,100 kB]\n",
            "Get:6 http://archive.ubuntu.com/ubuntu jammy/universe amd64 swig4.0 amd64 4.0.2-1ubuntu1 [1,110 kB]\n",
            "Get:7 http://archive.ubuntu.com/ubuntu jammy/universe amd64 swig all 4.0.2-1ubuntu1 [5,632 B]\n",
            "Fetched 4,954 kB in 2s (2,933 kB/s)\n",
            "Selecting previously unselected package aptitude-common.\n",
            "(Reading database ... 121925 files and directories currently installed.)\n",
            "Preparing to unpack .../0-aptitude-common_0.8.13-3ubuntu1_all.deb ...\n",
            "Unpacking aptitude-common (0.8.13-3ubuntu1) ...\n",
            "Selecting previously unselected package libsigc++-2.0-0v5:amd64.\n",
            "Preparing to unpack .../1-libsigc++-2.0-0v5_2.10.4-2ubuntu3_amd64.deb ...\n",
            "Unpacking libsigc++-2.0-0v5:amd64 (2.10.4-2ubuntu3) ...\n",
            "Selecting previously unselected package libcwidget4:amd64.\n",
            "Preparing to unpack .../2-libcwidget4_0.5.18-5build1_amd64.deb ...\n",
            "Unpacking libcwidget4:amd64 (0.5.18-5build1) ...\n",
            "Selecting previously unselected package libxapian30:amd64.\n",
            "Preparing to unpack .../3-libxapian30_1.4.18-4_amd64.deb ...\n",
            "Unpacking libxapian30:amd64 (1.4.18-4) ...\n",
            "Selecting previously unselected package aptitude.\n",
            "Preparing to unpack .../4-aptitude_0.8.13-3ubuntu1_amd64.deb ...\n",
            "Unpacking aptitude (0.8.13-3ubuntu1) ...\n",
            "Selecting previously unselected package swig4.0.\n",
            "Preparing to unpack .../5-swig4.0_4.0.2-1ubuntu1_amd64.deb ...\n",
            "Unpacking swig4.0 (4.0.2-1ubuntu1) ...\n",
            "Selecting previously unselected package swig.\n",
            "Preparing to unpack .../6-swig_4.0.2-1ubuntu1_all.deb ...\n",
            "Unpacking swig (4.0.2-1ubuntu1) ...\n",
            "Setting up libxapian30:amd64 (1.4.18-4) ...\n",
            "Setting up libsigc++-2.0-0v5:amd64 (2.10.4-2ubuntu3) ...\n",
            "Setting up aptitude-common (0.8.13-3ubuntu1) ...\n",
            "Setting up swig4.0 (4.0.2-1ubuntu1) ...\n",
            "Setting up swig (4.0.2-1ubuntu1) ...\n",
            "Setting up libcwidget4:amd64 (0.5.18-5build1) ...\n",
            "Setting up aptitude (0.8.13-3ubuntu1) ...\n",
            "update-alternatives: using /usr/bin/aptitude-curses to provide /usr/bin/aptitude (aptitude) in auto mode\n",
            "Processing triggers for man-db (2.10.2-1) ...\n",
            "Processing triggers for libc-bin (2.35-0ubuntu3.4) ...\n",
            "/sbin/ldconfig.real: /usr/local/lib/libtbbbind.so.3 is not a symbolic link\n",
            "\n",
            "/sbin/ldconfig.real: /usr/local/lib/libtbbbind_2_0.so.3 is not a symbolic link\n",
            "\n",
            "/sbin/ldconfig.real: /usr/local/lib/libtbbmalloc_proxy.so.2 is not a symbolic link\n",
            "\n",
            "/sbin/ldconfig.real: /usr/local/lib/libtbbmalloc.so.2 is not a symbolic link\n",
            "\n",
            "/sbin/ldconfig.real: /usr/local/lib/libtbb.so.12 is not a symbolic link\n",
            "\n",
            "/sbin/ldconfig.real: /usr/local/lib/libtbbbind_2_5.so.3 is not a symbolic link\n",
            "\n",
            "git is already installed at the requested version (1:2.34.1-1ubuntu1.11)\n",
            "make is already installed at the requested version (4.3-4.1build1)\n",
            "curl is already installed at the requested version (7.81.0-1ubuntu1.16)\n",
            "xz-utils is already installed at the requested version (5.2.5-2ubuntu1)\n",
            "file is already installed at the requested version (1:5.41-3ubuntu0.1)\n",
            "git is already installed at the requested version (1:2.34.1-1ubuntu1.11)\n",
            "make is already installed at the requested version (4.3-4.1build1)\n",
            "curl is already installed at the requested version (7.81.0-1ubuntu1.16)\n",
            "xz-utils is already installed at the requested version (5.2.5-2ubuntu1)\n",
            "file is already installed at the requested version (1:5.41-3ubuntu0.1)\n",
            "The following NEW packages will be installed:\n",
            "  libmecab-dev libmecab2{a} mecab mecab-ipadic{a} mecab-ipadic-utf8 mecab-jumandic{a} mecab-jumandic-utf8{a} mecab-utils{a} \n",
            "0 packages upgraded, 8 newly installed, 0 to remove and 45 not upgraded.\n",
            "Need to get 23.5 MB of archives. After unpacking 275 MB will be used.\n",
            "Get: 1 http://archive.ubuntu.com/ubuntu jammy/main amd64 libmecab2 amd64 0.996-14build9 [199 kB]\n",
            "Get: 2 http://archive.ubuntu.com/ubuntu jammy/main amd64 libmecab-dev amd64 0.996-14build9 [306 kB]\n",
            "Get: 3 http://archive.ubuntu.com/ubuntu jammy/main amd64 mecab-utils amd64 0.996-14build9 [4,850 B]\n",
            "Get: 4 http://archive.ubuntu.com/ubuntu jammy/universe amd64 mecab-jumandic-utf8 all 7.0-20130310-7 [16.2 MB]\n",
            "Get: 5 http://archive.ubuntu.com/ubuntu jammy/universe amd64 mecab-jumandic all 7.0-20130310-7 [2,204 B]\n",
            "Get: 6 http://archive.ubuntu.com/ubuntu jammy/main amd64 mecab-ipadic all 2.7.0-20070801+main-3 [6,718 kB]\n",
            "Get: 7 http://archive.ubuntu.com/ubuntu jammy/universe amd64 mecab amd64 0.996-14build9 [136 kB]\n",
            "Get: 8 http://archive.ubuntu.com/ubuntu jammy/main amd64 mecab-ipadic-utf8 all 2.7.0-20070801+main-3 [4,384 B]\n",
            "Fetched 23.5 MB in 4s (5,270 kB/s)\n",
            "Selecting previously unselected package libmecab2:amd64.\n",
            "(Reading database ... 122903 files and directories currently installed.)\n",
            "Preparing to unpack .../0-libmecab2_0.996-14build9_amd64.deb ...\n",
            "Unpacking libmecab2:amd64 (0.996-14build9) ...\n",
            "Selecting previously unselected package libmecab-dev.\n",
            "Preparing to unpack .../1-libmecab-dev_0.996-14build9_amd64.deb ...\n",
            "Unpacking libmecab-dev (0.996-14build9) ...\n",
            "Selecting previously unselected package mecab-utils.\n",
            "Preparing to unpack .../2-mecab-utils_0.996-14build9_amd64.deb ...\n",
            "Unpacking mecab-utils (0.996-14build9) ...\n",
            "Selecting previously unselected package mecab-jumandic-utf8.\n",
            "Preparing to unpack .../3-mecab-jumandic-utf8_7.0-20130310-7_all.deb ...\n",
            "Unpacking mecab-jumandic-utf8 (7.0-20130310-7) ...\n",
            "Selecting previously unselected package mecab-jumandic.\n",
            "Preparing to unpack .../4-mecab-jumandic_7.0-20130310-7_all.deb ...\n",
            "Unpacking mecab-jumandic (7.0-20130310-7) ...\n",
            "Selecting previously unselected package mecab-ipadic.\n",
            "Preparing to unpack .../5-mecab-ipadic_2.7.0-20070801+main-3_all.deb ...\n",
            "Unpacking mecab-ipadic (2.7.0-20070801+main-3) ...\n",
            "Selecting previously unselected package mecab.\n",
            "Preparing to unpack .../6-mecab_0.996-14build9_amd64.deb ...\n",
            "Unpacking mecab (0.996-14build9) ...\n",
            "Selecting previously unselected package mecab-ipadic-utf8.\n",
            "Preparing to unpack .../7-mecab-ipadic-utf8_2.7.0-20070801+main-3_all.deb ...\n",
            "Unpacking mecab-ipadic-utf8 (2.7.0-20070801+main-3) ...\n",
            "Setting up libmecab2:amd64 (0.996-14build9) ...\n",
            "Setting up libmecab-dev (0.996-14build9) ...\n",
            "Setting up mecab-utils (0.996-14build9) ...\n",
            "Setting up mecab-ipadic (2.7.0-20070801+main-3) ...\n",
            "Compiling IPA dictionary for Mecab.  This takes long time...\n",
            "reading /usr/share/mecab/dic/ipadic/unk.def ... 40\n",
            "emitting double-array: 100% |###########################################| \n",
            "/usr/share/mecab/dic/ipadic/model.def is not found. skipped.\n",
            "reading /usr/share/mecab/dic/ipadic/Interjection.csv ... 252\n",
            "reading /usr/share/mecab/dic/ipadic/Noun.demonst.csv ... 120\n",
            "reading /usr/share/mecab/dic/ipadic/Adverb.csv ... 3032\n",
            "reading /usr/share/mecab/dic/ipadic/Symbol.csv ... 208\n",
            "reading /usr/share/mecab/dic/ipadic/Postp.csv ... 146\n",
            "reading /usr/share/mecab/dic/ipadic/Noun.csv ... 60477\n",
            "reading /usr/share/mecab/dic/ipadic/Noun.org.csv ... 16668\n",
            "reading /usr/share/mecab/dic/ipadic/Conjunction.csv ... 171\n",
            "reading /usr/share/mecab/dic/ipadic/Postp-col.csv ... 91\n",
            "reading /usr/share/mecab/dic/ipadic/Noun.number.csv ... 42\n",
            "reading /usr/share/mecab/dic/ipadic/Prefix.csv ... 221\n",
            "reading /usr/share/mecab/dic/ipadic/Noun.others.csv ... 151\n",
            "reading /usr/share/mecab/dic/ipadic/Filler.csv ... 19\n",
            "reading /usr/share/mecab/dic/ipadic/Adnominal.csv ... 135\n",
            "reading /usr/share/mecab/dic/ipadic/Verb.csv ... 130750\n",
            "reading /usr/share/mecab/dic/ipadic/Noun.adverbal.csv ... 795\n",
            "reading /usr/share/mecab/dic/ipadic/Noun.adjv.csv ... 3328\n",
            "reading /usr/share/mecab/dic/ipadic/Others.csv ... 2\n",
            "reading /usr/share/mecab/dic/ipadic/Noun.name.csv ... 34202\n",
            "reading /usr/share/mecab/dic/ipadic/Adj.csv ... 27210\n",
            "reading /usr/share/mecab/dic/ipadic/Noun.verbal.csv ... 12146\n",
            "reading /usr/share/mecab/dic/ipadic/Noun.place.csv ... 72999\n",
            "reading /usr/share/mecab/dic/ipadic/Suffix.csv ... 1393\n",
            "reading /usr/share/mecab/dic/ipadic/Auxil.csv ... 199\n",
            "reading /usr/share/mecab/dic/ipadic/Noun.nai.csv ... 42\n",
            "reading /usr/share/mecab/dic/ipadic/Noun.proper.csv ... 27328\n",
            "emitting double-array: 100% |###########################################| \n",
            "reading /usr/share/mecab/dic/ipadic/matrix.def ... 1316x1316\n",
            "emitting matrix      : 100% |###########################################| \n",
            "\n",
            "done!\n",
            "update-alternatives: using /var/lib/mecab/dic/ipadic to provide /var/lib/mecab/dic/debian (mecab-dictionary) in auto mode\n",
            "Setting up mecab (0.996-14build9) ...\n",
            "Compiling IPA dictionary for Mecab.  This takes long time...\n",
            "reading /usr/share/mecab/dic/ipadic/unk.def ... 40\n",
            "emitting double-array: 100% |###########################################| \n",
            "/usr/share/mecab/dic/ipadic/model.def is not found. skipped.\n",
            "reading /usr/share/mecab/dic/ipadic/Interjection.csv ... 252\n",
            "reading /usr/share/mecab/dic/ipadic/Noun.demonst.csv ... 120\n",
            "reading /usr/share/mecab/dic/ipadic/Adverb.csv ... 3032\n",
            "reading /usr/share/mecab/dic/ipadic/Symbol.csv ... 208\n",
            "reading /usr/share/mecab/dic/ipadic/Postp.csv ... 146\n",
            "reading /usr/share/mecab/dic/ipadic/Noun.csv ... 60477\n",
            "reading /usr/share/mecab/dic/ipadic/Noun.org.csv ... 16668\n",
            "reading /usr/share/mecab/dic/ipadic/Conjunction.csv ... 171\n",
            "reading /usr/share/mecab/dic/ipadic/Postp-col.csv ... 91\n",
            "reading /usr/share/mecab/dic/ipadic/Noun.number.csv ... 42\n",
            "reading /usr/share/mecab/dic/ipadic/Prefix.csv ... 221\n",
            "reading /usr/share/mecab/dic/ipadic/Noun.others.csv ... 151\n",
            "reading /usr/share/mecab/dic/ipadic/Filler.csv ... 19\n",
            "reading /usr/share/mecab/dic/ipadic/Adnominal.csv ... 135\n",
            "reading /usr/share/mecab/dic/ipadic/Verb.csv ... 130750\n",
            "reading /usr/share/mecab/dic/ipadic/Noun.adverbal.csv ... 795\n",
            "reading /usr/share/mecab/dic/ipadic/Noun.adjv.csv ... 3328\n",
            "reading /usr/share/mecab/dic/ipadic/Others.csv ... 2\n",
            "reading /usr/share/mecab/dic/ipadic/Noun.name.csv ... 34202\n",
            "reading /usr/share/mecab/dic/ipadic/Adj.csv ... 27210\n",
            "reading /usr/share/mecab/dic/ipadic/Noun.verbal.csv ... 12146\n",
            "reading /usr/share/mecab/dic/ipadic/Noun.place.csv ... 72999\n",
            "reading /usr/share/mecab/dic/ipadic/Suffix.csv ... 1393\n",
            "reading /usr/share/mecab/dic/ipadic/Auxil.csv ... 199\n",
            "reading /usr/share/mecab/dic/ipadic/Noun.nai.csv ... 42\n",
            "reading /usr/share/mecab/dic/ipadic/Noun.proper.csv ... 27328\n",
            "emitting double-array: 100% |###########################################| \n",
            "reading /usr/share/mecab/dic/ipadic/matrix.def ... 1316x1316\n",
            "emitting matrix      : 100% |###########################################| \n",
            "\n",
            "done!\n",
            "Setting up mecab-jumandic-utf8 (7.0-20130310-7) ...\n",
            "Compiling Juman dictionary for Mecab.\n",
            "reading /usr/share/mecab/dic/juman/unk.def ... 37\n",
            "emitting double-array: 100% |###########################################| \n",
            "reading /usr/share/mecab/dic/juman/Postp.csv ... 108\n",
            "reading /usr/share/mecab/dic/juman/Special.csv ... 158\n",
            "reading /usr/share/mecab/dic/juman/Assert.csv ... 34\n",
            "reading /usr/share/mecab/dic/juman/Noun.koyuu.csv ... 7964\n",
            "reading /usr/share/mecab/dic/juman/Auto.csv ... 18931\n",
            "reading /usr/share/mecab/dic/juman/Noun.suusi.csv ... 49\n",
            "reading /usr/share/mecab/dic/juman/Prefix.csv ... 90\n",
            "reading /usr/share/mecab/dic/juman/Noun.keishiki.csv ... 8\n",
            "reading /usr/share/mecab/dic/juman/Noun.hukusi.csv ... 81\n",
            "reading /usr/share/mecab/dic/juman/Emoticon.csv ... 972\n",
            "reading /usr/share/mecab/dic/juman/AuxV.csv ... 593\n",
            "reading /usr/share/mecab/dic/juman/Suffix.csv ... 2128\n",
            "reading /usr/share/mecab/dic/juman/Wikipedia.csv ... 167709\n",
            "reading /usr/share/mecab/dic/juman/Demonstrative.csv ... 97\n",
            "reading /usr/share/mecab/dic/juman/ContentW.csv ... 551145\n",
            "reading /usr/share/mecab/dic/juman/Rengo.csv ... 1118\n",
            "emitting double-array: 100% |###########################################| \n",
            "reading /usr/share/mecab/dic/juman/matrix.def ... 1876x1876\n",
            "emitting matrix      : 100% |###########################################| \n",
            "\n",
            "done!\n",
            "Setting up mecab-ipadic-utf8 (2.7.0-20070801+main-3) ...\n",
            "Compiling IPA dictionary for Mecab.  This takes long time...\n",
            "reading /usr/share/mecab/dic/ipadic/unk.def ... 40\n",
            "emitting double-array: 100% |###########################################| \n",
            "/usr/share/mecab/dic/ipadic/model.def is not found. skipped.\n",
            "reading /usr/share/mecab/dic/ipadic/Interjection.csv ... 252\n",
            "reading /usr/share/mecab/dic/ipadic/Noun.demonst.csv ... 120\n",
            "reading /usr/share/mecab/dic/ipadic/Adverb.csv ... 3032\n",
            "reading /usr/share/mecab/dic/ipadic/Symbol.csv ... 208\n",
            "reading /usr/share/mecab/dic/ipadic/Postp.csv ... 146\n",
            "reading /usr/share/mecab/dic/ipadic/Noun.csv ... 60477\n",
            "reading /usr/share/mecab/dic/ipadic/Noun.org.csv ... 16668\n",
            "reading /usr/share/mecab/dic/ipadic/Conjunction.csv ... 171\n",
            "reading /usr/share/mecab/dic/ipadic/Postp-col.csv ... 91\n",
            "reading /usr/share/mecab/dic/ipadic/Noun.number.csv ... 42\n",
            "reading /usr/share/mecab/dic/ipadic/Prefix.csv ... 221\n",
            "reading /usr/share/mecab/dic/ipadic/Noun.others.csv ... 151\n",
            "reading /usr/share/mecab/dic/ipadic/Filler.csv ... 19\n",
            "reading /usr/share/mecab/dic/ipadic/Adnominal.csv ... 135\n",
            "reading /usr/share/mecab/dic/ipadic/Verb.csv ... 130750\n",
            "reading /usr/share/mecab/dic/ipadic/Noun.adverbal.csv ... 795\n",
            "reading /usr/share/mecab/dic/ipadic/Noun.adjv.csv ... 3328\n",
            "reading /usr/share/mecab/dic/ipadic/Others.csv ... 2\n",
            "reading /usr/share/mecab/dic/ipadic/Noun.name.csv ... 34202\n",
            "reading /usr/share/mecab/dic/ipadic/Adj.csv ... 27210\n",
            "reading /usr/share/mecab/dic/ipadic/Noun.verbal.csv ... 12146\n",
            "reading /usr/share/mecab/dic/ipadic/Noun.place.csv ... 72999\n",
            "reading /usr/share/mecab/dic/ipadic/Suffix.csv ... 1393\n",
            "reading /usr/share/mecab/dic/ipadic/Auxil.csv ... 199\n",
            "reading /usr/share/mecab/dic/ipadic/Noun.nai.csv ... 42\n",
            "reading /usr/share/mecab/dic/ipadic/Noun.proper.csv ... 27328\n",
            "emitting double-array: 100% |###########################################| \n",
            "reading /usr/share/mecab/dic/ipadic/matrix.def ... 1316x1316\n",
            "emitting matrix      : 100% |###########################################| \n",
            "\n",
            "done!\n",
            "update-alternatives: using /var/lib/mecab/dic/ipadic-utf8 to provide /var/lib/mecab/dic/debian (mecab-dictionary) in auto mode\n",
            "Setting up mecab-jumandic (7.0-20130310-7) ...\n",
            "Processing triggers for man-db (2.10.2-1) ...\n",
            "Processing triggers for libc-bin (2.35-0ubuntu3.4) ...\n",
            "/sbin/ldconfig.real: /usr/local/lib/libtbbbind.so.3 is not a symbolic link\n",
            "\n",
            "/sbin/ldconfig.real: /usr/local/lib/libtbbbind_2_0.so.3 is not a symbolic link\n",
            "\n",
            "/sbin/ldconfig.real: /usr/local/lib/libtbbmalloc_proxy.so.2 is not a symbolic link\n",
            "\n",
            "/sbin/ldconfig.real: /usr/local/lib/libtbbmalloc.so.2 is not a symbolic link\n",
            "\n",
            "/sbin/ldconfig.real: /usr/local/lib/libtbb.so.12 is not a symbolic link\n",
            "\n",
            "/sbin/ldconfig.real: /usr/local/lib/libtbbbind_2_5.so.3 is not a symbolic link\n",
            "\n",
            "                            \n",
            "Collecting mecab-python3\n",
            "  Downloading mecab_python3-1.0.9-cp310-cp310-manylinux_2_17_x86_64.manylinux2014_x86_64.whl (581 kB)\n",
            "\u001b[2K     \u001b[90m━━━━━━━━━━━━━━━━━━━━━━━━━━━━━━━━━━━━━━━━\u001b[0m \u001b[32m581.7/581.7 kB\u001b[0m \u001b[31m7.7 MB/s\u001b[0m eta \u001b[36m0:00:00\u001b[0m\n",
            "\u001b[?25hInstalling collected packages: mecab-python3\n",
            "Successfully installed mecab-python3-1.0.9\n"
          ]
        }
      ]
    },
    {
      "cell_type": "code",
      "metadata": {
        "id": "Hvl3IpAknEft"
      },
      "source": [
        "# シンボリックリンクを設定（念のためエラー対応）\n",
        "# !find / -iname mecabrc\n",
        "\n",
        "!ln -s /etc/mecabrc /usr/local/etc/mecabrc"
      ],
      "execution_count": null,
      "outputs": []
    },
    {
      "cell_type": "code",
      "metadata": {
        "colab": {
          "base_uri": "https://localhost:8080/"
        },
        "id": "Hfvzia3GSdCt",
        "outputId": "4a4b96e8-559b-4729-a51b-f245dca5eb2c"
      },
      "source": [
        "!ls -l /usr/local/etc/"
      ],
      "execution_count": null,
      "outputs": [
        {
          "output_type": "stream",
          "name": "stdout",
          "text": [
            "total 4\n",
            "drwxr-xr-x 1 root root 4096 Jul  9 05:06 jupyter\n",
            "lrwxrwxrwx 1 root root   12 Jul 10 13:52 mecabrc -> /etc/mecabrc\n"
          ]
        }
      ]
    },
    {
      "cell_type": "markdown",
      "metadata": {
        "id": "cSlpx4OPlMsZ"
      },
      "source": [
        "## 日本語の分かち書き（形態素解析・単語分割）の確認"
      ]
    },
    {
      "cell_type": "code",
      "metadata": {
        "colab": {
          "base_uri": "https://localhost:8080/"
        },
        "id": "z0s0e2CgnW6_",
        "outputId": "9c64e1c7-fc7e-4ed7-b278-4a06d935fa7e"
      },
      "source": [
        "# Mecabの動作確認\n",
        "import MeCab\n",
        "\n",
        "# 分かち書きだけ出力\n",
        "m=MeCab.Tagger(\"-Owakati\")\n",
        "\n",
        "text = \"私は深層学習の勉強を始めました。\"\n",
        "\n",
        "text_segmented = m.parse(text)\n",
        "print(text_segmented)"
      ],
      "execution_count": null,
      "outputs": [
        {
          "output_type": "stream",
          "name": "stdout",
          "text": [
            "私 は 深層 学習 の 勉強 を 始め まし た 。 \n",
            "\n"
          ]
        }
      ]
    },
    {
      "cell_type": "code",
      "metadata": {
        "colab": {
          "base_uri": "https://localhost:8080/"
        },
        "id": "c1bvJzpIlH7L",
        "outputId": "e51b275c-a932-43ae-9f07-7e62abe7792c"
      },
      "source": [
        "# 品詞の表示\n",
        "\n",
        "m=MeCab.Tagger(\"-Ochasen\")\n",
        "\n",
        "text = \"私は深層学習の勉強を始めました。\"\n",
        "\n",
        "text_segmented = m.parse(text)\n",
        "print(text_segmented)"
      ],
      "execution_count": null,
      "outputs": [
        {
          "output_type": "stream",
          "name": "stdout",
          "text": [
            "私\tワタシ\t私\t名詞-代名詞-一般\t\t\n",
            "は\tハ\tは\t助詞-係助詞\t\t\n",
            "深層\tシンソウ\t深層\t名詞-一般\t\t\n",
            "学習\tガクシュウ\t学習\t名詞-サ変接続\t\t\n",
            "の\tノ\tの\t助詞-連体化\t\t\n",
            "勉強\tベンキョウ\t勉強\t名詞-サ変接続\t\t\n",
            "を\tヲ\tを\t助詞-格助詞-一般\t\t\n",
            "始め\tハジメ\t始める\t動詞-自立\t一段\t連用形\n",
            "まし\tマシ\tます\t助動詞\t特殊・マス\t連用形\n",
            "た\tタ\tた\t助動詞\t特殊・タ\t基本形\n",
            "。\t。\t。\t記号-句点\t\t\n",
            "EOS\n",
            "\n"
          ]
        }
      ]
    },
    {
      "cell_type": "code",
      "metadata": {
        "colab": {
          "base_uri": "https://localhost:8080/"
        },
        "id": "dJCHSj97nsLc",
        "outputId": "6be8e830-46d1-4f33-a452-9c84dcfad4ce"
      },
      "source": [
        "# ヨミ（読み）の出力\n",
        "m=MeCab.Tagger(\"-Oyomi\")\n",
        "\n",
        "text = \"私は深層学習の勉強を始めました。\"\n",
        "\n",
        "text_segmented = m.parse(text)\n",
        "print(text_segmented)"
      ],
      "execution_count": null,
      "outputs": [
        {
          "output_type": "stream",
          "name": "stdout",
          "text": [
            "ワタシハシンソウガクシュウノベンキョウヲハジメマシタ。\n",
            "\n"
          ]
        }
      ]
    },
    {
      "cell_type": "markdown",
      "metadata": {
        "id": "TE6M_vD-BSRw"
      },
      "source": [
        "# コーパスからデータセットを作成する\n",
        "1. コーパスの作成\n",
        "  - テキストデータを連結\n",
        "1. 前処理\n",
        "  1. クリーニングを行う\n",
        "    - 不要な文字を削除\n",
        "  1. 正規化処理を行う\n",
        "    - 文字コードを統一\n",
        "    - アルファベットを小文字に統一\n",
        "  1. 分かち書きにする\n",
        "1. データセットの作成"
      ]
    },
    {
      "cell_type": "code",
      "metadata": {
        "colab": {
          "base_uri": "https://localhost:8080/"
        },
        "id": "9jia2_GTG0YW",
        "outputId": "ccbc7f29-ad76-4bb1-a510-6b1e3dea8056"
      },
      "source": [
        "# データフレームの列名を確認する\n",
        "print(df.columns)"
      ],
      "execution_count": null,
      "outputs": [
        {
          "output_type": "stream",
          "name": "stdout",
          "text": [
            "Index(['text', 'label_index'], dtype='object')\n"
          ]
        }
      ]
    },
    {
      "cell_type": "code",
      "metadata": {
        "colab": {
          "base_uri": "https://localhost:8080/"
        },
        "id": "F4VB9TmOM_tr",
        "outputId": "f05b79db-2435-448e-e84d-e963dd80a413"
      },
      "source": [
        "# データフレームのデータ構造を確認する\n",
        "print(df.shape)\n",
        "# print(df['text'].head(10))\n",
        "print(df.head(10))"
      ],
      "execution_count": null,
      "outputs": [
        {
          "output_type": "stream",
          "name": "stdout",
          "text": [
            "(7376, 2)\n",
            "                                                text  label_index\n",
            "0  もうすぐジューン・ブライドと呼ばれる６月。独女の中には自分の式はまだなのに呼ばれてばかり……...            0\n",
            "1  携帯電話が普及する以前、恋人への連絡ツールは一般電話が普通だった。恋人と別れたら、手帳に書か...            0\n",
            "2  「男性はやっぱり、女性の“すっぴん”が大好きなんですかね」と不満そうに話すのは、出版関係で働...            0\n",
            "3  ヒップの加齢による変化は「たわむ→下がる→内に流れる」、バストは「そげる→たわむ→外に流れる...            0\n",
            "4  6月から支給される子ども手当だが、当初は子ども一人当たり月額2万6000円が支給されるはずだ...            0\n",
            "5  書店で偶然『うさぎのくれたバレエシューズ』(小峰書店 安房直子/著、南塚直子/イラスト)とい...            0\n",
            "6  昨年の秋、希望の職種に転職したカナコさん（30歳／ 商社勤務）。やりがいのある仕事を得て充実...            0\n",
            "7  「彼の収入が少ないから私も働かなければならないし、それを思うと結婚はもう少し先でもいいかな」...            0\n",
            "8  これからの季節、お肌の天敵と言えば“紫外線”。マーケティング会社トレンダーズ株式会社が、20...            0\n",
            "9  合コンやパーティー、そして料理教室から農業まで。さまざまなスタイルで男女の人気を集める婚カツ...            0\n"
          ]
        }
      ]
    },
    {
      "cell_type": "code",
      "metadata": {
        "id": "2ox0CjJdS8cF"
      },
      "source": [
        "# クリーニング処理を定義する\n",
        "def text_cleaning(df):\n",
        "  # 不要な文字を消す\n",
        "  stop_chars = \"\\n,.、。・, 、()（）「」「　『 』[]【】“”!！ ?？—:：→・■●★▲▼\"\n",
        "  for stop_char in stop_chars:\n",
        "      df[\"text\"] = df[\"text\"].str.replace(stop_char, \" \") # stop_char をブランクに\n",
        "\n",
        "  return df"
      ],
      "execution_count": null,
      "outputs": []
    },
    {
      "cell_type": "code",
      "metadata": {
        "id": "jxH6sJVkTkw5"
      },
      "source": [
        "# 正規化処理を定義する\n",
        "def text_norm(df):\n",
        "  # ユニコード正規化\n",
        "  df[\"text\"] = df[\"text\"].str.normalize(\"NFKC\")\n",
        "\n",
        "  # アルファベットを小文字に統一\n",
        "  df[\"text\"] = df[\"text\"].str.lower()\n",
        "\n",
        "  return df"
      ],
      "execution_count": null,
      "outputs": []
    },
    {
      "cell_type": "code",
      "metadata": {
        "id": "3lRCwujKMPvu"
      },
      "source": [
        "# tokenizerを定義する\n",
        "\n",
        "import MeCab\n",
        "\n",
        "tagger = MeCab.Tagger(\"-Owakati\")\n",
        "\n",
        "def mecab_tokenizer(text):\n",
        "    # 半角スペースで区切られた単語列\n",
        "    tokens = tagger.parse(text)\n",
        "\n",
        "    # 半角スペースで区切ったリスト\n",
        "    # tokens_list = tokens.sprip().split()\n",
        "    tokens_list = tokens.split()\n",
        "\n",
        "\n",
        "    # テキストを分かち書きする関数を準備する\n",
        "    # parsed_lines = tagger.parse(text).split(\"\\n\")[:-2]\n",
        "    # surfaces = [l.split('\\t')[0] for l in parsed_lines]\n",
        "    # features = [l.split('\\t')[1] for l in parsed_lines]\n",
        "    # # 原型を取得\n",
        "    # bases = [f.split(',')[6] for f in features]\n",
        "    # # 配列で結果を返す\n",
        "    # token_list = [b if b != '*' else s for s, b in zip(surfaces, bases)]\n",
        "    # # アルファベットを小文字に統一\n",
        "    # token_list = [t.lower() for t in token_list]\n",
        "    return tokens_list\n"
      ],
      "execution_count": null,
      "outputs": []
    },
    {
      "cell_type": "code",
      "metadata": {
        "colab": {
          "base_uri": "https://localhost:8080/"
        },
        "id": "EdeUJ5_maMwZ",
        "outputId": "4053d721-9727-4235-e9cc-d0efecba2a45"
      },
      "source": [
        "# クリーニング処理の確認\n",
        "df_1 = text_cleaning(df)\n",
        "\n",
        "# print(df['text'].head(10))\n",
        "# print()\n",
        "# print(df_1['text'].head(10))\n",
        "print(df['text'][100:110])\n",
        "print()\n",
        "print(df_1['text'][100:110])\n",
        "# print(df['text'].tail())\n",
        "# print()\n",
        "# print(df_1['text'].tail())"
      ],
      "execution_count": null,
      "outputs": [
        {
          "output_type": "stream",
          "name": "stdout",
          "text": [
            "100    夏の疲れもあってか肌荒れに悩まされているミサトさん 34歳 営業  ファンデーションのノリも...\n",
            "101     ミニブログ と呼ばれるツイッター人気については 今さら説明する必要もないだろう 140文字...\n",
            "102    歳を経ていくと 世の中の仕組みや現実というものが イヤと言うほどわかってくるというもの しか...\n",
            "103    独女なら これまで1度や2度はこんなことを言われた経験をお持ちではないだろうか 霧子さん 3...\n",
            "104    美人は生まれたときから得をすることが多いように思える 何がいちばん得かって それはモテること...\n",
            "105    十数年前 初めて100円均一ショップ 以下100均 に行ったときは驚いた 食品から日用品 ち...\n",
            "106    この夏 地方都市に住む和歌子さん 28歳 は 母親の友人から見合いを勧められた 相手は35歳...\n",
            "107    先日 同窓会の幹事グループに加わったサキさん 独身／41歳 会社員  仲が良かった男友達 K...\n",
            "108    草食系男子 号泣男子 スカート男子 乙男 オトメン  女装子 ジョソコ など 化粧をしたり ...\n",
            "109    先日 ある企業が主催する座談会で 元気な女性グループと知り合った  ゆりちゃん  まこちゃん...\n",
            "Name: text, dtype: object\n",
            "\n",
            "100    夏の疲れもあってか肌荒れに悩まされているミサトさん 34歳 営業  ファンデーションのノリも...\n",
            "101     ミニブログ と呼ばれるツイッター人気については 今さら説明する必要もないだろう 140文字...\n",
            "102    歳を経ていくと 世の中の仕組みや現実というものが イヤと言うほどわかってくるというもの しか...\n",
            "103    独女なら これまで1度や2度はこんなことを言われた経験をお持ちではないだろうか 霧子さん 3...\n",
            "104    美人は生まれたときから得をすることが多いように思える 何がいちばん得かって それはモテること...\n",
            "105    十数年前 初めて100円均一ショップ 以下100均 に行ったときは驚いた 食品から日用品 ち...\n",
            "106    この夏 地方都市に住む和歌子さん 28歳 は 母親の友人から見合いを勧められた 相手は35歳...\n",
            "107    先日 同窓会の幹事グループに加わったサキさん 独身／41歳 会社員  仲が良かった男友達 K...\n",
            "108    草食系男子 号泣男子 スカート男子 乙男 オトメン  女装子 ジョソコ など 化粧をしたり ...\n",
            "109    先日 ある企業が主催する座談会で 元気な女性グループと知り合った  ゆりちゃん  まこちゃん...\n",
            "Name: text, dtype: object\n"
          ]
        }
      ]
    },
    {
      "cell_type": "code",
      "metadata": {
        "colab": {
          "base_uri": "https://localhost:8080/"
        },
        "id": "Paz6PahiaaEx",
        "outputId": "26fc6ad9-e8a3-405d-8ae8-421d37dd5b90"
      },
      "source": [
        "# 正規化処理の確認\n",
        "df_2 = text_norm(df_1)\n",
        "\n",
        "print(df_1['text'][100:110])\n",
        "print()\n",
        "print(df_2['text'][100:110])"
      ],
      "execution_count": null,
      "outputs": [
        {
          "output_type": "stream",
          "name": "stdout",
          "text": [
            "100    夏の疲れもあってか肌荒れに悩まされているミサトさん 34歳 営業  ファンデーションのノリも...\n",
            "101     ミニブログ と呼ばれるツイッター人気については 今さら説明する必要もないだろう 140文字...\n",
            "102    歳を経ていくと 世の中の仕組みや現実というものが イヤと言うほどわかってくるというもの しか...\n",
            "103    独女なら これまで1度や2度はこんなことを言われた経験をお持ちではないだろうか 霧子さん 3...\n",
            "104    美人は生まれたときから得をすることが多いように思える 何がいちばん得かって それはモテること...\n",
            "105    十数年前 初めて100円均一ショップ 以下100均 に行ったときは驚いた 食品から日用品 ち...\n",
            "106    この夏 地方都市に住む和歌子さん 28歳 は 母親の友人から見合いを勧められた 相手は35歳...\n",
            "107    先日 同窓会の幹事グループに加わったサキさん 独身/41歳 会社員  仲が良かった男友達 k...\n",
            "108    草食系男子 号泣男子 スカート男子 乙男 オトメン  女装子 ジョソコ など 化粧をしたり ...\n",
            "109    先日 ある企業が主催する座談会で 元気な女性グループと知り合った  ゆりちゃん  まこちゃん...\n",
            "Name: text, dtype: object\n",
            "\n",
            "100    夏の疲れもあってか肌荒れに悩まされているミサトさん 34歳 営業  ファンデーションのノリも...\n",
            "101     ミニブログ と呼ばれるツイッター人気については 今さら説明する必要もないだろう 140文字...\n",
            "102    歳を経ていくと 世の中の仕組みや現実というものが イヤと言うほどわかってくるというもの しか...\n",
            "103    独女なら これまで1度や2度はこんなことを言われた経験をお持ちではないだろうか 霧子さん 3...\n",
            "104    美人は生まれたときから得をすることが多いように思える 何がいちばん得かって それはモテること...\n",
            "105    十数年前 初めて100円均一ショップ 以下100均 に行ったときは驚いた 食品から日用品 ち...\n",
            "106    この夏 地方都市に住む和歌子さん 28歳 は 母親の友人から見合いを勧められた 相手は35歳...\n",
            "107    先日 同窓会の幹事グループに加わったサキさん 独身/41歳 会社員  仲が良かった男友達 k...\n",
            "108    草食系男子 号泣男子 スカート男子 乙男 オトメン  女装子 ジョソコ など 化粧をしたり ...\n",
            "109    先日 ある企業が主催する座談会で 元気な女性グループと知り合った  ゆりちゃん  まこちゃん...\n",
            "Name: text, dtype: object\n"
          ]
        }
      ]
    },
    {
      "cell_type": "code",
      "metadata": {
        "colab": {
          "base_uri": "https://localhost:8080/"
        },
        "id": "rfj-BKwTUdZU",
        "outputId": "a9d73a96-fce0-4d3e-efd6-ba81e58a7022"
      },
      "source": [
        "# 分かち書きしたデータセットを作成\n",
        "sentences = df_2[\"text\"].apply(mecab_tokenizer)\n",
        "\n",
        "# 作成されたデータのサンプル\n",
        "print(len(sentences))\n",
        "print(sentences[100:105])\n"
      ],
      "execution_count": null,
      "outputs": [
        {
          "output_type": "stream",
          "name": "stdout",
          "text": [
            "7376\n",
            "100    [夏, の, 疲れ, も, あっ, て, か, 肌荒れ, に, 悩まさ, れ, て, いる,...\n",
            "101    [ミニブログ, と, 呼ば, れる, ツイッター, 人気, について, は, 今さら, 説明...\n",
            "102    [歳, を, 経, て, いく, と, 世の中, の, 仕組み, や, 現実, という, も...\n",
            "103    [独, 女, なら, これ, まで, 1, 度, や, 2, 度, は, こんな, こと, ...\n",
            "104    [美人, は, 生まれ, た, とき, から, 得, を, する, こと, が, 多い, よ...\n",
            "Name: text, dtype: object\n"
          ]
        }
      ]
    },
    {
      "cell_type": "markdown",
      "metadata": {
        "id": "EiUxJ5YCCIeJ"
      },
      "source": [
        "# 学習により単語ベクトルを取得する\n",
        "\n",
        "- データセット\n",
        "  - 単語リスト\n",
        "  - クリーニング処理，正規化処理、分かち書き処理済み\n",
        "- Word2Vecで単語間の関係を学習\n",
        "  - ベクトルの次元数：200\n",
        "  - 最低出現頻度：5\n",
        "  - ウィンドゥ幅：15\n",
        "  - 学習アルゴリズム：skip-gram"
      ]
    },
    {
      "cell_type": "code",
      "metadata": {
        "colab": {
          "base_uri": "https://localhost:8080/"
        },
        "id": "RLBTD8dMgOi5",
        "outputId": "aae61c45-586e-462c-aac7-3d0c0ccb4bce"
      },
      "source": [
        "# Word2Veb用のディレクトリを作成する\n",
        "w2v_dir = \"./w2v\"\n",
        "\n",
        "if not os.path.exists(w2v_dir):\n",
        "    os.mkdir(w2v_dir)\n",
        "\n",
        "os.getcwd()\n",
        "print(os.listdir())"
      ],
      "execution_count": null,
      "outputs": [
        {
          "output_type": "stream",
          "name": "stdout",
          "text": [
            "['20170201.tar.bz2', 'jawiki', 'ldcc-20140209.tar.gz', 'dataset', 'w2v']\n"
          ]
        }
      ]
    },
    {
      "cell_type": "code",
      "metadata": {
        "colab": {
          "base_uri": "https://localhost:8080/"
        },
        "id": "m-Ss3XCKhVIt",
        "outputId": "d9c99c2f-f8dc-41fc-b6ce-dae89dc72b46"
      },
      "source": [
        "!ls -F\n"
      ],
      "execution_count": null,
      "outputs": [
        {
          "output_type": "stream",
          "name": "stdout",
          "text": [
            "20170201.tar.bz2  dataset/  jawiki/  ldcc-20140209.tar.gz  w2v/\n"
          ]
        }
      ]
    },
    {
      "cell_type": "code",
      "metadata": {
        "id": "90nO5qHfhhCC"
      },
      "source": [
        "# # Word2Vecの設定をする（100秒程度かかる）\n",
        "# from gensim.models import word2vec\n",
        "\n",
        "# word2vec_model = word2vec.Word2Vec(\n",
        "#         sentences, # 分かち書き，クリーニング処理，正規化処理済み単語リスト（コーパス）\n",
        "#         sg=1, # 学習アルゴリズム，1ならskip-gram，0ならCBOW．\n",
        "#     )"
      ],
      "execution_count": null,
      "outputs": []
    },
    {
      "cell_type": "code",
      "metadata": {
        "id": "seluuRdEcvJ4"
      },
      "source": [
        "# Word2Vecで学習する（1エポックで約70秒，10エポックで約10分）\n",
        "\n",
        "from gensim.models import word2vec\n",
        "import logging\n",
        "\n",
        "# ログ取得の設定をする\n",
        "logging.basicConfig(format='%(asctime)s : %(levelname)s : %(message)s', level=logging.INFO)\n",
        "\n",
        "# コーパスを指定する　# 分かち書き，クリーニング処理，正規化処理済み単語リスト\n",
        "# sentences\n",
        "# sentences = word2vec.Text8Corpus('./copus/jawiki_corpus_wakati.txt')\n",
        "\n",
        "# ベクターサイズ（ベクトルの次元）200，最低出現頻度5，ウィンドゥ幅15, skip-gram で学習する\n",
        "epoch = 10 # 約12分かかる\n",
        "model_ldn = word2vec.Word2Vec(sentences, vector_size=200, min_count=5, window=15, sg=1, epochs=epoch)\n"
      ],
      "execution_count": null,
      "outputs": []
    },
    {
      "cell_type": "code",
      "metadata": {
        "id": "PtpGtEYjydcU"
      },
      "source": [
        "# 学習済み単語ベクトルをファイルに出力する\n",
        "model_ldn.wv.save_word2vec_format('./w2v/ldn_w2v.vec', binary=True)"
      ],
      "execution_count": null,
      "outputs": []
    },
    {
      "cell_type": "markdown",
      "metadata": {
        "id": "4-6xxe7ekqqH"
      },
      "source": [
        "# 単語ベクトルで加減算・類似度・距離などの演算を行う"
      ]
    },
    {
      "cell_type": "markdown",
      "metadata": {
        "id": "C2O9-OVXePik"
      },
      "source": [
        "Word2Vecの使用法は[マニュアル](https://radimrehurek.com/gensim/models/word2vec.html#gensim.models.word2vec.Word2Vec)を参照"
      ]
    },
    {
      "cell_type": "code",
      "metadata": {
        "colab": {
          "base_uri": "https://localhost:8080/"
        },
        "id": "xDIBks7Vk5yX",
        "outputId": "05bddcb1-3122-492e-9b7f-142e5cd6b8fa"
      },
      "source": [
        "# 単語ベクトルファイルの確認\n",
        "\n",
        "!ls -l w2v"
      ],
      "execution_count": null,
      "outputs": [
        {
          "output_type": "stream",
          "name": "stdout",
          "text": [
            "total 20913\n",
            "-rw------- 1 root root 21414888 Jun 20 22:49 ldn_w2v.vec\n"
          ]
        }
      ]
    },
    {
      "cell_type": "code",
      "metadata": {
        "id": "JuSL6ozwlK6f"
      },
      "source": [
        "# 単語ベクトルファイルの読み込み\n",
        "from gensim.models import KeyedVectors\n",
        "\n",
        "model_ldn_w2v =KeyedVectors.load_word2vec_format('./w2v/ldn_w2v.vec', binary=True)\n"
      ],
      "execution_count": null,
      "outputs": []
    },
    {
      "cell_type": "code",
      "metadata": {
        "colab": {
          "base_uri": "https://localhost:8080/"
        },
        "id": "Ay68qu8YkvHi",
        "outputId": "f5e2544a-4d48-468e-cebf-88c66977f77f"
      },
      "source": [
        "# 単語ベクトル（200次元）\n",
        "wv1 = model_ldn_w2v['山形']\n",
        "print(wv1.shape)\n",
        "print(wv1)"
      ],
      "execution_count": null,
      "outputs": [
        {
          "output_type": "stream",
          "name": "stdout",
          "text": [
            "(200,)\n",
            "[-0.06388173 -0.02027029  0.35223556 -0.08359013  0.1492417  -0.25070816\n",
            " -0.1610405   0.516708    0.01149047  0.14671847 -0.29057816  0.00456569\n",
            "  0.2656718   0.13024145 -0.12059033  0.22109737  0.5494895   0.5230991\n",
            "  0.01493447 -0.56451803 -0.25565642  0.06269325  0.18837078 -0.13515626\n",
            "  0.03873313  0.27983698  0.14213715  0.27198502 -0.06410703  0.11774141\n",
            "  0.30702043  0.40249345  0.10785269 -0.38087475  0.01208199 -0.55145043\n",
            "  0.1053562  -0.30517364  0.3972101  -0.31051126 -0.35509142  0.03921518\n",
            " -0.22388092 -0.02642834  0.18578939  0.11962558 -0.4210954  -0.28161094\n",
            "  0.14001876  0.25655037 -0.47155133 -0.2583695  -0.38137087  0.06115125\n",
            "  0.19503717 -0.10974523  0.22441883 -0.49940106 -0.0293592  -0.26985824\n",
            " -0.21183297  0.0099112  -0.05550761  0.2942753  -0.1352657   0.1617146\n",
            "  0.03903295 -0.03919673  0.17759831  0.14282484  0.6389827  -0.73278016\n",
            "  0.18187574  0.39208883 -0.29032052  0.57729346 -0.00624618 -0.30605978\n",
            " -0.06890649 -0.26287714  0.5255539  -0.47906694 -0.14233612  0.02553905\n",
            "  0.39300242  0.11905747  0.12004157 -0.1440906  -0.19252214 -0.23719311\n",
            "  0.38840267  0.19005962  0.1336816   0.15014543  0.45402864  0.13305338\n",
            "  0.17264588 -0.15910354 -0.18611166 -0.60509825 -0.04714861 -0.05450576\n",
            "  0.60365415  0.00125102 -0.16366401 -0.0132583   0.42552888  0.2884134\n",
            " -0.08120283 -0.5215989  -0.06894965 -0.46671167  0.24495901 -0.45696253\n",
            "  0.0802505  -0.18884408  0.24478129 -0.09424367  0.38635883 -0.25864446\n",
            "  0.1454539  -0.17831162 -0.29528344 -0.3969343  -0.09552971  0.05873867\n",
            " -0.16614103 -0.43964365  0.4836351   0.2992135  -0.20841625 -0.08235986\n",
            "  0.15495245  0.43753448  0.22746912 -0.07710759  0.3931668  -0.18371929\n",
            " -0.06362294 -0.5767884  -0.28896067 -0.20801485  0.08787417 -0.19594258\n",
            "  0.19186601  0.26992282  0.0419756   0.27820098 -0.2746992  -0.37401554\n",
            " -0.33752    -0.21283169  0.2853098   0.20730814  0.01753479  0.12207656\n",
            " -0.07878573 -0.0384819   0.19561177 -0.03355065  0.41991132 -0.12192009\n",
            "  0.15064912  0.0837478   0.08527311 -0.42231163 -0.03979635 -0.0644613\n",
            " -0.37404773 -0.03953461  0.14589053  0.25315225  0.37408632 -1.0029386\n",
            " -0.28418285  0.25728744  0.32843253 -0.4766457   0.8338157   0.29469663\n",
            " -0.20322232 -0.42062196 -0.10123312 -0.08037288 -0.04990682  0.04183318\n",
            "  0.01159813  0.42510825  0.3566234   0.32788602  0.21514417  0.02613637\n",
            " -0.19504872  0.24594353  0.20362055  0.36830008 -0.12367827 -0.11357048\n",
            "  0.18722087 -0.00941255]\n"
          ]
        }
      ]
    },
    {
      "cell_type": "code",
      "metadata": {
        "colab": {
          "base_uri": "https://localhost:8080/"
        },
        "id": "5o2QRxZSzUXL",
        "outputId": "4f26e45a-2022-4bca-e7dc-83d756dfbfe5"
      },
      "source": [
        "# 単語の類似度\n",
        "similarity = model_ldn_w2v.similarity('山形', '山形')\n",
        "print(similarity)"
      ],
      "execution_count": null,
      "outputs": [
        {
          "output_type": "stream",
          "name": "stdout",
          "text": [
            "1.0\n"
          ]
        }
      ]
    },
    {
      "cell_type": "code",
      "metadata": {
        "colab": {
          "base_uri": "https://localhost:8080/"
        },
        "id": "3B1RURs6zUjx",
        "outputId": "caecfdce-f5f2-463c-d56b-e17f321e3351"
      },
      "source": [
        "# 単語の類似度\n",
        "similarity = model_ldn_w2v.similarity('山形', 'ニューヨーク')\n",
        "print(similarity)"
      ],
      "execution_count": null,
      "outputs": [
        {
          "output_type": "stream",
          "name": "stdout",
          "text": [
            "0.21549487\n"
          ]
        }
      ]
    },
    {
      "cell_type": "code",
      "metadata": {
        "colab": {
          "base_uri": "https://localhost:8080/"
        },
        "id": "5s7YuQKfyyOp",
        "outputId": "0ce4b382-8aa7-472e-a288-231462aa442c"
      },
      "source": [
        "# 単語の距離\n",
        "distance = model_ldn_w2v.distance('山形', '山形')\n",
        "print(distance)"
      ],
      "execution_count": null,
      "outputs": [
        {
          "output_type": "stream",
          "name": "stdout",
          "text": [
            "0.0\n"
          ]
        }
      ]
    },
    {
      "cell_type": "code",
      "metadata": {
        "colab": {
          "base_uri": "https://localhost:8080/"
        },
        "id": "bDKUXl1Myyac",
        "outputId": "ea395451-c55a-42eb-8a6c-f8520438186d"
      },
      "source": [
        "# 単語の距離\n",
        "distance = model_ldn_w2v.distance('山形', 'ニューヨーク')\n",
        "print(distance)"
      ],
      "execution_count": null,
      "outputs": [
        {
          "output_type": "stream",
          "name": "stdout",
          "text": [
            "0.7845051288604736\n"
          ]
        }
      ]
    },
    {
      "cell_type": "code",
      "metadata": {
        "colab": {
          "base_uri": "https://localhost:8080/"
        },
        "id": "oHVjnLh50Glq",
        "outputId": "0559de99-3b56-4f8c-ff23-8d0d86e7ce80"
      },
      "source": [
        "# 単語の演算　山形と近いのは\n",
        "words = model_ldn_w2v.similar_by_word('山形', topn=10)\n",
        "for word in words:\n",
        "  print(word)"
      ],
      "execution_count": null,
      "outputs": [
        {
          "output_type": "stream",
          "name": "stdout",
          "text": [
            "('盛岡', 0.5482286810874939)\n",
            "('薩摩', 0.5297088623046875)\n",
            "('丸亀', 0.5193943977355957)\n",
            "('幕張', 0.5173351168632507)\n",
            "('滋賀', 0.5172857642173767)\n",
            "('府中', 0.5044071078300476)\n",
            "('南国', 0.5032909512519836)\n",
            "('トシオ', 0.5024840831756592)\n",
            "('西宮', 0.5022903084754944)\n",
            "('新潟', 0.49498793482780457)\n"
          ]
        }
      ]
    },
    {
      "cell_type": "code",
      "metadata": {
        "colab": {
          "base_uri": "https://localhost:8080/"
        },
        "id": "MT7o_1wp0Jce",
        "outputId": "a83d876c-b77a-4284-9646-2098fb0cb8d5"
      },
      "source": [
        "# 単語の演算　山形と川と言ったら？\n",
        "words = model_ldn_w2v.most_similar(positive=['山形','川'], topn=5)\n",
        "for word in words:\n",
        "  print(word)"
      ],
      "execution_count": null,
      "outputs": [
        {
          "output_type": "stream",
          "name": "stdout",
          "text": [
            "('盛岡', 0.6339346766471863)\n",
            "('大岡', 0.600226879119873)\n",
            "('丸亀', 0.5940335392951965)\n",
            "('吉祥寺', 0.5924842953681946)\n",
            "('薩摩', 0.5825843811035156)\n"
          ]
        }
      ]
    },
    {
      "cell_type": "code",
      "metadata": {
        "colab": {
          "base_uri": "https://localhost:8080/",
          "height": 356
        },
        "id": "XQpCROBD1bxR",
        "outputId": "696f0c84-f900-41b5-d1e3-5f1fc21de4ba"
      },
      "source": [
        "# 類似の単語\n",
        "words = model_ldn_w2v.most_similar(positive=['フルート', 'ピアノ'], topn=3)\n",
        "for word in words:\n",
        "  print(word)"
      ],
      "execution_count": null,
      "outputs": [
        {
          "output_type": "error",
          "ename": "KeyError",
          "evalue": "\"Key 'フルート' not present in vocabulary\"",
          "traceback": [
            "\u001b[0;31m---------------------------------------------------------------------------\u001b[0m",
            "\u001b[0;31mKeyError\u001b[0m                                  Traceback (most recent call last)",
            "\u001b[0;32m<ipython-input-58-aed5d779607f>\u001b[0m in \u001b[0;36m<cell line: 2>\u001b[0;34m()\u001b[0m\n\u001b[1;32m      1\u001b[0m \u001b[0;31m# 類似の単語\u001b[0m\u001b[0;34m\u001b[0m\u001b[0;34m\u001b[0m\u001b[0m\n\u001b[0;32m----> 2\u001b[0;31m \u001b[0mwords\u001b[0m \u001b[0;34m=\u001b[0m \u001b[0mmodel_ldn_w2v\u001b[0m\u001b[0;34m.\u001b[0m\u001b[0mmost_similar\u001b[0m\u001b[0;34m(\u001b[0m\u001b[0mpositive\u001b[0m\u001b[0;34m=\u001b[0m\u001b[0;34m[\u001b[0m\u001b[0;34m'フルート'\u001b[0m\u001b[0;34m,\u001b[0m \u001b[0;34m'ピアノ'\u001b[0m\u001b[0;34m]\u001b[0m\u001b[0;34m,\u001b[0m \u001b[0mtopn\u001b[0m\u001b[0;34m=\u001b[0m\u001b[0;36m3\u001b[0m\u001b[0;34m)\u001b[0m\u001b[0;34m\u001b[0m\u001b[0;34m\u001b[0m\u001b[0m\n\u001b[0m\u001b[1;32m      3\u001b[0m \u001b[0;32mfor\u001b[0m \u001b[0mword\u001b[0m \u001b[0;32min\u001b[0m \u001b[0mwords\u001b[0m\u001b[0;34m:\u001b[0m\u001b[0;34m\u001b[0m\u001b[0;34m\u001b[0m\u001b[0m\n\u001b[1;32m      4\u001b[0m   \u001b[0mprint\u001b[0m\u001b[0;34m(\u001b[0m\u001b[0mword\u001b[0m\u001b[0;34m)\u001b[0m\u001b[0;34m\u001b[0m\u001b[0;34m\u001b[0m\u001b[0m\n",
            "\u001b[0;32m/usr/local/lib/python3.10/dist-packages/gensim/models/keyedvectors.py\u001b[0m in \u001b[0;36mmost_similar\u001b[0;34m(self, positive, negative, topn, clip_start, clip_end, restrict_vocab, indexer)\u001b[0m\n\u001b[1;32m    839\u001b[0m \u001b[0;34m\u001b[0m\u001b[0m\n\u001b[1;32m    840\u001b[0m         \u001b[0;31m# compute the weighted average of all keys\u001b[0m\u001b[0;34m\u001b[0m\u001b[0;34m\u001b[0m\u001b[0m\n\u001b[0;32m--> 841\u001b[0;31m         \u001b[0mmean\u001b[0m \u001b[0;34m=\u001b[0m \u001b[0mself\u001b[0m\u001b[0;34m.\u001b[0m\u001b[0mget_mean_vector\u001b[0m\u001b[0;34m(\u001b[0m\u001b[0mkeys\u001b[0m\u001b[0;34m,\u001b[0m \u001b[0mweight\u001b[0m\u001b[0;34m,\u001b[0m \u001b[0mpre_normalize\u001b[0m\u001b[0;34m=\u001b[0m\u001b[0;32mTrue\u001b[0m\u001b[0;34m,\u001b[0m \u001b[0mpost_normalize\u001b[0m\u001b[0;34m=\u001b[0m\u001b[0;32mTrue\u001b[0m\u001b[0;34m,\u001b[0m \u001b[0mignore_missing\u001b[0m\u001b[0;34m=\u001b[0m\u001b[0;32mFalse\u001b[0m\u001b[0;34m)\u001b[0m\u001b[0;34m\u001b[0m\u001b[0;34m\u001b[0m\u001b[0m\n\u001b[0m\u001b[1;32m    842\u001b[0m         all_keys = [\n\u001b[1;32m    843\u001b[0m             \u001b[0mself\u001b[0m\u001b[0;34m.\u001b[0m\u001b[0mget_index\u001b[0m\u001b[0;34m(\u001b[0m\u001b[0mkey\u001b[0m\u001b[0;34m)\u001b[0m \u001b[0;32mfor\u001b[0m \u001b[0mkey\u001b[0m \u001b[0;32min\u001b[0m \u001b[0mkeys\u001b[0m \u001b[0;32mif\u001b[0m \u001b[0misinstance\u001b[0m\u001b[0;34m(\u001b[0m\u001b[0mkey\u001b[0m\u001b[0;34m,\u001b[0m \u001b[0m_KEY_TYPES\u001b[0m\u001b[0;34m)\u001b[0m \u001b[0;32mand\u001b[0m \u001b[0mself\u001b[0m\u001b[0;34m.\u001b[0m\u001b[0mhas_index_for\u001b[0m\u001b[0;34m(\u001b[0m\u001b[0mkey\u001b[0m\u001b[0;34m)\u001b[0m\u001b[0;34m\u001b[0m\u001b[0;34m\u001b[0m\u001b[0m\n",
            "\u001b[0;32m/usr/local/lib/python3.10/dist-packages/gensim/models/keyedvectors.py\u001b[0m in \u001b[0;36mget_mean_vector\u001b[0;34m(self, keys, weights, pre_normalize, post_normalize, ignore_missing)\u001b[0m\n\u001b[1;32m    516\u001b[0m                 \u001b[0mtotal_weight\u001b[0m \u001b[0;34m+=\u001b[0m \u001b[0mabs\u001b[0m\u001b[0;34m(\u001b[0m\u001b[0mweights\u001b[0m\u001b[0;34m[\u001b[0m\u001b[0midx\u001b[0m\u001b[0;34m]\u001b[0m\u001b[0;34m)\u001b[0m\u001b[0;34m\u001b[0m\u001b[0;34m\u001b[0m\u001b[0m\n\u001b[1;32m    517\u001b[0m             \u001b[0;32melif\u001b[0m \u001b[0;32mnot\u001b[0m \u001b[0mignore_missing\u001b[0m\u001b[0;34m:\u001b[0m\u001b[0;34m\u001b[0m\u001b[0;34m\u001b[0m\u001b[0m\n\u001b[0;32m--> 518\u001b[0;31m                 \u001b[0;32mraise\u001b[0m \u001b[0mKeyError\u001b[0m\u001b[0;34m(\u001b[0m\u001b[0;34mf\"Key '{key}' not present in vocabulary\"\u001b[0m\u001b[0;34m)\u001b[0m\u001b[0;34m\u001b[0m\u001b[0;34m\u001b[0m\u001b[0m\n\u001b[0m\u001b[1;32m    519\u001b[0m \u001b[0;34m\u001b[0m\u001b[0m\n\u001b[1;32m    520\u001b[0m         \u001b[0;32mif\u001b[0m \u001b[0mtotal_weight\u001b[0m \u001b[0;34m>\u001b[0m \u001b[0;36m0\u001b[0m\u001b[0;34m:\u001b[0m\u001b[0;34m\u001b[0m\u001b[0;34m\u001b[0m\u001b[0m\n",
            "\u001b[0;31mKeyError\u001b[0m: \"Key 'フルート' not present in vocabulary\""
          ]
        }
      ]
    },
    {
      "cell_type": "code",
      "metadata": {
        "colab": {
          "base_uri": "https://localhost:8080/"
        },
        "id": "RYKM9dxkz8JU",
        "outputId": "f6046ef1-6b82-4716-fd9a-5c43770cc1f0"
      },
      "source": [
        "# 単語の演算　王様 - 男 + 女　は？（cos距離）\n",
        "words = model_ldn_w2v.most_similar_cosmul(positive=['王様', '女'], negative=['男'], topn=1)\n",
        "for word in words:\n",
        "  print(word)"
      ],
      "execution_count": null,
      "outputs": [
        {
          "output_type": "stream",
          "name": "stdout",
          "text": [
            "('涼', 0.8140841722488403)\n"
          ]
        }
      ]
    },
    {
      "cell_type": "code",
      "metadata": {
        "colab": {
          "base_uri": "https://localhost:8080/"
        },
        "id": "66wS3dJIkvQm",
        "outputId": "4ce5b654-2d4b-4bed-8917-ae1a6a9a49e1"
      },
      "source": [
        "# 単語の演算　ロンドン - イギリス + 日本　は？\n",
        "words = model_ldn_w2v.most_similar(positive=['ロンドン','日本'], negative=['イギリス'], topn=3)\n",
        "for word in words:\n",
        "  print(word)"
      ],
      "execution_count": null,
      "outputs": [
        {
          "output_type": "stream",
          "name": "stdout",
          "text": [
            "('五輪', 0.6290484070777893)\n",
            "('出場', 0.5611072778701782)\n",
            "('代表', 0.548005223274231)\n"
          ]
        }
      ]
    },
    {
      "cell_type": "code",
      "metadata": {
        "colab": {
          "base_uri": "https://localhost:8080/"
        },
        "id": "F0yqN5AOodYF",
        "outputId": "71321c12-10b9-44b1-c7e6-24d6dec9e582"
      },
      "source": [
        "# 仲間外れの単語は？\n",
        "\n",
        "l = [\"金沢\", \"ピアノ\", \"盛岡\", \"仙台\", \"水戸\", \"甲府\"]\n",
        "words = model_ldn_w2v.doesnt_match(l)\n",
        "print(words)\n",
        "# for word in words:\n",
        "#   print(word)"
      ],
      "execution_count": null,
      "outputs": [
        {
          "output_type": "stream",
          "name": "stdout",
          "text": [
            "ピアノ\n"
          ]
        }
      ]
    },
    {
      "cell_type": "code",
      "metadata": {
        "colab": {
          "base_uri": "https://localhost:8080/"
        },
        "id": "hSzqY09u35i6",
        "outputId": "85bf1ea4-16d8-4683-b99e-074bc39800a0"
      },
      "source": [
        "# 仲間外れの単語は？\n",
        "\n",
        "l = [\"金沢\", \"福岡\", \"盛岡\", \"仙台\", \"水戸\", \"甲府\"]\n",
        "words = model_ldn_w2v.doesnt_match(l)\n",
        "print(words)"
      ],
      "execution_count": null,
      "outputs": [
        {
          "output_type": "stream",
          "name": "stdout",
          "text": [
            "福岡\n"
          ]
        }
      ]
    },
    {
      "cell_type": "code",
      "metadata": {
        "colab": {
          "base_uri": "https://localhost:8080/"
        },
        "id": "L6nVEAZ-qdz0",
        "outputId": "28c43410-3c17-4634-a954-e45ed07c764d"
      },
      "source": [
        "# 単語の演算　猫といったら？\n",
        "words = model_ldn_w2v.similar_by_word('猫', topn=3)\n",
        "for word in words:\n",
        "  print(word)"
      ],
      "execution_count": null,
      "outputs": [
        {
          "output_type": "stream",
          "name": "stdout",
          "text": [
            "('ひろし', 0.6829724907875061)\n",
            "('カンボジア', 0.5780990719795227)\n",
            "('中平', 0.5157045722007751)\n"
          ]
        }
      ]
    },
    {
      "cell_type": "code",
      "metadata": {
        "colab": {
          "base_uri": "https://localhost:8080/"
        },
        "id": "MEhlDsNk4Yw9",
        "outputId": "eb0acf83-f3cb-4ae5-9b1b-183906560d41"
      },
      "source": [
        "# 単語の演算　ねこといったら？\n",
        "words = model_ldn_w2v.similar_by_word('ねこ', topn=3)\n",
        "for word in words:\n",
        "  print(word)"
      ],
      "execution_count": null,
      "outputs": [
        {
          "output_type": "stream",
          "name": "stdout",
          "text": [
            "('鳴き声', 0.6629879474639893)\n",
            "('ぃっしんぐ', 0.6547021865844727)\n",
            "('忍者', 0.6520165801048279)\n"
          ]
        }
      ]
    },
    {
      "cell_type": "code",
      "metadata": {
        "id": "YtdQ9HdhqeAo"
      },
      "source": [],
      "execution_count": null,
      "outputs": []
    },
    {
      "cell_type": "markdown",
      "metadata": {
        "id": "8Y37pHqN2YD0"
      },
      "source": [
        "# まとめ\n",
        "- 単語ベクトルを使えば単語間の演算ができることが理解できた\n",
        "- 日本語自然言語処理の基本手順が理解できた\n",
        "- 日本語自然言語処理で使われる用語が理解できた\n",
        "- 日本語自然言語処理の代表的なツールの使い方が理解できた\n",
        "- ニューラルネットワークを用いたWord2Vecの学習の仕組みが理解できた\n",
        "- Word2Vecで単語間の関係を反映した単語ベクトルを作成することができた\n",
        "- コーパスの種類やコーパスの大きさで単語ベクトル値が変わり，「賢さ」にも影響することが分かった"
      ]
    },
    {
      "cell_type": "code",
      "metadata": {
        "id": "5A26kc8MtTtB"
      },
      "source": [],
      "execution_count": null,
      "outputs": []
    }
  ]
}