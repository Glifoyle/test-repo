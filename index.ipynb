{
  "nbformat": 4,
  "nbformat_minor": 0,
  "metadata": {
    "colab": {
      "provenance": [],
      "include_colab_link": true
    },
    "kernelspec": {
      "name": "python3",
      "display_name": "Python 3"
    },
    "language_info": {
      "name": "python"
    }
  },
  "cells": [
    {
      "cell_type": "markdown",
      "metadata": {
        "id": "view-in-github",
        "colab_type": "text"
      },
      "source": [
        "<a href=\"https://colab.research.google.com/github/Glifoyle/test-repo/blob/master/index.ipynb\" target=\"_parent\"><img src=\"https://colab.research.google.com/assets/colab-badge.svg\" alt=\"Open In Colab\"/></a>"
      ]
    },
    {
      "cell_type": "markdown",
      "source": [
        "Click for the [JAPANESE　/ 日本語](https://colab.research.google.com/drive/1wYIcjC74RnB3HcpqCWWoXLUjVlD8N1YU?usp=sharing)　version of this course.\n",
        "\n",
        "[Youtube Channel](https://www.youtube.com/channel/UCDxi6j88IlZXsRcAUXlscgw)"
      ],
      "metadata": {
        "id": "Z3EdrlbeJHhN"
      }
    },
    {
      "cell_type": "markdown",
      "source": [
        "# Drone image processing for Forestry Applications\n",
        "\n",
        "Welcome to this course in Drone image processing. In this course we will start studying the basics of programming in Python and we will work all the way up to advanced programming techniques, object oriented programings and finally, Computer Vision and Deep Learning techniques for the analysis of drone-acquired forest images.\n",
        "\n",
        "It is going to be a bit of a long road, and you can just run ahead if you already know some of what is being explained. It is also going to be an ever changin journey, with contents being regularly updated, so what you are looking for may not be there just yet. If you find yourself in this situation, just drop me an email: yago@sci.kj.yamagata-u.ac.jp\n",
        "\n",
        "## Contents:\n",
        "\n",
        "This course is divided in four main blocks:\n",
        "\n",
        "\n",
        "\n",
        "**COURSE 1: Basic Programming in Python**   \n",
        "  - [UNIT 1, Variables](https://colab.research.google.com/drive/18g8-yovZKhVHFG2NBmtDnxWJyEin4Maw?usp=sharing) [\\*\\*+VIDEO LESSON\\*\\*](https://www.youtube.com/playlist?list=PLfZpLxnJ0nUcAvVSEYcBG6LO1Nezk3M0z)\n",
        "  - [UNIT 2, Boolean Variables and alternative (if) constructs](https://colab.research.google.com/drive/1ihf_-WDmcHtvqagSEH3fjQJwYjnMkuSG?usp=sharing)\n",
        "  - [UNIT 3, Basic Iterative Programming (for, while)](https://colab.research.google.com/drive/1C8Uy7Yah_RHJJRlSaNZeRB95FACkYFr2?usp=sharing)\n",
        "  - [UNIT 4, Writing your own functions in Python](https://colab.research.google.com/drive/1kwnspt3AIYLE9iazrHfISoqE2-0uMiiJ?usp=sharing) [\\*\\*+VIDEO LESSON\\*\\*](https://www.youtube.com/playlist?list=PLfZpLxnJ0nUetfPFRRM_evq-yrjzeeByu)\n",
        "  - [UNIT 5, Basics of File Input/Output in Python](https://colab.research.google.com/drive/1poJIjGjtHrBlTc4uvK_8oNNp16oIHYgj?usp=sharing)  \n",
        "\n",
        "**COURSE 2: Data Structures and Complexity**:\n",
        "  - [UNIT 1, Lists,](https://colab.research.google.com/drive/1eekt3yxO-rHbrc93PnS_J_l6SZMyvdbm?usp=sharing)        [\\*\\*+VIDEO LESSON\\*\\*](https://www.youtube.com/playlist?list=PLfZpLxnJ0nUdWvvdnTbR16SzacG2MEgOr)\n",
        "  - [UNIT 2, Tuples,](https://drive.google.com/file/d/1LM28aCmAHETJQCISa53195D31DjoUy8X/view?usp=sharing)[\\*\\*+VIDEO  LESSON\\*\\*](https://www.youtube.com/playlist?list=PLfZpLxnJ0nUcJMnZwsyXxJ8HXeOuaO4V1)\n",
        "  - [UNIT 3, Dictionaries,](https://drive.google.com/file/d/1YR-bkAW8ljIQpKYSfEBLZU4v-yt_sxZ4/view?usp=sharing)  [\\*\\*+VIDEO  LESSON\\*\\*](https://www.youtube.com/playlist?list=PLfZpLxnJ0nUc4gm-RzFvg4AxtKbvNtOUl)\n",
        "  -  [BONUS UNIT: Data Handling with Pandas](https://drive.google.com/file/d/1TJ2SrH0uunWf0ZEDGXxMUzFcARVxWaLd/view?usp=sharing)\n",
        "  - [EXAMPLE: Managing Volcanic Eruption Data](https://drive.google.com/file/d/1WcbKAfv56rmHZJstVLQpQdWPM3IJ3xuT/view?usp=sharing)\n",
        "  - [UNIT 4, Complexity Of Algorithms 1 (Basic Concepts),](https://colab.research.google.com/drive/1D_lKClZwAj9iRBvO4OUjrpZy5RWBSDnW?usp=sharing)[\\*\\*+VIDEO  LESSON\\*\\*](https://www.youtube.com/playlist?list=PLfZpLxnJ0nUdYB71w1jVvE5WYswLVpo4G)  \n",
        "  - [UNIT 5, Complexity Of Algorithms 2 (Computing Complexity),](https://colab.research.google.com/drive/1LuSHLxd7oXb5AHq4wam9SBjhbM2zerhw?usp=sharing)[\\*\\*+VIDEO  LESSON\\*\\*](https://www.youtube.com/playlist?list=PLfZpLxnJ0nUeUOfLJN0ZoGLXvgR6ZIRvW)\n",
        "  - [UNIT 6, Sorting Algorithms 1, Insertion Sort,](https://drive.google.com/file/d/1kkzOnmx8Q0U5ztfBlkRmbm_ZcKg6gP5v/view?usp=sharing)[\\*\\*VIDEO  LESSON\\*\\*](https://www.youtube.com/playlist?list=PLfZpLxnJ0nUdoKAjTVvN9-iUlnrMNLIdM)\n",
        "  - [UNIT 7, Recursive Programming and other complexity classes](https://drive.google.com/file/d/1kw8efSZnJhj6W44omkTCt8pAPtSJTO8I/view?usp=sharing) [\\*\\*+VIDEO  LESSON\\*\\*](https://www.youtube.com/playlist?list=PLfZpLxnJ0nUegVRWtB6g7WqnScKnaqaqX)\n",
        "  - [UNIT 8, Sorting Algorithms 2, Quicksort and Quasilinear sorting](https://drive.google.com/file/d/1TEwFK0dXnYq05lOt4RsSFa_LsugBdRJy/view?usp=sharing) [\\*\\*+VIDEO  LESSON\\*\\*](https://www.youtube.com/playlist?list=PLfZpLxnJ0nUcv0ErIineF51T22UhlF4ym)\n",
        "\n",
        "**COURSE 3: Object Oriented Programming**:\n",
        "\n",
        "  - [UNIT 1, Classes and objects](https://drive.google.com/file/d/16n-tUVNKGmW3CV8c5lROajUYvuGANFz3/view?usp=sharing) [\\*\\*+VIDEO  LESSON\\*\\*](https://www.youtube.com/playlist?list=PLfZpLxnJ0nUcRvFKf08Ng4MQLnFY8ZOto)\n",
        "  - [UNIT 2, a class example](https://colab.research.google.com/drive/1LUtbBM6dSo7J-TUDH6gfVBCoE5kZDAVb?usp=sharing)\n",
        "  - [UNIT 3, some advanced programming techniques](https://colab.research.google.com/drive/1sCWcLxO707u7Z5d3OyvI9IPBocHfMrA-?usp=sharing) [\\*\\*+VIDEO  LESSON\\*\\*](https://www.youtube.com/watch?v=hIi6oXZ9q3U&list=PLfZpLxnJ0nUc6a1xbt7QF3lkcsLW3Scic)\n",
        "  - [Example, Efficiency of For loop, List Comprehension, Map](https://drive.google.com/file/d/16dSe5u9v_XhqdmdVrPIfsmJfBTsIiVty/view?usp=sharing)\n",
        "  - [UNIT 4, Inheritance](https://colab.research.google.com/drive/1e2nX_yFwmaxhEZL0ji9o67hkhyh0OHgN?usp=sharing) [\\*\\*VIDEO  LESSON\\*\\*](https://www.youtube.com/playlist?list=PLfZpLxnJ0nUevxFZtFo2uIj8wkLn1e9sO)\n",
        "  - [UNIT 5, Multiple Inheritance](https://colab.research.google.com/drive/1NZ95wJJYJQkdV1534SpzGBM0fPytUsyh?usp=sharing) [\\*\\*VIDEO  LESSON\\*\\*](https://www.youtube.com/playlist?list=PLfZpLxnJ0nUeg8uGJoBfauUzrBH4RsmNs)\n",
        "  \n",
        "**COURSE 4: Introduction to Computer Vision and Deep Learning**\n",
        "  - [UNIT 1, Image Basics](https://colab.research.google.com/drive/1V9CjpBHjabFQCg793fiKkF0SDFGUtRtK?usp=sharing) , [\\*\\*VIDEO  LESSON\\*\\*]( https://www.youtube.com/playlist?list=PLfZpLxnJ0nUf_kniaJ6MT8x41zI8lkYtI)\n",
        "  - [Example, Global Maxima for treetop detection ](https://drive.google.com/file/d/1omsfVGuhoNNxJm0V54P7BeAIQj5xxbwZ/view?usp=sharing)\n",
        "  - [Example: Exploratory Data analysis and Visualization with Pandas and OpenCV](https://drive.google.com/file/d/12EFW8FYcLrIa3yp0SMKrse46Es1NmO8e/view?usp=sharing)\n",
        "  - UNIT 2, Morphological Operators, aplication to tree detection (to appear)\n",
        "  - [UNIT 3, Connected Components for patch extraction](https://colab.research.google.com/drive/18dMeSaJL22G_26FHrmIbz8n5plhe8mOZ?usp=sharing), [\\*\\*VIDEO  LESSON\\*\\*](https://www.youtube.com/playlist?list=PLfZpLxnJ0nUeK8KwoB1CpJPazJMnO6GZM)\n",
        "  - **Extra Video, Use of DL overview:** [\\*\\*VIDEO, How do we do Deep Learning \\*\\*](https://www.youtube.com/playlist?list=PLfZpLxnJ0nUcCBCke6HY4WbXjtfEZxF6k)\n",
        "  - [UNIT 4, Handling Custom Data in Pytorch](https://colab.research.google.com/drive/1zkdVQMv7YCBExHMJ1qCdrCba7Z1jsEi8?usp=sharing), [\\*\\*VIDEO  LESSON\\*\\*](https://www.youtube.com/watch?v=AtyxMuWr5OE&list=PLfZpLxnJ0nUfKAXQhZiIV-pLCudf50-Lg)\n",
        "  - [UNIT 5, fitting models to Data in Pytorch](https://colab.research.google.com/drive/19aSwAfd-hQ4COzJFSV89fgs6qbXSIGCn?usp=sharing), [\\*\\*VIDEO  LESSON\\*\\*](https://www.youtube.com/playlist?list=PLfZpLxnJ0nUcCBCke6HY4WbXjtfEZxF6k)\n",
        "  - [UNIT 6, Training Deep Learning Models in Pytorch](https://colab.research.google.com/drive/17ARJbWw2h1X5rQNEkh7n7oXXA9Bvb2P9?usp=sharing), [\\*\\*VIDEO  LESSON\\*\\*](https://www.youtube.com/playlist?list=PLfZpLxnJ0nUfd1_rxYBoWXRC2dKDQGA_k)\n",
        "  -**Extra Content, History of AI and Deep Learning**:\n",
        "      - [History Of AI and DL SLIDES](https://www.dropbox.com/s/013g46bgkyuzchi/U2DL.pdf?dl=0), [\\*\\*VIDEO, History of AI\\*\\*](https://www.youtube.com/playlist?list=PLfZpLxnJ0nUeMv8-5-6Uc-7V4molusKrO), [\\*\\*VIDEO, \"History\" of Deep Learning\\*\\*](https://www.youtube.com/playlist?list=PLfZpLxnJ0nUfc9ITvm2-UTF-dFBvx1hlA)\n",
        "      - [DL today SLIDES](https://www.dropbox.com/scl/fi/qpo9fm0ee4zoflosld7gv/U2DLHOWTO.pdf?rlkey=am1lip73vwp5avcrnx9xesfok&dl=0)\n",
        "      [\\*\\*VIDEO, Deep Learning Today \\*\\*](https://www.youtube.com/playlist?list=PLfZpLxnJ0nUcIbOqNgNnkdbn6wKDE9M_0)"
      ],
      "metadata": {
        "id": "jOIlNi1tSnm9"
      }
    },
    {
      "cell_type": "code",
      "source": [],
      "metadata": {
        "id": "eEAUqqOssOcL"
      },
      "execution_count": null,
      "outputs": []
    }
  ]
}