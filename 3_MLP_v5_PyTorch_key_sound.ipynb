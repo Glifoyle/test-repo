{
  "nbformat": 4,
  "nbformat_minor": 0,
  "metadata": {
    "colab": {
      "provenance": [],
      "include_colab_link": true
    },
    "kernelspec": {
      "name": "python3",
      "display_name": "Python 3"
    }
  },
  "cells": [
    {
      "cell_type": "markdown",
      "metadata": {
        "id": "view-in-github",
        "colab_type": "text"
      },
      "source": [
        "<a href=\"https://colab.research.google.com/github/Glifoyle/test-repo/blob/master/3_MLP_v5_PyTorch_key_sound.ipynb\" target=\"_parent\"><img src=\"https://colab.research.google.com/assets/colab-badge.svg\" alt=\"Open In Colab\"/></a>"
      ]
    },
    {
      "cell_type": "markdown",
      "metadata": {
        "id": "wQe0rk7M1AVe"
      },
      "source": [
        "# 目的：ニューラルネットワークの「学習」を音データに適用する\n",
        "\n",
        "### 概要：全結合型ニューラルネットワークMLP（Multi-Layer Perceptron：多層パーセプトロン）の学習により，キーボードの打鍵音からキーボードの種類を分類する\n",
        "\n",
        "<br>\n",
        "&copy; 2021-2024 Hiro Kimura\n",
        "<br>"
      ]
    },
    {
      "cell_type": "markdown",
      "metadata": {
        "id": "lOH2h5-xphdh"
      },
      "source": [
        "## ポイント：\n",
        "\n",
        "-  データには，**[Keyboard sound dataset](https://support.dl.sony.com/blogs-ja/dataset/keyboard-sound-dataset/)** を用いる\n",
        "-  学習モデルには，**MLP**（Multi-Layer Perceptron）モデルを用いる\n",
        "-  PyTorchフレームワークの機能（自動微分等）を用いる\n",
        "-  損失関数には正解ラベルと予測値との**交差エントロピー誤差**を用いる\n",
        "-  最適値の探索には，勾配降下法（**SGD**：確率的勾配降下法）を用いる\n",
        "\n"
      ]
    },
    {
      "cell_type": "markdown",
      "metadata": {
        "id": "oz4AOjLcb4iq"
      },
      "source": [
        "# 実習の準備\n",
        "\n",
        "1. タイムゾーンを東京に設定する\n",
        "1. デバイス（CPU / GPU）を設定する\n",
        "1. Google Driveをマウントする\n",
        "1. 今回の実習で使用する作業ディレクトリ（フォルダ）を作成する\n",
        "1. PyTorchフレームワークやライブラリを導入する\n",
        "\n"
      ]
    },
    {
      "cell_type": "code",
      "metadata": {
        "id": "t3SgszS33dKi"
      },
      "source": [
        "# pythonのバージョン確認\n",
        "# ! python --version"
      ],
      "execution_count": null,
      "outputs": []
    },
    {
      "cell_type": "code",
      "source": [],
      "metadata": {
        "id": "_2uRkXlitrXR"
      },
      "execution_count": null,
      "outputs": []
    },
    {
      "cell_type": "markdown",
      "metadata": {
        "id": "B-RV-JtnClJS"
      },
      "source": [
        "### タイムゾーンを東京に変更する"
      ]
    },
    {
      "cell_type": "code",
      "execution_count": null,
      "metadata": {
        "colab": {
          "base_uri": "https://localhost:8080/"
        },
        "id": "GTAXsW1ICspR",
        "outputId": "3be70be1-4efc-41b7-da61-b933f97f9435"
      },
      "outputs": [
        {
          "output_type": "stream",
          "name": "stdout",
          "text": [
            "Wed Apr 10 06:46:49 AM UTC 2024\n"
          ]
        }
      ],
      "source": [
        "!date"
      ]
    },
    {
      "cell_type": "code",
      "execution_count": null,
      "metadata": {
        "id": "yuXwhJiVCp6q"
      },
      "outputs": [],
      "source": [
        "!rm /etc/localtime\n",
        "!ln -s /usr/share/zoneinfo/Asia/Tokyo /etc/localtime"
      ]
    },
    {
      "cell_type": "code",
      "execution_count": null,
      "metadata": {
        "colab": {
          "base_uri": "https://localhost:8080/"
        },
        "id": "0z7Wc6keC1BZ",
        "outputId": "751f7c6f-d0a7-4319-d346-0daa15f9445f"
      },
      "outputs": [
        {
          "output_type": "stream",
          "name": "stdout",
          "text": [
            "Wed Apr 10 03:46:49 PM JST 2024\n"
          ]
        }
      ],
      "source": [
        "!date"
      ]
    },
    {
      "cell_type": "code",
      "source": [],
      "metadata": {
        "id": "SKGip9fxARUD"
      },
      "execution_count": null,
      "outputs": []
    },
    {
      "cell_type": "markdown",
      "metadata": {
        "id": "NVdmHArYftxF"
      },
      "source": [
        "### CPU / GPU"
      ]
    },
    {
      "cell_type": "code",
      "execution_count": null,
      "metadata": {
        "colab": {
          "base_uri": "https://localhost:8080/"
        },
        "id": "BcsLoB9oyk06",
        "outputId": "4a87a8b7-2eb2-428b-ff0d-b9ceece9f988"
      },
      "outputs": [
        {
          "output_type": "stream",
          "name": "stdout",
          "text": [
            "cpu\n"
          ]
        }
      ],
      "source": [
        "import torch\n",
        "\n",
        "# GPUの設定であればcuda，そうでなければcpu\n",
        "device = torch.device('cuda' if torch.cuda.is_available() else 'cpu')\n",
        "print(device)"
      ]
    },
    {
      "cell_type": "code",
      "execution_count": null,
      "metadata": {
        "id": "jOZiNOh8zgGf"
      },
      "outputs": [],
      "source": [
        "# # 割り当てられたGPUを調べる\n",
        "# !nvidia-smi"
      ]
    },
    {
      "cell_type": "code",
      "execution_count": null,
      "metadata": {
        "id": "0LV7vd93z027"
      },
      "outputs": [],
      "source": [
        "# # 割り当てられたGPUの機種を調べる\n",
        "# torch.cuda.get_device_name(0)"
      ]
    },
    {
      "cell_type": "code",
      "source": [],
      "metadata": {
        "id": "GnPkTWkvAQ4c"
      },
      "execution_count": null,
      "outputs": []
    },
    {
      "cell_type": "markdown",
      "metadata": {
        "id": "lBAhWQ24EFFn"
      },
      "source": [
        "## Google Driveをマウントする"
      ]
    },
    {
      "cell_type": "code",
      "metadata": {
        "id": "d1B9te2r41oF",
        "colab": {
          "base_uri": "https://localhost:8080/"
        },
        "outputId": "31ff6917-f8b7-4a89-c29f-2b807379cb6b"
      },
      "source": [
        "from google.colab import drive\n",
        "drive.mount('/content/drive')"
      ],
      "execution_count": null,
      "outputs": [
        {
          "output_type": "stream",
          "name": "stdout",
          "text": [
            "Mounted at /content/drive\n"
          ]
        }
      ]
    },
    {
      "cell_type": "code",
      "metadata": {
        "id": "DTL3aMd4vNAe",
        "colab": {
          "base_uri": "https://localhost:8080/",
          "height": 35
        },
        "outputId": "31f65ca4-c49f-43c2-ffce-f6c442959e6c"
      },
      "source": [
        "# 作業フォルダ（作業ディレクトリ）を作成\n",
        "import os\n",
        "\n",
        "chap_dir = \"/content/drive/MyDrive/practice/chap_sound\"\n",
        "if not os.path.exists(chap_dir): # ディレクトリが存在していなければ\n",
        "    # os.mkdir(chap_dir)\n",
        "    os.makedirs(chap_dir) # ディレクトリを，途中のディレクトリも含めて，作成する\n",
        "\n",
        "os.chdir(chap_dir) # 今回の作業ディレクトリに移動する\n",
        "os.getcwd() # 現在の作業ディレクトリを表示する"
      ],
      "execution_count": null,
      "outputs": [
        {
          "output_type": "execute_result",
          "data": {
            "text/plain": [
              "'/content/drive/MyDrive/practice/chap_sound'"
            ],
            "application/vnd.google.colaboratory.intrinsic+json": {
              "type": "string"
            }
          },
          "metadata": {},
          "execution_count": 9
        }
      ]
    },
    {
      "cell_type": "code",
      "source": [],
      "metadata": {
        "id": "HynH2-22PHLE"
      },
      "execution_count": null,
      "outputs": []
    },
    {
      "cell_type": "markdown",
      "metadata": {
        "id": "7lC6hmZ-ZgYn"
      },
      "source": [
        "# 「学習」の手順\n",
        "1. データを準備する\n",
        "  - データの読み込み\n",
        "  - データの前処理\n",
        "  - データの分割\n",
        "  - データローダの作成\n",
        "1. モデルを定義する\n",
        "1. モデルを訓練する\n",
        "  - 損失関数と最適化手法を設定\n",
        "  - 訓練を実施\n",
        "1. 学習済みモデルを性能評価する"
      ]
    },
    {
      "cell_type": "markdown",
      "metadata": {
        "id": "sYHuoBmbEM-s"
      },
      "source": [
        "# データを準備する\n"
      ]
    },
    {
      "cell_type": "markdown",
      "metadata": {
        "id": "zH0QCM8aW2l7"
      },
      "source": [
        "### データセット\n",
        "- [Keyboard sound dataset](https://support.dl.sony.com/blogs-ja/dataset/keyboard-sound-dataset/) ：\n",
        "  -  4種類のキーボードの打鍵音のデータセット\n",
        "    -  メンブレン、パンタグラフ、メカニカル青軸、メカニカル赤軸\n",
        "  -  データフォーマット：44.1kHz、0.25秒、16bit Wavファイル\n",
        "  -  データ数：学習用 315ファイル、評価用 100ファイル\n"
      ]
    },
    {
      "cell_type": "markdown",
      "metadata": {
        "id": "SK_OTS3BMlu8"
      },
      "source": [
        "## データの読み込み（ネットワークから）\n",
        "- 手順:\n",
        "  1. データ格納用ディレクトリの作成\n",
        "  1. カレントディレクトリにデータをダウンロード\n",
        "  1. 解凍"
      ]
    },
    {
      "cell_type": "code",
      "metadata": {
        "colab": {
          "base_uri": "https://localhost:8080/"
        },
        "id": "3baChHAsbK9P",
        "outputId": "7e73bc5f-e1bc-43f5-d04b-b04e268a134f"
      },
      "source": [
        "# データを格納するディレクトリを作成する\n",
        "\n",
        "data_dir = \"./dataset\"\n",
        "if not os.path.exists(data_dir): # ディレクトリが存在していなければ\n",
        "    os.makedirs(data_dir) # ディレクトリを，途中のディレクトリも含めて，作成する\n",
        "\n",
        "# 現在の作業ディレクトリを確認する\n",
        "!pwd\n",
        "!ls -F"
      ],
      "execution_count": null,
      "outputs": [
        {
          "output_type": "stream",
          "name": "stdout",
          "text": [
            "/content/drive/MyDrive/practice/chap_sound\n",
            "dataset/\n"
          ]
        }
      ]
    },
    {
      "cell_type": "code",
      "source": [
        "# カレントディレクトリにデータをダウンロード（一回だけ）\n",
        "! wget https://nnabla.org/sample/sample_dataset/keyboard_sound_dataset.zip"
      ],
      "metadata": {
        "id": "H_nteThZqYCw",
        "colab": {
          "base_uri": "https://localhost:8080/"
        },
        "outputId": "b096ad87-68e1-4fa6-f3ca-775248fe0a1f"
      },
      "execution_count": null,
      "outputs": [
        {
          "output_type": "stream",
          "name": "stdout",
          "text": [
            "--2024-04-10 15:48:33--  https://nnabla.org/sample/sample_dataset/keyboard_sound_dataset.zip\n",
            "Resolving nnabla.org (nnabla.org)... 99.86.229.76, 99.86.229.88, 99.86.229.55, ...\n",
            "Connecting to nnabla.org (nnabla.org)|99.86.229.76|:443... connected.\n",
            "HTTP request sent, awaiting response... 200 OK\n",
            "Length: 6749563 (6.4M) [application/zip]\n",
            "Saving to: ‘keyboard_sound_dataset.zip’\n",
            "\n",
            "keyboard_sound_data 100%[===================>]   6.44M  12.4MB/s    in 0.5s    \n",
            "\n",
            "2024-04-10 15:48:34 (12.4 MB/s) - ‘keyboard_sound_dataset.zip’ saved [6749563/6749563]\n",
            "\n"
          ]
        }
      ]
    },
    {
      "cell_type": "code",
      "source": [
        "# ファイルを確認する\n",
        "!ls -F"
      ],
      "metadata": {
        "id": "Qwf7t0wSr8tN",
        "colab": {
          "base_uri": "https://localhost:8080/"
        },
        "outputId": "40de66fd-9e79-4cbc-db94-4d180622767b"
      },
      "execution_count": null,
      "outputs": [
        {
          "output_type": "stream",
          "name": "stdout",
          "text": [
            "dataset/  keyboard_sound_dataset.zip\n"
          ]
        }
      ]
    },
    {
      "cell_type": "code",
      "source": [
        "# ./dataset 内に解凍する（一回だけ）\n",
        "!unzip -d ./dataset keyboard_sound_dataset.zip"
      ],
      "metadata": {
        "id": "CK49YXgzqX7Y",
        "colab": {
          "base_uri": "https://localhost:8080/"
        },
        "outputId": "a7fea5d2-3152-47c4-ed54-ceb6323b3cf6"
      },
      "execution_count": null,
      "outputs": [
        {
          "output_type": "stream",
          "name": "stdout",
          "text": [
            "Archive:  keyboard_sound_dataset.zip\n",
            "  inflating: ./dataset/blue/1033816.wav  \n",
            "  inflating: ./dataset/blue/1076009.wav  \n",
            "  inflating: ./dataset/blue/1119084.wav  \n",
            "  inflating: ./dataset/blue/1166246.wav  \n",
            "  inflating: ./dataset/blue/117431.wav  \n",
            "  inflating: ./dataset/blue/1207955.wav  \n",
            "  inflating: ./dataset/blue/1248893.wav  \n",
            "  inflating: ./dataset/blue/1288306.wav  \n",
            "  inflating: ./dataset/blue/1288316.wav  \n",
            "  inflating: ./dataset/blue/1330195.wav  \n",
            "  inflating: ./dataset/blue/1370659.wav  \n",
            "  inflating: ./dataset/blue/1410238.wav  \n",
            "  inflating: ./dataset/blue/1451054.wav  \n",
            "  inflating: ./dataset/blue/1497660.wav  \n",
            "  inflating: ./dataset/blue/153078.wav  \n",
            "  inflating: ./dataset/blue/1543050.wav  \n",
            "  inflating: ./dataset/blue/1543053.wav  \n",
            "  inflating: ./dataset/blue/1543106.wav  \n",
            "  inflating: ./dataset/blue/1591646.wav  \n",
            "  inflating: ./dataset/blue/1591710.wav  \n",
            "  inflating: ./dataset/blue/1639425.wav  \n",
            "  inflating: ./dataset/blue/1639426.wav  \n",
            "  inflating: ./dataset/blue/1685214.wav  \n",
            "  inflating: ./dataset/blue/1730492.wav  \n",
            "  inflating: ./dataset/blue/1730569.wav  \n",
            "  inflating: ./dataset/blue/1730595.wav  \n",
            "  inflating: ./dataset/blue/1773230.wav  \n",
            "  inflating: ./dataset/blue/1815496.wav  \n",
            "  inflating: ./dataset/blue/1858557.wav  \n",
            "  inflating: ./dataset/blue/1858558.wav  \n",
            "  inflating: ./dataset/blue/1858559.wav  \n",
            "  inflating: ./dataset/blue/1858560.wav  \n",
            "  inflating: ./dataset/blue/1858561.wav  \n",
            "  inflating: ./dataset/blue/1858571.wav  \n",
            "  inflating: ./dataset/blue/1858578.wav  \n",
            "  inflating: ./dataset/blue/1858579.wav  \n",
            "  inflating: ./dataset/blue/1858582.wav  \n",
            "  inflating: ./dataset/blue/1858597.wav  \n",
            "  inflating: ./dataset/blue/1858600.wav  \n",
            "  inflating: ./dataset/blue/1858601.wav  \n",
            "  inflating: ./dataset/blue/1858611.wav  \n",
            "  inflating: ./dataset/blue/1858612.wav  \n",
            "  inflating: ./dataset/blue/1858613.wav  \n",
            "  inflating: ./dataset/blue/1858614.wav  \n",
            "  inflating: ./dataset/blue/1858615.wav  \n",
            "  inflating: ./dataset/blue/1898885.wav  \n",
            "  inflating: ./dataset/blue/1940143.wav  \n",
            "  inflating: ./dataset/blue/1940144.wav  \n",
            "  inflating: ./dataset/blue/1940169.wav  \n",
            "  inflating: ./dataset/blue/1940170.wav  \n",
            "  inflating: ./dataset/blue/1979396.wav  \n",
            "  inflating: ./dataset/blue/2016095.wav  \n",
            "  inflating: ./dataset/blue/2054085.wav  \n",
            "  inflating: ./dataset/blue/2093875.wav  \n",
            "  inflating: ./dataset/blue/2133524.wav  \n",
            "  inflating: ./dataset/blue/2174446.wav  \n",
            "  inflating: ./dataset/blue/2218398.wav  \n",
            "  inflating: ./dataset/blue/2259182.wav  \n",
            "  inflating: ./dataset/blue/2301617.wav  \n",
            "  inflating: ./dataset/blue/2341968.wav  \n",
            "  inflating: ./dataset/blue/2342061.wav  \n",
            "  inflating: ./dataset/blue/238439.wav  \n",
            "  inflating: ./dataset/blue/2384696.wav  \n",
            "  inflating: ./dataset/blue/2424755.wav  \n",
            "  inflating: ./dataset/blue/2466093.wav  \n",
            "  inflating: ./dataset/blue/2516812.wav  \n",
            "  inflating: ./dataset/blue/2559349.wav  \n",
            "  inflating: ./dataset/blue/2601940.wav  \n",
            "  inflating: ./dataset/blue/2646903.wav  \n",
            "  inflating: ./dataset/blue/2691615.wav  \n",
            "  inflating: ./dataset/blue/2738622.wav  \n",
            "  inflating: ./dataset/blue/2784820.wav  \n",
            "  inflating: ./dataset/blue/2830804.wav  \n",
            "  inflating: ./dataset/blue/2876223.wav  \n",
            "  inflating: ./dataset/blue/288382.wav  \n",
            "  inflating: ./dataset/blue/2923756.wav  \n",
            "  inflating: ./dataset/blue/2968516.wav  \n",
            "  inflating: ./dataset/blue/3017103.wav  \n",
            "  inflating: ./dataset/blue/3064417.wav  \n",
            "  inflating: ./dataset/blue/3112568.wav  \n",
            "  inflating: ./dataset/blue/3159277.wav  \n",
            "  inflating: ./dataset/blue/3208358.wav  \n",
            "  inflating: ./dataset/blue/3252497.wav  \n",
            "  inflating: ./dataset/blue/3298955.wav  \n",
            "  inflating: ./dataset/blue/330425.wav  \n",
            "  inflating: ./dataset/blue/3343273.wav  \n",
            "  inflating: ./dataset/blue/3388529.wav  \n",
            "  inflating: ./dataset/blue/375199.wav  \n",
            "  inflating: ./dataset/blue/419481.wav  \n",
            "  inflating: ./dataset/blue/467874.wav  \n",
            "  inflating: ./dataset/blue/512965.wav  \n",
            "  inflating: ./dataset/blue/512969.wav  \n",
            "  inflating: ./dataset/blue/559949.wav  \n",
            "  inflating: ./dataset/blue/606350.wav  \n",
            "  inflating: ./dataset/blue/656772.wav  \n",
            "  inflating: ./dataset/blue/701569.wav  \n",
            "  inflating: ./dataset/blue/73631.wav  \n",
            "  inflating: ./dataset/blue/868587.wav  \n",
            "  inflating: ./dataset/blue/904075.wav  \n",
            "  inflating: ./dataset/blue/939591.wav  \n",
            "  inflating: ./dataset/LICENSE       \n",
            "  inflating: ./dataset/membrane/1028345.wav  \n",
            "  inflating: ./dataset/membrane/1028346.wav  \n",
            "  inflating: ./dataset/membrane/105178.wav  \n",
            "  inflating: ./dataset/membrane/1080541.wav  \n",
            "  inflating: ./dataset/membrane/1121038.wav  \n",
            "  inflating: ./dataset/membrane/1166822.wav  \n",
            "  inflating: ./dataset/membrane/1256986.wav  \n",
            "  inflating: ./dataset/membrane/1300640.wav  \n",
            "  inflating: ./dataset/membrane/1349545.wav  \n",
            "  inflating: ./dataset/membrane/1395070.wav  \n",
            "  inflating: ./dataset/membrane/142634.wav  \n",
            "  inflating: ./dataset/membrane/1441717.wav  \n",
            "  inflating: ./dataset/membrane/1489212.wav  \n",
            "  inflating: ./dataset/membrane/1532467.wav  \n",
            "  inflating: ./dataset/membrane/1579263.wav  \n",
            "  inflating: ./dataset/membrane/1637391.wav  \n",
            "  inflating: ./dataset/membrane/1683908.wav  \n",
            "  inflating: ./dataset/membrane/1728360.wav  \n",
            "  inflating: ./dataset/membrane/1773339.wav  \n",
            "  inflating: ./dataset/membrane/1820601.wav  \n",
            "  inflating: ./dataset/membrane/1866458.wav  \n",
            "  inflating: ./dataset/membrane/187060.wav  \n",
            "  inflating: ./dataset/membrane/1930761.wav  \n",
            "  inflating: ./dataset/membrane/1982680.wav  \n",
            "  inflating: ./dataset/membrane/2032925.wav  \n",
            "  inflating: ./dataset/membrane/2084076.wav  \n",
            "  inflating: ./dataset/membrane/2131653.wav  \n",
            "  inflating: ./dataset/membrane/2183963.wav  \n",
            "  inflating: ./dataset/membrane/2237306.wav  \n",
            "  inflating: ./dataset/membrane/2286410.wav  \n",
            "  inflating: ./dataset/membrane/228953.wav  \n",
            "  inflating: ./dataset/membrane/2341309.wav  \n",
            "  inflating: ./dataset/membrane/2391224.wav  \n",
            "  inflating: ./dataset/membrane/2445852.wav  \n",
            "  inflating: ./dataset/membrane/2500023.wav  \n",
            "  inflating: ./dataset/membrane/2552226.wav  \n",
            "  inflating: ./dataset/membrane/2607660.wav  \n",
            "  inflating: ./dataset/membrane/2661409.wav  \n",
            "  inflating: ./dataset/membrane/268484.wav  \n",
            "  inflating: ./dataset/membrane/2715640.wav  \n",
            "  inflating: ./dataset/membrane/2766380.wav  \n",
            "  inflating: ./dataset/membrane/2816861.wav  \n",
            "  inflating: ./dataset/membrane/2877410.wav  \n",
            "  inflating: ./dataset/membrane/2932264.wav  \n",
            "  inflating: ./dataset/membrane/2986335.wav  \n",
            "  inflating: ./dataset/membrane/3038876.wav  \n",
            "  inflating: ./dataset/membrane/3092373.wav  \n",
            "  inflating: ./dataset/membrane/311134.wav  \n",
            "  inflating: ./dataset/membrane/3142994.wav  \n",
            "  inflating: ./dataset/membrane/3191048.wav  \n",
            "  inflating: ./dataset/membrane/3245899.wav  \n",
            "  inflating: ./dataset/membrane/3298316.wav  \n",
            "  inflating: ./dataset/membrane/3350703.wav  \n",
            "  inflating: ./dataset/membrane/3407852.wav  \n",
            "  inflating: ./dataset/membrane/3459138.wav  \n",
            "  inflating: ./dataset/membrane/3511018.wav  \n",
            "  inflating: ./dataset/membrane/353656.wav  \n",
            "  inflating: ./dataset/membrane/3565998.wav  \n",
            "  inflating: ./dataset/membrane/3619452.wav  \n",
            "  inflating: ./dataset/membrane/3631179.wav  \n",
            "  inflating: ./dataset/membrane/3652507.wav  \n",
            "  inflating: ./dataset/membrane/3689147.wav  \n",
            "  inflating: ./dataset/membrane/3732937.wav  \n",
            "  inflating: ./dataset/membrane/3744045.wav  \n",
            "  inflating: ./dataset/membrane/3797728.wav  \n",
            "  inflating: ./dataset/membrane/3811179.wav  \n",
            "  inflating: ./dataset/membrane/3843264.wav  \n",
            "  inflating: ./dataset/membrane/3892764.wav  \n",
            "  inflating: ./dataset/membrane/3950810.wav  \n",
            "  inflating: ./dataset/membrane/397461.wav  \n",
            "  inflating: ./dataset/membrane/3988783.wav  \n",
            "  inflating: ./dataset/membrane/4042299.wav  \n",
            "  inflating: ./dataset/membrane/4108456.wav  \n",
            "  inflating: ./dataset/membrane/4154893.wav  \n",
            "  inflating: ./dataset/membrane/4200756.wav  \n",
            "  inflating: ./dataset/membrane/4249782.wav  \n",
            "  inflating: ./dataset/membrane/4294809.wav  \n",
            "  inflating: ./dataset/membrane/4342973.wav  \n",
            "  inflating: ./dataset/membrane/4358064.wav  \n",
            "  inflating: ./dataset/membrane/437867.wav  \n",
            "  inflating: ./dataset/membrane/4394437.wav  \n",
            "  inflating: ./dataset/membrane/4441164.wav  \n",
            "  inflating: ./dataset/membrane/4488470.wav  \n",
            "  inflating: ./dataset/membrane/4488521.wav  \n",
            "  inflating: ./dataset/membrane/4488522.wav  \n",
            "  inflating: ./dataset/membrane/4488640.wav  \n",
            "  inflating: ./dataset/membrane/476226.wav  \n",
            "  inflating: ./dataset/membrane/519510.wav  \n",
            "  inflating: ./dataset/membrane/559105.wav  \n",
            "  inflating: ./dataset/membrane/612164.wav  \n",
            "  inflating: ./dataset/membrane/647688.wav  \n",
            "  inflating: ./dataset/membrane/67777.wav  \n",
            "  inflating: ./dataset/membrane/694772.wav  \n",
            "  inflating: ./dataset/membrane/766417.wav  \n",
            "  inflating: ./dataset/membrane/800350.wav  \n",
            "  inflating: ./dataset/membrane/852968.wav  \n",
            "  inflating: ./dataset/membrane/890535.wav  \n",
            "  inflating: ./dataset/membrane/943681.wav  \n",
            "  inflating: ./dataset/membrane/983479.wav  \n",
            "  inflating: ./dataset/pantograph/1010562.wav  \n",
            "  inflating: ./dataset/pantograph/1054568.wav  \n",
            "  inflating: ./dataset/pantograph/1100560.wav  \n",
            "  inflating: ./dataset/pantograph/1146862.wav  \n",
            "  inflating: ./dataset/pantograph/1193160.wav  \n",
            "  inflating: ./dataset/pantograph/1237898.wav  \n",
            "  inflating: ./dataset/pantograph/1285131.wav  \n",
            "  inflating: ./dataset/pantograph/1330905.wav  \n",
            "  inflating: ./dataset/pantograph/1378953.wav  \n",
            "  inflating: ./dataset/pantograph/1429812.wav  \n",
            "  inflating: ./dataset/pantograph/1480065.wav  \n",
            "  inflating: ./dataset/pantograph/1529992.wav  \n",
            "  inflating: ./dataset/pantograph/1586404.wav  \n",
            "  inflating: ./dataset/pantograph/159783.wav  \n",
            "  inflating: ./dataset/pantograph/1630367.wav  \n",
            "  inflating: ./dataset/pantograph/1683379.wav  \n",
            "  inflating: ./dataset/pantograph/1723785.wav  \n",
            "  inflating: ./dataset/pantograph/1778305.wav  \n",
            "  inflating: ./dataset/pantograph/1826473.wav  \n",
            "  inflating: ./dataset/pantograph/1882308.wav  \n",
            "  inflating: ./dataset/pantograph/1933958.wav  \n",
            "  inflating: ./dataset/pantograph/1985609.wav  \n",
            "  inflating: ./dataset/pantograph/2038810.wav  \n",
            "  inflating: ./dataset/pantograph/206138.wav  \n",
            "  inflating: ./dataset/pantograph/206142.wav  \n",
            "  inflating: ./dataset/pantograph/2091695.wav  \n",
            "  inflating: ./dataset/pantograph/2146502.wav  \n",
            "  inflating: ./dataset/pantograph/2200048.wav  \n",
            "  inflating: ./dataset/pantograph/2257558.wav  \n",
            "  inflating: ./dataset/pantograph/2309455.wav  \n",
            "  inflating: ./dataset/pantograph/2362488.wav  \n",
            "  inflating: ./dataset/pantograph/2422641.wav  \n",
            "  inflating: ./dataset/pantograph/2476883.wav  \n",
            "  inflating: ./dataset/pantograph/251101.wav  \n",
            "  inflating: ./dataset/pantograph/2530225.wav  \n",
            "  inflating: ./dataset/pantograph/2582672.wav  \n",
            "  inflating: ./dataset/pantograph/2631722.wav  \n",
            "  inflating: ./dataset/pantograph/2684345.wav  \n",
            "  inflating: ./dataset/pantograph/2734736.wav  \n",
            "  inflating: ./dataset/pantograph/2792851.wav  \n",
            "  inflating: ./dataset/pantograph/2848305.wav  \n",
            "  inflating: ./dataset/pantograph/2908224.wav  \n",
            "  inflating: ./dataset/pantograph/294830.wav  \n",
            "  inflating: ./dataset/pantograph/2967794.wav  \n",
            "  inflating: ./dataset/pantograph/3028584.wav  \n",
            "  inflating: ./dataset/pantograph/3087318.wav  \n",
            "  inflating: ./dataset/pantograph/3148524.wav  \n",
            "  inflating: ./dataset/pantograph/3212516.wav  \n",
            "  inflating: ./dataset/pantograph/3269487.wav  \n",
            "  inflating: ./dataset/pantograph/3324094.wav  \n",
            "  inflating: ./dataset/pantograph/3383532.wav  \n",
            "  inflating: ./dataset/pantograph/340437.wav  \n",
            "  inflating: ./dataset/pantograph/340450.wav  \n",
            "  inflating: ./dataset/pantograph/3445927.wav  \n",
            "  inflating: ./dataset/pantograph/3503673.wav  \n",
            "  inflating: ./dataset/pantograph/3560825.wav  \n",
            "  inflating: ./dataset/pantograph/3620633.wav  \n",
            "  inflating: ./dataset/pantograph/3678788.wav  \n",
            "  inflating: ./dataset/pantograph/3739947.wav  \n",
            "  inflating: ./dataset/pantograph/3794236.wav  \n",
            "  inflating: ./dataset/pantograph/3853661.wav  \n",
            "  inflating: ./dataset/pantograph/385753.wav  \n",
            "  inflating: ./dataset/pantograph/3910990.wav  \n",
            "  inflating: ./dataset/pantograph/3970555.wav  \n",
            "  inflating: ./dataset/pantograph/4034253.wav  \n",
            "  inflating: ./dataset/pantograph/4094972.wav  \n",
            "  inflating: ./dataset/pantograph/4155057.wav  \n",
            "  inflating: ./dataset/pantograph/4216359.wav  \n",
            "  inflating: ./dataset/pantograph/4275015.wav  \n",
            "  inflating: ./dataset/pantograph/432909.wav  \n",
            "  inflating: ./dataset/pantograph/480114.wav  \n",
            "  inflating: ./dataset/pantograph/528744.wav  \n",
            "  inflating: ./dataset/pantograph/572048.wav  \n",
            "  inflating: ./dataset/pantograph/616897.wav  \n",
            "  inflating: ./dataset/pantograph/739391.wav  \n",
            "  inflating: ./dataset/pantograph/783907.wav  \n",
            "  inflating: ./dataset/pantograph/826462.wav  \n",
            "  inflating: ./dataset/pantograph/869553.wav  \n",
            "  inflating: ./dataset/pantograph/914608.wav  \n",
            "  inflating: ./dataset/pantograph/961544.wav  \n",
            "  inflating: ./dataset/red/1012693.wav  \n",
            "  inflating: ./dataset/red/1051523.wav  \n",
            "  inflating: ./dataset/red/1089444.wav  \n",
            "  inflating: ./dataset/red/1130055.wav  \n",
            "  inflating: ./dataset/red/113728.wav  \n",
            "  inflating: ./dataset/red/1166657.wav  \n",
            "  inflating: ./dataset/red/1204217.wav  \n",
            "  inflating: ./dataset/red/1242722.wav  \n",
            "  inflating: ./dataset/red/1281140.wav  \n",
            "  inflating: ./dataset/red/1319740.wav  \n",
            "  inflating: ./dataset/red/1359162.wav  \n",
            "  inflating: ./dataset/red/1397925.wav  \n",
            "  inflating: ./dataset/red/1440223.wav  \n",
            "  inflating: ./dataset/red/1525916.wav  \n",
            "  inflating: ./dataset/red/153647.wav  \n",
            "  inflating: ./dataset/red/1565840.wav  \n",
            "  inflating: ./dataset/red/1615647.wav  \n",
            "  inflating: ./dataset/red/1615648.wav  \n",
            "  inflating: ./dataset/red/1615649.wav  \n",
            "  inflating: ./dataset/red/1615667.wav  \n",
            "  inflating: ./dataset/red/1615670.wav  \n",
            "  inflating: ./dataset/red/1615682.wav  \n",
            "  inflating: ./dataset/red/1615685.wav  \n",
            "  inflating: ./dataset/red/1615686.wav  \n",
            "  inflating: ./dataset/red/1615699.wav  \n",
            "  inflating: ./dataset/red/1615700.wav  \n",
            "  inflating: ./dataset/red/1615702.wav  \n",
            "  inflating: ./dataset/red/1615703.wav  \n",
            "  inflating: ./dataset/red/1615704.wav  \n",
            "  inflating: ./dataset/red/1658548.wav  \n",
            "  inflating: ./dataset/red/1658549.wav  \n",
            "  inflating: ./dataset/red/1658552.wav  \n",
            "  inflating: ./dataset/red/1658573.wav  \n",
            "  inflating: ./dataset/red/1702891.wav  \n",
            "  inflating: ./dataset/red/1748156.wav  \n",
            "  inflating: ./dataset/red/1748157.wav  \n",
            "  inflating: ./dataset/red/1794759.wav  \n",
            "  inflating: ./dataset/red/1836955.wav  \n",
            "  inflating: ./dataset/red/1878704.wav  \n",
            "  inflating: ./dataset/red/1921784.wav  \n",
            "  inflating: ./dataset/red/1921785.wav  \n",
            "  inflating: ./dataset/red/1921808.wav  \n",
            "  inflating: ./dataset/red/192856.wav  \n",
            "  inflating: ./dataset/red/1966748.wav  \n",
            "  inflating: ./dataset/red/2009728.wav  \n",
            "  inflating: ./dataset/red/2051702.wav  \n",
            "  inflating: ./dataset/red/2051703.wav  \n",
            "  inflating: ./dataset/red/2093839.wav  \n",
            "  inflating: ./dataset/red/2132189.wav  \n",
            "  inflating: ./dataset/red/2174217.wav  \n",
            "  inflating: ./dataset/red/2217623.wav  \n",
            "  inflating: ./dataset/red/2258757.wav  \n",
            "  inflating: ./dataset/red/2258758.wav  \n",
            "  inflating: ./dataset/red/2258784.wav  \n",
            "  inflating: ./dataset/red/2302211.wav  \n",
            "  inflating: ./dataset/red/232984.wav  \n",
            "  inflating: ./dataset/red/2344411.wav  \n",
            "  inflating: ./dataset/red/2387774.wav  \n",
            "  inflating: ./dataset/red/2432733.wav  \n",
            "  inflating: ./dataset/red/2476891.wav  \n",
            "  inflating: ./dataset/red/2520235.wav  \n",
            "  inflating: ./dataset/red/2563149.wav  \n",
            "  inflating: ./dataset/red/2611018.wav  \n",
            "  inflating: ./dataset/red/2652788.wav  \n",
            "  inflating: ./dataset/red/2695180.wav  \n",
            "  inflating: ./dataset/red/2737913.wav  \n",
            "  inflating: ./dataset/red/273918.wav  \n",
            "  inflating: ./dataset/red/2783251.wav  \n",
            "  inflating: ./dataset/red/2827294.wav  \n",
            "  inflating: ./dataset/red/2870480.wav  \n",
            "  inflating: ./dataset/red/2913161.wav  \n",
            "  inflating: ./dataset/red/2956039.wav  \n",
            "  inflating: ./dataset/red/3000358.wav  \n",
            "  inflating: ./dataset/red/3043142.wav  \n",
            "  inflating: ./dataset/red/3085535.wav  \n",
            "  inflating: ./dataset/red/312273.wav  \n",
            "  inflating: ./dataset/red/3128500.wav  \n",
            "  inflating: ./dataset/red/3170666.wav  \n",
            "  inflating: ./dataset/red/3213595.wav  \n",
            "  inflating: ./dataset/red/3254256.wav  \n",
            "  inflating: ./dataset/red/3298255.wav  \n",
            "  inflating: ./dataset/red/3342279.wav  \n",
            "  inflating: ./dataset/red/3385485.wav  \n",
            "  inflating: ./dataset/red/3430149.wav  \n",
            "  inflating: ./dataset/red/3473917.wav  \n",
            "  inflating: ./dataset/red/3516833.wav  \n",
            "  inflating: ./dataset/red/352024.wav  \n",
            "  inflating: ./dataset/red/3562283.wav  \n",
            "  inflating: ./dataset/red/3604151.wav  \n",
            "  inflating: ./dataset/red/3645622.wav  \n",
            "  inflating: ./dataset/red/3686086.wav  \n",
            "  inflating: ./dataset/red/3728184.wav  \n",
            "  inflating: ./dataset/red/3768945.wav  \n",
            "  inflating: ./dataset/red/3808505.wav  \n",
            "  inflating: ./dataset/red/3852023.wav  \n",
            "  inflating: ./dataset/red/3893614.wav  \n",
            "  inflating: ./dataset/red/390612.wav  \n",
            "  inflating: ./dataset/red/3933971.wav  \n",
            "  inflating: ./dataset/red/3977304.wav  \n",
            "  inflating: ./dataset/red/4021446.wav  \n",
            "  inflating: ./dataset/red/4067229.wav  \n",
            "  inflating: ./dataset/red/4115660.wav  \n",
            "  inflating: ./dataset/red/4165451.wav  \n",
            "  inflating: ./dataset/red/4214727.wav  \n",
            "  inflating: ./dataset/red/4264849.wav  \n",
            "  inflating: ./dataset/red/427325.wav  \n",
            "  inflating: ./dataset/red/4313261.wav  \n",
            "  inflating: ./dataset/red/4362574.wav  \n",
            "  inflating: ./dataset/red/4374545.wav  \n",
            "  inflating: ./dataset/red/4410985.wav  \n",
            "  inflating: ./dataset/red/4454275.wav  \n",
            "  inflating: ./dataset/red/4504904.wav  \n",
            "  inflating: ./dataset/red/4553248.wav  \n",
            "  inflating: ./dataset/red/4597933.wav  \n",
            "  inflating: ./dataset/red/4609726.wav  \n",
            "  inflating: ./dataset/red/4651345.wav  \n",
            "  inflating: ./dataset/red/468528.wav  \n",
            "  inflating: ./dataset/red/4698113.wav  \n",
            "  inflating: ./dataset/red/4745025.wav  \n",
            "  inflating: ./dataset/red/4793985.wav  \n",
            "  inflating: ./dataset/red/4845932.wav  \n",
            "  inflating: ./dataset/red/4894717.wav  \n",
            "  inflating: ./dataset/red/506970.wav  \n",
            "  inflating: ./dataset/red/546304.wav  \n",
            "  inflating: ./dataset/red/586123.wav  \n",
            "  inflating: ./dataset/red/625438.wav  \n",
            "  inflating: ./dataset/red/664724.wav  \n",
            "  inflating: ./dataset/red/703619.wav  \n",
            "  inflating: ./dataset/red/70716.wav  \n",
            "  inflating: ./dataset/red/742713.wav  \n",
            "  inflating: ./dataset/red/781003.wav  \n",
            "  inflating: ./dataset/red/820973.wav  \n",
            "  inflating: ./dataset/red/861045.wav  \n",
            "  inflating: ./dataset/red/900321.wav  \n",
            "  inflating: ./dataset/red/939948.wav  \n",
            "  inflating: ./dataset/red/976309.wav  \n",
            "  inflating: ./dataset/wav_keyboard_sound_test.csv  \n",
            "  inflating: ./dataset/wav_keyboard_sound_train.csv  \n"
          ]
        }
      ]
    },
    {
      "cell_type": "code",
      "source": [
        "# 解凍したファイルを確認する\n",
        "!ls -F ./dataset"
      ],
      "metadata": {
        "colab": {
          "base_uri": "https://localhost:8080/"
        },
        "id": "8cLSl3OKqX1E",
        "outputId": "15aae196-0682-43e6-b4b2-fc1f25226b5e"
      },
      "execution_count": null,
      "outputs": [
        {
          "output_type": "stream",
          "name": "stdout",
          "text": [
            "blue/\t membrane/    red/\t\t\t   wav_keyboard_sound_train.csv\n",
            "LICENSE  pantograph/  wav_keyboard_sound_test.csv\n"
          ]
        }
      ]
    },
    {
      "cell_type": "code",
      "source": [],
      "metadata": {
        "id": "_ApMUSaGDe_4"
      },
      "execution_count": null,
      "outputs": []
    },
    {
      "cell_type": "markdown",
      "source": [
        "### 音声データを音として確認する"
      ],
      "metadata": {
        "id": "K1E-z70jug1F"
      }
    },
    {
      "cell_type": "code",
      "source": [
        "from IPython.display import Audio"
      ],
      "metadata": {
        "id": "t4L2L9r6qXtg"
      },
      "execution_count": null,
      "outputs": []
    },
    {
      "cell_type": "markdown",
      "source": [
        "各カテゴリーの最初のファイル:\n",
        "```\n",
        "./dataset/blue/1033816.wav  \n",
        "./dataset/membrane/1028345.wav  \n",
        "./dataset/pantograph/1010562.wav  \n",
        "./dataset/red/1012693.wav  \n",
        "```"
      ],
      "metadata": {
        "id": "yn2_y6yrvxTj"
      }
    },
    {
      "cell_type": "code",
      "source": [
        "# 音声ファイルを再生する（メカニカル青軸）\n",
        "\n",
        "file_path1 = \"./dataset/blue/1033816.wav\"\n",
        "Audio(file_path1)"
      ],
      "metadata": {
        "colab": {
          "base_uri": "https://localhost:8080/",
          "height": 61
        },
        "id": "U8nO1QumvoCa",
        "outputId": "2af21c4d-1645-4a18-8588-d9a6625e984e"
      },
      "execution_count": null,
      "outputs": [
        {
          "output_type": "execute_result",
          "data": {
            "text/plain": [
              "<IPython.lib.display.Audio object>"
            ],
            "text/html": [
              "\n",
              "                <audio  controls=\"controls\" >\n",
              "                    <source src=\"data:audio/x-wav;base64,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\" type=\"audio/x-wav\" />\n",
              "                    Your browser does not support the audio element.\n",
              "                </audio>\n",
              "              "
            ]
          },
          "metadata": {},
          "execution_count": 22
        }
      ]
    },
    {
      "cell_type": "code",
      "source": [
        "# 音声ファイルを再生する（メンブレン）\n",
        "\n",
        "file_path2 = \"./dataset/membrane/1028345.wav\"\n",
        "Audio(file_path2)\n"
      ],
      "metadata": {
        "colab": {
          "base_uri": "https://localhost:8080/",
          "height": 61
        },
        "id": "xtpTlvIHvn6L",
        "outputId": "cadc0af6-697b-4454-9059-8d0a24aa473e"
      },
      "execution_count": null,
      "outputs": [
        {
          "output_type": "execute_result",
          "data": {
            "text/plain": [
              "<IPython.lib.display.Audio object>"
            ],
            "text/html": [
              "\n",
              "                <audio  controls=\"controls\" >\n",
              "                    <source src=\"data:audio/x-wav;base64,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\" type=\"audio/x-wav\" />\n",
              "                    Your browser does not support the audio element.\n",
              "                </audio>\n",
              "              "
            ]
          },
          "metadata": {},
          "execution_count": 23
        }
      ]
    },
    {
      "cell_type": "code",
      "source": [
        "# 音声ファイルを再生する（パンタグラフ）\n",
        "\n",
        "file_path3 = \"./dataset/pantograph/1010562.wav\"\n",
        "Audio(file_path3)"
      ],
      "metadata": {
        "colab": {
          "base_uri": "https://localhost:8080/",
          "height": 61
        },
        "id": "UJMYxpwtvnyt",
        "outputId": "880f6678-069e-458e-8abf-17b2272af411"
      },
      "execution_count": null,
      "outputs": [
        {
          "output_type": "execute_result",
          "data": {
            "text/plain": [
              "<IPython.lib.display.Audio object>"
            ],
            "text/html": [
              "\n",
              "                <audio  controls=\"controls\" >\n",
              "                    <source src=\"data:audio/x-wav;base64,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\" type=\"audio/x-wav\" />\n",
              "                    Your browser does not support the audio element.\n",
              "                </audio>\n",
              "              "
            ]
          },
          "metadata": {},
          "execution_count": 24
        }
      ]
    },
    {
      "cell_type": "code",
      "source": [
        "# 音声ファイルを再生する（メカニカル赤軸）\n",
        "\n",
        "file_path4 = \"./dataset/red/1012693.wav\"\n",
        "Audio(file_path4)"
      ],
      "metadata": {
        "colab": {
          "base_uri": "https://localhost:8080/",
          "height": 61
        },
        "id": "B3WH_u5_xBb-",
        "outputId": "8fd18708-75fd-4072-cd71-138fbe6b9c14"
      },
      "execution_count": null,
      "outputs": [
        {
          "output_type": "execute_result",
          "data": {
            "text/plain": [
              "<IPython.lib.display.Audio object>"
            ],
            "text/html": [
              "\n",
              "                <audio  controls=\"controls\" >\n",
              "                    <source src=\"data:audio/x-wav;base64,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\" type=\"audio/x-wav\" />\n",
              "                    Your browser does not support the audio element.\n",
              "                </audio>\n",
              "              "
            ]
          },
          "metadata": {},
          "execution_count": 25
        }
      ]
    },
    {
      "cell_type": "markdown",
      "source": [
        "### 音声データを波形として確認する"
      ],
      "metadata": {
        "id": "eGw_npfq_Q68"
      }
    },
    {
      "cell_type": "code",
      "source": [
        "import soundfile as sf\n",
        "import numpy as np\n",
        "from matplotlib import pyplot as plt"
      ],
      "metadata": {
        "id": "MOgiHIznxBIT"
      },
      "execution_count": null,
      "outputs": []
    },
    {
      "cell_type": "code",
      "source": [
        "#\n",
        "data, samplerate =sf.read(file_path1)\n",
        "print(f\"Data shape: {data.shape}, Sample Rate: {samplerate}\")"
      ],
      "metadata": {
        "colab": {
          "base_uri": "https://localhost:8080/"
        },
        "id": "7ELHFlAL_zl3",
        "outputId": "7aa7671d-270b-4db7-a542-04bd2ceedbe6"
      },
      "execution_count": null,
      "outputs": [
        {
          "output_type": "stream",
          "name": "stdout",
          "text": [
            "Data shape: (11025,), Sample Rate: 44100\n"
          ]
        }
      ]
    },
    {
      "cell_type": "code",
      "source": [
        "t = np.arange(0, len(data)) / samplerate\n",
        "plt.plot(t, data)\n",
        "plt.grid(axis=\"both\") # グリッド表示\n",
        "plt.show()"
      ],
      "metadata": {
        "colab": {
          "base_uri": "https://localhost:8080/",
          "height": 430
        },
        "id": "zeJ_hZpI_zXG",
        "outputId": "a259f6cf-802f-439f-9b9a-3b02b51f8637"
      },
      "execution_count": null,
      "outputs": [
        {
          "output_type": "display_data",
          "data": {
            "text/plain": [
              "<Figure size 640x480 with 1 Axes>"
            ],
            "image/png": "[encoded data removed]"
          },
          "metadata": {}
        }
      ]
    },
    {
      "cell_type": "code",
      "source": [
        "#\n",
        "data, samplerate =sf.read(file_path2)\n",
        "print(f\"Data shape: {data.shape}, Sample Rate: {samplerate}\")"
      ],
      "metadata": {
        "colab": {
          "base_uri": "https://localhost:8080/"
        },
        "outputId": "a7429cee-91d4-43f9-dc18-8b83a366ab5c",
        "id": "-9HYsstACJZk"
      },
      "execution_count": null,
      "outputs": [
        {
          "output_type": "stream",
          "name": "stdout",
          "text": [
            "Data shape: (11025,), Sample Rate: 44100\n"
          ]
        }
      ]
    },
    {
      "cell_type": "code",
      "source": [
        "t = np.arange(0, len(data)) / samplerate\n",
        "plt.plot(t, data)\n",
        "plt.grid(axis=\"both\") # グリッド表示\n",
        "plt.show()"
      ],
      "metadata": {
        "colab": {
          "base_uri": "https://localhost:8080/",
          "height": 430
        },
        "outputId": "5323fb6e-32b6-438a-9fb4-8d2c6613d74d",
        "id": "lsXy8ZUXCJZr"
      },
      "execution_count": null,
      "outputs": [
        {
          "output_type": "display_data",
          "data": {
            "text/plain": [
              "<Figure size 640x480 with 1 Axes>"
            ],
            "image/png": "[encoded data removed]"
          },
          "metadata": {}
        }
      ]
    },
    {
      "cell_type": "code",
      "source": [
        "#\n",
        "data, samplerate =sf.read(file_path3)\n",
        "print(f\"Data shape: {data.shape}, Sample Rate: {samplerate}\")"
      ],
      "metadata": {
        "colab": {
          "base_uri": "https://localhost:8080/"
        },
        "outputId": "63a80a2e-b4a2-4583-cbea-5a555db02840",
        "id": "ya3MQoybCMqz"
      },
      "execution_count": null,
      "outputs": [
        {
          "output_type": "stream",
          "name": "stdout",
          "text": [
            "Data shape: (11025,), Sample Rate: 44100\n"
          ]
        }
      ]
    },
    {
      "cell_type": "code",
      "source": [
        "t = np.arange(0, len(data)) / samplerate\n",
        "plt.plot(t, data)\n",
        "plt.grid(axis=\"both\") # グリッド表示\n",
        "plt.show()"
      ],
      "metadata": {
        "colab": {
          "base_uri": "https://localhost:8080/",
          "height": 430
        },
        "outputId": "bddfbe88-cfbe-4366-992d-fc268c9e6dce",
        "id": "4KHe4RYbCMq0"
      },
      "execution_count": null,
      "outputs": [
        {
          "output_type": "display_data",
          "data": {
            "text/plain": [
              "<Figure size 640x480 with 1 Axes>"
            ],
            "image/png": "[encoded data removed]"
          },
          "metadata": {}
        }
      ]
    },
    {
      "cell_type": "code",
      "source": [
        "#\n",
        "data, samplerate =sf.read(file_path4)\n",
        "print(f\"Data shape: {data.shape}, Sample Rate: {samplerate}\")"
      ],
      "metadata": {
        "colab": {
          "base_uri": "https://localhost:8080/"
        },
        "outputId": "841d95ed-8251-421e-83e1-043613c6a333",
        "id": "bf6oz2pYCN5O"
      },
      "execution_count": null,
      "outputs": [
        {
          "output_type": "stream",
          "name": "stdout",
          "text": [
            "Data shape: (11025,), Sample Rate: 44100\n"
          ]
        }
      ]
    },
    {
      "cell_type": "code",
      "source": [
        "t = np.arange(0, len(data)) / samplerate\n",
        "plt.plot(t, data)\n",
        "plt.grid(axis=\"both\") # グリッド表示\n",
        "plt.show()"
      ],
      "metadata": {
        "colab": {
          "base_uri": "https://localhost:8080/",
          "height": 430
        },
        "outputId": "5b20bf3a-90f4-48b5-8e5f-d5922002f832",
        "id": "0e0BHUYnCN5U"
      },
      "execution_count": null,
      "outputs": [
        {
          "output_type": "display_data",
          "data": {
            "text/plain": [
              "<Figure size 640x480 with 1 Axes>"
            ],
            "image/png": "[encoded data removed]"
          },
          "metadata": {}
        }
      ]
    },
    {
      "cell_type": "code",
      "source": [],
      "metadata": {
        "id": "itCLLCMrD1gp"
      },
      "execution_count": null,
      "outputs": []
    },
    {
      "cell_type": "markdown",
      "metadata": {
        "id": "tIVJSa1fIPHC"
      },
      "source": [
        "# データセットの作成\n",
        "\n",
        "### データ分割\n",
        "- Keyboard sound dataset は訓練用とテスト用に**2分割**されている\n",
        "  - 訓練用 ： 315件\n",
        "  - テスト用 ： 100件\n",
        "\n",
        "- 訓練用とテスト用のファイル名はcsvファイルに定義されている\n",
        "  - 訓練用 ： wav_keyboard_sound_train.csv\n",
        "  - テスト用 ： wav_keyboard_sound_test.csv\n",
        "<br>\n",
        "\n",
        "**<注意>**<br>\n",
        "**（カンニング禁止）**：一度でも訓練で使用したデータはテストに使ってはいけない"
      ]
    },
    {
      "cell_type": "code",
      "source": [
        "# ライブラリ\n",
        "import torch\n",
        "\n",
        "# 乱数シードを固定して再現性を確保する\n",
        "torch.manual_seed(24)"
      ],
      "metadata": {
        "id": "rbZ9ojZwId0T",
        "colab": {
          "base_uri": "https://localhost:8080/"
        },
        "outputId": "058ceddf-d062-438c-9666-6d7c6312f7ca"
      },
      "execution_count": null,
      "outputs": [
        {
          "output_type": "execute_result",
          "data": {
            "text/plain": [
              "<torch._C.Generator at 0x7bcb2c519db0>"
            ]
          },
          "metadata": {},
          "execution_count": 35
        }
      ]
    },
    {
      "cell_type": "markdown",
      "source": [
        "### データ分割定義ファイルを確認する"
      ],
      "metadata": {
        "id": "wPyETbU4KOnp"
      }
    },
    {
      "cell_type": "code",
      "source": [
        "import pandas as pd"
      ],
      "metadata": {
        "id": "mNLgzTc1BWX7"
      },
      "execution_count": null,
      "outputs": []
    },
    {
      "cell_type": "code",
      "source": [
        "# データ定義ファイルを読み込む\n",
        "train_csv = \"./dataset/wav_keyboard_sound_train.csv\"\n",
        "test_csv = \"./dataset/wav_keyboard_sound_test.csv\"\n",
        "# df = pd.read_csv(train_csv, skiprows=1) # 1行目のラベルをスキップ\n",
        "# df = pd.read_csv(test_csv, skiprows=1) # 1行目のラベルをスキップ\n",
        "# df = pd.read_csv(train_csv) #\n",
        "df = pd.read_csv(test_csv) #"
      ],
      "metadata": {
        "id": "5VdqGr34KViq"
      },
      "execution_count": null,
      "outputs": []
    },
    {
      "cell_type": "code",
      "source": [
        "# print(f\"train data: {df.shape}\")\n",
        "# print(f\"test data: {df.shape}\")"
      ],
      "metadata": {
        "id": "Hl_mhwSVLTv2"
      },
      "execution_count": null,
      "outputs": []
    },
    {
      "cell_type": "code",
      "source": [
        "print(df.shape)\n",
        "print(df.shape[0])\n",
        "print(df.shape[1])"
      ],
      "metadata": {
        "colab": {
          "base_uri": "https://localhost:8080/"
        },
        "id": "6Gy8EXGLYKW_",
        "outputId": "2ad2090c-b1fb-4b81-d3d8-bb9386073cd0"
      },
      "execution_count": null,
      "outputs": [
        {
          "output_type": "stream",
          "name": "stdout",
          "text": [
            "(100, 2)\n",
            "100\n",
            "2\n"
          ]
        }
      ]
    },
    {
      "cell_type": "code",
      "source": [
        "print(df.head())"
      ],
      "metadata": {
        "colab": {
          "base_uri": "https://localhost:8080/"
        },
        "id": "R5ew6MOiLsAB",
        "outputId": "bdb48e37-7647-4686-e47b-acd33239abaa"
      },
      "execution_count": null,
      "outputs": [
        {
          "output_type": "stream",
          "name": "stdout",
          "text": [
            "                          x  y\n",
            "0         .\\red\\2217623.wav  1\n",
            "1         .\\red\\2520235.wav  1\n",
            "2     .\\membrane\\890535.wav  2\n",
            "3  .\\pantograph\\2792851.wav  3\n",
            "4    .\\membrane\\1982680.wav  2\n"
          ]
        }
      ]
    },
    {
      "cell_type": "code",
      "source": [
        "for i, row in df.iterrows():\n",
        "  print(f\"file name: {row['x']}, \\tlabel: {row['y']}\")"
      ],
      "metadata": {
        "colab": {
          "base_uri": "https://localhost:8080/"
        },
        "id": "Yi3kCl7ASUhg",
        "outputId": "800bb117-1191-4e94-bb86-4933ac64ffae"
      },
      "execution_count": null,
      "outputs": [
        {
          "output_type": "stream",
          "name": "stdout",
          "text": [
            "file name: .\\red\\2217623.wav, \tlabel: 1\n",
            "file name: .\\red\\2520235.wav, \tlabel: 1\n",
            "file name: .\\membrane\\890535.wav, \tlabel: 2\n",
            "file name: .\\pantograph\\2792851.wav, \tlabel: 3\n",
            "file name: .\\membrane\\1982680.wav, \tlabel: 2\n",
            "file name: .\\blue\\1815496.wav, \tlabel: 0\n",
            "file name: .\\pantograph\\3148524.wav, \tlabel: 3\n",
            "file name: .\\pantograph\\432909.wav, \tlabel: 3\n",
            "file name: .\\pantograph\\159783.wav, \tlabel: 3\n",
            "file name: .\\red\\3430149.wav, \tlabel: 1\n",
            "file name: .\\blue\\1207955.wav, \tlabel: 0\n",
            "file name: .\\red\\1615699.wav, \tlabel: 1\n",
            "file name: .\\red\\4165451.wav, \tlabel: 1\n",
            "file name: .\\pantograph\\1933958.wav, \tlabel: 3\n",
            "file name: .\\blue\\1033816.wav, \tlabel: 0\n",
            "file name: .\\red\\2783251.wav, \tlabel: 1\n",
            "file name: .\\blue\\1288306.wav, \tlabel: 0\n",
            "file name: .\\blue\\1076009.wav, \tlabel: 0\n",
            "file name: .\\blue\\2691615.wav, \tlabel: 0\n",
            "file name: .\\red\\4698113.wav, \tlabel: 1\n",
            "file name: .\\blue\\1639426.wav, \tlabel: 0\n",
            "file name: .\\red\\2051702.wav, \tlabel: 1\n",
            "file name: .\\pantograph\\2848305.wav, \tlabel: 3\n",
            "file name: .\\blue\\1685214.wav, \tlabel: 0\n",
            "file name: .\\red\\4651345.wav, \tlabel: 1\n",
            "file name: .\\red\\2258758.wav, \tlabel: 1\n",
            "file name: .\\pantograph\\2257558.wav, \tlabel: 3\n",
            "file name: .\\blue\\512965.wav, \tlabel: 0\n",
            "file name: .\\red\\1794759.wav, \tlabel: 1\n",
            "file name: .\\red\\312273.wav, \tlabel: 1\n",
            "file name: .\\red\\506970.wav, \tlabel: 1\n",
            "file name: .\\pantograph\\1882308.wav, \tlabel: 3\n",
            "file name: .\\red\\2051703.wav, \tlabel: 1\n",
            "file name: .\\red\\3000358.wav, \tlabel: 1\n",
            "file name: .\\red\\1615647.wav, \tlabel: 1\n",
            "file name: .\\red\\1281140.wav, \tlabel: 1\n",
            "file name: .\\pantograph\\2146502.wav, \tlabel: 3\n",
            "file name: .\\pantograph\\1054568.wav, \tlabel: 3\n",
            "file name: .\\blue\\2174446.wav, \tlabel: 0\n",
            "file name: .\\membrane\\2877410.wav, \tlabel: 2\n",
            "file name: .\\red\\2695180.wav, \tlabel: 1\n",
            "file name: .\\red\\1615667.wav, \tlabel: 1\n",
            "file name: .\\membrane\\519510.wav, \tlabel: 2\n",
            "file name: .\\pantograph\\1378953.wav, \tlabel: 3\n",
            "file name: .\\blue\\1858600.wav, \tlabel: 0\n",
            "file name: .\\blue\\2923756.wav, \tlabel: 0\n",
            "file name: .\\membrane\\1773339.wav, \tlabel: 2\n",
            "file name: .\\pantograph\\3503673.wav, \tlabel: 3\n",
            "file name: .\\pantograph\\340450.wav, \tlabel: 3\n",
            "file name: .\\blue\\1940169.wav, \tlabel: 0\n",
            "file name: .\\red\\2258757.wav, \tlabel: 1\n",
            "file name: .\\red\\153647.wav, \tlabel: 1\n",
            "file name: .\\membrane\\1441717.wav, \tlabel: 2\n",
            "file name: .\\pantograph\\206138.wav, \tlabel: 3\n",
            "file name: .\\red\\4362574.wav, \tlabel: 1\n",
            "file name: .\\pantograph\\3853661.wav, \tlabel: 3\n",
            "file name: .\\blue\\1451054.wav, \tlabel: 0\n",
            "file name: .\\pantograph\\1193160.wav, \tlabel: 3\n",
            "file name: .\\blue\\3388529.wav, \tlabel: 0\n",
            "file name: .\\red\\939948.wav, \tlabel: 1\n",
            "file name: .\\red\\3808505.wav, \tlabel: 1\n",
            "file name: .\\membrane\\2131653.wav, \tlabel: 2\n",
            "file name: .\\membrane\\4441164.wav, \tlabel: 2\n",
            "file name: .\\pantograph\\1778305.wav, \tlabel: 3\n",
            "file name: .\\membrane\\1028345.wav, \tlabel: 2\n",
            "file name: .\\red\\2387774.wav, \tlabel: 1\n",
            "file name: .\\membrane\\437867.wav, \tlabel: 2\n",
            "file name: .\\blue\\2738622.wav, \tlabel: 0\n",
            "file name: .\\membrane\\3565998.wav, \tlabel: 2\n",
            "file name: .\\red\\3977304.wav, \tlabel: 1\n",
            "file name: .\\membrane\\4358064.wav, \tlabel: 2\n",
            "file name: .\\blue\\1898885.wav, \tlabel: 0\n",
            "file name: .\\red\\3043142.wav, \tlabel: 1\n",
            "file name: .\\blue\\2830804.wav, \tlabel: 0\n",
            "file name: .\\pantograph\\739391.wav, \tlabel: 3\n",
            "file name: .\\red\\2174217.wav, \tlabel: 1\n",
            "file name: .\\red\\1615700.wav, \tlabel: 1\n",
            "file name: .\\membrane\\1683908.wav, \tlabel: 2\n",
            "file name: .\\red\\3213595.wav, \tlabel: 1\n",
            "file name: .\\blue\\1858560.wav, \tlabel: 0\n",
            "file name: .\\blue\\238439.wav, \tlabel: 0\n",
            "file name: .\\red\\664724.wav, \tlabel: 1\n",
            "file name: .\\pantograph\\2734736.wav, \tlabel: 3\n",
            "file name: .\\pantograph\\3620633.wav, \tlabel: 3\n",
            "file name: .\\red\\820973.wav, \tlabel: 1\n",
            "file name: .\\pantograph\\3678788.wav, \tlabel: 3\n",
            "file name: .\\blue\\2301617.wav, \tlabel: 0\n",
            "file name: .\\red\\4609726.wav, \tlabel: 1\n",
            "file name: .\\red\\4214727.wav, \tlabel: 1\n",
            "file name: .\\membrane\\3797728.wav, \tlabel: 2\n",
            "file name: .\\red\\1921785.wav, \tlabel: 1\n",
            "file name: .\\blue\\701569.wav, \tlabel: 0\n",
            "file name: .\\blue\\467874.wav, \tlabel: 0\n",
            "file name: .\\blue\\3017103.wav, \tlabel: 0\n",
            "file name: .\\membrane\\2445852.wav, \tlabel: 2\n",
            "file name: .\\membrane\\1637391.wav, \tlabel: 2\n",
            "file name: .\\membrane\\2552226.wav, \tlabel: 2\n",
            "file name: .\\red\\4067229.wav, \tlabel: 1\n",
            "file name: .\\membrane\\3038876.wav, \tlabel: 2\n",
            "file name: .\\red\\2476891.wav, \tlabel: 1\n"
          ]
        }
      ]
    },
    {
      "cell_type": "code",
      "source": [],
      "metadata": {
        "id": "88FrksK4KVKE"
      },
      "execution_count": null,
      "outputs": []
    },
    {
      "cell_type": "markdown",
      "source": [
        "### データセット作成クラス"
      ],
      "metadata": {
        "id": "RE4B_7S73xmc"
      }
    },
    {
      "cell_type": "code",
      "source": [
        "import torch\n",
        "from torch.utils.data import Dataset, DataLoader\n",
        "import numpy as np\n",
        "import pandas as pd\n",
        "import os\n",
        "\n",
        "class SoundDataset(Dataset):\n",
        "    def __init__(self, mode=\"train\"): # 引数：csvファイル名\n",
        "        self.data_dir = \"./dataset/\"\n",
        "        self.train_csv = \"./dataset/wav_keyboard_sound_train.csv\"\n",
        "        self.test_csv = \"./dataset/wav_keyboard_sound_test.csv\"\n",
        "\n",
        "        # データ前処理後のデータ（テンソル型）\n",
        "        self.x, self.t = self.preprocessing(mode)\n",
        "\n",
        "    def __len__(self):\n",
        "        return len(self.x) # データ件数を返す\n",
        "\n",
        "    def __getitem__(self, idx):\n",
        "        x = self.x[idx]\n",
        "        t = self.t[idx]\n",
        "        return x, t\n",
        "\n",
        "    def preprocessing(self, mode):\n",
        "        # データを読み込んで、テンソルに変換するなどの前処理を行う\n",
        "        if mode == \"train\":\n",
        "            df = pd.read_csv(self.train_csv)\n",
        "        elif mode == \"test\":\n",
        "            df = pd.read_csv(self.test_csv)\n",
        "\n",
        "        # データセット\n",
        "        xs, ts = [], []\n",
        "\n",
        "        for i, row in df.iterrows():\n",
        "            # データの読み込み\n",
        "            file_name = row['x'] # 1列目\n",
        "            label = row['y'] # 2列目\n",
        "\n",
        "            # ファイルを開いてデータを読み込む\n",
        "            # file_path = data_dir+file_name[1:] # これだと/と\\\\が混在する\n",
        "            file_path = os.path.join(data_dir, file_name[1:]) #file_name[0]には.が入っているので除く\n",
        "            file_path = file_path.replace(\"\\\\\", \"/\")  # バックスラッシュをスラッシュに変換\n",
        "            data, samplerate =sf.read(file_path)\n",
        "\n",
        "            # 結果を追加\n",
        "            xs.append(data) # 音声データ\n",
        "            ts.append(label) # ラベル\n",
        "            # --- 一人分の処理はここまで\n",
        "\n",
        "        # 処理の高速化のために，numpy arrayに変換してからtensorに変換する\n",
        "        xs = torch.tensor(np.array(xs), dtype=torch.float32) # 音声データ\n",
        "        ts = torch.tensor(np.array(ts), dtype=torch.int64) # 4クラス分類用ラベル：0, 1, 2, 3\n",
        "\n",
        "        return xs, ts\n"
      ],
      "metadata": {
        "id": "7b35aPml3xJo"
      },
      "execution_count": null,
      "outputs": []
    },
    {
      "cell_type": "markdown",
      "source": [
        "### データセットとデータローダを作成する"
      ],
      "metadata": {
        "id": "BhwDLOLY52aK"
      }
    },
    {
      "cell_type": "code",
      "source": [
        "# バッチサイズ\n",
        "batch_size = 32\n",
        "\n",
        "# 訓練データセットの作成\n",
        "train_ds = SoundDataset('train')\n",
        "# データローダの作成\n",
        "train_loader = DataLoader(train_ds, batch_size=batch_size, shuffle=True) # 訓練用はshuffleする\n"
      ],
      "metadata": {
        "id": "xnsfr-h72F1q"
      },
      "execution_count": null,
      "outputs": []
    },
    {
      "cell_type": "code",
      "source": [
        "# テストデータセットの作成\n",
        "test_ds = SoundDataset('test')\n",
        "# データローダの作成\n",
        "test_loader = DataLoader(test_ds, batch_size=batch_size, shuffle=False) # テスト用はshuffleしないい"
      ],
      "metadata": {
        "id": "UjXF15qC2FxE"
      },
      "execution_count": null,
      "outputs": []
    },
    {
      "cell_type": "code",
      "source": [],
      "metadata": {
        "id": "arZP_Ic72FtS"
      },
      "execution_count": null,
      "outputs": []
    },
    {
      "cell_type": "markdown",
      "metadata": {
        "id": "uBHy4jKdssMq"
      },
      "source": [
        "# モデルを定義する\n",
        "\n",
        "- 課題設定：\n",
        "  - 説明変数：入力データは，11,025個（0.25秒を44.1kHzで）\n",
        "  - 目的変数：出力値は，4個（4クラスの確率）\n",
        "- ニューラルネットワークモデル（MLP）\n",
        "  - 入力層ノード数：11,025個（仕様上固定）\n",
        "  - 出力層ノード数：4個（仕様上固定）\n",
        "  - 隠れ層は1層：入力：1,024ノード，出力：128ノード（任意数）\n",
        "  - 活性化関数：\n",
        "    - 隠れ層：ReLU\n",
        "    - 最終出力層：softmax関数\n"
      ]
    },
    {
      "cell_type": "code",
      "metadata": {
        "id": "hyGuqhSufFiZ"
      },
      "source": [
        "# -----------------\n",
        "# 3L-MLP\n",
        "# -----------------\n",
        "import torch\n",
        "from torch import nn\n",
        "import torch.nn.functional as F\n",
        "\n",
        "class SoundClassifier_MLP(nn.Module):\n",
        "\n",
        "  def __init__(self):\n",
        "    super(SoundClassifier_MLP, self).__init__()\n",
        "\n",
        "    # SoundDataset has the shape of (channels, data) :\n",
        "    self.layer_1 = nn.Linear(11025, 1024)      # 入力層入力：11025，中間層入力：1024\n",
        "    self.layer_2 = nn.Linear(1024, 128)     # 中間層入力：1024，中間層出力：128\n",
        "    self.layer_3 = nn.Linear(128, 4)       # 出力層入力：128，出力：4\n",
        "\n",
        "    # # [提出課題]では以下の構造とする\n",
        "    # # SoundDataset has the shape of (channels, data) :\n",
        "    # self.layer_1 = nn.Linear(11025, 2048)      # 入力層入力：11025，中間層入力：2048\n",
        "    # self.layer_2 = nn.Linear(2048, 64)     # 中間層入力：2048，中間層出力：256\n",
        "    # self.layer_3 = nn.Linear(64, 4)       # 出力層入力：256，出力：4\n",
        "\n",
        "  def forward(self, x):\n",
        "    # 入力はバッチサイズ分の音声データ\n",
        "    # batch_size, channels, height, width = x.size()\n",
        "    # batch_size, channels, width = x.size()\n",
        "    batch_size, width = x.size()\n",
        "\n",
        "    # b: batch（バッチ長）, c: channel, w: width（横）\n",
        "    x = x.view(batch_size, -1) # (32, 11025)\n",
        "\n",
        "    # layer 1\n",
        "    x = self.layer_1(x)\n",
        "    x = F.relu(x) # 活性化関数\n",
        "\n",
        "    # layer 2\n",
        "    x = self.layer_2(x)\n",
        "    x = F.relu(x) # 活性化関数\n",
        "\n",
        "    # layer 3\n",
        "    x = self.layer_3(x)\n",
        "    x = F.softmax(x, dim=1) # 活性化関数\n",
        "    # probability distribution over labels => log_softmax()\n",
        "    # x = F.log_softmax(x, dim=1)\n",
        "\n",
        "    return x"
      ],
      "execution_count": null,
      "outputs": []
    },
    {
      "cell_type": "markdown",
      "metadata": {
        "id": "wR6rNA4_r3Zn"
      },
      "source": [
        "# 訓練の準備をする\n",
        "### 損失関数と最適化手法を設定する\n",
        "- 損失関数は，交差エントロピー誤差（$loss=-\\sum_{k}^{n} t_{k}\\log y_k$）\n",
        "- 最適化手法は，Adamで最小化"
      ]
    },
    {
      "cell_type": "markdown",
      "metadata": {
        "id": "NULkiIUrW70P"
      },
      "source": [
        "### 損失関数（交差エントロピー誤差）\n",
        "- 教師ラベル$t$は **one-hotベクトル**（一つの要素だけが1で，他の要素は全て0のベクトル）で表現する<br>\n",
        "例えば，$5$であれば，0から始まるので6番目の要素だけが1で，$$t = [0, 0, 0, 0, 0, 1, 0, 0, 0, 0]$$<br>\n",
        "- 予測結果 $y$ は，softmax関数を施した$0～1$の実数値を要素とするベクトルで表現する<br>\n",
        "softmax関数を施した出力の合計は$1$になる（つまり各要素は確率とみなすことができる）<br>\n",
        "例えば，$$y = [0.01, 0.0, 0.08, 0.02, 0.0, 0.6, 0.18, 0.04, 0.02, 0.05]$$\n",
        "- 損失関数には交差エントロピー誤差を用いる<br>\n",
        "$$ loss = -\\sum_{n=1}^n t_n\\log y_n $$\n",
        "ここで，$log$は自然対数を表す．交差エントロピー誤差は，結果的に $t$ が1の要素の自然対数値だけになる．\n",
        "例えば，上記の場合には，教師ラベルが$1$の6番目の項だけが残るので，$ -1*\\log 0.6 = 0.51$ と計算できる\n",
        "\n"
      ]
    },
    {
      "cell_type": "code",
      "metadata": {
        "id": "PPtv1InR974o"
      },
      "source": [
        "# 学習モデルの初期化\n",
        "\n",
        "model = SoundClassifier_MLP() # モデルパラメータ値の初期化\n",
        "# model = model.to(device) # モデルのパラメータ値を演算デバイスに送る"
      ],
      "execution_count": null,
      "outputs": []
    },
    {
      "cell_type": "code",
      "metadata": {
        "id": "bcYowdO4-p9g"
      },
      "source": [
        "# 損失関数（交差エントロピー誤差）\n",
        "import torch.nn as nn\n",
        "\n",
        "criterion = nn.CrossEntropyLoss()"
      ],
      "execution_count": null,
      "outputs": []
    },
    {
      "cell_type": "code",
      "metadata": {
        "id": "WbW9fsN7XJHg"
      },
      "source": [
        "# # 最適化手法（SGD）\n",
        "# from torch import optim\n",
        "\n",
        "# # 学習率 lr は試行錯誤する必要がある．\n",
        "# eta = 0.01\n",
        "# optimizer = optim.SGD(model.parameters(), lr=eta) # SGD"
      ],
      "execution_count": null,
      "outputs": []
    },
    {
      "cell_type": "code",
      "source": [
        "# 最適化手法（Adam）\n",
        "from torch import optim\n",
        "\n",
        "# 学習率 lr は試行錯誤する必要がある．\n",
        "eta = 0.001\n",
        "optimizer = optim.Adam(model.parameters(), lr=eta) # Adam"
      ],
      "metadata": {
        "id": "JiT6EVqiWHlM"
      },
      "execution_count": null,
      "outputs": []
    },
    {
      "cell_type": "markdown",
      "metadata": {
        "id": "V4eGcHa-y48u"
      },
      "source": [
        "## 訓練と検証用の関数\n",
        "\n",
        "- 作業フォルダに **train_valid.py** が存在することを確認する\n",
        "    - 存在しない場合は，パソコンからドラッグ&ドロップする\n",
        "    - パソコンにも存在しない場合は，Moodleからダウンロードする\n"
      ]
    },
    {
      "cell_type": "code",
      "source": [
        "from google.colab import files\n",
        "\n",
        "uploaded = files.upload()"
      ],
      "metadata": {
        "id": "QiAJG2ktgDJi"
      },
      "execution_count": null,
      "outputs": []
    },
    {
      "cell_type": "code",
      "source": [
        "# 作業フォルダを確認する\n",
        "!ls -F"
      ],
      "metadata": {
        "colab": {
          "base_uri": "https://localhost:8080/"
        },
        "id": "jbHy9my_SNJd",
        "outputId": "ef41b213-20e6-4beb-b179-2ce7a3ab40da"
      },
      "execution_count": null,
      "outputs": [
        {
          "output_type": "stream",
          "name": "stdout",
          "text": [
            "dataset/  keyboard_sound_dataset.zip  train_valid.py\n"
          ]
        }
      ]
    },
    {
      "cell_type": "code",
      "source": [
        "# 関数を読み込む\n",
        "from train_valid import train, valid\n",
        "\n",
        "# # 訓練用の関数（1エポックの処理）を定義\n",
        "# def train(model, criterion, optimizer, train_loader, device, scheduler=None):\n",
        "#       return epoch_loss, epoch_acc # 1エポックの1データ当たりのロスと正解率\n",
        "\n",
        "# # 検証用の関数（1エポックの処理）を定義\n",
        "# def valid(model, criterion, optimizer, valtest_loader, device):\n",
        "#       return val_loss, val_acc # 1エポックの1データ当たりのロスと正解率\n"
      ],
      "metadata": {
        "id": "wmfs9gihQRRG"
      },
      "execution_count": null,
      "outputs": []
    },
    {
      "cell_type": "code",
      "source": [],
      "metadata": {
        "id": "ay_Dv6FUuwTa"
      },
      "execution_count": null,
      "outputs": []
    },
    {
      "cell_type": "markdown",
      "metadata": {
        "id": "cReVgC4_2JvB"
      },
      "source": [
        "# 訓練を実施する"
      ]
    },
    {
      "cell_type": "code",
      "metadata": {
        "colab": {
          "base_uri": "https://localhost:8080/"
        },
        "id": "hqPQ8URgen6M",
        "outputId": "ac90e2ae-4019-442d-95e0-5cd3afcf235f"
      },
      "source": [
        "# 訓練を実施する\n",
        "\n",
        "# 訓練の長さ\n",
        "EPOCHS=20\n",
        "\n",
        "# # 演算装置\n",
        "# device = \"cpu\"\n",
        "\n",
        "# 訓練と検証の状況を記録する空の入れ物\n",
        "train_loss_list = [] # 訓練ロス\n",
        "train_acc_list = [] # 訓練の正解率\n",
        "val_loss_list = [] # 検証ロス\n",
        "val_acc_list = [] # 検証の正解率\n",
        "\n",
        "for epoch in range(EPOCHS):\n",
        "    # エポックの処理\n",
        "    # 訓練\n",
        "    loss, acc = train(model, criterion, optimizer, train_loader, device)\n",
        "\n",
        "    # 検証\n",
        "    val_loss, val_acc = valid(model, criterion, optimizer, test_loader, device)\n",
        "\n",
        "    print('epoch %d, train_loss: %.2f train_acc: %.2f val_loss: %.2f val_acc: %.2f' % (epoch, loss, acc, val_loss, val_acc))\n",
        "\n",
        "    # 訓練と検証の状況を記録\n",
        "    train_loss_list.append(loss)\n",
        "    train_acc_list.append(acc)\n",
        "    val_loss_list.append(val_loss)\n",
        "    val_acc_list.append(val_acc)"
      ],
      "execution_count": null,
      "outputs": [
        {
          "output_type": "stream",
          "name": "stdout",
          "text": [
            "epoch 0, train_loss: 1.28 train_acc: 0.61 val_loss: 1.10 val_acc: 0.71\n",
            "epoch 1, train_loss: 1.03 train_acc: 0.79 val_loss: 0.97 val_acc: 0.76\n",
            "epoch 2, train_loss: 0.87 train_acc: 0.93 val_loss: 0.88 val_acc: 0.88\n",
            "epoch 3, train_loss: 0.80 train_acc: 0.97 val_loss: 0.87 val_acc: 0.93\n",
            "epoch 4, train_loss: 0.77 train_acc: 0.99 val_loss: 0.89 val_acc: 0.86\n",
            "epoch 5, train_loss: 0.76 train_acc: 0.99 val_loss: 0.87 val_acc: 0.92\n",
            "epoch 6, train_loss: 0.75 train_acc: 0.99 val_loss: 0.85 val_acc: 0.91\n",
            "epoch 7, train_loss: 0.75 train_acc: 0.99 val_loss: 0.86 val_acc: 0.91\n",
            "epoch 8, train_loss: 0.75 train_acc: 0.99 val_loss: 0.87 val_acc: 0.92\n",
            "epoch 9, train_loss: 0.75 train_acc: 0.99 val_loss: 0.87 val_acc: 0.92\n",
            "epoch 10, train_loss: 0.75 train_acc: 0.99 val_loss: 0.87 val_acc: 0.92\n",
            "epoch 11, train_loss: 0.75 train_acc: 1.00 val_loss: 0.87 val_acc: 0.86\n",
            "epoch 12, train_loss: 0.75 train_acc: 1.00 val_loss: 0.87 val_acc: 0.86\n",
            "epoch 13, train_loss: 0.75 train_acc: 1.00 val_loss: 0.87 val_acc: 0.86\n",
            "epoch 14, train_loss: 0.75 train_acc: 1.00 val_loss: 0.87 val_acc: 0.86\n",
            "epoch 15, train_loss: 0.75 train_acc: 1.00 val_loss: 0.87 val_acc: 0.86\n",
            "epoch 16, train_loss: 0.75 train_acc: 1.00 val_loss: 0.87 val_acc: 0.86\n",
            "epoch 17, train_loss: 0.75 train_acc: 1.00 val_loss: 0.87 val_acc: 0.87\n",
            "epoch 18, train_loss: 0.75 train_acc: 1.00 val_loss: 0.87 val_acc: 0.87\n",
            "epoch 19, train_loss: 0.75 train_acc: 1.00 val_loss: 0.87 val_acc: 0.87\n",
            "epoch 20, train_loss: 0.75 train_acc: 1.00 val_loss: 0.86 val_acc: 0.87\n",
            "epoch 21, train_loss: 0.75 train_acc: 1.00 val_loss: 0.86 val_acc: 0.87\n",
            "epoch 22, train_loss: 0.75 train_acc: 1.00 val_loss: 0.86 val_acc: 0.87\n",
            "epoch 23, train_loss: 0.75 train_acc: 1.00 val_loss: 0.86 val_acc: 0.87\n",
            "epoch 24, train_loss: 0.75 train_acc: 1.00 val_loss: 0.86 val_acc: 0.87\n",
            "epoch 25, train_loss: 0.75 train_acc: 1.00 val_loss: 0.86 val_acc: 0.87\n",
            "epoch 26, train_loss: 0.75 train_acc: 1.00 val_loss: 0.86 val_acc: 0.87\n",
            "epoch 27, train_loss: 0.75 train_acc: 1.00 val_loss: 0.86 val_acc: 0.87\n",
            "epoch 28, train_loss: 0.75 train_acc: 1.00 val_loss: 0.86 val_acc: 0.87\n",
            "epoch 29, train_loss: 0.75 train_acc: 1.00 val_loss: 0.86 val_acc: 0.87\n"
          ]
        }
      ]
    },
    {
      "cell_type": "markdown",
      "metadata": {
        "id": "komuc-KcpeNL"
      },
      "source": [
        "## 訓練の様子をグラフ表示"
      ]
    },
    {
      "cell_type": "code",
      "metadata": {
        "id": "sirfynGPe5BM",
        "colab": {
          "base_uri": "https://localhost:8080/",
          "height": 410
        },
        "outputId": "d719dbf7-64f4-4851-f542-dd3a107b6803"
      },
      "source": [
        "# 損失が減少していく様子をグラフ表示する\n",
        "%matplotlib inline\n",
        "from matplotlib import pyplot as plt\n",
        "\n",
        "# 図の大きさをインチ単位で指定する\n",
        "plt.figure(figsize=(6, 4))\n",
        "\n",
        "plt.title('Learning Loss Curve (MLP)') # タイトル\n",
        "plt.plot(train_loss_list, label='train') # 訓練ロスグラフ\n",
        "plt.plot(val_loss_list, label='val') # 検証ロスグラフ\n",
        "plt.legend() # 凡例\n",
        "plt.xlabel('epoch')\n",
        "plt.ylabel('loss')\n",
        "plt.grid(axis=\"both\") # グリッド表示\n",
        "\n",
        "plt.show()"
      ],
      "execution_count": null,
      "outputs": [
        {
          "output_type": "display_data",
          "data": {
            "text/plain": [
              "<Figure size 600x400 with 1 Axes>"
            ],
            "image/png": "[encoded data removed]"
          },
          "metadata": {}
        }
      ]
    },
    {
      "cell_type": "code",
      "metadata": {
        "colab": {
          "base_uri": "https://localhost:8080/",
          "height": 427
        },
        "id": "joOWdyADjjqw",
        "outputId": "8cdceabd-edd3-470d-cb40-a4063e7c55e2"
      },
      "source": [
        "# 正解率が上昇していく様子をグラフ表示する\n",
        "\n",
        "# 図の大きさをインチ単位で指定する\n",
        "plt.figure(figsize=(6, 4))\n",
        "\n",
        "plt.title('Validation Accuracy (MLP)') # タイトル\n",
        "plt.plot(train_acc_list, label=\"train_acc\")\n",
        "plt.plot(val_acc_list, label='val_acc')\n",
        "plt.legend() # 凡例\n",
        "plt.xlabel('epoch')\n",
        "plt.ylabel('val_acc')\n",
        "plt.grid(axis=\"both\") # グリッド表示\n",
        "\n",
        "plt.show()\n",
        "print(f'val正解率：{val_acc_list[-1]:.3f}')"
      ],
      "execution_count": null,
      "outputs": [
        {
          "output_type": "display_data",
          "data": {
            "text/plain": [
              "<Figure size 600x400 with 1 Axes>"
            ],
            "image/png": "[encoded data removed]"
          },
          "metadata": {}
        },
        {
          "output_type": "stream",
          "name": "stdout",
          "text": [
            "val正解率：0.867\n"
          ]
        }
      ]
    },
    {
      "cell_type": "markdown",
      "metadata": {
        "id": "Sdpf-p4Qo09Y"
      },
      "source": [
        "### 訓練済みモデルを保存する\n"
      ]
    },
    {
      "cell_type": "code",
      "metadata": {
        "id": "ipWmAjc7pCnd"
      },
      "source": [
        "# 現在の作業ディレクトリに訓練済みモデルのパラメータ値を保存する\n",
        "\n",
        "torch.save(model.state_dict(), './key_sound.pkl')"
      ],
      "execution_count": null,
      "outputs": []
    },
    {
      "cell_type": "code",
      "source": [],
      "metadata": {
        "id": "QS5WagsqdiSL"
      },
      "execution_count": null,
      "outputs": []
    },
    {
      "cell_type": "markdown",
      "metadata": {
        "id": "7MIkhDcSRuq1"
      },
      "source": [
        "# 学習済みモデルを評価する"
      ]
    },
    {
      "cell_type": "markdown",
      "metadata": {
        "id": "d9Xps6HjR3UZ"
      },
      "source": [
        "### テストデータでモデルの予測性能を評価する"
      ]
    },
    {
      "cell_type": "code",
      "metadata": {
        "id": "6lQUv3jURv5R",
        "colab": {
          "base_uri": "https://localhost:8080/"
        },
        "outputId": "6b75cb77-42c9-4642-bb26-392c088f56ac"
      },
      "source": [
        "# テストを実施する\n",
        "\n",
        "# テスト\n",
        "test_loss, test_acc = valid(model, criterion, optimizer, test_loader, device)\n",
        "print('test_loss: %.2f test_acc: %.2f' % (test_loss, test_acc))\n"
      ],
      "execution_count": null,
      "outputs": [
        {
          "output_type": "stream",
          "name": "stdout",
          "text": [
            "test_loss: 0.86 test_acc: 0.87\n"
          ]
        }
      ]
    },
    {
      "cell_type": "code",
      "source": [],
      "metadata": {
        "id": "6NEU8Sa1FyBi"
      },
      "execution_count": null,
      "outputs": []
    },
    {
      "cell_type": "markdown",
      "metadata": {
        "id": "8jm4cGxWF16V"
      },
      "source": [
        "# まとめ\n",
        "- AI手法を適用することで，キーボードのクリック音から，キーボードの種類を判別することができた\n",
        "- MLP（Multi-Layer Perseptron）を用いた全結合型ニューラルネットワークモデルを構築した\n",
        "- MLPモデルでキーボードを精度良く（91%程度の精度で）分類できることが理解できた\n",
        "- 音声データを用いても，数値データや画像データと同様に分類できることが理解できた\n",
        "- 音声データに関しても，数値データや画像データと同様の「学習」手続きが適用できることが理解できた\n",
        "  1. データの準備\n",
        "    - csvファイルによる訓練データと教師ラベルの定義\n",
        "    - データの前処理（ラベリングやテンソル変換）\n",
        "    - データ分割\n",
        "    - データローダの作成\n",
        "  1. モデルの定義\n",
        "  1. モデルの訓練と検証\n",
        "  1. 学習済みモデルの性能評価\n"
      ]
    },
    {
      "cell_type": "code",
      "source": [],
      "metadata": {
        "id": "P1aH-ooXgLbx"
      },
      "execution_count": null,
      "outputs": []
    },
    {
      "cell_type": "markdown",
      "source": [
        "# [提出課題]\n",
        "\n",
        "- 以下の手順に従って，隠れ層の入力ノード数を2048，出力ノード数を64にした時の，予測精度を確認する\n",
        "\n",
        "  1. Soundデータのダウンロードのセルと，回答のセルを以下のようにコメントにする\n",
        "    ```\n",
        "    # # カレントディレクトリにデータをダウンロード（一回だけ）\n",
        "    # ! wget https://nnabla.org/sample/sample_dataset/keyboard_sound_dataset.zip\n",
        "    ```\n",
        "    ```\n",
        "    # # ./dataset 内に解凍する（一回だけ）\n",
        "    # !unzip -d ./dataset keyboard_sound_dataset.zip\n",
        "    ```\n",
        "\n",
        "  1. MLPのネットワーク構成を，以下のように修正する\n",
        "    ```\n",
        "    # SoundDataset has the shape of (channels, data) :\n",
        "    self.layer_1 = nn.Linear(11025, 2048)      # 入力層入力：11025，中間層入力：2048\n",
        "    self.layer_2 = nn.Linear(2048, 64)     # 中間層入力：2048，中間層出力：64\n",
        "    self.layer_3 = nn.Linear(64, 4)       # 出力層入力：64，出力：4\n",
        "    ```\n",
        "  1. 以下の手順でプログラムを再実行する\n",
        "    1. メニューバーの，ランタイム ／ ランタイムを再起動\n",
        "    1. メニューバーの，ランタイム ／ すべてのセルを実行\n",
        "\n",
        "  1. テストデータでモデルの予測性能を評価する\n",
        "    1. test_loss の値を、小数第3位を四捨五入して、小数第2位までで答えよ\n",
        "    1. test_acc の値を、小数第3位を四捨五入して、小数第2位までで答えよ"
      ],
      "metadata": {
        "id": "rvD_O1lfeXp_"
      }
    },
    {
      "cell_type": "code",
      "source": [],
      "metadata": {
        "id": "SrnZVHgQeW7F"
      },
      "execution_count": null,
      "outputs": []
    },
    {
      "cell_type": "markdown",
      "source": [
        "<!--\n",
        "# 発展課題\n",
        "- 各種のハイパーパラメータを変更して性能が変わるか確認する\n",
        "  1. エボック数を増やしてみる\n",
        "  1. 最適化手法のetaを一桁減らしてみる\n",
        "- MPLモデルを変更して性能が変わるか確認する\n",
        "  1. 隠れ層（中間層）のノード数を2倍にしていみる\n",
        "  1. 隠れ層（中間層）の層数を2倍にしていみる\n",
        "\n",
        "\n",
        "ハイパーパラメータやモデルを変更した実験の仕方:\n",
        "1. 該当箇所を修正\n",
        "1. 上部メニューの，ランタイム / ランタイムを再起動\n",
        "1. ランタイム / すべてのセルを実行\n",
        "-->\n",
        "\n",
        "<!--\n",
        "1. MLPモデルの最終段の出力層の活性化関数を変更して実行し，結果の違いをグラフで確認する\n",
        " - F.log_softmax(x, dim=1)\n",
        " - F.softmax(x, dim=1)\n",
        " - なし（コメントアウト）\n",
        "\n",
        "1. breastcancer.xlsxを読み込んで，悪性と良性を分類する．分類性能をchap4のロジスティク回帰の結果と比較する\n",
        "  - ファイルからデータを読み込んで，スケール変換し，データ分割し，データローダを作成するところまでは，chap4と同様にする\n",
        "  - MLPモデルを修正する\n",
        "    - 入力ノード数が，breastcancerの説明変数の数と同じ30個\n",
        "    - 出力ノード数が，悪性と良性の2クラスなので2個\n",
        "-->"
      ],
      "metadata": {
        "id": "lt0CD55EFyRX"
      }
    },
    {
      "cell_type": "code",
      "metadata": {
        "id": "eBGKTg71Ec8z"
      },
      "source": [
        "\n"
      ],
      "execution_count": null,
      "outputs": []
    }
  ]
}