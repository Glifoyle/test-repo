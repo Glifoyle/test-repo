{
  "nbformat": 4,
  "nbformat_minor": 0,
  "metadata": {
    "colab": {
      "provenance": [],
      "include_colab_link": true
    },
    "kernelspec": {
      "name": "python3",
      "display_name": "Python 3"
    }
  },
  "cells": [
    {
      "cell_type": "markdown",
      "metadata": {
        "id": "view-in-github",
        "colab_type": "text"
      },
      "source": [
        "<a href=\"https://colab.research.google.com/github/Glifoyle/test-repo/blob/master/5_CNN_v5_PyTorch_Fmnist_GPU.ipynb\" target=\"_parent\"><img src=\"https://colab.research.google.com/assets/colab-badge.svg\" alt=\"Open In Colab\"/></a>"
      ]
    },
    {
      "cell_type": "markdown",
      "metadata": {
        "id": "wQe0rk7M1AVe"
      },
      "source": [
        "# 目的：CNNの「学習」を理解する\n",
        "\n",
        "### 概要：CNN（Convolutional Neural Network：畳み込みニューラルネットワーク）を用いて，Fashion-MNISTのファッション商品画像を分類する\n",
        "\n",
        "<br>\n",
        "&copy; 2021-2024 Hiro Kimura\n",
        "<br>\n"
      ]
    },
    {
      "cell_type": "markdown",
      "metadata": {
        "id": "lOH2h5-xphdh"
      },
      "source": [
        "## ポイント：\n",
        "\n",
        "-  データには，**Fashion-MNIST**ファッション商品画像のデータセットを用いる\n",
        "-  PyTorchフレームワークの機能（自動微分等）を用いる\n",
        "-  **GPU**（Graphics Processing Unit）を用いる\n",
        "-  学習モデルには，**CNN**（Convolutional Neural Network）モデルを用いる\n",
        "-  損失関数には正解ラベルと予測値との**交差エントロピー誤差**を用いる\n",
        "-  最適値の探索には，勾配降下法（SGD：確率的勾配降下法）を用いる\n",
        "\n",
        "\n",
        "\n"
      ]
    },
    {
      "cell_type": "markdown",
      "metadata": {
        "id": "oz4AOjLcb4iq"
      },
      "source": [
        "# 実習の準備をする\n",
        "\n",
        "1. GPU使用の設定をする\n",
        "1. タイムゾーンを東京に変更する\n",
        "1. Google Driveをマウントする\n",
        "1. 作業ディレクトリ（フォルダ）を作成する\n",
        "1. PyTorchフレームワークやライブラリを導入する\n"
      ]
    },
    {
      "cell_type": "markdown",
      "metadata": {
        "id": "pf0uizKzh9OX"
      },
      "source": [
        "## GPUの設定\n",
        "- Google Colabの設定\n",
        "  1. 上部のメニューバーから\n",
        "  1. **ランタイム／ランタイムのタイプを変更**\n",
        "  1. ハードウエアアクセラレータで，**GPU**を選択\n",
        "  1. 保存\n",
        "  - **GPUの使用には時間制限がある**ので注意する\n",
        "\n",
        "- プログラムの設定（プログラム内で必要の都度）\n",
        "  - デバイスの設定\n",
        "  - データの送信"
      ]
    },
    {
      "cell_type": "code",
      "metadata": {
        "colab": {
          "base_uri": "https://localhost:8080/"
        },
        "id": "rAjfb3Qb3CmZ",
        "outputId": "6e744dfe-c384-4cad-ae39-b11c8cde0552"
      },
      "source": [
        "import torch\n",
        "\n",
        "# CPU / GPU の設定\n",
        "# GPUを使用する際は，まず最初に，ランタイム > ランタイムタイプの変更 > GPU  > 保存\n",
        "\n",
        "# GPUの設定であればcuda，そうでなければcpu\n",
        "device = torch.device('cuda' if torch.cuda.is_available() else 'cpu')\n",
        "print(device)"
      ],
      "execution_count": null,
      "outputs": [
        {
          "output_type": "stream",
          "name": "stdout",
          "text": [
            "cuda\n"
          ]
        }
      ]
    },
    {
      "cell_type": "code",
      "metadata": {
        "colab": {
          "base_uri": "https://localhost:8080/"
        },
        "id": "mQzSTfcMCN-w",
        "outputId": "092c9c64-a4c3-4f3d-e574-c92a8c1a1617"
      },
      "source": [
        "# 割り当てられたGPUを調べる\n",
        "\n",
        "!nvidia-smi"
      ],
      "execution_count": null,
      "outputs": [
        {
          "output_type": "stream",
          "name": "stdout",
          "text": [
            "Tue Apr 16 02:30:48 2024       \n",
            "+---------------------------------------------------------------------------------------+\n",
            "| NVIDIA-SMI 535.104.05             Driver Version: 535.104.05   CUDA Version: 12.2     |\n",
            "|-----------------------------------------+----------------------+----------------------+\n",
            "| GPU  Name                 Persistence-M | Bus-Id        Disp.A | Volatile Uncorr. ECC |\n",
            "| Fan  Temp   Perf          Pwr:Usage/Cap |         Memory-Usage | GPU-Util  Compute M. |\n",
            "|                                         |                      |               MIG M. |\n",
            "|=========================================+======================+======================|\n",
            "|   0  Tesla T4                       Off | 00000000:00:04.0 Off |                    0 |\n",
            "| N/A   59C    P8              12W /  70W |      3MiB / 15360MiB |      0%      Default |\n",
            "|                                         |                      |                  N/A |\n",
            "+-----------------------------------------+----------------------+----------------------+\n",
            "                                                                                         \n",
            "+---------------------------------------------------------------------------------------+\n",
            "| Processes:                                                                            |\n",
            "|  GPU   GI   CI        PID   Type   Process name                            GPU Memory |\n",
            "|        ID   ID                                                             Usage      |\n",
            "|=======================================================================================|\n",
            "|  No running processes found                                                           |\n",
            "+---------------------------------------------------------------------------------------+\n"
          ]
        }
      ]
    },
    {
      "cell_type": "code",
      "source": [
        "# # 割り当てられたGPUの機種を調べる\n",
        "# torch.cuda.get_device_name(0)"
      ],
      "metadata": {
        "id": "A3memVVEU1QP"
      },
      "execution_count": null,
      "outputs": []
    },
    {
      "cell_type": "markdown",
      "source": [
        "## タイムゾーンを東京に変更する"
      ],
      "metadata": {
        "id": "jv9NI7Y4NTPh"
      }
    },
    {
      "cell_type": "code",
      "source": [
        "# 現在の設定を確認\n",
        "!date"
      ],
      "metadata": {
        "colab": {
          "base_uri": "https://localhost:8080/"
        },
        "id": "P-Xk8K9aNPar",
        "outputId": "9acdf9f6-4bcf-40a4-d2e3-80d325dfc9d6"
      },
      "execution_count": null,
      "outputs": [
        {
          "output_type": "stream",
          "name": "stdout",
          "text": [
            "Tue Apr 16 02:30:54 AM UTC 2024\n"
          ]
        }
      ]
    },
    {
      "cell_type": "code",
      "source": [
        "# 設定を変更\n",
        "!rm /etc/localtime\n",
        "!ln -s /usr/share/zoneinfo/Asia/Tokyo /etc/localtime\n",
        "\n",
        "!date"
      ],
      "metadata": {
        "colab": {
          "base_uri": "https://localhost:8080/"
        },
        "id": "Lqq0A3zrNnoI",
        "outputId": "41c2c02d-8037-4399-bfbb-612b37533cd9"
      },
      "execution_count": null,
      "outputs": [
        {
          "output_type": "stream",
          "name": "stdout",
          "text": [
            "Tue Apr 16 11:30:57 AM JST 2024\n"
          ]
        }
      ]
    },
    {
      "cell_type": "markdown",
      "metadata": {
        "id": "lBAhWQ24EFFn"
      },
      "source": [
        "## Google Driveをマウントする"
      ]
    },
    {
      "cell_type": "code",
      "metadata": {
        "id": "EKWMeepSoLw2",
        "colab": {
          "base_uri": "https://localhost:8080/"
        },
        "outputId": "38a2a32f-96c9-43be-d339-101be07aeb39"
      },
      "source": [
        "from google.colab import drive\n",
        "drive.mount('/content/drive')"
      ],
      "execution_count": null,
      "outputs": [
        {
          "output_type": "stream",
          "name": "stdout",
          "text": [
            "Mounted at /content/drive\n"
          ]
        }
      ]
    },
    {
      "cell_type": "markdown",
      "source": [
        "## 作業用フォルダを作成する"
      ],
      "metadata": {
        "id": "ukIQiZvXLAu7"
      }
    },
    {
      "cell_type": "code",
      "metadata": {
        "id": "wwpwnWjL1qsP"
      },
      "source": [
        "# # 作業用フォルダを作成\n",
        "# !mkdir -p '/content/drive/MyDrive/practice/chap_cnn'\n",
        "# %cd '/content/drive/MyDrive/practice/chap_cnn'\n",
        "# !pwd"
      ],
      "execution_count": null,
      "outputs": []
    },
    {
      "cell_type": "code",
      "metadata": {
        "id": "TLBzmSmnvG5i",
        "colab": {
          "base_uri": "https://localhost:8080/",
          "height": 35
        },
        "outputId": "f514078e-46d9-4823-8460-d5a0709cdd74"
      },
      "source": [
        "# 作業用フォルダ（作業ディレクトリ）を作成\n",
        "import os\n",
        "\n",
        "chap_dir = \"/content/drive/MyDrive/practice/chap_cnn\"\n",
        "if not os.path.exists(chap_dir): # ディレクトリが存在していなければ\n",
        "    # os.mkdir(chap_dir)\n",
        "    os.makedirs(chap_dir) # ディレクトリを，途中のディレクトリも含めて，作成する\n",
        "\n",
        "os.chdir(chap_dir) # 今回の作業ディレクトリに移動する\n",
        "os.getcwd() # 現在の作業ディレクトリを表示する"
      ],
      "execution_count": null,
      "outputs": [
        {
          "output_type": "execute_result",
          "data": {
            "text/plain": [
              "'/content/drive/MyDrive/practice/chap_cnn'"
            ],
            "application/vnd.google.colaboratory.intrinsic+json": {
              "type": "string"
            }
          },
          "metadata": {},
          "execution_count": 6
        }
      ]
    },
    {
      "cell_type": "markdown",
      "metadata": {
        "id": "qKivWbvMi_Re"
      },
      "source": [
        "## PyTorchのインストール\n",
        "- 既に導入済み"
      ]
    },
    {
      "cell_type": "code",
      "metadata": {
        "id": "t3SgszS33dKi"
      },
      "source": [
        "# pythonのバージョン確認\n",
        "# ! python --version"
      ],
      "execution_count": null,
      "outputs": []
    },
    {
      "cell_type": "code",
      "metadata": {
        "id": "WN4tcrdC3jUN"
      },
      "source": [
        "# torch, torchvisionをインストール\n",
        "# ! pip install torch==1.9.0 torchvision\n",
        "\n",
        "# ! pip install torch torchvision"
      ],
      "execution_count": null,
      "outputs": []
    },
    {
      "cell_type": "markdown",
      "metadata": {
        "id": "m6bez0CLWc4v"
      },
      "source": [
        "# 「学習」の手順\n",
        "\n",
        "1. データを準備する\n",
        "  - データの読み込み\n",
        "  - データの前処理\n",
        "  - データの分割\n",
        "  - データローダの作成\n",
        "1. モデルを定義する\n",
        "1. モデルを訓練する\n",
        "  - データをGPUに転送\n",
        "  - 損失関数と最適化手法を設定\n",
        "  - 訓練を実施\n",
        "1. 学習済みモデルを性能評価する"
      ]
    },
    {
      "cell_type": "markdown",
      "metadata": {
        "id": "sYHuoBmbEM-s"
      },
      "source": [
        "# データを準備する"
      ]
    },
    {
      "cell_type": "markdown",
      "metadata": {
        "id": "zH0QCM8aW2l7"
      },
      "source": [
        "Fashion-MNISTデータセットは，\n",
        "-  ラベル$0～9$のついたファッション商品画像データ\n",
        "-  6万枚の訓練用データ（画像と正解ラベル）\n",
        "-  1万枚のテスト用データ（画像と正解ラベル）\n",
        "-  画像は8ビットグレースケール（0：白～255：黒）\n",
        "-  画像は幅：28 x 高さ：28ピクセル（768ピクセル）\n",
        "\n",
        "> Fashion-MNIST: a Novel Image Dataset for Benchmarking > Machine Learning Algorithms. Han Xiao, Kashif Rasul,\n",
        "> Roland Vollgraf. arXiv:1708.07747\n",
        "\n",
        "<!-- 参考\n",
        "PyTorch公式サンプルコード<br>\n",
        "https://github.com/pytorch/examples/blob/master/mnist/main.py -->\n"
      ]
    },
    {
      "cell_type": "markdown",
      "metadata": {
        "id": "SK_OTS3BMlu8"
      },
      "source": [
        "## データを読み込み（ネットワークから）"
      ]
    },
    {
      "cell_type": "markdown",
      "metadata": {
        "id": "mEwWFRjWXVkB"
      },
      "source": [
        "- データを読み込み，マウントしたgoogle drive 内に保存する\n",
        "- データのダウンロードには，サーバやネットワークの負荷状況により，**数分程度**の時間がかかることがある\n",
        "- データダウンロードとともに前処理（テンソル変換や標準化処理）も行う"
      ]
    },
    {
      "cell_type": "code",
      "metadata": {
        "colab": {
          "base_uri": "https://localhost:8080/"
        },
        "id": "Ek4Z7byk3582",
        "outputId": "f1583851-5998-48bf-84f5-3a8cc39aad6f"
      },
      "source": [
        "# データを格納するディレクトリを作成する\n",
        "\n",
        "data_dir = \"./dataset\"\n",
        "if not os.path.exists(data_dir): # ディレクトリが存在していなければ\n",
        "    os.makedirs(data_dir) # ディレクトリを，途中のディレクトリも含めて，作成する\n",
        "\n",
        "# 現在の作業ディレクトリを確認する\n",
        "!pwd\n",
        "!ls -F"
      ],
      "execution_count": null,
      "outputs": [
        {
          "output_type": "stream",
          "name": "stdout",
          "text": [
            "/content/drive/MyDrive/practice/chap_cnn\n",
            "dataset/  Lenna_test_image_gray.png\n"
          ]
        }
      ]
    },
    {
      "cell_type": "markdown",
      "metadata": {
        "id": "mehngK2ITmk8"
      },
      "source": [
        "## データの前処理\n",
        "\n",
        "- データのダウンロード\n",
        "  - 元のデータが訓練用とテスト用に分割されているので，別々にダウンロードする\n",
        "    - trainval: 訓練用\n",
        "    - test:     テスト用\n",
        "\n",
        "- データダウンロード後に，自動的にデータの前処理も行う\n",
        "  - Tensor型への変換\n",
        "    - 画素値データ（0～255）をTensor型データに変換する\n",
        "      - 正規化処理（Min-Max処理）\n",
        "    - データ順の変換（C-H-W順に）\n",
        "    - 最終的なTensor型データは，概ね-1.0～1.0 の範囲\n",
        "\n"
      ]
    },
    {
      "cell_type": "code",
      "metadata": {
        "id": "IYwotSoxEgrb"
      },
      "source": [
        "# FMNIST\n",
        "from torchvision.datasets import MNIST, FashionMNIST\n",
        "from torchvision import datasets, transforms\n",
        "import os\n",
        "\n",
        "# データをダウンロードし，Tensorに変換\n",
        "# データの前処理の定義\n",
        "# Tensorに変換だけ（自動的にmin-max変換とデータのC-H-Wへの並べ替えも）\n",
        "fmnist_transform = transforms.Compose([transforms.ToTensor(), ])\n",
        "\n",
        "# データのダウンロードと前処理\n",
        "# FashionMNISTフォルダが存在する場合は download = False にする\n",
        "fmnist_trainval = FashionMNIST(root='./dataset', train=True, download=True, transform=fmnist_transform)\n",
        "fmnist_test = FashionMNIST(root='./dataset', train=False, download=True, transform=fmnist_transform)\n"
      ],
      "execution_count": null,
      "outputs": []
    },
    {
      "cell_type": "code",
      "metadata": {
        "id": "qYMNtpUNPNtR"
      },
      "source": [
        "# # MNIST\n",
        "# from torchvision.datasets import MNIST\n",
        "# from torchvision import datasets, transforms\n",
        "# import os\n",
        "\n",
        "# # データをダウンロードし，Tensorに変換し，平均 0.1307，標準偏差 0.3081 で標準化する\n",
        "\n",
        "# # データの前処理の定義\n",
        "# transform=transforms.Compose([transforms.ToTensor(), transforms.Normalize((0.1307,), (0.3081,))])\n",
        "\n",
        "# # データのダウンロードと前処理\n",
        "# mnist_trainval = MNIST(root='./dataset', train=True, download=True, transform=transform)\n",
        "# mnist_test = MNIST(root='./dataset', train=False, download=True, transform=transform)\n",
        "\n",
        "# # # データのダウンロード済の場合は前処理だけ\n",
        "# # mnist_trainval = MNIST(root='./dataset', train=True, download=False, transform=transform)\n",
        "# # mnist_test = MNIST(root='./dataset', train=False, download=False, transform=transform)\n"
      ],
      "execution_count": null,
      "outputs": []
    },
    {
      "cell_type": "code",
      "metadata": {
        "id": "5Tnw4jm4Xh_1",
        "colab": {
          "base_uri": "https://localhost:8080/"
        },
        "outputId": "394b0f30-4397-423a-b685-4cf5803060bf"
      },
      "source": [
        "# データセットのタイプを確認する\n",
        "print(type(fmnist_trainval))\n",
        "print(type(fmnist_test))\n",
        "\n",
        "# データセットの長さを確認する\n",
        "# 訓練データ数：60,000件，テストデータ数：10,000件\n",
        "print(len(fmnist_trainval))\n",
        "print(len(fmnist_test))"
      ],
      "execution_count": null,
      "outputs": [
        {
          "output_type": "stream",
          "name": "stdout",
          "text": [
            "<class 'torchvision.datasets.mnist.FashionMNIST'>\n",
            "<class 'torchvision.datasets.mnist.FashionMNIST'>\n",
            "60000\n",
            "10000\n"
          ]
        }
      ]
    },
    {
      "cell_type": "markdown",
      "metadata": {
        "id": "snKAo9-L6qkJ"
      },
      "source": [
        "### 画像を表示して確認する\n",
        "- 画像データはテンソル型に変換済み"
      ]
    },
    {
      "cell_type": "code",
      "metadata": {
        "id": "nvWbhjrInWHo",
        "colab": {
          "base_uri": "https://localhost:8080/",
          "height": 520
        },
        "outputId": "a77e4447-e112-4a1e-d2b5-f6e95055ccd5"
      },
      "source": [
        "import matplotlib.pyplot as plt\n",
        "%matplotlib inline\n",
        "\n",
        "# データの内容を確認する\n",
        "# x_0 は最初の画像データ，t_0 は最初の教師ラベル（答えの数値）\n",
        "# 1枚の画像（手書きの数字）は 28 x 28 ピクセルで構成されている\n",
        "x_0, t_0 = fmnist_trainval[0]\n",
        "\n",
        "# 画像データの型とサイズを確認する\n",
        "print(type(x_0))  # Tensor型\n",
        "print(x_0.size()) # Channel（色数）, Hight（縦）, Width（横）\n",
        "img = x_0.reshape(28, 28)\n",
        "\n",
        "# 正解ラベルを表示する\n",
        "print('正解ラベル：{}'.format(t_0))\n",
        "\n",
        "# 図の大きさをインチ単位で指定する\n",
        "plt.figure(figsize=(5,5))\n",
        "\n",
        "plt.title(\"Fashion-MNIST_trainval[0] Data\")\n",
        "\n",
        "# 画像を白黒で表示する\n",
        "plt.imshow(img, cmap='gray')\n",
        "\n",
        "plt.show()"
      ],
      "execution_count": null,
      "outputs": [
        {
          "output_type": "stream",
          "name": "stdout",
          "text": [
            "<class 'torch.Tensor'>\n",
            "torch.Size([1, 28, 28])\n",
            "正解ラベル：9\n"
          ]
        },
        {
          "output_type": "display_data",
          "data": {
            "text/plain": [
              "<Figure size 500x500 with 1 Axes>"
            ],
            "image/png": "[encoded data removed]"
          },
          "metadata": {}
        }
      ]
    },
    {
      "cell_type": "markdown",
      "metadata": {
        "id": "eRr3WgGILbku"
      },
      "source": [
        "### 画像表示を工夫する - Fashion-MNISTクラスの機能を利用する\n",
        "#### FashionMNIST クラスの属性：\n",
        "- FashionMNIST.classes (list): クラス名一覧\n",
        "- FashionMNIST.class_to_idx (dict): クラス名、値がクラス ID の辞書\n",
        "- FashionMNIST.data (Tensor): 画像一覧\n",
        "- FashionMNIST.targets (Tensor): ラベル一覧\n",
        "\n",
        "#### クラス一覧：\n",
        "| クラスID | クラス名 (英語) | クラス名 (日本語)|\n",
        "|:-:|:--|:--|\n",
        "| 0\t| T-shirt/top\t| Tシャツ/トップス |\n",
        "| 1\t| Trouser\t| パンツ/ボトムズ |\n",
        "| 2\t| Pullover\t| セーター |\n",
        "| 3\t| Dress\t| ドレス |\n",
        "| 4\t| Coat\t| コート |\n",
        "| 5\t| Sandal\t| サンダル |\n",
        "| 6\t| Shirt\t| シャツ |\n",
        "| 7\t| Sneaker\t| スニーカー |\n",
        "| 8\t| Bag\t| バッグ |\n",
        "| 9\t| Ankle | boot\tブーツ|"
      ]
    },
    {
      "cell_type": "code",
      "metadata": {
        "colab": {
          "base_uri": "https://localhost:8080/"
        },
        "id": "xsFG4hxOLW3l",
        "outputId": "c5cc6d88-0026-4843-8bf2-6a01dbb414e7"
      },
      "source": [
        "# クラス名リストを取得する\n",
        "class_list = fmnist_trainval.classes # リスト\n",
        "print(class_list)\n",
        "\n",
        "# クラス名からラベルIDを取得する辞書を作成する\n",
        "class_id_dict = fmnist_trainval.class_to_idx # 辞書 f(クラス名)->ラベルID\n",
        "print(class_id_dict)"
      ],
      "execution_count": null,
      "outputs": [
        {
          "output_type": "stream",
          "name": "stdout",
          "text": [
            "['T-shirt/top', 'Trouser', 'Pullover', 'Dress', 'Coat', 'Sandal', 'Shirt', 'Sneaker', 'Bag', 'Ankle boot']\n",
            "{'T-shirt/top': 0, 'Trouser': 1, 'Pullover': 2, 'Dress': 3, 'Coat': 4, 'Sandal': 5, 'Shirt': 6, 'Sneaker': 7, 'Bag': 8, 'Ankle boot': 9}\n"
          ]
        }
      ]
    },
    {
      "cell_type": "code",
      "metadata": {
        "colab": {
          "base_uri": "https://localhost:8080/"
        },
        "id": "FEu9bCf99yYK",
        "outputId": "f3770206-069e-413b-ccf0-e9bd40b17223"
      },
      "source": [
        "# ラベルIDからクラス名を取得する辞書（逆引き辞書）を作成する\n",
        "id_values = class_id_dict.values()\n",
        "id_class_dict = {}\n",
        "for id in id_values: # 0,1,2....9\n",
        "  id_class_dict[id] = class_list[id] # 'T-shirt/top', 'Trouser',,,,,'Ancle boot'\n",
        "print(id_class_dict)"
      ],
      "execution_count": null,
      "outputs": [
        {
          "output_type": "stream",
          "name": "stdout",
          "text": [
            "{0: 'T-shirt/top', 1: 'Trouser', 2: 'Pullover', 3: 'Dress', 4: 'Coat', 5: 'Sandal', 6: 'Shirt', 7: 'Sneaker', 8: 'Bag', 9: 'Ankle boot'}\n"
          ]
        }
      ]
    },
    {
      "cell_type": "code",
      "metadata": {
        "colab": {
          "base_uri": "https://localhost:8080/"
        },
        "id": "MtD4SXIUFSmD",
        "outputId": "d8ce2745-7b60-48fe-9740-d52cfe3f584b"
      },
      "source": [
        "# 各クラスのサンプルを一枚ずつ取得する\n",
        "import numpy as np\n",
        "\n",
        "class_ids, sample_indices = np.unique(fmnist_trainval.targets, return_index=True)\n",
        "print(f'クラス数：{len(class_ids)}, 画像データ数：{len(sample_indices)}')"
      ],
      "execution_count": null,
      "outputs": [
        {
          "output_type": "stream",
          "name": "stdout",
          "text": [
            "クラス数：10, 画像データ数：10\n"
          ]
        }
      ]
    },
    {
      "cell_type": "code",
      "metadata": {
        "colab": {
          "base_uri": "https://localhost:8080/",
          "height": 381
        },
        "id": "8h0WPmokGsju",
        "outputId": "3b3fab9b-ce77-49e4-f1f4-b044625f7aea"
      },
      "source": [
        "# 各クラス一枚ずつサンプル画像を表示する\n",
        "# 画像表示領域\n",
        "fig = plt.figure(figsize=(10, 4))\n",
        "\n",
        "# 画像全体のタイトル\n",
        "fig.suptitle(\"Examples of Fashion-MNIST dataset\", fontsize=\"x-large\")\n",
        "\n",
        "for i in class_ids: # クラス番号順に0～9\n",
        "    img = fmnist_trainval.data[sample_indices[i]] # 画像データ\n",
        "    class_name = fmnist_trainval.classes[i] # クラス名\n",
        "\n",
        "    # 画像表示エリアを2行5列に分割し，左上から順番に0～9\n",
        "    ax = fig.add_subplot(2, 5, i + 1) # i+1番目の領域に\n",
        "    ax.set_title(f\"{i}: {class_name}\") # クラス番号：クラス名の形式を\n",
        "    ax.set_axis_off()\n",
        "    ax.imshow(img, cmap=\"gray\") # 白黒画像として\n",
        "\n",
        "plt.show() # 表示する"
      ],
      "execution_count": null,
      "outputs": [
        {
          "output_type": "display_data",
          "data": {
            "text/plain": [
              "<Figure size 1000x400 with 10 Axes>"
            ],
            "image/png": "[encoded data removed]"
          },
          "metadata": {}
        }
      ]
    },
    {
      "cell_type": "markdown",
      "metadata": {
        "id": "tIVJSa1fIPHC"
      },
      "source": [
        "## データセットの分割\n",
        "- 通常は，訓練用，検証用，テスト用に**3分割**する（最低でも，訓練用，テスト用に**2分割**にする（下記<注意>を参照））\n",
        "- 訓練用 = 55,000枚\n",
        "- 検証用 = 5,000枚（訓練データ 60,000枚の内の5,000枚），訓練状況の検証用\n",
        "- テスト用 = 10,000枚，モデル性能のテスト用\n",
        "- 検証用は，訓練が**過学習になってないか**，訓練状況の確認に使用\n",
        "- テスト用は，学習済みモデルの**性能を確認**するために使用<br>\n",
        "\n",
        "**<注意>**<br>\n",
        "**（カンニング禁止）**：一度でも訓練で使用したデータはテストに使ってはいけない"
      ]
    },
    {
      "cell_type": "code",
      "source": [
        "# ライブラリ\n",
        "import torch\n",
        "\n",
        "# 乱数シードを固定して再現性を確保する\n",
        "torch.manual_seed(24)"
      ],
      "metadata": {
        "colab": {
          "base_uri": "https://localhost:8080/"
        },
        "id": "eAklLlL2MR-E",
        "outputId": "e6829b1b-42ed-43fd-ac2f-31b2227bfe53"
      },
      "execution_count": null,
      "outputs": [
        {
          "output_type": "execute_result",
          "data": {
            "text/plain": [
              "<torch._C.Generator at 0x79c9f41b1790>"
            ]
          },
          "metadata": {},
          "execution_count": 15
        }
      ]
    },
    {
      "cell_type": "code",
      "metadata": {
        "id": "L4YsCNB4owaj"
      },
      "source": [
        "from torch.utils.data import random_split\n",
        "\n",
        "# 訓練データを，train (55,000 images), val (5,000 images)に分割\n",
        "# 訓練：train，検証：val stands for validation\n",
        "fmnist_train, fmnist_val = random_split(fmnist_trainval, [55000, 5000])"
      ],
      "execution_count": null,
      "outputs": []
    },
    {
      "cell_type": "code",
      "metadata": {
        "id": "cVKZRzkEzLHB",
        "colab": {
          "base_uri": "https://localhost:8080/"
        },
        "outputId": "b9b7ddc6-aa05-451e-fc12-b5d9f7e694ed"
      },
      "source": [
        "# データセットの長さを確認する\n",
        "# train: 55,000, val: 5,000, test: 10,000\n",
        "print(len(fmnist_train))\n",
        "print(len(fmnist_val))\n",
        "print(len(fmnist_test))"
      ],
      "execution_count": null,
      "outputs": [
        {
          "output_type": "stream",
          "name": "stdout",
          "text": [
            "55000\n",
            "5000\n",
            "10000\n"
          ]
        }
      ]
    },
    {
      "cell_type": "markdown",
      "metadata": {
        "id": "sKjkiDX-_gld"
      },
      "source": [
        "## データローダの作成\n",
        "- データローダとは，指定したミニバッチ数のデータを提供してくれるもの\n",
        "- データは，（訓練データと教師ラベルの組）x ミニバッチ数 で構成される\n",
        "- shuffle=True を指定すると，ランダムにミニバッチ数のデータを選択して提供してくれる\n",
        "- shuffle=False を指定すると，毎回同じ順番でデータを提供してくれる\n"
      ]
    },
    {
      "cell_type": "code",
      "metadata": {
        "id": "wCiObs_a2cj8"
      },
      "source": [
        "from torch.utils.data import DataLoader\n",
        "\n",
        "# The dataloaders handle shuffling, batching, etc...\n",
        "# ミニバッチ長を100とする（100枚の画像毎に訓練する）\n",
        "b_size = 100\n",
        "\n",
        "fmnist_train_loader = DataLoader(fmnist_train, batch_size=b_size, shuffle=True)\n",
        "fmnist_val_loader = DataLoader(fmnist_val, batch_size=b_size, shuffle=False)\n",
        "fmnist_test_loader = DataLoader(fmnist_test, batch_size=b_size, shuffle=False)"
      ],
      "execution_count": null,
      "outputs": []
    },
    {
      "cell_type": "markdown",
      "metadata": {
        "id": "uBHy4jKdssMq"
      },
      "source": [
        "# モデルを定義する\n",
        "\n",
        "- ニューラルネットワークモデル（入力層，中間層（多層），出力層）\n",
        "- 出力ニューロンは，10個（10種類の数値（0～9）のクラス分類確率）\n",
        "- 活性化関数は，ReLU"
      ]
    },
    {
      "cell_type": "markdown",
      "metadata": {
        "id": "xD5A_5qzSI47"
      },
      "source": [
        "## CNNモデル\n",
        "\n",
        "- 多層\n",
        "  - コンボリューション層を2層\n",
        "  - ドロップアウト層\n",
        "  - maxプーリング層\n",
        "  - 活性化関数\n",
        "    - ReLU 関数（relu()）\n",
        "- 最終出力\n",
        "  - ノード数は10（10クラス分類）\n",
        "  - 活性化関数\n",
        "    - 対数ソフトマックス関数（log_softmax()）\n",
        "- マニュアル\n",
        "  -  [Conv2d](https://pytorch.org/docs/stable/generated/torch.nn.Conv2d.html)\n",
        "  - [Dropout2d](https://pytorch.org/docs/stable/generated/torch.nn.Dropout2d.html?highlight=dropout2d)"
      ]
    },
    {
      "cell_type": "code",
      "metadata": {
        "id": "xrjELMwSUlRi"
      },
      "source": [
        "'''モデル1の定義'''\n",
        "# -----------------\n",
        "# 2L-CNN\n",
        "# カーネルサイズ: 3\n",
        "# Dropoutなし\n",
        "# BatchNormなし\n",
        "# -----------------\n",
        "import torch\n",
        "from torch import nn\n",
        "import torch.nn.functional as F\n",
        "\n",
        "class MNISTClassifier_CNN(nn.Module):\n",
        "    def __init__(self):\n",
        "        super().__init__()\n",
        "        self.conv1 = nn.Conv2d(1, 32, 3, 1) # in-ch, out-ch, kernel, stride\n",
        "        self.conv2 = nn.Conv2d(32, 64, 3, 1) # in-ch, out-ch, kernel, stride\n",
        "        # self.dropout1 = nn.Dropout2d(0.25)\n",
        "        # self.dropout2 = nn.Dropout2d(0.5)\n",
        "        self.fc1 = nn.Linear(9216, 128)\n",
        "        self.fc2 = nn.Linear(128, 10)\n",
        "\n",
        "    def forward(self, x):\n",
        "        x = self.conv1(x)\n",
        "        x = F.relu(x)\n",
        "        x = self.conv2(x)\n",
        "        x = F.relu(x)\n",
        "        x = F.max_pool2d(x, 2)\n",
        "        # x = self.dropout1(x)\n",
        "        x = torch.flatten(x, 1)\n",
        "        x = self.fc1(x)\n",
        "        x = F.relu(x)\n",
        "        # x = self.dropout2(x)\n",
        "        x = self.fc2(x)\n",
        "        x = F.log_softmax(x, dim=1)\n",
        "        # x = F.softmax(x, dim=1)\n",
        "        return x"
      ],
      "execution_count": null,
      "outputs": []
    },
    {
      "cell_type": "code",
      "metadata": {
        "id": "JMHrsTm8ETJx"
      },
      "source": [
        "# '''モデル2の定義'''\n",
        "# # [提出課題1]で使用するモデル\n",
        "# # # -----------------\n",
        "# # # 2L-CNN\n",
        "# カーネルサイズ: 5\n",
        "# # # Dropoutなし\n",
        "# # # BatchNormあり\n",
        "# # # -----------------\n",
        "# import torch\n",
        "# from torch import nn\n",
        "# import torch.nn.functional as F\n",
        "\n",
        "# class MNISTClassifier_CNN(nn.Module):\n",
        "#     def __init__(self):\n",
        "#         super().__init__()\n",
        "#         self.layer1 = nn.Sequential(\n",
        "#             nn.Conv2d(1, 16, kernel_size=5, padding=2),\n",
        "#             nn.BatchNorm2d(16),\n",
        "#             nn.ReLU(),\n",
        "#             nn.MaxPool2d(2))\n",
        "#         self.layer2 = nn.Sequential(\n",
        "#             nn.Conv2d(16, 32, kernel_size=5, padding=2),\n",
        "#             nn.BatchNorm2d(32),\n",
        "#             nn.ReLU(),\n",
        "#             nn.MaxPool2d(2))\n",
        "#         self.fc = nn.Linear(7 * 7 * 32, 10)\n",
        "\n",
        "#     def forward(self, x):\n",
        "#         x = self.layer1(x)\n",
        "#         x = self.layer2(x)\n",
        "#         x = x.view(x.size(0), -1)\n",
        "#         x = self.fc(x)\n",
        "#         x = F.log_softmax(x, dim=1)\n",
        "#         # x = F.softmax(x, dim=1)\n",
        "#         return x"
      ],
      "execution_count": null,
      "outputs": []
    },
    {
      "cell_type": "markdown",
      "source": [
        "### MLPモデル"
      ],
      "metadata": {
        "id": "m2RVacN7N_-b"
      }
    },
    {
      "cell_type": "code",
      "source": [
        "# '''モデル3の定義'''\n",
        "# [提出課題2]で使用するモデル\n",
        "# # -----------------\n",
        "# # 3L-MLP\n",
        "# # -----------------\n",
        "# import torch\n",
        "# from torch import nn\n",
        "# import torch.nn.functional as F\n",
        "\n",
        "# class MNISTClassifier_MLP(nn.Module):\n",
        "\n",
        "#   def __init__(self):\n",
        "#     super(MNISTClassifier_MLP, self).__init__()\n",
        "\n",
        "#     # mnist images have (1, 28, 28) of shape : (channels, width, height)\n",
        "#     self.layer_1 = nn.Linear(28 * 28, 128)  # 入力：784，入力層出力：128\n",
        "#     self.layer_2 = nn.Linear(128, 256)      # 中間層入力：128，中間層出力：256\n",
        "#     self.layer_3 = nn.Linear(256, 10)       # 出力層入力：256，出力：10\n",
        "\n",
        "#   def forward(self, x):\n",
        "#     # 入力はバッチサイズ分の画像データ\n",
        "#     batch_size, channels, width, height = x.size()\n",
        "\n",
        "#     # b: batch（バッチ長）, c: channel（カラー数）, w: width（横）, h: height（縦）\n",
        "#     # (b, c, w, h) = (100, 1, 28, 28) -> (100, 1*28*28)\n",
        "#     x = x.view(batch_size, -1) # (100, 768)\n",
        "\n",
        "#     # layer 1\n",
        "#     x = self.layer_1(x)\n",
        "#     # x = torch.relu(x)\n",
        "#     x = F.relu(x)\n",
        "\n",
        "#     # layer 2\n",
        "#     x = self.layer_2(x)\n",
        "#     # x = torch.relu(x)\n",
        "#     x = F.relu(x)\n",
        "\n",
        "#     # layer 3\n",
        "#     x = self.layer_3(x)\n",
        "\n",
        "#     # probability distribution over labels => log_softmax()\n",
        "#     x = torch.log_softmax(x, dim=1)\n",
        "#     # x = F.softmax(x, dim=1)\n",
        "\n",
        "#     return x"
      ],
      "metadata": {
        "id": "nK3iueVbWXea"
      },
      "execution_count": null,
      "outputs": []
    },
    {
      "cell_type": "markdown",
      "metadata": {
        "id": "vWVj56V788af"
      },
      "source": [
        "# 訓練の準備をする\n"
      ]
    },
    {
      "cell_type": "markdown",
      "source": [
        "### モデルの初期化"
      ],
      "metadata": {
        "id": "CuA2x55qlfNd"
      }
    },
    {
      "cell_type": "code",
      "metadata": {
        "id": "PPtv1InR974o"
      },
      "source": [
        "# 学習モデルの初期化\n",
        "\n",
        "# model = MNISTClassifier_MLP()\n",
        "model = MNISTClassifier_CNN() # モデルパラメータ値の初期化\n",
        "\n",
        "model = model.to(device) # モデルのパラメータ値を演算デバイスに送る\n"
      ],
      "execution_count": null,
      "outputs": []
    },
    {
      "cell_type": "code",
      "metadata": {
        "colab": {
          "base_uri": "https://localhost:8080/"
        },
        "id": "wmhbTB_x3f8t",
        "outputId": "662948a7-fee3-4371-9972-16fd4ba226ba"
      },
      "source": [
        "# モデルの構造を再確認する\n",
        "from torchsummary import summary\n",
        "\n",
        "summary(model, (1, 28, 28)) # C, H, W = 1, 28, 28の画像を入力した場合"
      ],
      "execution_count": null,
      "outputs": [
        {
          "output_type": "stream",
          "name": "stdout",
          "text": [
            "----------------------------------------------------------------\n",
            "        Layer (type)               Output Shape         Param #\n",
            "================================================================\n",
            "            Conv2d-1           [-1, 32, 26, 26]             320\n",
            "            Conv2d-2           [-1, 64, 24, 24]          18,496\n",
            "            Linear-3                  [-1, 128]       1,179,776\n",
            "            Linear-4                   [-1, 10]           1,290\n",
            "================================================================\n",
            "Total params: 1,199,882\n",
            "Trainable params: 1,199,882\n",
            "Non-trainable params: 0\n",
            "----------------------------------------------------------------\n",
            "Input size (MB): 0.00\n",
            "Forward/backward pass size (MB): 0.45\n",
            "Params size (MB): 4.58\n",
            "Estimated Total Size (MB): 5.03\n",
            "----------------------------------------------------------------\n"
          ]
        }
      ]
    },
    {
      "cell_type": "markdown",
      "source": [
        "### 損失関数と最適化手法を設定する\n",
        "- 損失関数は，交差エントロピー誤差（$loss=-\\sum_{k}^{n} t_{k}\\log y_k$）\n",
        "- 最適化手法は，SGDで最小化"
      ],
      "metadata": {
        "id": "n2mbPlZMlccP"
      }
    },
    {
      "cell_type": "markdown",
      "metadata": {
        "id": "NULkiIUrW70P"
      },
      "source": [
        "### 損失関数（交差エントロピー誤差）\n",
        "- 教師ラベル$t$は **one-hotベクトル**（一つの要素だけが1で，他の要素は全て0のベクトル）で表現する<br>\n",
        "例えば，$5$であれば，0から始まるので6番目の要素だけが1で，$$t = [0, 0, 0, 0, 0, 1, 0, 0, 0, 0]$$<br>\n",
        "- 予測結果 $y$ は，softmax関数を施した$0～1$の実数値を要素とするベクトルで表現する<br>\n",
        "softmax関数を施した出力の合計は$1$になる（つまり各要素は確率とみなすことができる）<br>\n",
        "例えば，$$y = [0.01, 0.0, 0.08, 0.02, 0.0, 0.6, 0.18, 0.04, 0.02, 0.05]$$\n",
        "- 損失関数には交差エントロピー誤差を用いる<br>\n",
        "$$ loss = -\\sum_{n=1}^n t_n\\log y_n $$\n",
        "ここで，$log$は自然対数を表す．交差エントロピー誤差は，結果的に $t$ が1の要素の自然対数値だけになる．\n",
        "例えば，上記の場合には，教師ラベルが$1$の6番目の項だけが残るので，$ -1*\\log 0.6 = 0.51$ と計算できる\n",
        "\n"
      ]
    },
    {
      "cell_type": "code",
      "metadata": {
        "id": "bcYowdO4-p9g"
      },
      "source": [
        "# 損失関数（交差エントロピー誤差）\n",
        "import torch.nn as nn\n",
        "\n",
        "criterion = nn.CrossEntropyLoss()"
      ],
      "execution_count": null,
      "outputs": []
    },
    {
      "cell_type": "code",
      "metadata": {
        "id": "WbW9fsN7XJHg"
      },
      "source": [
        "# 最適化手法（SGD）\n",
        "from torch import optim\n",
        "\n",
        "# 学習率 lr は試行錯誤する必要がある．\n",
        "eta = 0.01\n",
        "optimizer = optim.SGD(model.parameters(), lr=eta) # SGD"
      ],
      "execution_count": null,
      "outputs": []
    },
    {
      "cell_type": "markdown",
      "metadata": {
        "id": "V4eGcHa-y48u"
      },
      "source": [
        "## 訓練と検証用の関数\n",
        "\n",
        "- 作業フォルダに **train_valid.py** が存在することを確認する\n",
        "    - 存在しない場合は，以下のセルを実行してアップロードする\n",
        "    - またはファイルアイコンから作業ディレクトリを開いて、パソコンからドラッグ&ドロップする\n"
      ]
    },
    {
      "cell_type": "code",
      "source": [
        "from google.colab import files\n",
        "\n",
        "uploaded = files.upload()"
      ],
      "metadata": {
        "id": "62zMraYiOkIR"
      },
      "execution_count": null,
      "outputs": []
    },
    {
      "cell_type": "code",
      "source": [
        "# 作業フォルダを確認する\n",
        "!ls -F"
      ],
      "metadata": {
        "colab": {
          "base_uri": "https://localhost:8080/"
        },
        "id": "jbHy9my_SNJd",
        "outputId": "ce4de3dd-f3da-46d3-f411-a3d446e9cde2"
      },
      "execution_count": null,
      "outputs": [
        {
          "output_type": "stream",
          "name": "stdout",
          "text": [
            "dataset/  Lenna_test_image_gray.png  train_valid.py\n"
          ]
        }
      ]
    },
    {
      "cell_type": "code",
      "source": [
        "# 関数を読み込む\n",
        "from train_valid import train, valid\n",
        "\n",
        "# # 訓練用の関数（1エポックの処理）を定義\n",
        "# def train(model, criterion, optimizer, train_loader, device, scheduler=None):\n",
        "#       return epoch_loss, epoch_acc # 1エポックの1データ当たりのロスと正解率\n",
        "\n",
        "# # 検証用の関数（1エポックの処理）を定義\n",
        "# def valid(model, criterion, optimizer, valtest_loader, device):\n",
        "#       return val_loss, val_acc # 1エポックの1データ当たりのロスと正解率\n"
      ],
      "metadata": {
        "id": "wmfs9gihQRRG"
      },
      "execution_count": null,
      "outputs": []
    },
    {
      "cell_type": "markdown",
      "metadata": {
        "id": "cReVgC4_2JvB"
      },
      "source": [
        "# 訓練を実施する"
      ]
    },
    {
      "cell_type": "markdown",
      "metadata": {
        "id": "3NNVXsdiLn0P"
      },
      "source": [
        "## データをGPUに送る\n",
        "1.   Colabランタイムの設定変更（この教材の**最初に設定済み**）\n",
        "\n",
        "  *   ランタイム > ランタイムタイプの変更 > GPU > 保存 を選択\n",
        "<br><t>（注意）ランタイムが再起動するので，全てのセルを再実行する\n",
        "\n",
        "2.   プログラムの修正\n",
        "\n",
        "  *   パラメータ（ニューラルネットワークモデル）をGPUに送る\n",
        "  *   データ（画像と正解ラベル）をGPUに送る\n",
        "\n",
        "\n",
        "\n",
        "\n"
      ]
    },
    {
      "cell_type": "code",
      "metadata": {
        "id": "yLFoSmDJCMnW"
      },
      "source": [
        "# 演算デバイスを確認する\n",
        "\n",
        "# print(device)"
      ],
      "execution_count": null,
      "outputs": []
    },
    {
      "cell_type": "code",
      "metadata": {
        "id": "ftkGMibzABS7"
      },
      "source": [
        "# モデルのパラメータを演算デバイスに送る\n",
        "# モデル生成時に送信済み\n",
        "\n",
        "# model = model.to(device) # モデルのパラメータを演算デバイスに送る"
      ],
      "execution_count": null,
      "outputs": []
    },
    {
      "cell_type": "markdown",
      "metadata": {
        "id": "I69yWqrzyVIF"
      },
      "source": [
        "次のセルのCNNによる訓練は時間がかかるので注意すること\n",
        "- GPUで，5～10秒/epoch 程度かかる．（50 epochでは 7分程度かかる）\n",
        "- CPUで，2.5分/epoch 程度かかる．（後で，発展課題として，2エポック程度で試してみる）"
      ]
    },
    {
      "cell_type": "code",
      "metadata": {
        "colab": {
          "base_uri": "https://localhost:8080/"
        },
        "id": "ixIpdgbtyMJa",
        "outputId": "ee7759e2-e45c-4adc-aec8-891584fe5585"
      },
      "source": [
        "# 訓練を実施する\n",
        "import copy\n",
        "\n",
        "# 訓練の長さ\n",
        "EPOCHS = 50 # GPU\n",
        "# EPOCHS = 2 # CPUで試す場合\n",
        "\n",
        "# 訓練と検証の状況を記録する空の入れ物\n",
        "train_acc_list = []\n",
        "train_loss_list = [] # 訓練ロス\n",
        "val_loss_list = [] # 検証ロス\n",
        "val_acc_list = [] # 検証の正解率\n",
        "\n",
        "best_model_wts = copy.deepcopy(model.state_dict()) # 現在のパラメータ値をコピー\n",
        "best_acc = 0.0 # epochのベスト精度を記録\n",
        "best_epoch = 0 # ベスト精度が出た時のepoch数\n",
        "\n",
        "for epoch in range(EPOCHS):\n",
        "    # エポックの処理\n",
        "    # 訓練\n",
        "    loss, acc = train(model, criterion, optimizer, fmnist_train_loader, device) # Fashin-MNIST\n",
        "    # loss, acc = train(model, criterion, optimizer, mnist_train_loader, device) # MNIST\n",
        "\n",
        "    # 検証\n",
        "    val_loss, val_acc = valid(model, criterion, optimizer, fmnist_val_loader, device) # Fashio-MNIST\n",
        "    # val_loss, val_acc = valid(model, criterion, optimizer, mnist_val_loader, device) # MNIST\n",
        "\n",
        "    print('epoch %d, train_loss: %.2f train_acc: %.2f val_loss: %.2f val_acc: %.2f' % (epoch, loss, acc, val_loss, val_acc))\n",
        "\n",
        "    # deep copy the model\n",
        "    # 精度が一番良かったモデルを保存する\n",
        "    if val_acc > best_acc:\n",
        "        best_acc = val_acc\n",
        "        best_model_wts = copy.deepcopy(model.state_dict())\n",
        "        best_epoch = epoch\n",
        "\n",
        "    # 訓練と検証の状況を記録\n",
        "    train_acc_list.append(acc)\n",
        "    train_loss_list.append(loss)\n",
        "    val_loss_list.append(val_loss)\n",
        "    val_acc_list.append(val_acc)\n",
        "\n",
        "# 精度が一番良いモデルのパラメータ値をファイルに保存する\n",
        "torch.save(best_model_wts, './cnn_model1_wts_fmnist.pkl')\n",
        "print(f'Best Acc（検証データ）：{best_acc:.2f} at epoch {best_epoch}')"
      ],
      "execution_count": null,
      "outputs": [
        {
          "output_type": "stream",
          "name": "stdout",
          "text": [
            "epoch 0, train_loss: 0.97 train_acc: 0.67 val_loss: 0.66 val_acc: 0.74\n",
            "epoch 1, train_loss: 0.60 train_acc: 0.77 val_loss: 0.55 val_acc: 0.81\n",
            "epoch 2, train_loss: 0.54 train_acc: 0.80 val_loss: 0.51 val_acc: 0.81\n",
            "epoch 3, train_loss: 0.50 train_acc: 0.81 val_loss: 0.50 val_acc: 0.82\n",
            "epoch 4, train_loss: 0.48 train_acc: 0.82 val_loss: 0.45 val_acc: 0.84\n",
            "epoch 5, train_loss: 0.45 train_acc: 0.84 val_loss: 0.47 val_acc: 0.82\n",
            "epoch 6, train_loss: 0.44 train_acc: 0.84 val_loss: 0.45 val_acc: 0.83\n",
            "epoch 7, train_loss: 0.42 train_acc: 0.85 val_loss: 0.45 val_acc: 0.83\n",
            "epoch 8, train_loss: 0.41 train_acc: 0.85 val_loss: 0.39 val_acc: 0.86\n",
            "epoch 9, train_loss: 0.39 train_acc: 0.86 val_loss: 0.39 val_acc: 0.86\n",
            "epoch 10, train_loss: 0.38 train_acc: 0.86 val_loss: 0.38 val_acc: 0.86\n",
            "epoch 11, train_loss: 0.37 train_acc: 0.87 val_loss: 0.37 val_acc: 0.86\n",
            "epoch 12, train_loss: 0.36 train_acc: 0.87 val_loss: 0.35 val_acc: 0.87\n",
            "epoch 13, train_loss: 0.35 train_acc: 0.87 val_loss: 0.35 val_acc: 0.87\n",
            "epoch 14, train_loss: 0.34 train_acc: 0.88 val_loss: 0.36 val_acc: 0.86\n",
            "epoch 15, train_loss: 0.33 train_acc: 0.88 val_loss: 0.33 val_acc: 0.88\n",
            "epoch 16, train_loss: 0.32 train_acc: 0.88 val_loss: 0.32 val_acc: 0.89\n",
            "epoch 17, train_loss: 0.31 train_acc: 0.89 val_loss: 0.31 val_acc: 0.88\n",
            "epoch 18, train_loss: 0.31 train_acc: 0.89 val_loss: 0.31 val_acc: 0.89\n",
            "epoch 19, train_loss: 0.30 train_acc: 0.89 val_loss: 0.30 val_acc: 0.89\n",
            "epoch 20, train_loss: 0.29 train_acc: 0.89 val_loss: 0.30 val_acc: 0.89\n",
            "epoch 21, train_loss: 0.29 train_acc: 0.89 val_loss: 0.30 val_acc: 0.89\n",
            "epoch 22, train_loss: 0.28 train_acc: 0.90 val_loss: 0.28 val_acc: 0.90\n",
            "epoch 23, train_loss: 0.28 train_acc: 0.90 val_loss: 0.29 val_acc: 0.90\n",
            "epoch 24, train_loss: 0.27 train_acc: 0.90 val_loss: 0.28 val_acc: 0.90\n",
            "epoch 25, train_loss: 0.27 train_acc: 0.90 val_loss: 0.28 val_acc: 0.90\n",
            "epoch 26, train_loss: 0.26 train_acc: 0.91 val_loss: 0.27 val_acc: 0.90\n",
            "epoch 27, train_loss: 0.25 train_acc: 0.91 val_loss: 0.27 val_acc: 0.90\n",
            "epoch 28, train_loss: 0.25 train_acc: 0.91 val_loss: 0.27 val_acc: 0.90\n",
            "epoch 29, train_loss: 0.24 train_acc: 0.91 val_loss: 0.26 val_acc: 0.90\n",
            "epoch 30, train_loss: 0.24 train_acc: 0.91 val_loss: 0.27 val_acc: 0.90\n",
            "epoch 31, train_loss: 0.24 train_acc: 0.91 val_loss: 0.26 val_acc: 0.90\n",
            "epoch 32, train_loss: 0.23 train_acc: 0.92 val_loss: 0.27 val_acc: 0.90\n",
            "epoch 33, train_loss: 0.23 train_acc: 0.92 val_loss: 0.26 val_acc: 0.90\n",
            "epoch 34, train_loss: 0.22 train_acc: 0.92 val_loss: 0.25 val_acc: 0.91\n",
            "epoch 35, train_loss: 0.22 train_acc: 0.92 val_loss: 0.28 val_acc: 0.89\n",
            "epoch 36, train_loss: 0.21 train_acc: 0.92 val_loss: 0.26 val_acc: 0.91\n",
            "epoch 37, train_loss: 0.21 train_acc: 0.92 val_loss: 0.24 val_acc: 0.91\n",
            "epoch 38, train_loss: 0.20 train_acc: 0.93 val_loss: 0.25 val_acc: 0.91\n",
            "epoch 39, train_loss: 0.20 train_acc: 0.93 val_loss: 0.24 val_acc: 0.91\n",
            "epoch 40, train_loss: 0.20 train_acc: 0.93 val_loss: 0.25 val_acc: 0.91\n",
            "epoch 41, train_loss: 0.19 train_acc: 0.93 val_loss: 0.25 val_acc: 0.91\n",
            "epoch 42, train_loss: 0.19 train_acc: 0.93 val_loss: 0.24 val_acc: 0.91\n",
            "epoch 43, train_loss: 0.19 train_acc: 0.93 val_loss: 0.26 val_acc: 0.91\n",
            "epoch 44, train_loss: 0.18 train_acc: 0.93 val_loss: 0.24 val_acc: 0.91\n",
            "epoch 45, train_loss: 0.18 train_acc: 0.93 val_loss: 0.24 val_acc: 0.91\n",
            "epoch 46, train_loss: 0.18 train_acc: 0.93 val_loss: 0.24 val_acc: 0.91\n",
            "epoch 47, train_loss: 0.17 train_acc: 0.94 val_loss: 0.24 val_acc: 0.91\n",
            "epoch 48, train_loss: 0.17 train_acc: 0.94 val_loss: 0.24 val_acc: 0.91\n",
            "epoch 49, train_loss: 0.17 train_acc: 0.94 val_loss: 0.24 val_acc: 0.91\n",
            "Best Acc（検証データ）：0.91 at epoch 48\n"
          ]
        }
      ]
    },
    {
      "cell_type": "markdown",
      "metadata": {
        "id": "OprHZiZZzWiz"
      },
      "source": [
        "### 訓練の様子をグラフ表示"
      ]
    },
    {
      "cell_type": "code",
      "metadata": {
        "id": "sirfynGPe5BM",
        "colab": {
          "base_uri": "https://localhost:8080/",
          "height": 410
        },
        "outputId": "b0014662-f5e7-4c8d-ff6a-d1fdebb0865b"
      },
      "source": [
        "# 損失が減少していく様子をグラフ表示する\n",
        "%matplotlib inline\n",
        "from matplotlib import pyplot as plt\n",
        "\n",
        "# 図の大きさをインチ単位で指定する\n",
        "plt.figure(figsize=(6, 4))\n",
        "\n",
        "plt.title('Learning Loss Curve (CNN)')\n",
        "plt.plot(train_loss_list, label='train')\n",
        "plt.plot(val_loss_list, label='val')\n",
        "plt.legend()\n",
        "plt.xlabel('epoch')\n",
        "plt.ylabel('train/val loss')\n",
        "plt.show()"
      ],
      "execution_count": null,
      "outputs": [
        {
          "output_type": "display_data",
          "data": {
            "text/plain": [
              "<Figure size 600x400 with 1 Axes>"
            ],
            "image/png": "[encoded data removed]"
          },
          "metadata": {}
        }
      ]
    },
    {
      "cell_type": "code",
      "metadata": {
        "colab": {
          "base_uri": "https://localhost:8080/",
          "height": 427
        },
        "id": "-UiGjPSLzu6a",
        "outputId": "ce044bbf-b36d-48e0-d8de-99bbff3cb5c0"
      },
      "source": [
        "# 正解率が上昇していく様子をグラフ表示する\n",
        "\n",
        "# 図の大きさをインチ単位で指定する\n",
        "plt.figure(figsize=(6, 4))\n",
        "\n",
        "plt.title('Validation Accuracy (2L-CNN)') # タイトル\n",
        "plt.plot(train_acc_list, label='train_acc')\n",
        "plt.plot(val_acc_list, label='val_acc')\n",
        "plt.legend()\n",
        "plt.xlabel('epoch')\n",
        "plt.ylabel('train/val acc')\n",
        "\n",
        "plt.show()\n",
        "print(f'検証データの最高精度：{best_acc*100:.1f} % at エポック {best_epoch}')\n",
        "# print('正解率（最終Epoch）：',val_acc_list[-1]*100, '%')"
      ],
      "execution_count": null,
      "outputs": [
        {
          "output_type": "display_data",
          "data": {
            "text/plain": [
              "<Figure size 600x400 with 1 Axes>"
            ],
            "image/png": "[encoded data removed]"
          },
          "metadata": {}
        },
        {
          "output_type": "stream",
          "name": "stdout",
          "text": [
            "検証データの最高精度：91.5 % at エポック 48\n"
          ]
        }
      ]
    },
    {
      "cell_type": "markdown",
      "metadata": {
        "id": "SWQnUx260me9"
      },
      "source": [
        "# 学習済みモデルを評価する"
      ]
    },
    {
      "cell_type": "markdown",
      "metadata": {
        "id": "nQ_rnK_lNoVj"
      },
      "source": [
        "### テストデータでモデルの予測性能を評価する"
      ]
    },
    {
      "cell_type": "code",
      "metadata": {
        "id": "fnAsVEwio7RZ"
      },
      "source": [
        "# 検証データで最高精度を出したパラメータ値を使用する\n",
        "# model.load_state_dict(torch.load(\"./cnn_model1_wts_fmnist.pkl\"))\n",
        "\n",
        "# モデルのパラメータをGPUに送信する\n",
        "# model = model.to(device)"
      ],
      "execution_count": null,
      "outputs": []
    },
    {
      "cell_type": "code",
      "metadata": {
        "colab": {
          "base_uri": "https://localhost:8080/"
        },
        "id": "-jorcWL9zaZn",
        "outputId": "4c450d05-8e0f-4388-d397-b659740e6f5c"
      },
      "source": [
        "# テストを実施する\n",
        "\n",
        "# テスト\n",
        "test_loss, test_acc = valid(model, criterion, optimizer, fmnist_test_loader, device) # Fashion-MNIST\n",
        "# test_loss, test_acc = valid(mnist_test_loader) # MNIST\n",
        "# print('test_loss: %.3f test_acc: %.3f' % (test_loss, test_acc))\n",
        "print('正解率（テストデータの平均精度）: {:.2f}'.format(test_acc))\n"
      ],
      "execution_count": null,
      "outputs": [
        {
          "output_type": "stream",
          "name": "stdout",
          "text": [
            "正解率（テストデータの平均精度）: 0.91\n"
          ]
        }
      ]
    },
    {
      "cell_type": "code",
      "metadata": {
        "id": "Tp3VErwm21gi"
      },
      "source": [],
      "execution_count": null,
      "outputs": []
    },
    {
      "cell_type": "markdown",
      "metadata": {
        "id": "k7J_VxR8qVAM"
      },
      "source": [
        "# まとめ\n",
        "1. 画像フィルタ処理が理解できた\n",
        "  - カーネル\n",
        "  - 畳み込み（Convolution）処理\n",
        "\n",
        "2. CNN（Convolutional Neural Network）による学習モデルを構築し，Fashion-MNIST画像を精度良く分類できた\n",
        "  - GPUの利用法が理解できた\n",
        "  - CNNモデルの構造と定義方法が理解できた\n",
        "  - CNNモデルでは画像フィルタ処理のカーネルをパラメータとして学習することが理解できた\n",
        "  - MLPモデルと比べると，CNNモデルは訓練時間が長くかかることが理解できた\n",
        "<!-- - （MNIST画像で比較した場合，）MLPモデルと比べると，CNNモデルは画像認識の精度が良くなる（99%程度）ことが理解できた -->\n"
      ]
    },
    {
      "cell_type": "code",
      "metadata": {
        "id": "0XKX7z-w2qK4"
      },
      "source": [],
      "execution_count": null,
      "outputs": []
    },
    {
      "cell_type": "markdown",
      "source": [
        "# [提出課題1]\n",
        "\n",
        "- 以下の手順に従って，CNNのモデル2を用いて学習し分類を実施してみる．\n",
        "\n",
        "  1. CNNモデルで，'''モデル1の定義'''とコメントされているセルの定義をコメントにする\n",
        "    1. そのセルをクリックし，Ctrl-A で全体を選択し，\n",
        "    1. Ctrl-/ で選択範囲をコメント文にする\n",
        "\n",
        "  1. CNNモデルで，'''モデル2の定義'''とコメントされているセルのコメントを外す\n",
        "    1. そのセルをクリックし，Ctrl-A で全体を選択し，\n",
        "    1. Ctrl-/ で選択範囲をコメント文にする\n",
        "\n",
        "  1. 以下の手順でプログラムを再実行する\n",
        "    1. メニューバーの，ランタイム ／ ランタイムを再起動\n",
        "    1. メニューバーの，ランタイム ／ すべてのセルを実行\n",
        "\n",
        "  1. テストデータでモデルの予測性能を評価する\n",
        "    1. test_acc の値を小数第二位までで答えよ"
      ],
      "metadata": {
        "id": "TnQvOh0nZwQJ"
      }
    },
    {
      "cell_type": "markdown",
      "source": [
        "# [提出課題2]\n",
        "\n",
        "- 以下の手順に従って，CNNに代わり，MLP（全結合型ネットワーク）を用いて学習し分類を実施してみる．\n",
        "\n",
        "  1. CNNモデルで，'''モデル2の定義'''とコメントされているセルの定義をコメントにする\n",
        "    1. そのセルをクリックし，Ctrl-A で全体を選択し，\n",
        "    1. Ctrl-/ で選択範囲をコメント文にする\n",
        "  \n",
        "  1. MLPモデルで，'''モデル3の定義'''とコメントされているセルのコメントを外す\n",
        "    1. そのセルをクリックし，Ctrl-A で全体を選択し，\n",
        "    1. Ctrl-/ で選択範囲をコメント文にする\n",
        "  \n",
        "  1. モデルの初期化で，以下のように```model = MNISTClassifier_CNN()```の行の先頭に#をつけてコメント文にし，```model = MNISTClassifier_MLP()```の行頭の#を外して実行文にする\n",
        "  ```\n",
        "  # 学習モデルの初期頭\n",
        "model = MNISTClassifier_MLP()\n",
        "# model = MNISTClassifier_CNN() # モデルパラメータ値の初期化\n",
        "  ```\n",
        "\n",
        "  1. 以下の手順でプログラムを再実行する\n",
        "    1. メニューバーの，ランタイム ／ ランタイムを再起動\n",
        "    1. メニューバーの，ランタイム ／ すべてのセルを実行\n",
        "\n",
        "  1. テストデータでモデルの予測性能を評価する\n",
        "    1. test_acc の値を小数第二位までで答えよ\n"
      ],
      "metadata": {
        "id": "WYkdADTPLzxj"
      }
    },
    {
      "cell_type": "code",
      "source": [],
      "metadata": {
        "id": "YssySAyTLyVS"
      },
      "execution_count": null,
      "outputs": []
    },
    {
      "cell_type": "markdown",
      "metadata": {
        "id": "A0WuKuyaCbT1"
      },
      "source": [
        "# 発展課題\n",
        "\n",
        "- CPUで訓練した場合の学習時間を確認してみる．\n",
        "  1.  ランタイム／ランタイムのタイプを変更で，ハードウエアアクセラレータをnoneに設定する<br>（ランタイムの設定を変更すると，プログラムは最初から実行しなおさないといけない）\n",
        "  1.  エポック数（epochs）を 2 程度に設定する\n",
        "  1.  訓練を実行する\n",
        "\n",
        "\n",
        "\n",
        "\n"
      ]
    },
    {
      "cell_type": "code",
      "source": [],
      "metadata": {
        "id": "STNGRrn7sCE7"
      },
      "execution_count": null,
      "outputs": []
    }
  ]
}