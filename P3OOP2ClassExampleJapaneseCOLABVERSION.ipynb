{
  "nbformat": 4,
  "nbformat_minor": 0,
  "metadata": {
    "colab": {
      "provenance": [],
      "include_colab_link": true
    },
    "kernelspec": {
      "name": "python3",
      "display_name": "Python 3"
    },
    "language_info": {
      "name": "python"
    }
  },
  "cells": [
    {
      "cell_type": "markdown",
      "metadata": {
        "id": "view-in-github",
        "colab_type": "text"
      },
      "source": [
        "<a href=\"https://colab.research.google.com/github/Glifoyle/test-repo/blob/master/P3OOP2ClassExampleJapaneseCOLABVERSION.ipynb\" target=\"_parent\"><img src=\"https://colab.research.google.com/assets/colab-badge.svg\" alt=\"Open In Colab\"/></a>"
      ]
    },
    {
      "cell_type": "markdown",
      "source": [
        "[インデックスに戻る](https://colab.research.google.com/drive/1wYIcjC74RnB3HcpqCWWoXLUjVlD8N1YU?usp=sharing)\n",
        "\n",
        "[Youtube Channel](https://www.youtube.com/channel/UCDxi6j88IlZXsRcAUXlscgw)"
      ],
      "metadata": {
        "id": "2EPTq6GHMvFU"
      }
    },
    {
      "cell_type": "code",
      "source": [],
      "metadata": {
        "id": "hI07owWfDFBo"
      },
      "execution_count": null,
      "outputs": []
    },
    {
      "cell_type": "markdown",
      "source": [],
      "metadata": {
        "id": "lGTqmRAjDFk2"
      }
    },
    {
      "cell_type": "code",
      "source": [],
      "metadata": {
        "id": "-jrHky71DGTK"
      },
      "execution_count": null,
      "outputs": []
    },
    {
      "cell_type": "markdown",
      "source": [],
      "metadata": {
        "id": "M1R5fVnpDG9P"
      }
    },
    {
      "cell_type": "markdown",
      "metadata": {
        "lang": "ja",
        "id": "95d731f1"
      },
      "source": [
        "# オブジェクト指向プログラミングの例\n",
        "\n",
        "## **「subject」クラス**\n",
        "\n",
        "このレッスンでは、大学の科目に関連する情報をモデル化するために使用する「サブジェクト」クラスを実装するために、学習したオブジェクト指向プログラミング定義のいくつかを使用します (ようは、みんなできるところから手をつけるということです。）。\n",
        "\n",
        "まず、必要なインポートを1つ定義します。"
      ]
    },
    {
      "cell_type": "code",
      "execution_count": null,
      "metadata": {
        "id": "ba95c1ff"
      },
      "outputs": [],
      "source": [
        "import random"
      ]
    },
    {
      "cell_type": "markdown",
      "metadata": {
        "lang": "ja",
        "id": "0b070a33"
      },
      "source": [
        "## オブジェクトアトリビュート:\n",
        "\n",
        "いつものように、クラス定義から始めて、必要ないくつかのアトリビュートを設定します。"
      ]
    },
    {
      "cell_type": "code",
      "execution_count": null,
      "metadata": {
        "id": "8aa379bb-d3c8-47f9-83cd-2bdc89729ee8"
      },
      "outputs": [],
      "source": [
        "class Subject():\n",
        "    def __init__(self,initName,initNumCredits,initSemester):\n",
        "        self.name=initName\n",
        "        self.numCredits=initNumCredits\n",
        "        self.semester=initSemester\n",
        "        self.students={} # dictionary to store the information of the students following the subject."
      ]
    },
    {
      "cell_type": "markdown",
      "metadata": {
        "lang": "ja",
        "id": "bff1ff38"
      },
      "source": [
        "私たちにとって、科目は、名前、修了時に授与される単位数、開講される学期、および教科の学生に関連する情報を含むデータ構造で構成されます。\n",
        "\n",
        "例をより完全なものにするために、subjectクラスの単純なset/getメソッドと、「subject」クラスによって使用される単純な「student」クラスを追加しましょう。\n",
        "\n",
        "このノートには、次のステップを自分で試せるように、セルに開始コードを書いておきます。その後に、私の答えを貼り付けます。"
      ]
    },
    {
      "cell_type": "code",
      "execution_count": null,
      "metadata": {
        "id": "d3416870"
      },
      "outputs": [],
      "source": [
        "# Create a student class (including attributs and their set/get methods)\n",
        "\n",
        "class Subject():\n",
        "    def __init__(self,initName,initNumCredits,initSemester):\n",
        "        self.name=initName\n",
        "        self.numCredits=initNumCredits\n",
        "        self.semester=initSemester\n",
        "        self.students={} # dictionary to store the information of the students following the subject.\n",
        "\n",
        "# Write set/get methods for the Subject class"
      ]
    },
    {
      "cell_type": "markdown",
      "metadata": {
        "lang": "ja",
        "id": "f707e9e5"
      },
      "source": [
        "各学生オブジェクトに名前と ID 番号を付けることにしました。さらに、生徒と生徒が参加している教科との関係を「mark」というオブジェクトアトリビュートで表現することにしました。これ自体、クラスである必要がありますが、現時点では「UNGRADED」文字列に初期化さるアトリビュートとして残し、後で科目内の生徒の成績が含まれます。\n",
        "\n",
        "両方のクラスに魔法の __str__ メソッドを実装したので、それらのオブジェクトをきれいに出力できます。また、「Student」クラスでは一部のアトリビュートは「set」メソッドを持たないと決定したことに注意してください。これにより、学生の名前などの情報は、それを含むオブジェクトが作成された後に変更されるべきではないことを示します。"
      ]
    },
    {
      "cell_type": "code",
      "execution_count": null,
      "metadata": {
        "id": "9a801e96"
      },
      "outputs": [],
      "source": [
        "class Student():\n",
        "    def __init__(self,nameI,sNumI):\n",
        "        self.name=nameI\n",
        "        self.number=sNumI\n",
        "        self.mark=\"UNGRADED\"\n",
        "    def getName(self):return self.name\n",
        "    def getID(self):return self.number\n",
        "    def setGrade(self,markI):\n",
        "        self.mark=markI\n",
        "    def getGrade(self):\n",
        "        return self.mark\n",
        "    def __str__(self):\n",
        "        return \"\\n ******* Student Name: \"+self.name+\"\\n         ID: \"+str(self.number)+\"\\n         Grade \"+str(self.getGrade())\n",
        "\n",
        "\n",
        "class Subject():\n",
        "    def __init__(self,initName,initNumCredits,initSemester):\n",
        "        self.name=initName\n",
        "        self.numCredits=initNumCredits\n",
        "        self.semester=initSemester\n",
        "        self.students={}# dictionary to store the information of the students following the subject.\n",
        "\n",
        "    def getName(self):return self.name\n",
        "    def getCredits(self):return self.numCredits\n",
        "    def getNumStudents(self): return len(self.students)\n",
        "    def getSemester(self):return self.semester\n",
        "\n",
        "\n",
        "    def __str__(self):\n",
        "        return \"\\n Subject Name: \"+self.name+\"\\n Counts for \"+str(self.numCredits)+\" credits. And takes place in \"+self.semester"
      ]
    },
    {
      "cell_type": "markdown",
      "metadata": {
        "lang": "ja",
        "id": "9b66bd68"
      },
      "source": [
        "これらの単純な定義を使用して、Student クラスと Subject クラスの最初のオブジェクトを作成できます。"
      ]
    },
    {
      "cell_type": "code",
      "execution_count": null,
      "metadata": {
        "scrolled": true,
        "colab": {
          "base_uri": "https://localhost:8080/"
        },
        "id": "cfeeab12",
        "outputId": "3fc909dd-6407-4595-9c21-bd4912fef533"
      },
      "outputs": [
        {
          "output_type": "stream",
          "name": "stdout",
          "text": [
            "\n",
            " Subject Name: Jouhou Kagaku B\n",
            " Counts for 2 credits. And takes place in spring\n",
            "\n",
            " ******* Student Name: Yago\n",
            "         ID: 11000001\n",
            "         Grade UNGRADED\n"
          ]
        }
      ],
      "source": [
        "#We can, of course, create \"subject\" objects using the constructor function\n",
        "mySubject=Subject(\"Jouhou Kagaku B\",2,\"spring\")\n",
        "\n",
        "print(mySubject)\n",
        "\n",
        "seito1=Student(\"Yago\",11000001)\n",
        "print(seito1)\n"
      ]
    },
    {
      "cell_type": "markdown",
      "metadata": {
        "lang": "ja",
        "id": "54dd42f0"
      },
      "source": [
        "これまでのところ、クラスは実際には相互に接続されていないため、ほとんど役に立ちません。\n",
        "\n",
        "Student クラスのオブジェクトを追加できる Subject クラスのメソッドを設計します。学生証を辞書のキーとして使用します。"
      ]
    },
    {
      "cell_type": "code",
      "execution_count": null,
      "metadata": {
        "id": "14cdcd9c"
      },
      "outputs": [],
      "source": [
        "class Student():\n",
        "    def __init__(self,nameI,sNumI):\n",
        "        self.name=nameI\n",
        "        self.number=sNumI\n",
        "        self.mark=\"UNGRADED\"\n",
        "    def getName(self):return self.name\n",
        "    def getID(self):return self.number\n",
        "    def setGrade(self,markI):\n",
        "        self.mark=markI\n",
        "    def getGrade(self):\n",
        "        return self.mark\n",
        "    def __str__(self):\n",
        "        return \"\\n ******* Student Name: \"+self.name+\"\\n         ID: \"+str(self.number)+\"\\n         Grade \"+str(self.getGrade())\n",
        "\n",
        "\n",
        "class Subject():\n",
        "    def __init__(self,initName,initNumCredits,initSemester):\n",
        "        self.name=initName\n",
        "        self.numCredits=initNumCredits\n",
        "        self.semester=initSemester\n",
        "        self.students={}# dictionary to store the information of the students following the subject.\n",
        "\n",
        "    def getName(self):return self.name\n",
        "    def getCredits(self):return self.numCredits\n",
        "    def getNumStudents(self): return len(self.students)\n",
        "    def getSemester(self):return self.semester\n",
        "\n",
        "    # Add methods to add students to the self.students dictionary.\n",
        "\n",
        "    # Also, add a method that receives a student id and a mark and puts it into the correct student of the subject.\n",
        "\n",
        "\n",
        "    def __str__(self):\n",
        "        return \"\\n Subject Name: \"+self.name+\"\\n Counts for \"+str(self.numCredits)+\" credits. And takes place in \"+self.semester"
      ]
    },
    {
      "cell_type": "markdown",
      "metadata": {
        "lang": "ja",
        "id": "2ffae323"
      },
      "source": [
        "ここに考えられる答えの1つがあります。私たちは：\n",
        "\n",
        "1) 基本的に、入力されている学生のIDに対応するキーでself.studentsを更新するaddStudentメソッドを追加しました (そこでのメソッド呼び出しに注意してください)。また、Pythonのiterablesの知識を使用して、前の関数を呼び出す反復子を反復する単純なメソッドassStudentGroupを追加し、余分な労力をほとんどかけずに「一括で」学生を追加できるようにしました。\n",
        "\n",
        "2) self.students 辞書で学生を検索し (見つからない場合はどうなりますか?)、「mark」アトリビュートを更新するgradeStudentメソッドを追加しました。\n",
        "\n",
        "3) subjectクラスの _str_ メソッドの出力を読みやすくするために、単純なlistStudentsメソッドを追加しました。\n",
        "\n",
        "4) 科目内のすべての学生を走査し、ラムダ関数を使用して並べ替え、リスト内包表記を使用してリストを作成し、より高い成績を持つ学生を返す「bestStudent」メソッドを追加しました。生徒が「未採点」の場合はどうなりますか?\n",
        "\n",
        "\n",
        "先に進む前に、コードを注意深く読み、その仕組みを理解してください。"
      ]
    },
    {
      "cell_type": "code",
      "execution_count": null,
      "metadata": {
        "id": "d2ba6b88"
      },
      "outputs": [],
      "source": [
        "class Student():\n",
        "    def __init__(self,nameI,sNumI):\n",
        "        self.name=nameI\n",
        "        self.number=sNumI\n",
        "        self.mark=\"UNGRADED\"\n",
        "    def getName(self):return self.name\n",
        "    def getID(self):return self.number\n",
        "    def setGrade(self,markI):\n",
        "        self.mark=markI\n",
        "    def getGrade(self):\n",
        "        return self.mark\n",
        "    def __str__(self):\n",
        "        return \"\\n ******* Student Name: \"+self.name+\"\\n         ID: \"+str(self.number)+\"\\n         Grade \"+str(self.getGrade())\n",
        "    def __repr__(self):return self.__str__()\n",
        "\n",
        "class Subject():\n",
        "    def __init__(self,initName,initNumCredits,initSemester):\n",
        "        self.name=initName\n",
        "        self.numCredits=initNumCredits\n",
        "        self.semester=initSemester\n",
        "        self.students={}# dictionary to store the information of the students following the subject.\n",
        "\n",
        "    def getName(self):return self.name\n",
        "    def getCredits(self):return self.numCredits\n",
        "    def getNumStudents(self): return len(self.students)\n",
        "    def getSemester(self):return self.semester\n",
        "\n",
        "    def addStudent(self,s):self.students[s.getID()]=s\n",
        "    def addStudentGroup(self,group):#group needs to be iterable\n",
        "        for s in group: self.addStudent(s)\n",
        "\n",
        "    def gradeStudent(self,stId,mark):\n",
        "        self.students[stId].setGrade(mark)\n",
        "\n",
        "    def listStudents(self):\n",
        "        if len(self.students) > 0:\n",
        "            retString=\"\"\n",
        "            for k,x in self.students.items(): retString+=str(x)\n",
        "            return retString\n",
        "        else: return \"\"\n",
        "\n",
        "    def bestStudent(self):\n",
        "        #first, put the students into a list\n",
        "        studentList=[s for key,s in self.students.items()]\n",
        "        #then sort the list\n",
        "        sortedStudents=sorted(studentList,key= lambda x: x.getGrade() )\n",
        "        #return the last student in the list\n",
        "        return sortedStudents[-1]\n",
        "\n",
        "    def __str__(self):\n",
        "        return \"\\n Subject Name: \"+self.name+\"\\n Counts for \"+str(self.numCredits)+\" credits. \\n Currently has \"+str(self.getNumStudents())+\" students enroled \"+str(self.listStudents())+\" \\n and takes place in \"+self.semester\n",
        "\n",
        "    def __repr__(self):return self.__str__()"
      ]
    },
    {
      "cell_type": "markdown",
      "metadata": {
        "lang": "ja",
        "id": "dab9e87a"
      },
      "source": [
        "\\_\\_repr\\_\\_ マジックメソッドをクラスに追加したことに注意してください。このメソッドは、たとえば、Pythonオブジェクトのリストの str() を呼び出すときに呼び出されます。具体的には、リストのすべてのオブジェクトで呼び出されます。この場合、それを実装しました (以下の例が読みやすくなるように __str__ メソッドにリダイレクトするだけです)。"
      ]
    },
    {
      "cell_type": "code",
      "execution_count": null,
      "metadata": {
        "scrolled": true,
        "colab": {
          "base_uri": "https://localhost:8080/"
        },
        "id": "caea8534",
        "outputId": "36be0b8b-0279-4d27-ac59-9e7d1dca3815"
      },
      "outputs": [
        {
          "output_type": "stream",
          "name": "stdout",
          "text": [
            "\n",
            " \n",
            " my subjects without students:\n",
            "\n",
            "[\n",
            " Subject Name: jouhou Kagaku B\n",
            " Counts for 2 credits. \n",
            " Currently has 0 students enroled  \n",
            " and takes place in spring, \n",
            " Subject Name: Jouhou Suugaku C\n",
            " Counts for 2 credits. \n",
            " Currently has 0 students enroled  \n",
            " and takes place in autum, \n",
            " Subject Name: Computer Science Basics \n",
            " Counts for 1 credits. \n",
            " Currently has 0 students enroled  \n",
            " and takes place in autum, \n",
            " Subject Name: Computer Literacy \n",
            " Counts for 2 credits. \n",
            " Currently has 0 students enroled  \n",
            " and takes place in autum, \n",
            " Subject Name:  Algorithmics 1\n",
            " Counts for 4 credits. \n",
            " Currently has 0 students enroled  \n",
            " and takes place in spring, \n",
            " Subject Name:  Programming Basics \n",
            " Counts for 8 credits. \n",
            " Currently has 0 students enroled  \n",
            " and takes place in spring , \n",
            " Subject Name: Algorithmics 2\n",
            " Counts for 4 credits. \n",
            " Currently has 0 students enroled  \n",
            " and takes place in spring]\n",
            "\n",
            "\n"
          ]
        }
      ],
      "source": [
        "# Let's build some subjects using zip and list comprehensions.\n",
        "subjectNames=[\"jouhou Kagaku B\",\"Jouhou Suugaku C\", \"Computer Science Basics \", \"Computer Literacy \",\" Algorithmics 1\", \" Programming Basics \", \"Algorithmics 2\"]\n",
        "numCredits=[2,2,1,2,4,8,4]\n",
        "semesters=[\"spring\",\"autum\", \"autum\", \"autum\",\"spring\", \"spring \", \"spring\"]\n",
        "\n",
        "# We can fuse all these lists into tuples using the \"zip\" function\n",
        "subjectTuples=zip(subjectNames,numCredits,semesters)\n",
        "\n",
        "#then, we use the list comprehension to transform the tuples into subject class objects.\n",
        "subjects =[Subject(n,c,sem) for (n,c,sem) in subjectTuples ]\n",
        "\n",
        "print(\"\\n \\n my subjects without students:\\n\\n\" +str(subjects)+\"\\n\\n\")"
      ]
    },
    {
      "cell_type": "code",
      "execution_count": null,
      "metadata": {
        "colab": {
          "base_uri": "https://localhost:8080/"
        },
        "id": "8222103b",
        "outputId": "8b8481c4-fb5d-4be6-bff7-268e6700b902"
      },
      "outputs": [
        {
          "output_type": "stream",
          "name": "stdout",
          "text": [
            "my students, who will join all my subjects[\n",
            " ******* Student Name: Yago Diez \n",
            "         ID: 11000001 \n",
            "         Grade UNGRADED, \n",
            " ******* Student Name: Black Widow \n",
            "         ID: 11000002 \n",
            "         Grade UNGRADED, \n",
            " ******* Student Name: Spider Man \n",
            "         ID: 11000003 \n",
            "         Grade UNGRADED, \n",
            " ******* Student Name: Ronald Drump\n",
            "         ID: 11000004\n",
            "         Grade UNGRADED, \n",
            " ******* Student Name:  Jupyter Saturnus\n",
            "         ID:  11000005\n",
            "         Grade UNGRADED, \n",
            " ******* Student Name: Anna Conda\n",
            "         ID: 11000006\n",
            "         Grade UNGRADED, \n",
            " ******* Student Name: Pai Zon \n",
            "         ID: 11000007 \n",
            "         Grade UNGRADED]\n"
          ]
        }
      ],
      "source": [
        "# let us now add some students to also make a student lists our subjects\n",
        "studentNames=[\"Yago Diez \",\"Black Widow \",\"Spider Man \", \"Ronald Drump\",\" Jupyter Saturnus\", \"Anna Conda\", \"Pai Zon \"]\n",
        "studentIds=[\"11000001 \",\"11000002 \",\"11000003 \", \"11000004\",\" 11000005\", \"11000006\", \"11000007 \"]\n",
        "\n",
        "for x in subjects:\n",
        "\n",
        "    # We use again zip + list comprehension to create tuples, we add all the students to every subject\n",
        "    studentTuples=zip(studentNames,studentIds)\n",
        "    students=[Student(n,id) for (n,id) in studentTuples]\n",
        "\n",
        "    # we add a copy of each group of students to each subject\n",
        "    # (we cannot use the same students over and over because thy need different marks for every subject)\n",
        "    x.addStudentGroup(students)\n",
        "\n",
        "\n",
        "print(\"my students, who will join all my subjects\"+str(students))"
      ]
    },
    {
      "cell_type": "markdown",
      "metadata": {
        "id": "f16e2b8a"
      },
      "source": [
        "今、私たちは、subjectとstudentsがすでに関連しています。"
      ]
    },
    {
      "cell_type": "code",
      "execution_count": null,
      "metadata": {
        "colab": {
          "base_uri": "https://localhost:8080/"
        },
        "id": "93cea062",
        "outputId": "87392fe1-2152-4392-fc18-eddac27e2f6d"
      },
      "outputs": [
        {
          "output_type": "stream",
          "name": "stdout",
          "text": [
            "[\n",
            " Subject Name: jouhou Kagaku B\n",
            " Counts for 2 credits. \n",
            " Currently has 7 students enroled \n",
            " ******* Student Name: Yago Diez \n",
            "         ID: 11000001 \n",
            "         Grade UNGRADED\n",
            " ******* Student Name: Black Widow \n",
            "         ID: 11000002 \n",
            "         Grade UNGRADED\n",
            " ******* Student Name: Spider Man \n",
            "         ID: 11000003 \n",
            "         Grade UNGRADED\n",
            " ******* Student Name: Ronald Drump\n",
            "         ID: 11000004\n",
            "         Grade UNGRADED\n",
            " ******* Student Name:  Jupyter Saturnus\n",
            "         ID:  11000005\n",
            "         Grade UNGRADED\n",
            " ******* Student Name: Anna Conda\n",
            "         ID: 11000006\n",
            "         Grade UNGRADED\n",
            " ******* Student Name: Pai Zon \n",
            "         ID: 11000007 \n",
            "         Grade UNGRADED \n",
            " and takes place in spring, \n",
            " Subject Name: Jouhou Suugaku C\n",
            " Counts for 2 credits. \n",
            " Currently has 7 students enroled \n",
            " ******* Student Name: Yago Diez \n",
            "         ID: 11000001 \n",
            "         Grade UNGRADED\n",
            " ******* Student Name: Black Widow \n",
            "         ID: 11000002 \n",
            "         Grade UNGRADED\n",
            " ******* Student Name: Spider Man \n",
            "         ID: 11000003 \n",
            "         Grade UNGRADED\n",
            " ******* Student Name: Ronald Drump\n",
            "         ID: 11000004\n",
            "         Grade UNGRADED\n",
            " ******* Student Name:  Jupyter Saturnus\n",
            "         ID:  11000005\n",
            "         Grade UNGRADED\n",
            " ******* Student Name: Anna Conda\n",
            "         ID: 11000006\n",
            "         Grade UNGRADED\n",
            " ******* Student Name: Pai Zon \n",
            "         ID: 11000007 \n",
            "         Grade UNGRADED \n",
            " and takes place in autum, \n",
            " Subject Name: Computer Science Basics \n",
            " Counts for 1 credits. \n",
            " Currently has 7 students enroled \n",
            " ******* Student Name: Yago Diez \n",
            "         ID: 11000001 \n",
            "         Grade UNGRADED\n",
            " ******* Student Name: Black Widow \n",
            "         ID: 11000002 \n",
            "         Grade UNGRADED\n",
            " ******* Student Name: Spider Man \n",
            "         ID: 11000003 \n",
            "         Grade UNGRADED\n",
            " ******* Student Name: Ronald Drump\n",
            "         ID: 11000004\n",
            "         Grade UNGRADED\n",
            " ******* Student Name:  Jupyter Saturnus\n",
            "         ID:  11000005\n",
            "         Grade UNGRADED\n",
            " ******* Student Name: Anna Conda\n",
            "         ID: 11000006\n",
            "         Grade UNGRADED\n",
            " ******* Student Name: Pai Zon \n",
            "         ID: 11000007 \n",
            "         Grade UNGRADED \n",
            " and takes place in autum, \n",
            " Subject Name: Computer Literacy \n",
            " Counts for 2 credits. \n",
            " Currently has 7 students enroled \n",
            " ******* Student Name: Yago Diez \n",
            "         ID: 11000001 \n",
            "         Grade UNGRADED\n",
            " ******* Student Name: Black Widow \n",
            "         ID: 11000002 \n",
            "         Grade UNGRADED\n",
            " ******* Student Name: Spider Man \n",
            "         ID: 11000003 \n",
            "         Grade UNGRADED\n",
            " ******* Student Name: Ronald Drump\n",
            "         ID: 11000004\n",
            "         Grade UNGRADED\n",
            " ******* Student Name:  Jupyter Saturnus\n",
            "         ID:  11000005\n",
            "         Grade UNGRADED\n",
            " ******* Student Name: Anna Conda\n",
            "         ID: 11000006\n",
            "         Grade UNGRADED\n",
            " ******* Student Name: Pai Zon \n",
            "         ID: 11000007 \n",
            "         Grade UNGRADED \n",
            " and takes place in autum, \n",
            " Subject Name:  Algorithmics 1\n",
            " Counts for 4 credits. \n",
            " Currently has 7 students enroled \n",
            " ******* Student Name: Yago Diez \n",
            "         ID: 11000001 \n",
            "         Grade UNGRADED\n",
            " ******* Student Name: Black Widow \n",
            "         ID: 11000002 \n",
            "         Grade UNGRADED\n",
            " ******* Student Name: Spider Man \n",
            "         ID: 11000003 \n",
            "         Grade UNGRADED\n",
            " ******* Student Name: Ronald Drump\n",
            "         ID: 11000004\n",
            "         Grade UNGRADED\n",
            " ******* Student Name:  Jupyter Saturnus\n",
            "         ID:  11000005\n",
            "         Grade UNGRADED\n",
            " ******* Student Name: Anna Conda\n",
            "         ID: 11000006\n",
            "         Grade UNGRADED\n",
            " ******* Student Name: Pai Zon \n",
            "         ID: 11000007 \n",
            "         Grade UNGRADED \n",
            " and takes place in spring, \n",
            " Subject Name:  Programming Basics \n",
            " Counts for 8 credits. \n",
            " Currently has 7 students enroled \n",
            " ******* Student Name: Yago Diez \n",
            "         ID: 11000001 \n",
            "         Grade UNGRADED\n",
            " ******* Student Name: Black Widow \n",
            "         ID: 11000002 \n",
            "         Grade UNGRADED\n",
            " ******* Student Name: Spider Man \n",
            "         ID: 11000003 \n",
            "         Grade UNGRADED\n",
            " ******* Student Name: Ronald Drump\n",
            "         ID: 11000004\n",
            "         Grade UNGRADED\n",
            " ******* Student Name:  Jupyter Saturnus\n",
            "         ID:  11000005\n",
            "         Grade UNGRADED\n",
            " ******* Student Name: Anna Conda\n",
            "         ID: 11000006\n",
            "         Grade UNGRADED\n",
            " ******* Student Name: Pai Zon \n",
            "         ID: 11000007 \n",
            "         Grade UNGRADED \n",
            " and takes place in spring , \n",
            " Subject Name: Algorithmics 2\n",
            " Counts for 4 credits. \n",
            " Currently has 7 students enroled \n",
            " ******* Student Name: Yago Diez \n",
            "         ID: 11000001 \n",
            "         Grade UNGRADED\n",
            " ******* Student Name: Black Widow \n",
            "         ID: 11000002 \n",
            "         Grade UNGRADED\n",
            " ******* Student Name: Spider Man \n",
            "         ID: 11000003 \n",
            "         Grade UNGRADED\n",
            " ******* Student Name: Ronald Drump\n",
            "         ID: 11000004\n",
            "         Grade UNGRADED\n",
            " ******* Student Name:  Jupyter Saturnus\n",
            "         ID:  11000005\n",
            "         Grade UNGRADED\n",
            " ******* Student Name: Anna Conda\n",
            "         ID: 11000006\n",
            "         Grade UNGRADED\n",
            " ******* Student Name: Pai Zon \n",
            "         ID: 11000007 \n",
            "         Grade UNGRADED \n",
            " and takes place in spring]\n"
          ]
        }
      ],
      "source": [
        "print(subjects)"
      ]
    },
    {
      "cell_type": "markdown",
      "metadata": {
        "lang": "ja",
        "id": "8a084a05"
      },
      "source": [
        "では、この例を終了するために、学生に無作為に成績を割り当てる(ほとんどの大学教授がそうするように)ことで、gradeStudentメソッドとbestStudentsメソッドがどのように機能するかを見てみましょう。"
      ]
    },
    {
      "cell_type": "code",
      "execution_count": null,
      "metadata": {
        "colab": {
          "base_uri": "https://localhost:8080/"
        },
        "id": "dee43203",
        "outputId": "e47a95e0-acf1-4a37-ebbf-a303894201a8"
      },
      "outputs": [
        {
          "output_type": "stream",
          "name": "stdout",
          "text": [
            "my students, with random grades! [\n",
            " Subject Name: jouhou Kagaku B\n",
            " Counts for 2 credits. \n",
            " Currently has 7 students enroled \n",
            " ******* Student Name: Yago Diez \n",
            "         ID: 11000001 \n",
            "         Grade 41\n",
            " ******* Student Name: Black Widow \n",
            "         ID: 11000002 \n",
            "         Grade 70\n",
            " ******* Student Name: Spider Man \n",
            "         ID: 11000003 \n",
            "         Grade 21\n",
            " ******* Student Name: Ronald Drump\n",
            "         ID: 11000004\n",
            "         Grade 27\n",
            " ******* Student Name:  Jupyter Saturnus\n",
            "         ID:  11000005\n",
            "         Grade 64\n",
            " ******* Student Name: Anna Conda\n",
            "         ID: 11000006\n",
            "         Grade 26\n",
            " ******* Student Name: Pai Zon \n",
            "         ID: 11000007 \n",
            "         Grade 25 \n",
            " and takes place in spring, \n",
            " Subject Name: Jouhou Suugaku C\n",
            " Counts for 2 credits. \n",
            " Currently has 7 students enroled \n",
            " ******* Student Name: Yago Diez \n",
            "         ID: 11000001 \n",
            "         Grade 21\n",
            " ******* Student Name: Black Widow \n",
            "         ID: 11000002 \n",
            "         Grade 16\n",
            " ******* Student Name: Spider Man \n",
            "         ID: 11000003 \n",
            "         Grade 16\n",
            " ******* Student Name: Ronald Drump\n",
            "         ID: 11000004\n",
            "         Grade 58\n",
            " ******* Student Name:  Jupyter Saturnus\n",
            "         ID:  11000005\n",
            "         Grade 89\n",
            " ******* Student Name: Anna Conda\n",
            "         ID: 11000006\n",
            "         Grade 16\n",
            " ******* Student Name: Pai Zon \n",
            "         ID: 11000007 \n",
            "         Grade 19 \n",
            " and takes place in autum, \n",
            " Subject Name: Computer Science Basics \n",
            " Counts for 1 credits. \n",
            " Currently has 7 students enroled \n",
            " ******* Student Name: Yago Diez \n",
            "         ID: 11000001 \n",
            "         Grade 80\n",
            " ******* Student Name: Black Widow \n",
            "         ID: 11000002 \n",
            "         Grade 48\n",
            " ******* Student Name: Spider Man \n",
            "         ID: 11000003 \n",
            "         Grade 60\n",
            " ******* Student Name: Ronald Drump\n",
            "         ID: 11000004\n",
            "         Grade 46\n",
            " ******* Student Name:  Jupyter Saturnus\n",
            "         ID:  11000005\n",
            "         Grade 16\n",
            " ******* Student Name: Anna Conda\n",
            "         ID: 11000006\n",
            "         Grade 96\n",
            " ******* Student Name: Pai Zon \n",
            "         ID: 11000007 \n",
            "         Grade 44 \n",
            " and takes place in autum, \n",
            " Subject Name: Computer Literacy \n",
            " Counts for 2 credits. \n",
            " Currently has 7 students enroled \n",
            " ******* Student Name: Yago Diez \n",
            "         ID: 11000001 \n",
            "         Grade 51\n",
            " ******* Student Name: Black Widow \n",
            "         ID: 11000002 \n",
            "         Grade 3\n",
            " ******* Student Name: Spider Man \n",
            "         ID: 11000003 \n",
            "         Grade 18\n",
            " ******* Student Name: Ronald Drump\n",
            "         ID: 11000004\n",
            "         Grade 16\n",
            " ******* Student Name:  Jupyter Saturnus\n",
            "         ID:  11000005\n",
            "         Grade 3\n",
            " ******* Student Name: Anna Conda\n",
            "         ID: 11000006\n",
            "         Grade 29\n",
            " ******* Student Name: Pai Zon \n",
            "         ID: 11000007 \n",
            "         Grade 36 \n",
            " and takes place in autum, \n",
            " Subject Name:  Algorithmics 1\n",
            " Counts for 4 credits. \n",
            " Currently has 7 students enroled \n",
            " ******* Student Name: Yago Diez \n",
            "         ID: 11000001 \n",
            "         Grade 56\n",
            " ******* Student Name: Black Widow \n",
            "         ID: 11000002 \n",
            "         Grade 13\n",
            " ******* Student Name: Spider Man \n",
            "         ID: 11000003 \n",
            "         Grade 21\n",
            " ******* Student Name: Ronald Drump\n",
            "         ID: 11000004\n",
            "         Grade 48\n",
            " ******* Student Name:  Jupyter Saturnus\n",
            "         ID:  11000005\n",
            "         Grade 64\n",
            " ******* Student Name: Anna Conda\n",
            "         ID: 11000006\n",
            "         Grade 33\n",
            " ******* Student Name: Pai Zon \n",
            "         ID: 11000007 \n",
            "         Grade 27 \n",
            " and takes place in spring, \n",
            " Subject Name:  Programming Basics \n",
            " Counts for 8 credits. \n",
            " Currently has 7 students enroled \n",
            " ******* Student Name: Yago Diez \n",
            "         ID: 11000001 \n",
            "         Grade 20\n",
            " ******* Student Name: Black Widow \n",
            "         ID: 11000002 \n",
            "         Grade 90\n",
            " ******* Student Name: Spider Man \n",
            "         ID: 11000003 \n",
            "         Grade 43\n",
            " ******* Student Name: Ronald Drump\n",
            "         ID: 11000004\n",
            "         Grade 15\n",
            " ******* Student Name:  Jupyter Saturnus\n",
            "         ID:  11000005\n",
            "         Grade 69\n",
            " ******* Student Name: Anna Conda\n",
            "         ID: 11000006\n",
            "         Grade 53\n",
            " ******* Student Name: Pai Zon \n",
            "         ID: 11000007 \n",
            "         Grade 37 \n",
            " and takes place in spring , \n",
            " Subject Name: Algorithmics 2\n",
            " Counts for 4 credits. \n",
            " Currently has 7 students enroled \n",
            " ******* Student Name: Yago Diez \n",
            "         ID: 11000001 \n",
            "         Grade 73\n",
            " ******* Student Name: Black Widow \n",
            "         ID: 11000002 \n",
            "         Grade 53\n",
            " ******* Student Name: Spider Man \n",
            "         ID: 11000003 \n",
            "         Grade 70\n",
            " ******* Student Name: Ronald Drump\n",
            "         ID: 11000004\n",
            "         Grade 96\n",
            " ******* Student Name:  Jupyter Saturnus\n",
            "         ID:  11000005\n",
            "         Grade 12\n",
            " ******* Student Name: Anna Conda\n",
            "         ID: 11000006\n",
            "         Grade 28\n",
            " ******* Student Name: Pai Zon \n",
            "         ID: 11000007 \n",
            "         Grade 5 \n",
            " and takes place in spring]\n",
            "the best student in the last subject \n",
            " ******* Student Name: Ronald Drump\n",
            "         ID: 11000004\n",
            "         Grade 96\n"
          ]
        }
      ],
      "source": [
        "# and now, grade students randomly!\n",
        "for sub in subjects:\n",
        "    for seito in students:\n",
        "        mark=random.randint(0,100)\n",
        "        sub.gradeStudent(seito.getID(),mark)\n",
        "\n",
        "print(\"my students, with random grades! \"+str(subjects)  )\n",
        "\n",
        "print(\"the best student in the last subject \"+str(subjects[-1].bestStudent()))"
      ]
    },
    {
      "cell_type": "markdown",
      "metadata": {
        "lang": "ja",
        "id": "a0904a2f"
      },
      "source": [
        "# エクササイズ\n",
        "\n",
        "学生、教授、教科で構成される「大学」というクラスをモデル化して、例を続けます。クラスがどのように機能するかを示すコードを作成します。"
      ]
    },
    {
      "cell_type": "code",
      "execution_count": null,
      "metadata": {
        "id": "b07ef931"
      },
      "outputs": [],
      "source": [
        "# Answer"
      ]
    },
    {
      "cell_type": "markdown",
      "metadata": {
        "lang": "ja",
        "id": "c90b7cbf"
      },
      "source": [
        "**PROヒント:** 他の多くのプログラミング言語とは異なり、Pythonは保護されたまたはプライベートオブジェクトアトリビュートを「持っていません」。この動作を再現することは可能ですが、通常、いつオブジェクトアトリビュートに直接アクセスする必要があるかを決定するのはプログラマーに任されています。"
      ]
    },
    {
      "cell_type": "markdown",
      "source": [
        "[インデックスに戻る](https://colab.research.google.com/drive/1wYIcjC74RnB3HcpqCWWoXLUjVlD8N1YU?usp=sharing)\n",
        "\n",
        "[Youtube Channel](https://www.youtube.com/channel/UCDxi6j88IlZXsRcAUXlscgw)"
      ],
      "metadata": {
        "id": "9YVNRPKKM_m-"
      }
    }
  ]
}