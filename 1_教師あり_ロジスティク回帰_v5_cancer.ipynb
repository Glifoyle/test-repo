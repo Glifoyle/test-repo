{
  "nbformat": 4,
  "nbformat_minor": 0,
  "metadata": {
    "colab": {
      "provenance": [],
      "include_colab_link": true
    },
    "kernelspec": {
      "name": "python3",
      "display_name": "Python 3"
    }
  },
  "cells": [
    {
      "cell_type": "markdown",
      "metadata": {
        "id": "view-in-github",
        "colab_type": "text"
      },
      "source": [
        "<a href=\"https://colab.research.google.com/github/Glifoyle/test-repo/blob/master/1_%E6%95%99%E5%B8%AB%E3%81%82%E3%82%8A_%E3%83%AD%E3%82%B8%E3%82%B9%E3%83%86%E3%82%A3%E3%82%AF%E5%9B%9E%E5%B8%B0_v5_cancer.ipynb\" target=\"_parent\"><img src=\"https://colab.research.google.com/assets/colab-badge.svg\" alt=\"Open In Colab\"/></a>"
      ]
    },
    {
      "cell_type": "markdown",
      "metadata": {
        "id": "wQe0rk7M1AVe"
      },
      "source": [
        "# 目的：教師あり学習\n",
        "\n",
        "#### テーマ：ロジスティク回帰分析を用いて，cancerデータの悪性と良性を判別する．\n",
        "\n",
        "<br>\n",
        "&copy; 2021-2024 Hiro Kimura\n",
        "<br>\n",
        "\n",
        "\n",
        "\n",
        "\n",
        "\n",
        "\n"
      ]
    },
    {
      "cell_type": "markdown",
      "source": [
        "### ポイント\n",
        "- 「教師あり学習」の進め方を理解できる\n",
        "- データセットの作成と分割について理解できる\n",
        "  - 乱数\n",
        "  - データ分割\n",
        "  - スケール変換\n",
        "- ロジスティック回帰モデルにより2クラス分類が実施できる"
      ],
      "metadata": {
        "id": "k67Vkwwim2KM"
      }
    },
    {
      "cell_type": "markdown",
      "metadata": {
        "id": "ECZgAmlwBrlT"
      },
      "source": [
        "### 実習内容\n",
        "教師あり学習の手順を理解する：\n",
        "\n",
        "1. データ（Breast cancer wisconsin (diagnostic) dataset）をネット上（またはExcelファイル）から読み込む\n",
        "1. 再現性を確保するために，**乱数シードを固定**する\n",
        "1. データセットを**訓練用とテスト用に分離**する\n",
        "1. データの**スケール変換**を行う（データの正規化・標準化）\n",
        "1. **ロジスティク回帰分析**で悪性と良性を判別する\n",
        "  - 訓練用データでモデルを訓練する\n",
        "  - 学習済みモデルにテスト用データを入力して悪性と良性を予測性能を評価する\n"
      ]
    },
    {
      "cell_type": "markdown",
      "metadata": {
        "id": "AZ9x26pn8kkF"
      },
      "source": [
        "# 実習の準備\n",
        "\n",
        "1. タイムゾーンを東京に変更する\n",
        "1. Google Driveをマウントする\n",
        "2. 作業用フォルダを作成する\n",
        "\n",
        "1. 作業用フォルダにbreastcancer.xlsx の存在を確認する\n",
        "\n"
      ]
    },
    {
      "cell_type": "code",
      "metadata": {
        "id": "t3SgszS33dKi"
      },
      "source": [
        "# pythonのバージョン確認\n",
        "# ! python --version"
      ],
      "execution_count": null,
      "outputs": []
    },
    {
      "cell_type": "markdown",
      "source": [
        "## タイムゾーンを東京に変更する"
      ],
      "metadata": {
        "id": "jv9NI7Y4NTPh"
      }
    },
    {
      "cell_type": "code",
      "source": [
        "# 現在の設定を確認\n",
        "!date"
      ],
      "metadata": {
        "colab": {
          "base_uri": "https://localhost:8080/"
        },
        "id": "P-Xk8K9aNPar",
        "outputId": "77b4d6b5-ae8c-4289-b19e-90087193f43e"
      },
      "execution_count": null,
      "outputs": [
        {
          "output_type": "stream",
          "name": "stdout",
          "text": [
            "Mon Apr  8 02:22:48 AM UTC 2024\n"
          ]
        }
      ]
    },
    {
      "cell_type": "code",
      "source": [
        "# 設定を変更\n",
        "!rm /etc/localtime\n",
        "!ln -s /usr/share/zoneinfo/Asia/Tokyo /etc/localtime\n",
        "\n",
        "!date"
      ],
      "metadata": {
        "colab": {
          "base_uri": "https://localhost:8080/"
        },
        "id": "Lqq0A3zrNnoI",
        "outputId": "08c48475-8a9a-4f4c-9904-ab79ac40c7f7"
      },
      "execution_count": null,
      "outputs": [
        {
          "output_type": "stream",
          "name": "stdout",
          "text": [
            "Mon Apr  8 11:22:58 AM JST 2024\n"
          ]
        }
      ]
    },
    {
      "cell_type": "markdown",
      "metadata": {
        "id": "jWoxUiso4huc"
      },
      "source": [
        "## Google Driveをマウントする\n"
      ]
    },
    {
      "cell_type": "code",
      "metadata": {
        "id": "0v4S0B_05Hqd",
        "colab": {
          "base_uri": "https://localhost:8080/"
        },
        "outputId": "ca17dfbd-207e-4477-c5d9-cd946b41707f"
      },
      "source": [
        "from google.colab import drive\n",
        "drive.mount('/content/drive')"
      ],
      "execution_count": null,
      "outputs": [
        {
          "output_type": "stream",
          "name": "stdout",
          "text": [
            "Mounted at /content/drive\n"
          ]
        }
      ]
    },
    {
      "cell_type": "code",
      "metadata": {
        "id": "EKKhxiAL4Ald"
      },
      "source": [
        "# # # Chap_LR\n",
        "# # !mkdir -p '/content/drive/MyDrive/practice/chap_LR'\n",
        "# %cd '/content/drive/MyDrive/practice/chap_LR'\n",
        "# !pwd"
      ],
      "execution_count": null,
      "outputs": []
    },
    {
      "cell_type": "code",
      "metadata": {
        "id": "dQy4c_pvvYpE",
        "colab": {
          "base_uri": "https://localhost:8080/",
          "height": 35
        },
        "outputId": "e764bd72-0b16-4106-8464-9ad60592f8e8"
      },
      "source": [
        "# Chap_LR のフォルダを作成\n",
        "import os\n",
        "\n",
        "chap_dir = \"/content/drive/MyDrive/practice/chap_LR\"\n",
        "if not os.path.exists(chap_dir):\n",
        "    # os.mkdir(chap_dir)\n",
        "    os.makedirs(chap_dir)\n",
        "\n",
        "os.chdir(chap_dir)\n",
        "os.getcwd()"
      ],
      "execution_count": null,
      "outputs": [
        {
          "output_type": "execute_result",
          "data": {
            "text/plain": [
              "'/content/drive/MyDrive/practice/chap_LR'"
            ],
            "application/vnd.google.colaboratory.intrinsic+json": {
              "type": "string"
            }
          },
          "metadata": {},
          "execution_count": 4
        }
      ]
    },
    {
      "cell_type": "code",
      "metadata": {
        "id": "6BIPOklIc-eS"
      },
      "source": [
        "# google driveのフォルダの中身を確認する\n",
        "# ! pwd\n",
        "! ls -F\n"
      ],
      "execution_count": null,
      "outputs": []
    },
    {
      "cell_type": "markdown",
      "metadata": {
        "id": "eR02090p0101"
      },
      "source": [
        "# データセットの準備"
      ]
    },
    {
      "cell_type": "markdown",
      "source": [
        "## データを読み込む\n",
        "- ネット上から\n",
        "  - Breast cancer wisconsin (diagnostic) dataset\n",
        "- ファイルから\n",
        "  1. ファイル breastcancer.xlsx をPCにダウンロードしておく\n",
        "  2. PCからマウントした作業フォルダにアップロードする\n",
        "  - 読み込めない場合は，breastcancer.csv"
      ],
      "metadata": {
        "id": "jMWEGYKZ5xCn"
      }
    },
    {
      "cell_type": "code",
      "source": [
        "# # ライブラリを読み込む\n",
        "# from sklearn.datasets import load_breast_cancer\n",
        "\n",
        "# # データのロード\n",
        "# cancer_data = load_breast_cancer()"
      ],
      "metadata": {
        "id": "OpM_Lufz50nf"
      },
      "execution_count": null,
      "outputs": []
    },
    {
      "cell_type": "code",
      "source": [
        "# pandasとの関係で，必要があればUpdateする\n",
        "\n",
        "# !pip install -U openpyxl"
      ],
      "metadata": {
        "id": "GWNsNbAz7p39"
      },
      "execution_count": null,
      "outputs": []
    },
    {
      "cell_type": "markdown",
      "source": [
        "- ファイル（Breastcancer.xlsx）をアップロードする"
      ],
      "metadata": {
        "id": "r8IDRj6Qk4ts"
      }
    },
    {
      "cell_type": "code",
      "source": [
        "import pandas as pd\n",
        "\n",
        "# Excelファイルからデータフレームに読み込む\n",
        "df = pd.read_excel('./breastcancer.xlsx')\n",
        "\n",
        "print(df.shape)\n",
        "\n",
        "# 列数が31であることに注意"
      ],
      "metadata": {
        "colab": {
          "base_uri": "https://localhost:8080/"
        },
        "id": "TG8DgXAv7txv",
        "outputId": "d386ace1-3dc8-404a-832b-1dde0ea1e24a"
      },
      "execution_count": null,
      "outputs": [
        {
          "output_type": "stream",
          "name": "stdout",
          "text": [
            "(569, 31)\n"
          ]
        }
      ]
    },
    {
      "cell_type": "code",
      "source": [
        "# データフレームを確認する\n",
        "\n",
        "display(df.head())\n",
        "# print(df.head())"
      ],
      "metadata": {
        "colab": {
          "base_uri": "https://localhost:8080/",
          "height": 290
        },
        "id": "CVc_mlga8Thn",
        "outputId": "53094ca9-2269-4cd9-e786-8a8f13a1f63d"
      },
      "execution_count": null,
      "outputs": [
        {
          "output_type": "display_data",
          "data": {
            "text/plain": [
              "   mean radius  mean texture  mean perimeter  mean area  mean smoothness  \\\n",
              "0        17.99         10.38          122.80     1001.0          0.11840   \n",
              "1        20.57         17.77          132.90     1326.0          0.08474   \n",
              "2        19.69         21.25          130.00     1203.0          0.10960   \n",
              "3        11.42         20.38           77.58      386.1          0.14250   \n",
              "4        20.29         14.34          135.10     1297.0          0.10030   \n",
              "\n",
              "   mean compactness  mean concavity  mean concave points  mean symmetry  \\\n",
              "0           0.27760          0.3001              0.14710         0.2419   \n",
              "1           0.07864          0.0869              0.07017         0.1812   \n",
              "2           0.15990          0.1974              0.12790         0.2069   \n",
              "3           0.28390          0.2414              0.10520         0.2597   \n",
              "4           0.13280          0.1980              0.10430         0.1809   \n",
              "\n",
              "   mean fractal dimension  ...  worst texture  worst perimeter  worst area  \\\n",
              "0                 0.07871  ...          17.33           184.60      2019.0   \n",
              "1                 0.05667  ...          23.41           158.80      1956.0   \n",
              "2                 0.05999  ...          25.53           152.50      1709.0   \n",
              "3                 0.09744  ...          26.50            98.87       567.7   \n",
              "4                 0.05883  ...          16.67           152.20      1575.0   \n",
              "\n",
              "   worst smoothness  worst compactness  worst concavity  worst concave points  \\\n",
              "0            0.1622             0.6656           0.7119                0.2654   \n",
              "1            0.1238             0.1866           0.2416                0.1860   \n",
              "2            0.1444             0.4245           0.4504                0.2430   \n",
              "3            0.2098             0.8663           0.6869                0.2575   \n",
              "4            0.1374             0.2050           0.4000                0.1625   \n",
              "\n",
              "   worst symmetry  worst fractal dimension  diag class  \n",
              "0          0.4601                  0.11890           0  \n",
              "1          0.2750                  0.08902           0  \n",
              "2          0.3613                  0.08758           0  \n",
              "3          0.6638                  0.17300           0  \n",
              "4          0.2364                  0.07678           0  \n",
              "\n",
              "[5 rows x 31 columns]"
            ],
            "text/html": [
              "\n",
              "  <div id=\"df-ef6ff6b1-c163-4a2c-abb2-0f2c525a0a24\" class=\"colab-df-container\">\n",
              "    <div>\n",
              "<style scoped>\n",
              "    .dataframe tbody tr th:only-of-type {\n",
              "        vertical-align: middle;\n",
              "    }\n",
              "\n",
              "    .dataframe tbody tr th {\n",
              "        vertical-align: top;\n",
              "    }\n",
              "\n",
              "    .dataframe thead th {\n",
              "        text-align: right;\n",
              "    }\n",
              "</style>\n",
              "<table border=\"1\" class=\"dataframe\">\n",
              "  <thead>\n",
              "    <tr style=\"text-align: right;\">\n",
              "      <th></th>\n",
              "      <th>mean radius</th>\n",
              "      <th>mean texture</th>\n",
              "      <th>mean perimeter</th>\n",
              "      <th>mean area</th>\n",
              "      <th>mean smoothness</th>\n",
              "      <th>mean compactness</th>\n",
              "      <th>mean concavity</th>\n",
              "      <th>mean concave points</th>\n",
              "      <th>mean symmetry</th>\n",
              "      <th>mean fractal dimension</th>\n",
              "      <th>...</th>\n",
              "      <th>worst texture</th>\n",
              "      <th>worst perimeter</th>\n",
              "      <th>worst area</th>\n",
              "      <th>worst smoothness</th>\n",
              "      <th>worst compactness</th>\n",
              "      <th>worst concavity</th>\n",
              "      <th>worst concave points</th>\n",
              "      <th>worst symmetry</th>\n",
              "      <th>worst fractal dimension</th>\n",
              "      <th>diag class</th>\n",
              "    </tr>\n",
              "  </thead>\n",
              "  <tbody>\n",
              "    <tr>\n",
              "      <th>0</th>\n",
              "      <td>17.99</td>\n",
              "      <td>10.38</td>\n",
              "      <td>122.80</td>\n",
              "      <td>1001.0</td>\n",
              "      <td>0.11840</td>\n",
              "      <td>0.27760</td>\n",
              "      <td>0.3001</td>\n",
              "      <td>0.14710</td>\n",
              "      <td>0.2419</td>\n",
              "      <td>0.07871</td>\n",
              "      <td>...</td>\n",
              "      <td>17.33</td>\n",
              "      <td>184.60</td>\n",
              "      <td>2019.0</td>\n",
              "      <td>0.1622</td>\n",
              "      <td>0.6656</td>\n",
              "      <td>0.7119</td>\n",
              "      <td>0.2654</td>\n",
              "      <td>0.4601</td>\n",
              "      <td>0.11890</td>\n",
              "      <td>0</td>\n",
              "    </tr>\n",
              "    <tr>\n",
              "      <th>1</th>\n",
              "      <td>20.57</td>\n",
              "      <td>17.77</td>\n",
              "      <td>132.90</td>\n",
              "      <td>1326.0</td>\n",
              "      <td>0.08474</td>\n",
              "      <td>0.07864</td>\n",
              "      <td>0.0869</td>\n",
              "      <td>0.07017</td>\n",
              "      <td>0.1812</td>\n",
              "      <td>0.05667</td>\n",
              "      <td>...</td>\n",
              "      <td>23.41</td>\n",
              "      <td>158.80</td>\n",
              "      <td>1956.0</td>\n",
              "      <td>0.1238</td>\n",
              "      <td>0.1866</td>\n",
              "      <td>0.2416</td>\n",
              "      <td>0.1860</td>\n",
              "      <td>0.2750</td>\n",
              "      <td>0.08902</td>\n",
              "      <td>0</td>\n",
              "    </tr>\n",
              "    <tr>\n",
              "      <th>2</th>\n",
              "      <td>19.69</td>\n",
              "      <td>21.25</td>\n",
              "      <td>130.00</td>\n",
              "      <td>1203.0</td>\n",
              "      <td>0.10960</td>\n",
              "      <td>0.15990</td>\n",
              "      <td>0.1974</td>\n",
              "      <td>0.12790</td>\n",
              "      <td>0.2069</td>\n",
              "      <td>0.05999</td>\n",
              "      <td>...</td>\n",
              "      <td>25.53</td>\n",
              "      <td>152.50</td>\n",
              "      <td>1709.0</td>\n",
              "      <td>0.1444</td>\n",
              "      <td>0.4245</td>\n",
              "      <td>0.4504</td>\n",
              "      <td>0.2430</td>\n",
              "      <td>0.3613</td>\n",
              "      <td>0.08758</td>\n",
              "      <td>0</td>\n",
              "    </tr>\n",
              "    <tr>\n",
              "      <th>3</th>\n",
              "      <td>11.42</td>\n",
              "      <td>20.38</td>\n",
              "      <td>77.58</td>\n",
              "      <td>386.1</td>\n",
              "      <td>0.14250</td>\n",
              "      <td>0.28390</td>\n",
              "      <td>0.2414</td>\n",
              "      <td>0.10520</td>\n",
              "      <td>0.2597</td>\n",
              "      <td>0.09744</td>\n",
              "      <td>...</td>\n",
              "      <td>26.50</td>\n",
              "      <td>98.87</td>\n",
              "      <td>567.7</td>\n",
              "      <td>0.2098</td>\n",
              "      <td>0.8663</td>\n",
              "      <td>0.6869</td>\n",
              "      <td>0.2575</td>\n",
              "      <td>0.6638</td>\n",
              "      <td>0.17300</td>\n",
              "      <td>0</td>\n",
              "    </tr>\n",
              "    <tr>\n",
              "      <th>4</th>\n",
              "      <td>20.29</td>\n",
              "      <td>14.34</td>\n",
              "      <td>135.10</td>\n",
              "      <td>1297.0</td>\n",
              "      <td>0.10030</td>\n",
              "      <td>0.13280</td>\n",
              "      <td>0.1980</td>\n",
              "      <td>0.10430</td>\n",
              "      <td>0.1809</td>\n",
              "      <td>0.05883</td>\n",
              "      <td>...</td>\n",
              "      <td>16.67</td>\n",
              "      <td>152.20</td>\n",
              "      <td>1575.0</td>\n",
              "      <td>0.1374</td>\n",
              "      <td>0.2050</td>\n",
              "      <td>0.4000</td>\n",
              "      <td>0.1625</td>\n",
              "      <td>0.2364</td>\n",
              "      <td>0.07678</td>\n",
              "      <td>0</td>\n",
              "    </tr>\n",
              "  </tbody>\n",
              "</table>\n",
              "<p>5 rows × 31 columns</p>\n",
              "</div>\n",
              "    <div class=\"colab-df-buttons\">\n",
              "\n",
              "  <div class=\"colab-df-container\">\n",
              "    <button class=\"colab-df-convert\" onclick=\"convertToInteractive('df-ef6ff6b1-c163-4a2c-abb2-0f2c525a0a24')\"\n",
              "            title=\"Convert this dataframe to an interactive table.\"\n",
              "            style=\"display:none;\">\n",
              "\n",
              "  <svg xmlns=\"http://www.w3.org/2000/svg\" height=\"24px\" viewBox=\"0 -960 960 960\">\n",
              "    <path d=\"M120-120v-720h720v720H120Zm60-500h600v-160H180v160Zm220 220h160v-160H400v160Zm0 220h160v-160H400v160ZM180-400h160v-160H180v160Zm440 0h160v-160H620v160ZM180-180h160v-160H180v160Zm440 0h160v-160H620v160Z\"/>\n",
              "  </svg>\n",
              "    </button>\n",
              "\n",
              "  <style>\n",
              "    .colab-df-container {\n",
              "      display:flex;\n",
              "      gap: 12px;\n",
              "    }\n",
              "\n",
              "    .colab-df-convert {\n",
              "      background-color: #E8F0FE;\n",
              "      border: none;\n",
              "      border-radius: 50%;\n",
              "      cursor: pointer;\n",
              "      display: none;\n",
              "      fill: #1967D2;\n",
              "      height: 32px;\n",
              "      padding: 0 0 0 0;\n",
              "      width: 32px;\n",
              "    }\n",
              "\n",
              "    .colab-df-convert:hover {\n",
              "      background-color: #E2EBFA;\n",
              "      box-shadow: 0px 1px 2px rgba(60, 64, 67, 0.3), 0px 1px 3px 1px rgba(60, 64, 67, 0.15);\n",
              "      fill: #174EA6;\n",
              "    }\n",
              "\n",
              "    .colab-df-buttons div {\n",
              "      margin-bottom: 4px;\n",
              "    }\n",
              "\n",
              "    [theme=dark] .colab-df-convert {\n",
              "      background-color: #3B4455;\n",
              "      fill: #D2E3FC;\n",
              "    }\n",
              "\n",
              "    [theme=dark] .colab-df-convert:hover {\n",
              "      background-color: #434B5C;\n",
              "      box-shadow: 0px 1px 3px 1px rgba(0, 0, 0, 0.15);\n",
              "      filter: drop-shadow(0px 1px 2px rgba(0, 0, 0, 0.3));\n",
              "      fill: #FFFFFF;\n",
              "    }\n",
              "  </style>\n",
              "\n",
              "    <script>\n",
              "      const buttonEl =\n",
              "        document.querySelector('#df-ef6ff6b1-c163-4a2c-abb2-0f2c525a0a24 button.colab-df-convert');\n",
              "      buttonEl.style.display =\n",
              "        google.colab.kernel.accessAllowed ? 'block' : 'none';\n",
              "\n",
              "      async function convertToInteractive(key) {\n",
              "        const element = document.querySelector('#df-ef6ff6b1-c163-4a2c-abb2-0f2c525a0a24');\n",
              "        const dataTable =\n",
              "          await google.colab.kernel.invokeFunction('convertToInteractive',\n",
              "                                                    [key], {});\n",
              "        if (!dataTable) return;\n",
              "\n",
              "        const docLinkHtml = 'Like what you see? Visit the ' +\n",
              "          '<a target=\"_blank\" href=https://colab.research.google.com/notebooks/data_table.ipynb>data table notebook</a>'\n",
              "          + ' to learn more about interactive tables.';\n",
              "        element.innerHTML = '';\n",
              "        dataTable['output_type'] = 'display_data';\n",
              "        await google.colab.output.renderOutput(dataTable, element);\n",
              "        const docLink = document.createElement('div');\n",
              "        docLink.innerHTML = docLinkHtml;\n",
              "        element.appendChild(docLink);\n",
              "      }\n",
              "    </script>\n",
              "  </div>\n",
              "\n",
              "\n",
              "<div id=\"df-ca146081-1a50-49bf-b69a-e4d8a5bf0067\">\n",
              "  <button class=\"colab-df-quickchart\" onclick=\"quickchart('df-ca146081-1a50-49bf-b69a-e4d8a5bf0067')\"\n",
              "            title=\"Suggest charts\"\n",
              "            style=\"display:none;\">\n",
              "\n",
              "<svg xmlns=\"http://www.w3.org/2000/svg\" height=\"24px\"viewBox=\"0 0 24 24\"\n",
              "     width=\"24px\">\n",
              "    <g>\n",
              "        <path d=\"M19 3H5c-1.1 0-2 .9-2 2v14c0 1.1.9 2 2 2h14c1.1 0 2-.9 2-2V5c0-1.1-.9-2-2-2zM9 17H7v-7h2v7zm4 0h-2V7h2v10zm4 0h-2v-4h2v4z\"/>\n",
              "    </g>\n",
              "</svg>\n",
              "  </button>\n",
              "\n",
              "<style>\n",
              "  .colab-df-quickchart {\n",
              "      --bg-color: #E8F0FE;\n",
              "      --fill-color: #1967D2;\n",
              "      --hover-bg-color: #E2EBFA;\n",
              "      --hover-fill-color: #174EA6;\n",
              "      --disabled-fill-color: #AAA;\n",
              "      --disabled-bg-color: #DDD;\n",
              "  }\n",
              "\n",
              "  [theme=dark] .colab-df-quickchart {\n",
              "      --bg-color: #3B4455;\n",
              "      --fill-color: #D2E3FC;\n",
              "      --hover-bg-color: #434B5C;\n",
              "      --hover-fill-color: #FFFFFF;\n",
              "      --disabled-bg-color: #3B4455;\n",
              "      --disabled-fill-color: #666;\n",
              "  }\n",
              "\n",
              "  .colab-df-quickchart {\n",
              "    background-color: var(--bg-color);\n",
              "    border: none;\n",
              "    border-radius: 50%;\n",
              "    cursor: pointer;\n",
              "    display: none;\n",
              "    fill: var(--fill-color);\n",
              "    height: 32px;\n",
              "    padding: 0;\n",
              "    width: 32px;\n",
              "  }\n",
              "\n",
              "  .colab-df-quickchart:hover {\n",
              "    background-color: var(--hover-bg-color);\n",
              "    box-shadow: 0 1px 2px rgba(60, 64, 67, 0.3), 0 1px 3px 1px rgba(60, 64, 67, 0.15);\n",
              "    fill: var(--button-hover-fill-color);\n",
              "  }\n",
              "\n",
              "  .colab-df-quickchart-complete:disabled,\n",
              "  .colab-df-quickchart-complete:disabled:hover {\n",
              "    background-color: var(--disabled-bg-color);\n",
              "    fill: var(--disabled-fill-color);\n",
              "    box-shadow: none;\n",
              "  }\n",
              "\n",
              "  .colab-df-spinner {\n",
              "    border: 2px solid var(--fill-color);\n",
              "    border-color: transparent;\n",
              "    border-bottom-color: var(--fill-color);\n",
              "    animation:\n",
              "      spin 1s steps(1) infinite;\n",
              "  }\n",
              "\n",
              "  @keyframes spin {\n",
              "    0% {\n",
              "      border-color: transparent;\n",
              "      border-bottom-color: var(--fill-color);\n",
              "      border-left-color: var(--fill-color);\n",
              "    }\n",
              "    20% {\n",
              "      border-color: transparent;\n",
              "      border-left-color: var(--fill-color);\n",
              "      border-top-color: var(--fill-color);\n",
              "    }\n",
              "    30% {\n",
              "      border-color: transparent;\n",
              "      border-left-color: var(--fill-color);\n",
              "      border-top-color: var(--fill-color);\n",
              "      border-right-color: var(--fill-color);\n",
              "    }\n",
              "    40% {\n",
              "      border-color: transparent;\n",
              "      border-right-color: var(--fill-color);\n",
              "      border-top-color: var(--fill-color);\n",
              "    }\n",
              "    60% {\n",
              "      border-color: transparent;\n",
              "      border-right-color: var(--fill-color);\n",
              "    }\n",
              "    80% {\n",
              "      border-color: transparent;\n",
              "      border-right-color: var(--fill-color);\n",
              "      border-bottom-color: var(--fill-color);\n",
              "    }\n",
              "    90% {\n",
              "      border-color: transparent;\n",
              "      border-bottom-color: var(--fill-color);\n",
              "    }\n",
              "  }\n",
              "</style>\n",
              "\n",
              "  <script>\n",
              "    async function quickchart(key) {\n",
              "      const quickchartButtonEl =\n",
              "        document.querySelector('#' + key + ' button');\n",
              "      quickchartButtonEl.disabled = true;  // To prevent multiple clicks.\n",
              "      quickchartButtonEl.classList.add('colab-df-spinner');\n",
              "      try {\n",
              "        const charts = await google.colab.kernel.invokeFunction(\n",
              "            'suggestCharts', [key], {});\n",
              "      } catch (error) {\n",
              "        console.error('Error during call to suggestCharts:', error);\n",
              "      }\n",
              "      quickchartButtonEl.classList.remove('colab-df-spinner');\n",
              "      quickchartButtonEl.classList.add('colab-df-quickchart-complete');\n",
              "    }\n",
              "    (() => {\n",
              "      let quickchartButtonEl =\n",
              "        document.querySelector('#df-ca146081-1a50-49bf-b69a-e4d8a5bf0067 button');\n",
              "      quickchartButtonEl.style.display =\n",
              "        google.colab.kernel.accessAllowed ? 'block' : 'none';\n",
              "    })();\n",
              "  </script>\n",
              "</div>\n",
              "\n",
              "    </div>\n",
              "  </div>\n"
            ],
            "application/vnd.google.colaboratory.intrinsic+json": {
              "type": "dataframe"
            }
          },
          "metadata": {}
        }
      ]
    },
    {
      "cell_type": "code",
      "source": [
        "# 説明変数（30個の特徴量）を取り出す\n",
        "# # 方法1\n",
        "# df_feature = df.iloc[:,:-1]\n",
        "\n",
        "# 方法2\n",
        "# 正解ラベル列（\"diag class\"列）を削除する\n",
        "df_feature = df.drop(\"diag class\", axis=\"columns\")\n",
        "\n",
        "print(df_feature.shape)"
      ],
      "metadata": {
        "colab": {
          "base_uri": "https://localhost:8080/"
        },
        "id": "VkwnAHPz8t3K",
        "outputId": "bcf12657-a6a7-4896-8641-eb6a21da3ec3"
      },
      "execution_count": null,
      "outputs": [
        {
          "output_type": "stream",
          "name": "stdout",
          "text": [
            "(569, 30)\n"
          ]
        }
      ]
    },
    {
      "cell_type": "code",
      "source": [
        "# 列名を取得する\n",
        "cols = df_feature.columns\n",
        "print(cols)"
      ],
      "metadata": {
        "colab": {
          "base_uri": "https://localhost:8080/"
        },
        "id": "Y9zoT9p7gLbj",
        "outputId": "de31e08f-f6aa-46f1-8b8d-7d3fc681d3b4"
      },
      "execution_count": null,
      "outputs": [
        {
          "output_type": "stream",
          "name": "stdout",
          "text": [
            "Index(['mean radius', 'mean texture', 'mean perimeter', 'mean area',\n",
            "       'mean smoothness', 'mean compactness', 'mean concavity',\n",
            "       'mean concave points', 'mean symmetry', 'mean fractal dimension',\n",
            "       'radius error', 'texture error', 'perimeter error', 'area error',\n",
            "       'smoothness error', 'compactness error', 'concavity error',\n",
            "       'concave points error', 'symmetry error', 'fractal dimension error',\n",
            "       'worst radius', 'worst texture', 'worst perimeter', 'worst area',\n",
            "       'worst smoothness', 'worst compactness', 'worst concavity',\n",
            "       'worst concave points', 'worst symmetry', 'worst fractal dimension'],\n",
            "      dtype='object')\n"
          ]
        }
      ]
    },
    {
      "cell_type": "code",
      "source": [
        "# 正解ラベルをシリーズ（列データ）に取り込む\n",
        "# t = pd.Series(cancer_data.target)\n",
        "ser_label = df['diag class']\n",
        "\n",
        "print(ser_label.shape)"
      ],
      "metadata": {
        "colab": {
          "base_uri": "https://localhost:8080/"
        },
        "id": "rzooiZ8T8JQK",
        "outputId": "d6570535-f042-48da-c117-49d80ae50722"
      },
      "execution_count": null,
      "outputs": [
        {
          "output_type": "stream",
          "name": "stdout",
          "text": [
            "(569,)\n"
          ]
        }
      ]
    },
    {
      "cell_type": "code",
      "source": [
        "# ライブラリ\n",
        "import numpy as np\n",
        "\n",
        "# データフレームをnumpyの配列データ（30次元の特徴量データ）に変換する\n",
        "features = df_feature.values\n",
        "print(type(features))\n",
        "print(len(features))\n",
        "\n",
        "# 正解ラベルをnumpy配列データに変換する\n",
        "labels = ser_label.values\n",
        "print(type(labels))\n",
        "print(len(labels))"
      ],
      "metadata": {
        "colab": {
          "base_uri": "https://localhost:8080/"
        },
        "id": "Cih7AGwvdxiQ",
        "outputId": "9c2c8e55-df68-4725-878f-ff84359979a5"
      },
      "execution_count": null,
      "outputs": [
        {
          "output_type": "stream",
          "name": "stdout",
          "text": [
            "<class 'numpy.ndarray'>\n",
            "569\n",
            "<class 'numpy.ndarray'>\n",
            "569\n"
          ]
        }
      ]
    },
    {
      "cell_type": "code",
      "source": [
        "# 列名を再確認する\n",
        "# cols = df_feature.columns\n",
        "print(cols)"
      ],
      "metadata": {
        "id": "HNstnRsK6wL5",
        "colab": {
          "base_uri": "https://localhost:8080/"
        },
        "outputId": "0ba89b54-878b-406b-83ce-05fe6f3f6589"
      },
      "execution_count": null,
      "outputs": [
        {
          "output_type": "stream",
          "name": "stdout",
          "text": [
            "Index(['mean radius', 'mean texture', 'mean perimeter', 'mean area',\n",
            "       'mean smoothness', 'mean compactness', 'mean concavity',\n",
            "       'mean concave points', 'mean symmetry', 'mean fractal dimension',\n",
            "       'radius error', 'texture error', 'perimeter error', 'area error',\n",
            "       'smoothness error', 'compactness error', 'concavity error',\n",
            "       'concave points error', 'symmetry error', 'fractal dimension error',\n",
            "       'worst radius', 'worst texture', 'worst perimeter', 'worst area',\n",
            "       'worst smoothness', 'worst compactness', 'worst concavity',\n",
            "       'worst concave points', 'worst symmetry', 'worst fractal dimension'],\n",
            "      dtype='object')\n"
          ]
        }
      ]
    },
    {
      "cell_type": "code",
      "source": [
        "# 30次元の特徴量ベクトルを確認する\n",
        "print(features[0])"
      ],
      "metadata": {
        "id": "brjdXDeZ-2r3",
        "colab": {
          "base_uri": "https://localhost:8080/"
        },
        "outputId": "86c97870-e4d2-462f-84d0-55ad612e6362"
      },
      "execution_count": null,
      "outputs": [
        {
          "output_type": "stream",
          "name": "stdout",
          "text": [
            "[1.799e+01 1.038e+01 1.228e+02 1.001e+03 1.184e-01 2.776e-01 3.001e-01\n",
            " 1.471e-01 2.419e-01 7.871e-02 1.095e+00 9.053e-01 8.589e+00 1.534e+02\n",
            " 6.399e-03 4.904e-02 5.373e-02 1.587e-02 3.003e-02 6.193e-03 2.538e+01\n",
            " 1.733e+01 1.846e+02 2.019e+03 1.622e-01 6.656e-01 7.119e-01 2.654e-01\n",
            " 4.601e-01 1.189e-01]\n"
          ]
        }
      ]
    },
    {
      "cell_type": "code",
      "source": [
        "# 正解ラベルを確認する\n",
        "print(labels[0])"
      ],
      "metadata": {
        "colab": {
          "base_uri": "https://localhost:8080/"
        },
        "id": "ZFtTiKNseXsn",
        "outputId": "d3c1543a-6689-4e0b-949b-bf85817f4178"
      },
      "execution_count": null,
      "outputs": [
        {
          "output_type": "stream",
          "name": "stdout",
          "text": [
            "0\n"
          ]
        }
      ]
    },
    {
      "cell_type": "markdown",
      "source": [
        "## 訓練用データとテスト用データに分離する\n",
        "- 訓練用 X_train，y_train，テスト用 X_test，y_test\n",
        "- 慣用的に，大文字 X はベクトル値を，小文字 y はスカラー値を表す\n",
        "- データ件数は，訓練用 0.8, テスト用 0.2 とする"
      ],
      "metadata": {
        "id": "KysJXhw9mJ1e"
      }
    },
    {
      "cell_type": "code",
      "source": [
        "# 乱数シードを設定する\n",
        "seed = 24\n",
        "# seed = 1000"
      ],
      "metadata": {
        "id": "cZ8ltXUntcmI"
      },
      "execution_count": null,
      "outputs": []
    },
    {
      "cell_type": "code",
      "source": [
        "# ライブラリ\n",
        "from sklearn.model_selection import train_test_split\n",
        "\n",
        "# データをランダムに分割する（8 : 2）\n",
        "X_train, X_test, y_train, y_test = train_test_split(features, labels,\n",
        "                                                    test_size=0.2, random_state=seed)\n",
        "\n",
        "print(X_train.shape)\n",
        "print(X_test.shape)"
      ],
      "metadata": {
        "colab": {
          "base_uri": "https://localhost:8080/"
        },
        "id": "zSD_2EktsFGI",
        "outputId": "ade3591d-6255-427c-b0c7-f1652044dc3b"
      },
      "execution_count": null,
      "outputs": [
        {
          "output_type": "stream",
          "name": "stdout",
          "text": [
            "(455, 30)\n",
            "(114, 30)\n"
          ]
        }
      ]
    },
    {
      "cell_type": "markdown",
      "source": [
        "## スケール変換する\n",
        "- 訓練データを元にスケール変換方式を決定し，同じ方式をテストデータにも適用する\n",
        "  - 標準化：列ごとに平均値を0に，分散を1にする：StandardScaler\n",
        "  - 正規化：列ごとに最小値を0に，最大値を1にする：MinMaxScaler\n",
        "  - ロバスト標準化：平均値を中央値に標準偏差をQ3-Q1にした標準化：RobustScaler"
      ],
      "metadata": {
        "id": "cj4zmwY6uQO-"
      }
    },
    {
      "cell_type": "code",
      "source": [
        "# データを確認する（6桁くらい違う）\n",
        "\n",
        "print(X_train[0])"
      ],
      "metadata": {
        "colab": {
          "base_uri": "https://localhost:8080/"
        },
        "id": "8bUWeAAC98BJ",
        "outputId": "5c3c56df-2b7a-4c06-c605-5e5ed46a6124"
      },
      "execution_count": null,
      "outputs": [
        {
          "output_type": "stream",
          "name": "stdout",
          "text": [
            "[1.757e+01 1.505e+01 1.150e+02 9.551e+02 9.847e-02 1.157e-01 9.875e-02\n",
            " 7.953e-02 1.739e-01 6.149e-02 6.003e-01 8.225e-01 4.655e+00 6.110e+01\n",
            " 5.627e-03 3.033e-02 3.407e-02 1.354e-02 1.925e-02 3.742e-03 2.001e+01\n",
            " 1.952e+01 1.349e+02 1.227e+03 1.255e-01 2.812e-01 2.489e-01 1.456e-01\n",
            " 2.756e-01 7.919e-02]\n"
          ]
        }
      ]
    },
    {
      "cell_type": "code",
      "source": [
        "# ライブラリ\n",
        "from sklearn.preprocessing import StandardScaler, MinMaxScaler, RobustScaler\n",
        "\n",
        "# 標準化：各特徴量（列）を平均：0，分散：１にスケーリング\n",
        "scaler = StandardScaler()\n",
        "\n",
        "# 正規化：各特徴量（列）を最小値：0，最大値：１にスケーリング\n",
        "# scaler = MinMaxScaler()\n",
        "\n",
        "# ロバスト標準化：各特徴量（列）を中央値と4分割値でスケーリング\n",
        "# scaler = RobustScaler()\n"
      ],
      "metadata": {
        "id": "dihn6MNRnoq3"
      },
      "execution_count": null,
      "outputs": []
    },
    {
      "cell_type": "code",
      "source": [
        "# X_trainを元に変換器（スケーラー）を作成する（訓練する=>列データの平均値と標準偏差を求める）\n",
        "scaler.fit(X_train)\n",
        "\n",
        "# 変換器でスケール変換する（平均値を0に標準偏差が1になるように変換する）\n",
        "X_train_scaled = scaler.transform(X_train) # 変換済み特徴量ベクトルX_train\n",
        "X_test_scaled = scaler.transform(X_test) # 変換済み特徴量ベクトルX_test"
      ],
      "metadata": {
        "id": "HPWRXn0wgNC7"
      },
      "execution_count": null,
      "outputs": []
    },
    {
      "cell_type": "code",
      "source": [
        "# スケール変換後のデータを確認する（同じ桁になった）\n",
        "\n",
        "print(X_train_scaled[0])"
      ],
      "metadata": {
        "colab": {
          "base_uri": "https://localhost:8080/"
        },
        "id": "V1zFUanQx_aw",
        "outputId": "cfbe8443-9abf-4727-e084-d23f13cdaa4e"
      },
      "execution_count": null,
      "outputs": [
        {
          "output_type": "stream",
          "name": "stdout",
          "text": [
            "[ 0.95760506 -0.99786803  0.92811099  0.84033375  0.16480337  0.21367082\n",
            "  0.1232652   0.77701626 -0.28380257 -0.16986277  0.72774989 -0.69736431\n",
            "  0.89729033  0.50381177 -0.48497302  0.27085088  0.08125322  0.28592378\n",
            " -0.15090023 -0.01537589  0.77173902 -0.99332682  0.81694     0.6149034\n",
            " -0.28934483  0.17144028 -0.10807177  0.46604277 -0.23838727 -0.2578047 ]\n"
          ]
        }
      ]
    },
    {
      "cell_type": "markdown",
      "source": [
        "# 線形モデル（ロジスティク回帰）で分析する\n",
        "Scikit-learn [LogisticRegression API](https://scikit-learn.org/stable/modules/generated/sklearn.linear_model.LogisticRegression.html?highlight=logisticregression#sklearn.linear_model.LogisticRegression)"
      ],
      "metadata": {
        "id": "XH_dSkWXxF9j"
      }
    },
    {
      "cell_type": "markdown",
      "source": [
        "## 訓練用データで訓練する\n",
        "Scikit-Learnでは，初めに**モデルを初期化**する"
      ],
      "metadata": {
        "id": "cZCLNKri2rIK"
      }
    },
    {
      "cell_type": "code",
      "source": [
        "# ライブラリ\n",
        "from sklearn.linear_model import LogisticRegression\n",
        "\n",
        "# LR法のモデルを初期化する\n",
        "model_lr = LogisticRegression()\n"
      ],
      "metadata": {
        "id": "hS3WmEgV9SqK"
      },
      "execution_count": null,
      "outputs": []
    },
    {
      "cell_type": "markdown",
      "source": [
        "Scikit-Learnでの「訓練」は，アルゴリズムを問わず，**fit()**"
      ],
      "metadata": {
        "id": "yno8z7kss1PX"
      }
    },
    {
      "cell_type": "code",
      "source": [
        "# # スケール変換しない元データを使用する場合（提出課題の設問3では以下の2行のコメントを外す）\n",
        "# X_train_scaled = X_train\n",
        "# X_test_scaled = X_test"
      ],
      "metadata": {
        "id": "qAocelJvzAWg"
      },
      "execution_count": null,
      "outputs": []
    },
    {
      "cell_type": "code",
      "source": [
        "# ロジスティク回帰モデルで訓練する\n",
        "model_lr.fit(X_train_scaled, y_train)\n"
      ],
      "metadata": {
        "colab": {
          "base_uri": "https://localhost:8080/",
          "height": 74
        },
        "id": "morTWP9MAeHM",
        "outputId": "26b13a7d-724f-4a4e-c087-cc794766a1b1"
      },
      "execution_count": null,
      "outputs": [
        {
          "output_type": "execute_result",
          "data": {
            "text/plain": [
              "LogisticRegression()"
            ],
            "text/html": [
              "<style>#sk-container-id-1 {color: black;background-color: white;}#sk-container-id-1 pre{padding: 0;}#sk-container-id-1 div.sk-toggleable {background-color: white;}#sk-container-id-1 label.sk-toggleable__label {cursor: pointer;display: block;width: 100%;margin-bottom: 0;padding: 0.3em;box-sizing: border-box;text-align: center;}#sk-container-id-1 label.sk-toggleable__label-arrow:before {content: \"▸\";float: left;margin-right: 0.25em;color: #696969;}#sk-container-id-1 label.sk-toggleable__label-arrow:hover:before {color: black;}#sk-container-id-1 div.sk-estimator:hover label.sk-toggleable__label-arrow:before {color: black;}#sk-container-id-1 div.sk-toggleable__content {max-height: 0;max-width: 0;overflow: hidden;text-align: left;background-color: #f0f8ff;}#sk-container-id-1 div.sk-toggleable__content pre {margin: 0.2em;color: black;border-radius: 0.25em;background-color: #f0f8ff;}#sk-container-id-1 input.sk-toggleable__control:checked~div.sk-toggleable__content {max-height: 200px;max-width: 100%;overflow: auto;}#sk-container-id-1 input.sk-toggleable__control:checked~label.sk-toggleable__label-arrow:before {content: \"▾\";}#sk-container-id-1 div.sk-estimator input.sk-toggleable__control:checked~label.sk-toggleable__label {background-color: #d4ebff;}#sk-container-id-1 div.sk-label input.sk-toggleable__control:checked~label.sk-toggleable__label {background-color: #d4ebff;}#sk-container-id-1 input.sk-hidden--visually {border: 0;clip: rect(1px 1px 1px 1px);clip: rect(1px, 1px, 1px, 1px);height: 1px;margin: -1px;overflow: hidden;padding: 0;position: absolute;width: 1px;}#sk-container-id-1 div.sk-estimator {font-family: monospace;background-color: #f0f8ff;border: 1px dotted black;border-radius: 0.25em;box-sizing: border-box;margin-bottom: 0.5em;}#sk-container-id-1 div.sk-estimator:hover {background-color: #d4ebff;}#sk-container-id-1 div.sk-parallel-item::after {content: \"\";width: 100%;border-bottom: 1px solid gray;flex-grow: 1;}#sk-container-id-1 div.sk-label:hover label.sk-toggleable__label {background-color: #d4ebff;}#sk-container-id-1 div.sk-serial::before {content: \"\";position: absolute;border-left: 1px solid gray;box-sizing: border-box;top: 0;bottom: 0;left: 50%;z-index: 0;}#sk-container-id-1 div.sk-serial {display: flex;flex-direction: column;align-items: center;background-color: white;padding-right: 0.2em;padding-left: 0.2em;position: relative;}#sk-container-id-1 div.sk-item {position: relative;z-index: 1;}#sk-container-id-1 div.sk-parallel {display: flex;align-items: stretch;justify-content: center;background-color: white;position: relative;}#sk-container-id-1 div.sk-item::before, #sk-container-id-1 div.sk-parallel-item::before {content: \"\";position: absolute;border-left: 1px solid gray;box-sizing: border-box;top: 0;bottom: 0;left: 50%;z-index: -1;}#sk-container-id-1 div.sk-parallel-item {display: flex;flex-direction: column;z-index: 1;position: relative;background-color: white;}#sk-container-id-1 div.sk-parallel-item:first-child::after {align-self: flex-end;width: 50%;}#sk-container-id-1 div.sk-parallel-item:last-child::after {align-self: flex-start;width: 50%;}#sk-container-id-1 div.sk-parallel-item:only-child::after {width: 0;}#sk-container-id-1 div.sk-dashed-wrapped {border: 1px dashed gray;margin: 0 0.4em 0.5em 0.4em;box-sizing: border-box;padding-bottom: 0.4em;background-color: white;}#sk-container-id-1 div.sk-label label {font-family: monospace;font-weight: bold;display: inline-block;line-height: 1.2em;}#sk-container-id-1 div.sk-label-container {text-align: center;}#sk-container-id-1 div.sk-container {/* jupyter's `normalize.less` sets `[hidden] { display: none; }` but bootstrap.min.css set `[hidden] { display: none !important; }` so we also need the `!important` here to be able to override the default hidden behavior on the sphinx rendered scikit-learn.org. See: https://github.com/scikit-learn/scikit-learn/issues/21755 */display: inline-block !important;position: relative;}#sk-container-id-1 div.sk-text-repr-fallback {display: none;}</style><div id=\"sk-container-id-1\" class=\"sk-top-container\"><div class=\"sk-text-repr-fallback\"><pre>LogisticRegression()</pre><b>In a Jupyter environment, please rerun this cell to show the HTML representation or trust the notebook. <br />On GitHub, the HTML representation is unable to render, please try loading this page with nbviewer.org.</b></div><div class=\"sk-container\" hidden><div class=\"sk-item\"><div class=\"sk-estimator sk-toggleable\"><input class=\"sk-toggleable__control sk-hidden--visually\" id=\"sk-estimator-id-1\" type=\"checkbox\" checked><label for=\"sk-estimator-id-1\" class=\"sk-toggleable__label sk-toggleable__label-arrow\">LogisticRegression</label><div class=\"sk-toggleable__content\"><pre>LogisticRegression()</pre></div></div></div></div></div>"
            ]
          },
          "metadata": {},
          "execution_count": 26
        }
      ]
    },
    {
      "cell_type": "code",
      "source": [
        "# 係数を表示する（各変数の重要度または重み）\n",
        "coef = model_lr.coef_\n",
        "\n",
        "print(coef)"
      ],
      "metadata": {
        "colab": {
          "base_uri": "https://localhost:8080/"
        },
        "id": "EZ9bEzgxHTBy",
        "outputId": "848f3e05-425c-47e1-ba2d-c5a4c044cd3d"
      },
      "execution_count": null,
      "outputs": [
        {
          "output_type": "stream",
          "name": "stdout",
          "text": [
            "[[-0.34640866 -0.39579978 -0.30790234 -0.41794158 -0.15789077  0.17806493\n",
            "  -0.85287417 -1.08547384  0.01930672  0.17712256 -1.38306733 -0.10751716\n",
            "  -0.60582053 -0.8947099   0.28776849  0.8246396   0.09083736 -0.21737022\n",
            "   0.11232976  0.9940864  -0.96473756 -1.22123611 -0.7006928  -0.8807843\n",
            "  -0.52304974 -0.15407433 -0.932356   -0.90082065 -0.56821416 -0.31765873]]\n"
          ]
        }
      ]
    },
    {
      "cell_type": "markdown",
      "source": [
        "## テスト用データで推論（予測）する\n",
        "Scikit-Learnでの「推論（予測）」は，アルゴリズムを問わず，**predict()**"
      ],
      "metadata": {
        "id": "woKvMRSR2akS"
      }
    },
    {
      "cell_type": "code",
      "source": [
        "# 訓練済みモデルにテスト用データを入力して推論する\n",
        "y_pred= model_lr.predict(X_test_scaled)\n",
        "\n",
        "print(f'正解ラベル\\n {y_test}')\n",
        "print(f'予測ラベル\\n {y_pred}')"
      ],
      "metadata": {
        "colab": {
          "base_uri": "https://localhost:8080/"
        },
        "id": "iTaJPa0_1sxJ",
        "outputId": "9db7b4bd-dc17-4431-d5ad-337489e0f02e"
      },
      "execution_count": null,
      "outputs": [
        {
          "output_type": "stream",
          "name": "stdout",
          "text": [
            "正解ラベル\n",
            " [1 1 1 1 1 0 0 1 0 1 1 1 1 0 1 0 1 1 1 1 0 1 1 1 0 1 1 1 0 1 0 0 0 0 0 1 1\n",
            " 1 1 1 0 1 0 0 1 1 0 0 1 1 0 1 1 1 0 1 1 1 1 0 0 0 1 1 1 1 0 0 1 1 1 0 1 0\n",
            " 1 1 1 1 0 1 1 1 1 0 1 0 1 0 0 1 0 1 0 1 0 1 1 1 1 1 0 0 1 1 0 1 0 0 1 1 1\n",
            " 1 1 0]\n",
            "予測ラベル\n",
            " [1 1 1 1 1 0 0 1 0 1 1 1 1 0 1 0 1 1 1 1 0 1 1 1 0 1 1 1 0 1 0 0 0 0 0 1 1\n",
            " 1 1 1 0 1 0 0 1 1 1 0 1 1 0 1 1 1 0 1 1 1 1 0 0 0 1 1 1 1 0 0 1 1 1 0 1 0\n",
            " 1 1 1 1 0 1 1 1 1 0 1 0 1 0 0 1 1 1 0 1 0 0 1 1 1 1 0 1 1 1 0 1 0 0 1 1 1\n",
            " 1 0 0]\n"
          ]
        }
      ]
    },
    {
      "cell_type": "code",
      "source": [
        "# 正解率を計算する\n",
        "acc = model_lr.score(X_test_scaled, y_test)\n",
        "\n",
        "print(f'正解率：{acc:.2f}')"
      ],
      "metadata": {
        "colab": {
          "base_uri": "https://localhost:8080/"
        },
        "id": "X5GTa5VN-SMV",
        "outputId": "f6d74cdf-51ac-4108-a3b5-9c7cf25d5402"
      },
      "execution_count": null,
      "outputs": [
        {
          "output_type": "stream",
          "name": "stdout",
          "text": [
            "正解率：0.96\n"
          ]
        }
      ]
    },
    {
      "cell_type": "code",
      "source": [
        "# ライブラリ\n",
        "from sklearn.metrics import confusion_matrix\n",
        "\n",
        "# 混合行列を表示する\n",
        "cm = confusion_matrix(y_test, y_pred)\n",
        "\n",
        "print(cm)"
      ],
      "metadata": {
        "colab": {
          "base_uri": "https://localhost:8080/"
        },
        "id": "Iqe52bJK-6T2",
        "outputId": "9ae8100c-45e8-4193-e06c-67d9280754c1"
      },
      "execution_count": null,
      "outputs": [
        {
          "output_type": "stream",
          "name": "stdout",
          "text": [
            "[[38  3]\n",
            " [ 2 71]]\n"
          ]
        }
      ]
    },
    {
      "cell_type": "markdown",
      "source": [
        "### 推論結果をグラフ表示して確認する\n",
        "- cmapの一覧は[マニュアル](https://matplotlib.org/3.5.0/tutorials/colors/colormaps.html)で確認する\n",
        "- markerの一覧は[マニュアル](https://matplotlib.org/3.5.0/api/markers_api.html#module-matplotlib.markers)で確認する\n"
      ],
      "metadata": {
        "id": "w11E_z013zW1"
      }
    },
    {
      "cell_type": "code",
      "source": [
        "# ライブラリ\n",
        "import pandas as pd\n",
        "\n",
        "# （グラフ表示に便利なので）pandasのデータフレームとシリーズに格納する\n",
        "df_x_test = pd.DataFrame(X_test_scaled, columns=cols)\n",
        "se_y_test = pd.Series(y_test)\n",
        "se_y_pred = pd.Series(y_pred)\n",
        "\n",
        "# print(df_x_test.head(3)) # テスト用データ\n",
        "# print(se_y_test.head(3)) # テスト用データの正解ラベル\n",
        "# print(se_y_pred.head(3)) # テスト用データの予測結果"
      ],
      "metadata": {
        "id": "Ke3NwKHU3xhP"
      },
      "execution_count": null,
      "outputs": []
    },
    {
      "cell_type": "code",
      "source": [
        "# ライブラリ\n",
        "import matplotlib.pyplot as plt\n",
        "\n",
        "# 図の大きさをインチ単位で指定する\n",
        "fig = plt.figure(figsize=(10, 5))\n",
        "\n",
        "# フィギュア内にサブプットを2つ配置する\n",
        "ax1 = fig.add_subplot(121) # 1行2列の1番目\n",
        "ax2 = fig.add_subplot(122) # 1行2列の2番目\n",
        "\n",
        "# グラフ1: 正解を表示する\n",
        "ax1.set_title('True Label')\n",
        "# Testデータの散布図をプロットする\n",
        "ax1.scatter(df_x_test['mean radius'], df_x_test['mean texture'], c=se_y_test, marker='o', cmap='bwr')\n",
        "\n",
        "# グリッド表示\n",
        "ax1.grid(axis=\"both\")\n",
        "\n",
        "# グラフ2: 予測値を表示する\n",
        "ax2.set_title('Pred Label')\n",
        "\n",
        "# Testデータの散布図をプロットする\n",
        "ax2.scatter(df_x_test['mean radius'], df_x_test['mean texture'], c=se_y_pred, marker='P', cmap='winter')\n",
        "# ax2.scatter(df_x_test['mean radius'], df_x_test['mean texture'], c=se_y_pred, marker='P', cmap='bwr')\n",
        "\n",
        "# グリッド表示\n",
        "ax2.grid(axis=\"both\")\n",
        "\n",
        "# グラフをカレントディレクトリにPDFファイルとして保存する\n",
        "# plt.savefig(\"./Logistic_Regression_breast_cancer.pdf\")\n",
        "# plt.savefig(\"./Logistic_Regression_breast_cancer.jpg\")\n",
        "# plt.savefig(\"./Logistic_Regression_breast_cancer.png\")\n",
        "\n",
        "plt.show()"
      ],
      "metadata": {
        "colab": {
          "base_uri": "https://localhost:8080/",
          "height": 468
        },
        "id": "4sKtNmUghMSK",
        "outputId": "5f8da7c6-9d03-4784-87a0-af66f7664fd7"
      },
      "execution_count": null,
      "outputs": [
        {
          "output_type": "display_data",
          "data": {
            "text/plain": [
              "<Figure size 1000x500 with 2 Axes>"
            ],
            "image/png": "[encoded data removed]"
          },
          "metadata": {}
        }
      ]
    },
    {
      "cell_type": "markdown",
      "source": [
        "### [演習]\n",
        "- マニュアルを参考にしながら，上記のグラフのマーカや色を変えてみる\n",
        "  - marker='o', marker=\"X\", marker=\"D\", marker=\"d\", marker=\"P\", marker=\"s\"\n",
        "  - cmap='bwr', cmp=\"rainbow\", cmap=\"gist_rainbow\", cmap=\"jet\", cmap=\"PiYG\""
      ],
      "metadata": {
        "id": "nqEIl2Y4jzfW"
      }
    },
    {
      "cell_type": "code",
      "source": [],
      "metadata": {
        "id": "m4z1t2jUhMDo"
      },
      "execution_count": null,
      "outputs": []
    },
    {
      "cell_type": "code",
      "source": [],
      "metadata": {
        "id": "IVCgGdC_ClF2"
      },
      "execution_count": null,
      "outputs": []
    },
    {
      "cell_type": "markdown",
      "source": [
        "# [提出課題]\n",
        "データ分割で用いた関数（train_test_split）では，乱数を用いている．\n",
        "この際，乱数のシードを，random_state=seed で指定することにより，データ分割の再現性を確保している．\n",
        "\n",
        "乱数シード（seed）の値を変えることで，異なる数値系列をランダムに生成することができるので，異なるデータ分割を実現することができる．\n",
        "\n",
        "設問1（乱数シードの変更）：\n",
        "1. **seed = 1000** に変更する\n",
        "1. 以降のセル（データ分割）を最後のセルまで再度実行する\n",
        "1. 結果の違いを確認する\n",
        "  - 訓練データの違い，例えば，print(X_train[0])の値の違い\n",
        "  - 正解率や混同行列，グラフ表示等\n",
        "1. テスト用データでの正解率（小数第二位まで）を，確認クイズで回答せよ\n",
        "\n",
        "設問2（スケーラーの変更）：\n",
        "1. **seed = 1001** に変更する\n",
        "1. 以降のセル（データ分割）を最後のセルまで再度実行する\n",
        "1. この際，**MiniMaxScaler()**を使用する\n",
        "1. 結果の違いを確認する\n",
        "  - 訓練データの違い，例えば，print(X_train[0])の値の違い\n",
        "  - 正解率や混同行列，グラフ表示等\n",
        "1. テスト用データでの正解率（小数第二位まで）を，確認クイズで回答せよ\n",
        "\n",
        "<!--\n",
        "設問3（スケール変換を行わない）：\n",
        "1. **seed = 1002** に変更する\n",
        "1. 以降のセル（データ分割）を最後のセルまで再度実行する\n",
        "1. この際，MiniMaxScaler()を使用する（実際には 4.により使用されない）\n",
        "1. 「訓練」の最初のセル（以下）の**コメントを外して**実行する\n",
        "    ```\n",
        "    # # スケール変換しない元データを使用する場合\n",
        "    # X_train_scaled = X_train\n",
        "    # X_test_scaled = X_test\n",
        "    ```\n",
        "1. 結果の違いを確認する\n",
        "  - 訓練データの違い，例えば，print(X_train[0])の値の違い\n",
        "  - 正解率や混同行列，グラフ表示等\n",
        "1. テスト用データでの正解率（小数第二位まで）を，確認クイズで回答せよ\n",
        "-->"
      ],
      "metadata": {
        "id": "OHBO23bEyo7z"
      }
    },
    {
      "cell_type": "markdown",
      "source": [
        "# まとめ\n",
        "- ロジスティク回帰モデルを用いて，教師あり学習を行い，breastcancerデータのがんの悪性と良性を予測した．\n",
        "  - 97%以上の高精度で，breastcancerデータのがんの悪性と良性を予測できた\n",
        "\n",
        "- 教師あり学習の手順が理解できた\n",
        "- 教師あり学習のデータの分割の重要性が理解できた\n",
        "  - 訓練データとテストデータの分離\n",
        "  - 訓練データはモデル学習のため\n",
        "  - テストデータは，未知のデータの代用として，モデル性能確認のため\n",
        "- データ分割した場合のスケール変換の仕方が理解できた\n",
        "- scikit-learnの教師あり学習のメソッドの使い方が理解できた\n",
        "  1. モデルオブジェクトの定義：**model**\n",
        "  1. モデルの訓練：**model.fit(訓練データ，正解ラベル)**\n",
        "  1. モデルによる予測：**model.predict(テストデータ)**\n",
        "  1. モデル性能の評価：**model.score(テストデータ，正解ラベル)**\n",
        "  1. 混同行列による評価：**confusion_matrix(正解ラベル, 予測ラベル)**\n",
        "- 乱数シードの使い方が理解できた"
      ],
      "metadata": {
        "id": "ITmUwC33UkA-"
      }
    },
    {
      "cell_type": "code",
      "source": [],
      "metadata": {
        "id": "WgD_4ZIYv5wT"
      },
      "execution_count": null,
      "outputs": []
    }
  ]
}