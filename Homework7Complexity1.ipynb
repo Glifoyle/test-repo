{
  "nbformat": 4,
  "nbformat_minor": 0,
  "metadata": {
    "colab": {
      "provenance": [],
      "include_colab_link": true
    },
    "kernelspec": {
      "name": "python3",
      "display_name": "Python 3"
    },
    "language_info": {
      "name": "python"
    }
  },
  "cells": [
    {
      "cell_type": "markdown",
      "metadata": {
        "id": "view-in-github",
        "colab_type": "text"
      },
      "source": [
        "<a href=\"https://colab.research.google.com/github/Glifoyle/test-repo/blob/master/Homework7Complexity1.ipynb\" target=\"_parent\"><img src=\"https://colab.research.google.com/assets/colab-badge.svg\" alt=\"Open In Colab\"/></a>"
      ]
    },
    {
      "cell_type": "markdown",
      "source": [
        "# Homework 7, Quadratic Complexity, 宿題7、$O(n^2)$\n",
        "\n",
        "\n",
        "In this exercise we will implement two quadratic sorting algorithms, selection  sort and bubble sort.\n",
        "\n",
        "## IMPORTANT\n",
        "\n",
        "- Once you are finished, download your code (File, Download, Dowload ipynb). And submit it via webclass. **DO NOT USE ANY OTHER FILE FORMAT**\n",
        "\n",
        "- If you worked with someone (working in pairs is allowed) write their name and student number too).\n",
        "\n",
        "- Not using functions to complete the tasks will result in point deduction.\n",
        "\n",
        "## 重要\n",
        "\n",
        "- 終わったら、コードをダウンロードします (ファイル、ダウンロード、ipynb のダウンロード)。 そしてWebclASSで提出してください。 **他のファイル形式は使用しないでください**\n",
        "\n",
        "- ペアで宿題をする場合は他の人の名前と生徒番号も含んでください。\n",
        "\n",
        "- 参考も含んでください（コードを見つけた時とか他の授業で学んだこととか。。。）。\n",
        "\n",
        "- タスクを完了するために関数を使用しないと、ポイントが減点されます。"
      ],
      "metadata": {
        "id": "yWi5p7vgXbmJ"
      }
    },
    {
      "cell_type": "code",
      "source": [
        "# Necessary imports\n",
        "import random\n",
        "import time\n",
        "import sys"
      ],
      "metadata": {
        "id": "eTnCN2XqY5Zg"
      },
      "execution_count": 1,
      "outputs": []
    },
    {
      "cell_type": "code",
      "source": [
        "# Useful Function\n",
        "def createRandomIntList(numInts,xMin=-50,xMax=50):\n",
        "    listOfInts=[]\n",
        "\n",
        "    for i in range(numInts):\n",
        "        listOfInts.append(random.randint(xMin,xMax))\n",
        "\n",
        "    return listOfInts"
      ],
      "metadata": {
        "id": "EO_YnI5dZBMU"
      },
      "execution_count": 2,
      "outputs": []
    },
    {
      "cell_type": "markdown",
      "source": [
        "## TASK A: Implement selection sort\n",
        "\n",
        "A1) Complete function findMaximumValuePosition(l) so that it returns the position of the largest value in list l. If there are repetitions, any position containing the smaller value is fine.\n",
        "\n",
        "A2) Complete function swapValuesInList(l,i,j). This function receives one list l and two indices i,j. The function swaps the values in positions i and j in the list. This function does not need to return anything.\n",
        "\n",
        "\n",
        "## タスクA： 選択ソート (selection sort)\n",
        "\n",
        "A1)findMaximumValuePosition(l) と言う関数を完成させる。この関数はｌリストの最大の要素の位置を出力します。 最大の要素が複数の位置にある場合、どの位置を入れ替えてもいいです。  \n",
        "\n",
        "A2)swapValuesInList(l,i,j)と言う関数を完成させる。この関数は”ｌ”と言うリストと”i”と”ｊ”と言う二つの位置をもらいます。この関数はl[i]とl[j]を入れ替えます。この関数は何も返す必要はありません。\n",
        "\n",
        "\n",
        "\n"
      ],
      "metadata": {
        "id": "PMJ1yJhkYtHS"
      }
    },
    {
      "cell_type": "code",
      "source": [
        "def findMaximumValuePosition(l,end):\n",
        "    #TASK A.1: TO DO IMPLEMENT LOOP TO RETURN THE POSITION OF THE MAXIMUM VALUE BETWEEN 0 AND END\n",
        "    for i in range(len(l)):\n",
        "        if l[i] > l[i + 1]:\n",
        "            l[i] , l[i + 1] = l[i + 1] , l[i]\n",
        "\n",
        "    maxValue = l[len(l) - 1]\n",
        "    return maxValue\n",
        "\n",
        "    pass\n",
        "def swapValuesInList(l,i,j):\n",
        "    #TASK A.2: TO DO implement function that swaps values in positions i and j in l.\n",
        "    pass"
      ],
      "metadata": {
        "id": "6UGRWBqQZYPs"
      },
      "execution_count": 2,
      "outputs": []
    },
    {
      "cell_type": "code",
      "source": [
        "n=10000\n",
        "\n",
        "#O(n), create a list of integers\n",
        "start = time.time()\n",
        "myList=createRandomIntList(n)\n",
        "end = time.time()\n",
        "print(\"finished data generation with Linear ( O(n) )  complexity in (TIME 1) \"+str(end - start))\n",
        "\n",
        "#O(1)\n",
        "start = time.time()\n",
        "randomIndex=random.randint(0,n-1)\n",
        "randomListValue=myList[randomIndex]\n",
        "end = time.time()\n",
        "print(\"finished accessing random data with constant O(1) complexity in (TIME 2) \"+str(end - start))\n",
        "\n",
        "#O(n*n)\n",
        "start = time.time()\n",
        "i=n-1\n",
        "while i>0:\n",
        "    maximumIndex=findMaximumValuePosition(myList,i)\n",
        "    swapValuesInList(myList,i,maximumIndex)\n",
        "    i=i-1\n",
        "end = time.time()\n",
        "print(\"finished sorting list with quadratic O(n*n) complexity in (TIME 3) \"+str(end - start))"
      ],
      "metadata": {
        "colab": {
          "base_uri": "https://localhost:8080/"
        },
        "id": "-hzh2tDyZaiX",
        "outputId": "3d5e4af1-5810-4f84-f167-6d6bc76eb1a4"
      },
      "execution_count": null,
      "outputs": [
        {
          "output_type": "stream",
          "name": "stdout",
          "text": [
            "finished data generation with Linear ( O(n) )  complexity in (TIME 1) 0.01358795166015625\n",
            "finished accessing random data with constant O(1) complexity in (TIME 2) 0.00018835067749023438\n",
            "finished sorting list with quadratic O(n*n) complexity in (TIME 3) 0.003614664077758789\n"
          ]
        }
      ]
    },
    {
      "cell_type": "markdown",
      "source": [
        "## TASK B:  Implement Bubblesort\n",
        "\n",
        "**B1) Implement function  bubble up**:\n",
        "\n",
        "def bubbleUp(l,end)\n",
        "\n",
        "This function takes list l and swaps unsorted adjacent values from 0 to \"end\" (\"end\" not included). You should use function swapValuesInList(l,i,j) that you implemented for Homework 7.\n",
        "\n",
        "**B2) Implement bubble sort**:  Make a loop and call function bubbleUp with changing values of \"end\" so that the whole list is sorted.\n",
        "\n",
        "##タスクB：バブルソート (Bubblesort)\n",
        "\n",
        "**B1)bubbleUp**という関数を実装する：def bubbleUp（l、end）\n",
        "\n",
        "この関数はリストlを受け取り、並び替えされていない隣接する値を0から\"end\"まで入れ替えます。(\"end\"は含まれません)値の入れ替えでは、A2で実装した関数swapValuesInList(l,i,j)を使用してください。\n",
        "\n",
        "**B2)： bubbleSort**という関数を実装する\n",
        "\n",
        " \"end\"の値を変更してループを作成し、関数bubbleUpを呼び出すと、リスト全体を並び替えます。\n",
        "\n",
        "\n"
      ],
      "metadata": {
        "id": "S55PV9zoZYa_"
      }
    },
    {
      "cell_type": "code",
      "execution_count": null,
      "metadata": {
        "id": "0OEXruuTXZia"
      },
      "outputs": [],
      "source": []
    },
    {
      "cell_type": "code",
      "source": [],
      "metadata": {
        "id": "_TbUIyBUbqdU"
      },
      "execution_count": null,
      "outputs": []
    },
    {
      "cell_type": "markdown",
      "source": [
        "##TASK C:\n",
        "\n",
        "Implement **Binary search**:  def binarySearch(l,x)\n",
        "\n",
        "Make a function that receives a SORTED list and an element x and returns  \n",
        "\t- the index of any appearance of x in the list if x is in the list.  \n",
        "\t- “-1” if x does not appear in the list.  \n",
        "\n",
        "\n",
        "##タスクC：\n",
        "\n",
        "**binarySearch**という関数を実装する, def binarySearch(l,x)\n",
        "\n",
        " binarySearch関数は並び替えされた”ｌ”リストと要素”x”を受け取り、次の通りに返すこと：  \n",
        "\t-xがリストにある場合、リスト内のxの出現のインデックス。  \n",
        "\t-xがリストにない場合は「-1」。  \n",
        "\n",
        "\n"
      ],
      "metadata": {
        "id": "gy-LO_1dbqoD"
      }
    },
    {
      "cell_type": "code",
      "source": [
        "# Task C code"
      ],
      "metadata": {
        "id": "Az9_eVxAb02s"
      },
      "execution_count": null,
      "outputs": []
    },
    {
      "cell_type": "code",
      "source": [],
      "metadata": {
        "id": "psEa5Qbrb08r"
      },
      "execution_count": null,
      "outputs": []
    },
    {
      "cell_type": "markdown",
      "source": [
        "##Task D\n",
        "\n",
        "Compare the performance of bubblesort, selection sort and binary search. Make graphs comparing the times of the three algorithms. You will probably need at least two. The graphs should have at least 50 data points. What algorithm is faster? Two of these algorithms have the same complexity O(n2), do they have the same computation time?. Why? You have to write a report with the graphs and comments. English and Japanese are ok. Pdf format or Jupyter notebook are ok.\n",
        "\n",
        "\n",
        "##タスクD:\n",
        "\n",
        "bubblesortとselection sort および二分探索(binary search)のパフォーマンスを比較します。 3 つのアルゴリズムの時間を比較するグラフを作成します。 おそらく少なくとも 2 つ必要です。 グラフには少なくとも 50 個のデータ ポイントが必要です。 どのアルゴリズムがより高速ですか? これらのアルゴリズムのうち 2 つは同じ処理効率 O(n2) を持ちますが、計算時間は同じですか?. なんで？ グラフとコメントを含むレポートを作成する必要があります。 英語と日本語は大丈夫です。 Pdf 形式または Jupyter ノートブックで問題ありません。"
      ],
      "metadata": {
        "id": "-fMPc4-tb1I_"
      }
    },
    {
      "cell_type": "code",
      "source": [
        "# Add bubble sort and binary search functions, modify this this value to create a table\n",
        "n=10000\n",
        "\n",
        "#O(n), create a list of integers\n",
        "start = time.time()\n",
        "myList=createRandomIntList(n)\n",
        "end = time.time()\n",
        "print(\"finished data generation with Linear ( O(n) )  complexity in (TIME 1) \"+str(end - start))\n",
        "\n",
        "#O(1)\n",
        "start = time.time()\n",
        "randomIndex=random.randint(0,n-1)\n",
        "randomListValue=myList[randomIndex]\n",
        "end = time.time()\n",
        "print(\"finished accessing random data with constant O(1) complexity in (TIME 2) \"+str(end - start))\n",
        "\n",
        "#O(n*n)\n",
        "start = time.time()\n",
        "i=n-1\n",
        "while i>0:\n",
        "    maximumIndex=findMaximumValuePosition(myList,i)\n",
        "    swapValuesInList(myList,i,maximumIndex)\n",
        "    i=i-1\n",
        "end = time.time()\n",
        "print(\"finished sorting list with quadratic O(n*n) complexity in (TIME 3) \"+str(end - start))"
      ],
      "metadata": {
        "id": "3R5argtab2jT",
        "outputId": "0789a55c-1e54-4930-c4ab-f3fc3b47849c",
        "colab": {
          "base_uri": "https://localhost:8080/",
          "height": 253
        }
      },
      "execution_count": 3,
      "outputs": [
        {
          "output_type": "error",
          "ename": "NameError",
          "evalue": "ignored",
          "traceback": [
            "\u001b[0;31m---------------------------------------------------------------------------\u001b[0m",
            "\u001b[0;31mNameError\u001b[0m                                 Traceback (most recent call last)",
            "\u001b[0;32m<ipython-input-3-01d017532cf5>\u001b[0m in \u001b[0;36m<cell line: 5>\u001b[0;34m()\u001b[0m\n\u001b[1;32m      3\u001b[0m \u001b[0;34m\u001b[0m\u001b[0m\n\u001b[1;32m      4\u001b[0m \u001b[0;31m#O(n), create a list of integers\u001b[0m\u001b[0;34m\u001b[0m\u001b[0;34m\u001b[0m\u001b[0m\n\u001b[0;32m----> 5\u001b[0;31m \u001b[0mstart\u001b[0m \u001b[0;34m=\u001b[0m \u001b[0mtime\u001b[0m\u001b[0;34m.\u001b[0m\u001b[0mtime\u001b[0m\u001b[0;34m(\u001b[0m\u001b[0;34m)\u001b[0m\u001b[0;34m\u001b[0m\u001b[0;34m\u001b[0m\u001b[0m\n\u001b[0m\u001b[1;32m      6\u001b[0m \u001b[0mmyList\u001b[0m\u001b[0;34m=\u001b[0m\u001b[0mcreateRandomIntList\u001b[0m\u001b[0;34m(\u001b[0m\u001b[0mn\u001b[0m\u001b[0;34m)\u001b[0m\u001b[0;34m\u001b[0m\u001b[0;34m\u001b[0m\u001b[0m\n\u001b[1;32m      7\u001b[0m \u001b[0mend\u001b[0m \u001b[0;34m=\u001b[0m \u001b[0mtime\u001b[0m\u001b[0;34m.\u001b[0m\u001b[0mtime\u001b[0m\u001b[0;34m(\u001b[0m\u001b[0;34m)\u001b[0m\u001b[0;34m\u001b[0m\u001b[0;34m\u001b[0m\u001b[0m\n",
            "\u001b[0;31mNameError\u001b[0m: name 'time' is not defined"
          ]
        }
      ]
    }
  ]
}