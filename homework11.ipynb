{
  "cells": [
    {
      "cell_type": "markdown",
      "metadata": {
        "id": "view-in-github",
        "colab_type": "text"
      },
      "source": [
        "<a href=\"https://colab.research.google.com/github/Glifoyle/test-repo/blob/master/homework11.ipynb\" target=\"_parent\"><img src=\"https://colab.research.google.com/assets/colab-badge.svg\" alt=\"Open In Colab\"/></a>"
      ]
    },
    {
      "cell_type": "markdown",
      "id": "e2af4fea",
      "metadata": {
        "id": "e2af4fea"
      },
      "source": [
        "# Homework 11, QuickSort\n",
        "\n",
        "\n",
        "In this exercise we will implement our final sorting algorithm called QuickSort.\n",
        "\n",
        "\n",
        "# 宿題１１、Quicksort\n",
        "\n",
        "この演習では、QuickSortというソートアルゴリズムを実装します.\n",
        "\n"
      ]
    },
    {
      "cell_type": "code",
      "execution_count": null,
      "id": "61facc56",
      "metadata": {
        "id": "61facc56"
      },
      "outputs": [],
      "source": [
        "# Necessary imports\n",
        "import random\n",
        "import time\n",
        "import sys"
      ]
    },
    {
      "cell_type": "code",
      "execution_count": null,
      "id": "72d1bc3d",
      "metadata": {
        "id": "72d1bc3d"
      },
      "outputs": [],
      "source": [
        "# Auxiliary functions\n",
        "def createRandomIntList(numInts,xMin=-50,xMax=50):\n",
        "    \"\"\"\n",
        "    Function to create random lists of initegers given appropiate limits\n",
        "    and a number of elements\n",
        "    \"\"\"\n",
        "    listOfInts=[]\n",
        "\n",
        "    for i in range(numInts):\n",
        "        listOfInts.append(random.randint(xMin,xMax))\n",
        "\n",
        "    return listOfInts\n",
        "\n",
        "def selectionSort(l,first,last):\n",
        "    \"\"\"\n",
        "    implementation of the selection sort algorithm\n",
        "    \"\"\"\n",
        "    i=last\n",
        "    while i>first:\n",
        "        maxInd=l.index(max(l[first:i+1]))\n",
        "        l[i],l[maxInd] = l[maxInd],l[i]\n",
        "        i=i-1\n"
      ]
    },
    {
      "cell_type": "code",
      "execution_count": null,
      "id": "12416736",
      "metadata": {
        "id": "12416736"
      },
      "outputs": [],
      "source": [
        "#Reference: http://interactivepython.org/courselib/static/pythonds/SortSearch/TheQuickSort.html\n",
        "def quickSort(alist,pivotType='first'):\n",
        "    quickSortHelper(alist,0,len(alist)-1,pivotType)\n",
        "\n",
        "def quickSortHelper(alist,first,last,pivotType):\n",
        "    \"\"\"\n",
        "    main quicksort function\n",
        "    \"\"\"\n",
        "    quickTh = 10\n",
        "    # For small lists (shorter than \"quickTh\"), we use selection sort\n",
        "    # Recursion base case\n",
        "    if (last-first) < quickTh:\n",
        "        selectionSort(alist,first,last)\n",
        "    elif first<last:\n",
        "        # Recursive case\n",
        "        splitpoint = partition(alist,first,last,pivotType)\n",
        "        quickSortHelper(alist,first,splitpoint-1,pivotType)\n",
        "        quickSortHelper(alist,splitpoint+1,last,pivotType)\n",
        "\n",
        "\n",
        "def partition(alist,first,last,pivotType):\n",
        "    \"\"\"\n",
        "    Quicksort partition function\n",
        "    Place:\n",
        "    1) the elements smaller than the pivot before it (not sorted)\n",
        "    2) the elements bigger than the pivot after it (not sorted)\n",
        "    3) The pivot in the right position\n",
        "    \"\"\"\n",
        "    pivotvalue = choosePivot(alist,first,last,pivotType)\n",
        "\n",
        "    leftmark = first+1\n",
        "    rightmark = last\n",
        "\n",
        "    done = False\n",
        "    while not done:\n",
        "        while leftmark <= rightmark and alist[leftmark] <= pivotvalue:\n",
        "            leftmark = leftmark + 1\n",
        "\n",
        "        while alist[rightmark] >= pivotvalue and rightmark >= leftmark:\n",
        "            rightmark = rightmark -1\n",
        "\n",
        "        if rightmark < leftmark:\n",
        "            done = True\n",
        "        else:\n",
        "            alist[leftmark],alist[rightmark] = alist[rightmark], alist[leftmark]\n",
        "\n",
        "    alist[first],alist[rightmark] = alist[rightmark], alist[first]\n",
        "    return rightmark\n"
      ]
    },
    {
      "cell_type": "markdown",
      "id": "cc886b07",
      "metadata": {
        "id": "cc886b07"
      },
      "source": [
        "## TASK A:\n",
        "\n",
        "Most of the code has already been implemented, you only need to modify function\n",
        "\n",
        "choosePivot(alist,first,last,pivotType)\n",
        "\n",
        "In order to implement three ways to select the pivot\n",
        "\n",
        "a) First element (already implemented)\n",
        "b) Random Element\n",
        "c) Median 3\n",
        "\n",
        "## タスクA：\n",
        "\n",
        "ほとんどのコードは既に実装されています、あなたは関数を変更するだけでよいです\n",
        "\n",
        "choosePivot（alist、最初、最後、pivotType）\n",
        "\n",
        "PIVOTを選択する3つの方法を実装するために\n",
        "\n",
        "a）最初の要素（すでに実装済み）\n",
        "b）ランダム要素\n",
        "c）MEDIAN3\n",
        "\n"
      ]
    },
    {
      "cell_type": "code",
      "execution_count": null,
      "id": "069a4b8a",
      "metadata": {
        "id": "069a4b8a"
      },
      "outputs": [],
      "source": [
        "def choosePivot(aList,first,last,pivotType):\n",
        "    #First, choose pivot position\n",
        "    if(pivotType=='first'):\n",
        "        pivotPos=first\n",
        "\n",
        "    # then move the pivot to the first position and return it\n",
        "    aList[first],aList[pivotPos] = aList[pivotPos], aList[first]\n",
        "    return aList[first]\n"
      ]
    },
    {
      "cell_type": "code",
      "execution_count": null,
      "id": "91519290",
      "metadata": {
        "id": "91519290",
        "outputId": "3ddbd405-1fa4-43aa-c9f9-e1e76a281106"
      },
      "outputs": [
        {
          "name": "stdout",
          "output_type": "stream",
          "text": [
            "\n",
            "\n",
            " before sorting\n",
            "[-21, -33, 18, -14, -29, -27, 38, -40, -22, 4]\n",
            "after sorting\n",
            "[-40, -33, -29, -27, -22, -21, -14, 4, 18, 38]\n",
            "\n",
            "\n",
            " before sorting\n",
            "[0, -39, 0, 22, -26, -4, 3, 9, 26, 30, 25, -40, -46, 49, -24]\n",
            "after sorting\n",
            "[-46, -40, -39, -26, -24, -4, 0, 0, 3, 9, 22, 25, 26, 30, 49]\n",
            "\n",
            "\n",
            " before sorting\n",
            "[-43, 21, -31, -47, 33, -48, -29, -30, -20, 35, 25, -35, -34, -29, -26, 33, 6, -45, -44, -34]\n",
            "after sorting\n",
            "[-48, -47, -45, -44, -43, -35, -34, -34, -31, -30, -29, -29, -26, -20, 6, 21, 25, 33, 33, 35]\n",
            "\n",
            "\n",
            " before sorting\n",
            "[3, -12, 45, 5, -12, 36, -22, -10, 9, -49, 38, 43, 8, 49, -38, -34, 28, 46, -44, -27, -1, 36, 28, -36, -4]\n",
            "after sorting\n",
            "[-49, -44, -38, -36, -34, -27, -22, -12, -12, -10, -4, -1, 3, 5, 8, 9, 28, 28, 36, 36, 38, 43, 45, 46, 49]\n",
            "\n",
            "\n",
            " before sorting\n",
            "[16, -34, 45, -50, -40, 29, 5, -11, -36, 26, -24, -39, 11, 19, 24, -28, 13, 22, 17, 0, 17, 48, -11, 29, 13, -45, -42, 33, 24, 42]\n",
            "after sorting\n",
            "[-50, -45, -42, -40, -39, -36, -34, -28, -24, -11, -11, 0, 5, 11, 13, 13, 16, 17, 17, 19, 22, 24, 24, 26, 29, 29, 33, 42, 45, 48]\n",
            "\n",
            "\n",
            " before sorting\n",
            "[-30, 48, -43, -15, 24, 21, -3, 26, -20, -16, -36, -17, -46, -1, 40, 2, -19, -35, 29, -12, 36, 5, -12, -29, 38, -9, -20, -46, -46, 38, -10, 41, -36, 44, 26]\n",
            "after sorting\n",
            "[-46, -46, -46, -43, -36, -36, -35, -30, -29, -20, -20, -19, -17, -16, -15, -12, -12, -10, -9, -3, -1, 2, 5, 21, 24, 26, 26, 29, 36, 38, 38, 40, 41, 44, 48]\n",
            "\n",
            "\n",
            " before sorting\n",
            "[-44, 0, -26, 7, 39, -44, -44, 7, 50, 2, -7, 48, 48, 15, 31, 2, 18, -31, -14, 49, -36, -48, 14, -21, 3, 17, 50, -49, -14, -40, -50, 26, 19, 7, 2, 13, 38, -21, -35, 33]\n",
            "after sorting\n",
            "[-50, -49, -48, -44, -44, -44, -40, -36, -35, -31, -26, -21, -21, -14, -14, -7, 0, 2, 2, 2, 3, 7, 7, 7, 13, 14, 15, 17, 18, 19, 26, 31, 33, 38, 39, 48, 48, 49, 50, 50]\n",
            "\n",
            "\n",
            " before sorting\n",
            "[-43, 17, -38, 35, 13, -6, 37, 40, -8, 42, 9, 41, -32, -47, 19, -38, 20, -4, -27, 4, -5, -23, -8, -48, 39, 32, -46, -15, 47, -20, -50, -39, -33, 24, 31, 19, -30, -31, -3, 8, -18, -12, -44, 41, -16]\n",
            "after sorting\n",
            "[-50, -48, -47, -46, -44, -43, -39, -38, -38, -33, -32, -31, -30, -27, -23, -20, -18, -16, -15, -12, -8, -8, -6, -5, -4, -3, 4, 8, 9, 13, 17, 19, 19, 20, 24, 31, 32, 35, 37, 39, 40, 41, 41, 42, 47]\n",
            "\n",
            "\n",
            " before sorting\n",
            "[43, -5, 48, 42, 11, 15, 22, -13, -31, 0, -38, -45, 28, 6, -33, 0, -1, 33, -49, -10, -8, 40, 8, -14, 8, -18, -21, 43, -25, -16, -23, 6, -26, 41, -50, -46, 9, 8, -30, 21, 27, 10, 39, -44, -50, -35, -23, 12, 39, -8]\n",
            "after sorting\n",
            "[-50, -50, -49, -46, -45, -44, -38, -35, -33, -31, -30, -26, -25, -23, -23, -21, -18, -16, -14, -13, -10, -8, -8, -5, -1, 0, 0, 6, 6, 8, 8, 8, 9, 10, 11, 12, 15, 21, 22, 27, 28, 33, 39, 39, 40, 41, 42, 43, 43, 48]\n",
            "\n",
            "\n",
            " before sorting\n",
            "[-8, -19, -15, 0, -43, 23, -11, 34, -33, 29, 42, 16, 41, -34, -39, 15, -28, 47, -19, 17, 14, 20, -20, 45, -16, 16, -34, -47, 4, -25, 17, -7, 48, 0, -42, -3, 12, -13, -49, 27, -48, 11, 35, 46, -49, -49, -36, 32, -34, 4, -15, 21, 41, 29, 45]\n",
            "after sorting\n",
            "[-49, -49, -49, -48, -47, -43, -42, -39, -36, -34, -34, -34, -33, -28, -25, -20, -19, -19, -16, -15, -15, -13, -11, -8, -7, -3, 0, 0, 4, 4, 11, 12, 14, 15, 16, 16, 17, 17, 20, 21, 23, 27, 29, 29, 32, 34, 35, 41, 41, 42, 45, 45, 46, 47, 48]\n",
            "\n",
            "\n",
            " before sorting\n",
            "[-32, -39, 6, 23, 34, 4, -32, -26, 24, 25, -10, 7, -3, 18, -32, -38, 44, 16, 41, -6, -48, 25, -8, 3, -45, 24, -41, 28, 28, -10, 26, 37, -40, -24, 40, 33, -1, 35, -40, 16, -40, -3, -44, 40, 3, 38, 20, 6, -5, -43, 49, -9, 14, 34, -43, 3, 17, 5, 4, -16]\n",
            "after sorting\n",
            "[-48, -45, -44, -43, -43, -41, -40, -40, -40, -39, -38, -32, -32, -32, -26, -24, -16, -10, -10, -9, -8, -6, -5, -3, -3, -1, 3, 3, 3, 4, 4, 5, 6, 6, 7, 14, 16, 16, 17, 18, 20, 23, 24, 24, 25, 25, 26, 28, 28, 33, 34, 34, 35, 37, 38, 40, 40, 41, 44, 49]\n",
            "\n",
            "\n",
            " before sorting\n",
            "[-2, -37, 36, -29, -49, 9, -5, 40, 5, -43, -41, -45, 17, 48, 10, -45, -40, 9, 12, -9, -5, -22, 12, 47, 35, -16, -38, 29, -7, -3, -32, -32, -47, -38, -32, 45, 45, 40, -9, 7, 38, 43, -31, 10, -25, -1, -22, 3, 16, 48, -7, 42, 39, 6, 40, -16, -37, -17, 19, 40, -44, 13, 32, -45, 47]\n",
            "after sorting\n",
            "[-49, -47, -45, -45, -45, -44, -43, -41, -40, -38, -38, -37, -37, -32, -32, -32, -31, -29, -25, -22, -22, -17, -16, -16, -9, -9, -7, -7, -5, -5, -3, -2, -1, 3, 5, 6, 7, 9, 9, 10, 10, 12, 12, 13, 16, 17, 19, 29, 32, 35, 36, 38, 39, 40, 40, 40, 40, 42, 43, 45, 45, 47, 47, 48, 48]\n",
            "\n",
            "\n",
            " before sorting\n",
            "[-14, -12, -3, -17, 22, 50, 31, -21, 13, -43, -16, 46, -12, 4, 30, 46, -50, -10, -22, -14, -49, 10, -41, 24, 39, -40, -31, -37, -10, -26, 45, 20, 29, -13, 29, -27, 42, 21, -2, 9, -45, 35, 39, -24, -39, -24, 38, 1, -17, -9, 45, 20, 16, 7, -6, -34, 45, -44, -9, 25, -19, 9, 32, -5, 28, -3, 4, 9, 46, 21]\n",
            "after sorting\n",
            "[-50, -49, -45, -44, -43, -41, -40, -39, -37, -34, -31, -27, -26, -24, -24, -22, -21, -19, -17, -17, -16, -14, -14, -13, -12, -12, -10, -10, -9, -9, -6, -5, -3, -3, -2, 1, 4, 4, 7, 9, 9, 9, 10, 13, 16, 20, 20, 21, 21, 22, 24, 25, 28, 29, 29, 30, 31, 32, 35, 38, 39, 39, 42, 45, 45, 45, 46, 46, 46, 50]\n",
            "\n",
            "\n",
            " before sorting\n",
            "[29, 32, -44, 18, -27, -25, 47, -38, 17, 16, 19, -17, 23, -49, -49, -33, -3, 26, 30, -46, -5, 17, -7, 3, 38, 17, 14, -38, 15, 30, 3, -13, 23, 44, -14, 7, 45, -49, 3, 10, 30, 37, -41, 19, -30, -2, 12, -50, 4, -22, -47, -18, 49, 14, 1, -34, -15, -39, 33, 36, 17, -7, 36, -9, -27, 29, -37, -45, 14, -29, -13, 39, -17, -10, 25]\n",
            "after sorting\n",
            "[-50, -49, -49, -49, -47, -46, -45, -44, -41, -39, -38, -38, -37, -34, -33, -30, -29, -27, -27, -25, -22, -18, -17, -17, -15, -14, -13, -13, -10, -9, -7, -7, -5, -3, -2, 1, 3, 3, 3, 4, 7, 10, 12, 14, 14, 14, 15, 16, 17, 17, 17, 17, 18, 19, 19, 23, 23, 25, 26, 29, 29, 30, 30, 30, 32, 33, 36, 36, 37, 38, 39, 44, 45, 47, 49]\n",
            "\n",
            "\n",
            " before sorting\n",
            "[-32, 19, -17, 26, 30, 43, 12, 42, 4, -17, -26, -14, 25, 28, 17, 3, 27, 17, -17, 8, 6, 32, -16, -22, -23, -5, -41, -19, -34, -30, -17, 29, 0, 7, -7, -16, 8, -32, 8, -19, -10, -7, 41, -46, 37, -47, -24, -9, -14, 39, -34, -43, 17, 27, -5, -40, 45, 30, -34, -27, 8, -5, -14, -45, 4, 37, -7, 17, -31, 17, 16, -42, -23, 44, 41, -42, -42, -40, 2, -7]\n",
            "after sorting\n",
            "[-47, -46, -45, -43, -42, -42, -42, -41, -40, -40, -34, -34, -34, -32, -32, -31, -30, -27, -26, -24, -23, -23, -22, -19, -19, -17, -17, -17, -17, -16, -16, -14, -14, -14, -10, -9, -7, -7, -7, -7, -5, -5, -5, 0, 2, 3, 4, 4, 6, 7, 8, 8, 8, 8, 12, 16, 17, 17, 17, 17, 17, 19, 25, 26, 27, 27, 28, 29, 30, 30, 32, 37, 37, 39, 41, 41, 42, 43, 44, 45]\n",
            "\n",
            "\n",
            " before sorting\n",
            "[-33, 9, 13, 47, -48, 44, 5, -38, -22, -2, 23, 50, 45, 38, -47, -8, -41, -35, 39, 5, 35, -21, 38, -15, 19, 23, -32, 36, 1, 4, 26, -32, -25, -30, -45, -1, 5, -33, 8, -25, -20, 8, 30, -30, -2, 35, -36, -5, 2, 12, 3, -39, 5, 30, 40, -27, 26, 23, -29, -10, -34, -23, 38, 13, 13, -29, 1, -26, 19, -42, 38, -33, 15, 13, 6, 38, -1, -45, 29, -10, -10, -6, 49, 7, 19]\n",
            "after sorting\n",
            "[-48, -47, -45, -45, -42, -41, -39, -38, -36, -35, -34, -33, -33, -33, -32, -32, -30, -30, -29, -29, -27, -26, -25, -25, -23, -22, -21, -20, -15, -10, -10, -10, -8, -6, -5, -2, -2, -1, -1, 1, 1, 2, 3, 4, 5, 5, 5, 5, 6, 7, 8, 8, 9, 12, 13, 13, 13, 13, 15, 19, 19, 19, 23, 23, 23, 26, 26, 29, 30, 30, 35, 35, 36, 38, 38, 38, 38, 38, 39, 40, 44, 45, 47, 49, 50]\n",
            "\n",
            "\n",
            " before sorting\n",
            "[-45, 28, 0, 34, 14, -50, 40, -23, -33, 47, -34, -11, -2, 9, -40, 1, -4, 2, 20, 3, 24, -14, 3, 2, -31, -31, -37, 15, 1, 49, 28, 48, -23, 22, -25, 41, -16, -39, -18, -50, 41, 7, -46, -11, -31, -46, -32, 33, 41, 1, -19, -35, -1, 18, 16, -6, 26, 48, 10, -35, -29, -35, -49, 21, 38, 36, -25, -41, 47, -11, -42, -8, 19, 34, -15, -4, 13, 34, -28, -20, 25, -4, -1, -28, 22, -27, 25, -6, -17, 22]\n",
            "after sorting\n",
            "[-50, -50, -49, -46, -46, -45, -42, -41, -40, -39, -37, -35, -35, -35, -34, -33, -32, -31, -31, -31, -29, -28, -28, -27, -25, -25, -23, -23, -20, -19, -18, -17, -16, -15, -14, -11, -11, -11, -8, -6, -6, -4, -4, -4, -2, -1, -1, 0, 1, 1, 1, 2, 2, 3, 3, 7, 9, 10, 13, 14, 15, 16, 18, 19, 20, 21, 22, 22, 22, 24, 25, 25, 26, 28, 28, 33, 34, 34, 34, 36, 38, 40, 41, 41, 41, 47, 47, 48, 48, 49]\n",
            "\n",
            "\n",
            " before sorting\n",
            "[41, 35, -50, 3, 26, -36, 37, -8, 44, -14, 34, -44, 24, -17, -37, 12, -44, 38, 39, -18, -30, 10, 44, -16, 10, 28, -7, 21, 34, 6, -10, -10, -40, -17, -3, 7, 1, -22, -16, 39, 32, 1, 24, -26, 42, 12, -47, -9, -14, -3, 43, 50, -11, 7, -33, 23, 46, -22, -16, -41, 11, -19, -13, -9, 44, -7, 14, -25, -14, -9, 27, -7, 47, -13, -43, -15, -46, 41, -48, -6, 3, 34, -35, -21, 44, 41, 6, -24, 23, 31, -47, 4, 9, -11, 0]\n",
            "after sorting\n",
            "[-50, -48, -47, -47, -46, -44, -44, -43, -41, -40, -37, -36, -35, -33, -30, -26, -25, -24, -22, -22, -21, -19, -18, -17, -17, -16, -16, -16, -15, -14, -14, -14, -13, -13, -11, -11, -10, -10, -9, -9, -9, -8, -7, -7, -7, -6, -3, -3, 0, 1, 1, 3, 3, 4, 6, 6, 7, 7, 9, 10, 10, 11, 12, 12, 14, 21, 23, 23, 24, 24, 26, 27, 28, 31, 32, 34, 34, 34, 35, 37, 38, 39, 39, 41, 41, 41, 42, 43, 44, 44, 44, 44, 46, 47, 50]\n"
          ]
        }
      ],
      "source": [
        "# Code for Task A (complete funcion \"choosePivot and call quicksort\")\n",
        "\n",
        "for r in range (10, 100,5):\n",
        "\n",
        "    n = r\n",
        "\n",
        "    myList=createRandomIntList(n)\n",
        "    l2 = sorted(myList)\n",
        "    print(\"\\n\\n before sorting\")\n",
        "    print(myList)\n",
        "    quickSort(myList,'first')\n",
        "    print(\"after sorting\")\n",
        "    print(myList)\n",
        "    if l2 != myList:\n",
        "        raise(Exception(\"ALgorithm not sorting properly!!!!!!!!!!!!!!!!!!!!!!!!!!!!!!!!\"))\n",
        "\n",
        "\n"
      ]
    },
    {
      "cell_type": "markdown",
      "id": "1046f02e",
      "metadata": {
        "id": "1046f02e"
      },
      "source": [
        "## TASK B:\n",
        "\n",
        "Which of pivot selection strategies makes quicksort faster? What happens if you start with a  list that is already sorted?\n",
        "\n",
        "Choose the fastest version of quicksort for task C. Write code to do an experiment, create tables/graphs to decide.\n",
        "\n",
        "## タスクB：\n",
        "\n",
        "タスクAどのPIVOTを選択することがquicksortを速くするのでしょうか。 すでにソートされているリストから始めるとどうなりますか？\n",
        "\n",
        "タスクCの最速バージョンのquicksortを選択してください。"
      ]
    },
    {
      "cell_type": "code",
      "execution_count": null,
      "id": "e14ae1ff",
      "metadata": {
        "id": "e14ae1ff"
      },
      "outputs": [],
      "source": [
        "# code for Task B"
      ]
    },
    {
      "cell_type": "markdown",
      "id": "a45908e3",
      "metadata": {
        "id": "a45908e3"
      },
      "source": [
        "## TASK C:\n",
        "\n",
        "Compare the performance of quickSort against mergeSort, selection sort and bubblesort. Make a graph comparing the times of these algorithms. The graph should have at least 50 data points. What algorithm is faster?\n",
        "\n",
        "## タスクC：\n",
        "\n",
        "quicksortとmergesortとselection sortとBubbleSortのパフォーマンスを比較する。 ３つのアルゴリズムの時間を比較するグラフを作成します。 グラフのデータポイントは少なくとも50　です。 どんなアルゴリズムが高速ですか？"
      ]
    },
    {
      "cell_type": "code",
      "execution_count": null,
      "id": "c29b7fcb",
      "metadata": {
        "id": "c29b7fcb"
      },
      "outputs": [],
      "source": [
        "# Code for task C"
      ]
    }
  ],
  "metadata": {
    "kernelspec": {
      "display_name": "Python 3 (ipykernel)",
      "language": "python",
      "name": "python3"
    },
    "language_info": {
      "codemirror_mode": {
        "name": "ipython",
        "version": 3
      },
      "file_extension": ".py",
      "mimetype": "text/x-python",
      "name": "python",
      "nbconvert_exporter": "python",
      "pygments_lexer": "ipython3",
      "version": "3.9.13"
    },
    "latex_envs": {
      "LaTeX_envs_menu_present": true,
      "autoclose": false,
      "autocomplete": true,
      "bibliofile": "biblio.bib",
      "cite_by": "apalike",
      "current_citInitial": 1,
      "eqLabelWithNumbers": true,
      "eqNumInitial": 1,
      "hotkeys": {
        "equation": "Ctrl-E",
        "itemize": "Ctrl-I"
      },
      "labels_anchors": false,
      "latex_user_defs": false,
      "report_style_numbering": false,
      "user_envs_cfg": false
    },
    "colab": {
      "provenance": [],
      "include_colab_link": true
    }
  },
  "nbformat": 4,
  "nbformat_minor": 5
}