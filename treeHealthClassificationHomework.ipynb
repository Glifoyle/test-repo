{
  "cells": [
    {
      "cell_type": "markdown",
      "metadata": {
        "id": "view-in-github",
        "colab_type": "text"
      },
      "source": [
        "<a href=\"https://colab.research.google.com/github/Glifoyle/test-repo/blob/master/treeHealthClassificationHomework.ipynb\" target=\"_parent\"><img src=\"https://colab.research.google.com/assets/colab-badge.svg\" alt=\"Open In Colab\"/></a>"
      ]
    },
    {
      "cell_type": "markdown",
      "id": "17C6hmsHHlfJ",
      "metadata": {
        "id": "17C6hmsHHlfJ"
      },
      "source": [
        "---\n",
        "# Example: Tree Health Classification\n",
        "---\n",
        "\n",
        "In this notebook we are going to revisit some of the techniques that we have seen in other notebooks to train a simple image classifier. The images that we are going to use belong to our Zao site, that of the \"[Snow Monsters\"](https://www.japan.travel/en/spot/661/). If you ever happen to be near Yamagata, I highly recommend that you visit.\n",
        "\n",
        "To build our tree health classifier (s) we are going to use code from different sources:\n",
        "\n",
        "1) We are going to use the same data that we used for our [exploratory analysis example](https://drive.google.com/file/d/12EFW8FYcLrIa3yp0SMKrse46Es1NmO8e/view?usp=sharing)  \n",
        "2) In order to pass our data to Pytorch, we are going to define a Dataset just like we did for the [classification of subalpine bushes](](https://colab.research.google.com/drive/1zkdVQMv7YCBExHMJ1qCdrCba7Z1jsEi8?usp=sharing))  \n",
        "4) Once we have done all that, we are also going to train Deep Learning networks, starting with what we did [here](https://colab.research.google.com/drive/17ARJbWw2h1X5rQNEkh7n7oXXA9Bvb2P9?usp=sharing)"
      ]
    },
    {
      "cell_type": "code",
      "source": [],
      "metadata": {
        "id": "gPZYpkHpJ5SZ"
      },
      "id": "gPZYpkHpJ5SZ",
      "execution_count": null,
      "outputs": []
    },
    {
      "cell_type": "markdown",
      "id": "242455ad",
      "metadata": {
        "id": "242455ad"
      },
      "source": [
        "# 1: Data Download\n",
        "\n",
        "Let's read the image mosaics and more csv files that tell us where every tree is in its image mosaic:"
      ]
    },
    {
      "cell_type": "code",
      "execution_count": null,
      "id": "Rhj0ngMCI6uV",
      "metadata": {
        "id": "Rhj0ngMCI6uV",
        "colab": {
          "base_uri": "https://localhost:8080/"
        },
        "outputId": "1eada928-799d-441c-ebfc-a9178a1c0ffe"
      },
      "outputs": [
        {
          "output_type": "stream",
          "name": "stdout",
          "text": [
            "--2024-07-08 01:14:36--  https://www.dropbox.com/s/zqz7o3pidhe7cmw/Zao1_190824.tif\n",
            "Resolving www.dropbox.com (www.dropbox.com)... 162.125.81.18, 2620:100:6031:18::a27d:5112\n",
            "Connecting to www.dropbox.com (www.dropbox.com)|162.125.81.18|:443... connected.\n",
            "HTTP request sent, awaiting response... 302 Found\n",
            "Location: https://www.dropbox.com/scl/fi/r6y2m4s0wd6kr7exd8ofj/Zao1_190824.tif?rlkey=czof9lhoi6ncaevvjof4adq5l [following]\n",
            "--2024-07-08 01:14:37--  https://www.dropbox.com/scl/fi/r6y2m4s0wd6kr7exd8ofj/Zao1_190824.tif?rlkey=czof9lhoi6ncaevvjof4adq5l\n",
            "Reusing existing connection to www.dropbox.com:443.\n",
            "HTTP request sent, awaiting response... 302 Found\n",
            "Location: https://ucb2a06e266a2b852e2f5526bdd0.dl.dropboxusercontent.com/cd/0/inline/CWR-0VlrgEPJHLXSXsv70E5NklVSZ-Tkq02D7HrOyel17aE5Z9ERPchbiuInDFOFGy5Mm7YwnWf8H5u6JluLtG7DYWypGhxGDGbRdVoHKAg0_mdTTiej1WHh5-bjEX5lKhEZ2BpVhipD9ofQ5XvsISaC/file# [following]\n",
            "--2024-07-08 01:14:37--  https://ucb2a06e266a2b852e2f5526bdd0.dl.dropboxusercontent.com/cd/0/inline/CWR-0VlrgEPJHLXSXsv70E5NklVSZ-Tkq02D7HrOyel17aE5Z9ERPchbiuInDFOFGy5Mm7YwnWf8H5u6JluLtG7DYWypGhxGDGbRdVoHKAg0_mdTTiej1WHh5-bjEX5lKhEZ2BpVhipD9ofQ5XvsISaC/file\n",
            "Resolving ucb2a06e266a2b852e2f5526bdd0.dl.dropboxusercontent.com (ucb2a06e266a2b852e2f5526bdd0.dl.dropboxusercontent.com)... 162.125.81.15, 2620:100:6031:15::a27d:510f\n",
            "Connecting to ucb2a06e266a2b852e2f5526bdd0.dl.dropboxusercontent.com (ucb2a06e266a2b852e2f5526bdd0.dl.dropboxusercontent.com)|162.125.81.15|:443... connected.\n",
            "HTTP request sent, awaiting response... 200 OK\n",
            "Length: 858612860 (819M) [image/tiff]\n",
            "Saving to: ‘Zao1_190824.tif’\n",
            "\n",
            "Zao1_190824.tif     100%[===================>] 818.84M  13.4MB/s    in 53s     \n",
            "\n",
            "2024-07-08 01:15:31 (15.4 MB/s) - ‘Zao1_190824.tif’ saved [858612860/858612860]\n",
            "\n",
            "--2024-07-08 01:15:31--  https://www.dropbox.com/s/y197ghnsojapwsj/Zao1_201005.tif\n",
            "Resolving www.dropbox.com (www.dropbox.com)... 162.125.81.18, 2620:100:6031:18::a27d:5112\n",
            "Connecting to www.dropbox.com (www.dropbox.com)|162.125.81.18|:443... connected.\n",
            "HTTP request sent, awaiting response... 302 Found\n",
            "Location: https://www.dropbox.com/scl/fi/7v85xgnj9hku5dsgbk2fu/Zao1_201005.tif?rlkey=8cjs7n3egnd5lccsykcnkj9b0 [following]\n",
            "--2024-07-08 01:15:31--  https://www.dropbox.com/scl/fi/7v85xgnj9hku5dsgbk2fu/Zao1_201005.tif?rlkey=8cjs7n3egnd5lccsykcnkj9b0\n",
            "Reusing existing connection to www.dropbox.com:443.\n",
            "HTTP request sent, awaiting response... 302 Found\n",
            "Location: https://uc19193a3a3a2bdc7f1320f20e9d.dl.dropboxusercontent.com/cd/0/inline/CWRp1w9ypjb5V2d0HzViey8zh8mWf0agbH6HlC_fBEXz0u6JBrB5x8pWQMJhG9u9RZqiaW8AE5MA8kjW3LI2PepoNkpU9sRtW9UbIpUmWIb1ncaWTJfpJAori2rD8TWZN88FFfWSM5Rkphg8lgKyqlmo/file# [following]\n",
            "--2024-07-08 01:15:32--  https://uc19193a3a3a2bdc7f1320f20e9d.dl.dropboxusercontent.com/cd/0/inline/CWRp1w9ypjb5V2d0HzViey8zh8mWf0agbH6HlC_fBEXz0u6JBrB5x8pWQMJhG9u9RZqiaW8AE5MA8kjW3LI2PepoNkpU9sRtW9UbIpUmWIb1ncaWTJfpJAori2rD8TWZN88FFfWSM5Rkphg8lgKyqlmo/file\n",
            "Resolving uc19193a3a3a2bdc7f1320f20e9d.dl.dropboxusercontent.com (uc19193a3a3a2bdc7f1320f20e9d.dl.dropboxusercontent.com)... 162.125.81.15, 2620:100:6031:15::a27d:510f\n",
            "Connecting to uc19193a3a3a2bdc7f1320f20e9d.dl.dropboxusercontent.com (uc19193a3a3a2bdc7f1320f20e9d.dl.dropboxusercontent.com)|162.125.81.15|:443... connected.\n",
            "HTTP request sent, awaiting response... 200 OK\n",
            "Length: 1089946144 (1.0G) [image/tiff]\n",
            "Saving to: ‘Zao1_201005.tif’\n",
            "\n",
            "Zao1_201005.tif     100%[===================>]   1.01G  13.3MB/s    in 70s     \n",
            "\n",
            "2024-07-08 01:16:42 (14.8 MB/s) - ‘Zao1_201005.tif’ saved [1089946144/1089946144]\n",
            "\n",
            "--2024-07-08 01:16:42--  https://www.dropbox.com/s/cvfvs7ryco9sfuv/Zao1_211005.tif\n",
            "Resolving www.dropbox.com (www.dropbox.com)... 162.125.81.18, 2620:100:6031:18::a27d:5112\n",
            "Connecting to www.dropbox.com (www.dropbox.com)|162.125.81.18|:443... connected.\n",
            "HTTP request sent, awaiting response... 302 Found\n",
            "Location: https://www.dropbox.com/scl/fi/ypgpbo7sim9hs58zjltlr/Zao1_211005.tif?rlkey=sggnanvnpv68aid94ey9vihhy [following]\n",
            "--2024-07-08 01:16:43--  https://www.dropbox.com/scl/fi/ypgpbo7sim9hs58zjltlr/Zao1_211005.tif?rlkey=sggnanvnpv68aid94ey9vihhy\n",
            "Reusing existing connection to www.dropbox.com:443.\n",
            "HTTP request sent, awaiting response... 302 Found\n",
            "Location: https://uc4711f1265f522ef72c4abf907f.dl.dropboxusercontent.com/cd/0/inline/CWTTYTbvgxrdcfTaI6aTMrYlDv_l4tWi24enxL3UcB4sneSKpvkfZVCiWLpYEwUO8Z08Wj3fFhvWfO1fzG0Mb-N410TehQQ-l2p9smhCAbigmkcENIlcTzX8xF1Db1srMQMwLUuhu_sRkajZygtZGvWF/file# [following]\n",
            "--2024-07-08 01:16:43--  https://uc4711f1265f522ef72c4abf907f.dl.dropboxusercontent.com/cd/0/inline/CWTTYTbvgxrdcfTaI6aTMrYlDv_l4tWi24enxL3UcB4sneSKpvkfZVCiWLpYEwUO8Z08Wj3fFhvWfO1fzG0Mb-N410TehQQ-l2p9smhCAbigmkcENIlcTzX8xF1Db1srMQMwLUuhu_sRkajZygtZGvWF/file\n",
            "Resolving uc4711f1265f522ef72c4abf907f.dl.dropboxusercontent.com (uc4711f1265f522ef72c4abf907f.dl.dropboxusercontent.com)... 162.125.81.15, 2620:100:6031:15::a27d:510f\n",
            "Connecting to uc4711f1265f522ef72c4abf907f.dl.dropboxusercontent.com (uc4711f1265f522ef72c4abf907f.dl.dropboxusercontent.com)|162.125.81.15|:443... connected.\n",
            "HTTP request sent, awaiting response... 200 OK\n",
            "Length: 2184304372 (2.0G) [image/tiff]\n",
            "Saving to: ‘Zao1_211005.tif’\n",
            "\n",
            "Zao1_211005.tif     100%[===================>]   2.03G  12.1MB/s    in 2m 27s  \n",
            "\n",
            "2024-07-08 01:19:11 (14.1 MB/s) - ‘Zao1_211005.tif’ saved [2184304372/2184304372]\n",
            "\n",
            "--2024-07-08 01:19:11--  https://www.dropbox.com/s/65chsirodm8nxko/Zao1_221013.tif\n",
            "Resolving www.dropbox.com (www.dropbox.com)... 162.125.81.18, 2620:100:6031:18::a27d:5112\n",
            "Connecting to www.dropbox.com (www.dropbox.com)|162.125.81.18|:443... connected.\n",
            "HTTP request sent, awaiting response... 302 Found\n",
            "Location: https://www.dropbox.com/scl/fi/yjeancduv13teh61nv6al/Zao1_221013.tif?rlkey=swr0v8i7mxo8959uzr6te7qkr [following]\n",
            "--2024-07-08 01:19:11--  https://www.dropbox.com/scl/fi/yjeancduv13teh61nv6al/Zao1_221013.tif?rlkey=swr0v8i7mxo8959uzr6te7qkr\n",
            "Reusing existing connection to www.dropbox.com:443.\n",
            "HTTP request sent, awaiting response... 302 Found\n",
            "Location: https://uc18107b4bf9db4604a753c5b3d7.dl.dropboxusercontent.com/cd/0/inline/CWQZJDVHEcKEmjhv9gSb8YTOAefMjeWk58mcvR_HZCPiwm2IJGoikA33F5YzQkUnRyTCLqCfUFk842llZIo-3O049UUSwBzODmjorUDKuuFe0qmuUXFe0ltKKaXqiE63i-PD9RURkVFXJeLC84ygdmJy/file# [following]\n",
            "--2024-07-08 01:19:12--  https://uc18107b4bf9db4604a753c5b3d7.dl.dropboxusercontent.com/cd/0/inline/CWQZJDVHEcKEmjhv9gSb8YTOAefMjeWk58mcvR_HZCPiwm2IJGoikA33F5YzQkUnRyTCLqCfUFk842llZIo-3O049UUSwBzODmjorUDKuuFe0qmuUXFe0ltKKaXqiE63i-PD9RURkVFXJeLC84ygdmJy/file\n",
            "Resolving uc18107b4bf9db4604a753c5b3d7.dl.dropboxusercontent.com (uc18107b4bf9db4604a753c5b3d7.dl.dropboxusercontent.com)... 162.125.67.15, 2620:100:6035:15::a27d:550f\n",
            "Connecting to uc18107b4bf9db4604a753c5b3d7.dl.dropboxusercontent.com (uc18107b4bf9db4604a753c5b3d7.dl.dropboxusercontent.com)|162.125.67.15|:443... connected.\n",
            "HTTP request sent, awaiting response... 200 OK\n",
            "Length: 380418098 (363M) [image/tiff]\n",
            "Saving to: ‘Zao1_221013.tif’\n",
            "\n",
            "Zao1_221013.tif     100%[===================>] 362.79M  9.85MB/s    in 39s     \n",
            "\n",
            "2024-07-08 01:19:53 (9.22 MB/s) - ‘Zao1_221013.tif’ saved [380418098/380418098]\n",
            "\n",
            "--2024-07-08 01:19:53--  https://www.dropbox.com/s/2s9dwf7mg8j2h46/Site12019.csv\n",
            "Resolving www.dropbox.com (www.dropbox.com)... 162.125.80.18, 2620:100:6031:18::a27d:5112\n",
            "Connecting to www.dropbox.com (www.dropbox.com)|162.125.80.18|:443... connected.\n",
            "HTTP request sent, awaiting response... 302 Found\n",
            "Location: https://www.dropbox.com/scl/fi/rp6k68puslcp8rs4c8w8l/Site12019.csv?rlkey=zptrn4omlr3svjfz0ijutmimp [following]\n",
            "--2024-07-08 01:19:53--  https://www.dropbox.com/scl/fi/rp6k68puslcp8rs4c8w8l/Site12019.csv?rlkey=zptrn4omlr3svjfz0ijutmimp\n",
            "Reusing existing connection to www.dropbox.com:443.\n",
            "HTTP request sent, awaiting response... 302 Found\n",
            "Location: https://uce06c86368ba872b5f11805bebe.dl.dropboxusercontent.com/cd/0/inline/CWSlKXe-dA98OT0eKQKlsoMmDHc2rExkehbPfyFfTdNj5Q4rRQozrckzrnuLIOuhqvp70KBkMJFMwNBEC17nGRb_DQ2wVd_uugxTLy2UicJnnmT-HG0ourMq7IPVAbBR0-4kF3z-4Q1Xq3aq0ud05q4n/file# [following]\n",
            "--2024-07-08 01:19:54--  https://uce06c86368ba872b5f11805bebe.dl.dropboxusercontent.com/cd/0/inline/CWSlKXe-dA98OT0eKQKlsoMmDHc2rExkehbPfyFfTdNj5Q4rRQozrckzrnuLIOuhqvp70KBkMJFMwNBEC17nGRb_DQ2wVd_uugxTLy2UicJnnmT-HG0ourMq7IPVAbBR0-4kF3z-4Q1Xq3aq0ud05q4n/file\n",
            "Resolving uce06c86368ba872b5f11805bebe.dl.dropboxusercontent.com (uce06c86368ba872b5f11805bebe.dl.dropboxusercontent.com)... 162.125.80.15, 2620:100:6031:15::a27d:510f\n",
            "Connecting to uce06c86368ba872b5f11805bebe.dl.dropboxusercontent.com (uce06c86368ba872b5f11805bebe.dl.dropboxusercontent.com)|162.125.80.15|:443... connected.\n",
            "HTTP request sent, awaiting response... 200 OK\n",
            "Length: 26353 (26K) [text/plain]\n",
            "Saving to: ‘Site12019.csv’\n",
            "\n",
            "Site12019.csv       100%[===================>]  25.74K  --.-KB/s    in 0.08s   \n",
            "\n",
            "2024-07-08 01:19:55 (324 KB/s) - ‘Site12019.csv’ saved [26353/26353]\n",
            "\n",
            "--2024-07-08 01:19:55--  https://www.dropbox.com/s/0keqze6uwrcafhr/Site12020.csv\n",
            "Resolving www.dropbox.com (www.dropbox.com)... 162.125.80.18, 2620:100:6031:18::a27d:5112\n",
            "Connecting to www.dropbox.com (www.dropbox.com)|162.125.80.18|:443... connected.\n",
            "HTTP request sent, awaiting response... 302 Found\n",
            "Location: https://www.dropbox.com/scl/fi/4x91s93pqxn3jo9j366cv/Site12020.csv?rlkey=jsukwi51nbrn4qme2g97j3a72 [following]\n",
            "--2024-07-08 01:19:55--  https://www.dropbox.com/scl/fi/4x91s93pqxn3jo9j366cv/Site12020.csv?rlkey=jsukwi51nbrn4qme2g97j3a72\n",
            "Reusing existing connection to www.dropbox.com:443.\n",
            "HTTP request sent, awaiting response... 302 Found\n",
            "Location: https://ucb69ea0cbe2c7dc00739e105066.dl.dropboxusercontent.com/cd/0/inline/CWRvFyyQ-IR9CLhMElCI0gCqozZQsXB3M3wh0_3clEjCwXAGMesg4EZ3yCNZ5YWyES7CVMSbEy8UrUX1GV_meKvM2YW4pFNzAnBmsMAV9fAn16eGiGVhkSAzcTHwXt8QmTUjyS0rGqbAbRGvCMGGVeDf/file# [following]\n",
            "--2024-07-08 01:19:56--  https://ucb69ea0cbe2c7dc00739e105066.dl.dropboxusercontent.com/cd/0/inline/CWRvFyyQ-IR9CLhMElCI0gCqozZQsXB3M3wh0_3clEjCwXAGMesg4EZ3yCNZ5YWyES7CVMSbEy8UrUX1GV_meKvM2YW4pFNzAnBmsMAV9fAn16eGiGVhkSAzcTHwXt8QmTUjyS0rGqbAbRGvCMGGVeDf/file\n",
            "Resolving ucb69ea0cbe2c7dc00739e105066.dl.dropboxusercontent.com (ucb69ea0cbe2c7dc00739e105066.dl.dropboxusercontent.com)... 162.125.81.15, 2620:100:6031:15::a27d:510f\n",
            "Connecting to ucb69ea0cbe2c7dc00739e105066.dl.dropboxusercontent.com (ucb69ea0cbe2c7dc00739e105066.dl.dropboxusercontent.com)|162.125.81.15|:443... connected.\n",
            "HTTP request sent, awaiting response... 200 OK\n",
            "Length: 25239 (25K) [text/plain]\n",
            "Saving to: ‘Site12020.csv’\n",
            "\n",
            "Site12020.csv       100%[===================>]  24.65K   122KB/s    in 0.2s    \n",
            "\n",
            "2024-07-08 01:19:57 (122 KB/s) - ‘Site12020.csv’ saved [25239/25239]\n",
            "\n",
            "--2024-07-08 01:19:57--  https://www.dropbox.com/s/0f7gabxqjbl0l68/Site12021.csv\n",
            "Resolving www.dropbox.com (www.dropbox.com)... 162.125.80.18, 2620:100:6031:18::a27d:5112\n",
            "Connecting to www.dropbox.com (www.dropbox.com)|162.125.80.18|:443... connected.\n",
            "HTTP request sent, awaiting response... 302 Found\n",
            "Location: https://www.dropbox.com/scl/fi/r4p4em49jt4h5qlyj0sw4/Site12021.csv?rlkey=qe68blrtpzg0ctfv1pxxoghp4 [following]\n",
            "--2024-07-08 01:19:58--  https://www.dropbox.com/scl/fi/r4p4em49jt4h5qlyj0sw4/Site12021.csv?rlkey=qe68blrtpzg0ctfv1pxxoghp4\n",
            "Reusing existing connection to www.dropbox.com:443.\n",
            "HTTP request sent, awaiting response... 302 Found\n",
            "Location: https://ucdb6374322aea7a7b81ca5bee3c.dl.dropboxusercontent.com/cd/0/inline/CWRq42rVJzEB07IT4by5dqzP1-uv58wMEGByW9jXgcMoLtN5D_A74CO1IaUxNazIgwScGUfMt29iIfngxLtT75rvFgJ1lx431HG4_CyYaM-spcfkBO_7RVhBtu2F79MOhfsk5n7TnLbe0QQN04L961T5/file# [following]\n",
            "--2024-07-08 01:19:58--  https://ucdb6374322aea7a7b81ca5bee3c.dl.dropboxusercontent.com/cd/0/inline/CWRq42rVJzEB07IT4by5dqzP1-uv58wMEGByW9jXgcMoLtN5D_A74CO1IaUxNazIgwScGUfMt29iIfngxLtT75rvFgJ1lx431HG4_CyYaM-spcfkBO_7RVhBtu2F79MOhfsk5n7TnLbe0QQN04L961T5/file\n",
            "Resolving ucdb6374322aea7a7b81ca5bee3c.dl.dropboxusercontent.com (ucdb6374322aea7a7b81ca5bee3c.dl.dropboxusercontent.com)... 162.125.81.15, 2620:100:6031:15::a27d:510f\n",
            "Connecting to ucdb6374322aea7a7b81ca5bee3c.dl.dropboxusercontent.com (ucdb6374322aea7a7b81ca5bee3c.dl.dropboxusercontent.com)|162.125.81.15|:443... connected.\n",
            "HTTP request sent, awaiting response... 200 OK\n",
            "Length: 26659 (26K) [text/plain]\n",
            "Saving to: ‘Site12021.csv’\n",
            "\n",
            "Site12021.csv       100%[===================>]  26.03K  --.-KB/s    in 0.001s  \n",
            "\n",
            "2024-07-08 01:19:58 (24.9 MB/s) - ‘Site12021.csv’ saved [26659/26659]\n",
            "\n",
            "--2024-07-08 01:19:59--  https://www.dropbox.com/s/4rvkdqxxhreoogo/Site12022.csv\n",
            "Resolving www.dropbox.com (www.dropbox.com)... 162.125.80.18, 2620:100:6031:18::a27d:5112\n",
            "Connecting to www.dropbox.com (www.dropbox.com)|162.125.80.18|:443... connected.\n",
            "HTTP request sent, awaiting response... 302 Found\n",
            "Location: https://www.dropbox.com/scl/fi/7cwg20j64elet4k8df068/Site12022.csv?rlkey=flgml4texveyecf1ag9v6wuvr [following]\n",
            "--2024-07-08 01:19:59--  https://www.dropbox.com/scl/fi/7cwg20j64elet4k8df068/Site12022.csv?rlkey=flgml4texveyecf1ag9v6wuvr\n",
            "Reusing existing connection to www.dropbox.com:443.\n",
            "HTTP request sent, awaiting response... 302 Found\n",
            "Location: https://uc5ce34625c90441dac7fa9c1464.dl.dropboxusercontent.com/cd/0/inline/CWSqWatYzdcp9ZWUNLIoxTe57mJJOv8XPd8Q0aeiFlZWTCsB0X2BrKkfNRoY8nQkynzr5vYREpVkq8lt7PBydkPXCFZbV3w7KCYHBJyrjBegiD2WD0saBP5tjjeoe1noOPqLge4m6LvnOLrN1YGbFtqn/file# [following]\n",
            "--2024-07-08 01:19:59--  https://uc5ce34625c90441dac7fa9c1464.dl.dropboxusercontent.com/cd/0/inline/CWSqWatYzdcp9ZWUNLIoxTe57mJJOv8XPd8Q0aeiFlZWTCsB0X2BrKkfNRoY8nQkynzr5vYREpVkq8lt7PBydkPXCFZbV3w7KCYHBJyrjBegiD2WD0saBP5tjjeoe1noOPqLge4m6LvnOLrN1YGbFtqn/file\n",
            "Resolving uc5ce34625c90441dac7fa9c1464.dl.dropboxusercontent.com (uc5ce34625c90441dac7fa9c1464.dl.dropboxusercontent.com)... 162.125.81.15, 2620:100:6031:15::a27d:510f\n",
            "Connecting to uc5ce34625c90441dac7fa9c1464.dl.dropboxusercontent.com (uc5ce34625c90441dac7fa9c1464.dl.dropboxusercontent.com)|162.125.81.15|:443... connected.\n",
            "HTTP request sent, awaiting response... 200 OK\n",
            "Length: 26428 (26K) [text/plain]\n",
            "Saving to: ‘Site12022.csv’\n",
            "\n",
            "Site12022.csv       100%[===================>]  25.81K  --.-KB/s    in 0.001s  \n",
            "\n",
            "2024-07-08 01:20:00 (28.8 MB/s) - ‘Site12022.csv’ saved [26428/26428]\n",
            "\n"
          ]
        }
      ],
      "source": [
        "# Download data\n",
        "\n",
        "\n",
        "import os\n",
        "# Read mosaics\n",
        "if not os.path.exists('Zao1_190824.tif'):\n",
        "    !wget https://www.dropbox.com/s/zqz7o3pidhe7cmw/Zao1_190824.tif\n",
        "\n",
        "if not os.path.exists('Zao1_201005.tif'):\n",
        "    !wget https://www.dropbox.com/s/y197ghnsojapwsj/Zao1_201005.tif\n",
        "\n",
        "if not os.path.exists('Zao1_211005.tif'):\n",
        "  #https://www.dropbox.com/s/cvfvs7ryco9sfuv/Zao_S1_211005Nv2.tif\n",
        "    !wget https://www.dropbox.com/s/cvfvs7ryco9sfuv/Zao1_211005.tif\n",
        "\n",
        "if not os.path.exists('Zao1_221013.tif'):\n",
        "    !wget https://www.dropbox.com/s/65chsirodm8nxko/Zao1_221013.tif\n",
        "\n",
        "\n",
        "# Read coordinate files\n",
        "if not os.path.exists('Site12019.csv'):\n",
        "  !wget https://www.dropbox.com/s/2s9dwf7mg8j2h46/Site12019.csv\n",
        "\n",
        "if not os.path.exists('Site12020.csv'):\n",
        "  !wget https://www.dropbox.com/s/0keqze6uwrcafhr/Site12020.csv\n",
        "\n",
        "if not os.path.exists('Site12021.csv'):\n",
        "  !wget https://www.dropbox.com/s/0f7gabxqjbl0l68/Site12021.csv\n",
        "\n",
        "if not os.path.exists('Site12022.csv'):\n",
        "  !wget https://www.dropbox.com/s/4rvkdqxxhreoogo/Site12022.csv"
      ]
    },
    {
      "cell_type": "markdown",
      "id": "URY9HkmhUxiY",
      "metadata": {
        "id": "URY9HkmhUxiY"
      },
      "source": [
        "# 2: Create Patches\n",
        "\n",
        "We are going to read some image mosaics and create a patch around each tree:"
      ]
    },
    {
      "cell_type": "code",
      "execution_count": null,
      "id": "b02e714f",
      "metadata": {
        "id": "b02e714f"
      },
      "outputs": [],
      "source": [
        "import os\n",
        "\n",
        "# important imports\n",
        "import cv2\n",
        "import numpy as np\n",
        "from matplotlib import pyplot as plt\n",
        "import pandas as pd\n",
        "\n",
        "\n",
        "# This will allow the images that we create to be displayed nicely within the notebook\n",
        "%matplotlib inline"
      ]
    },
    {
      "cell_type": "markdown",
      "id": "05be41e4",
      "metadata": {
        "id": "05be41e4"
      },
      "source": [
        "## 2.1 Read Image Mosaics"
      ]
    },
    {
      "cell_type": "markdown",
      "id": "Bl29eV82VOyu",
      "metadata": {
        "id": "Bl29eV82VOyu"
      },
      "source": [
        "The following function uses what we saw in the [image basics](https://colab.research.google.com/drive/1V9CjpBHjabFQCg793fiKkF0SDFGUtRtK?usp=sharing) lesson to read our mosaics."
      ]
    },
    {
      "cell_type": "code",
      "execution_count": null,
      "id": "722c7e1c",
      "metadata": {
        "id": "722c7e1c"
      },
      "outputs": [],
      "source": [
        "def readMosaic(fileName):\n",
        "    \"\"\"\n",
        "        Function to read RGB images and transform them\n",
        "        from RBG (opencv) to RGB (matplotlib)\n",
        "    \"\"\"\n",
        "    retVal = cv2.imread(fileName,cv2.IMREAD_COLOR)\n",
        "    #return retVal[:,:,::-1]\n",
        "    return retVal # in this case, we will want to store the images so we save them as they are"
      ]
    },
    {
      "cell_type": "code",
      "execution_count": null,
      "id": "08aa5cf1",
      "metadata": {
        "id": "08aa5cf1"
      },
      "outputs": [],
      "source": [
        "mosaic19 = readMosaic(\"Zao1_190824.tif\")"
      ]
    },
    {
      "cell_type": "code",
      "execution_count": null,
      "id": "fceb12ca",
      "metadata": {
        "id": "fceb12ca"
      },
      "outputs": [],
      "source": [
        "mosaic20 = readMosaic(\"Zao1_201005.tif\")"
      ]
    },
    {
      "cell_type": "code",
      "execution_count": null,
      "id": "c46c5f99",
      "metadata": {
        "id": "c46c5f99"
      },
      "outputs": [],
      "source": [
        "mosaic21 = readMosaic(\"Zao1_211005.tif\")"
      ]
    },
    {
      "cell_type": "code",
      "execution_count": null,
      "id": "3c633e02",
      "metadata": {
        "id": "3c633e02"
      },
      "outputs": [],
      "source": [
        "mosaic22 = readMosaic(\"Zao1_221013.tif\")"
      ]
    },
    {
      "cell_type": "markdown",
      "id": "iB9Oi8csVXH4",
      "metadata": {
        "id": "iB9Oi8csVXH4"
      },
      "source": [
        "These mosaics are pretty big and if we try to visualize them in our free google colab machine we will run out of memory. If you want to play with the code you can download it to your own machine or use downsampled versions of these images with the following functions."
      ]
    },
    {
      "cell_type": "markdown",
      "id": "61198098",
      "metadata": {
        "id": "61198098"
      },
      "source": [
        "# 2.2 Reading Tree location data and health status\n",
        "\n",
        "We now have for more csv files, let's read them with pandas."
      ]
    },
    {
      "cell_type": "code",
      "execution_count": null,
      "id": "79780cdc",
      "metadata": {
        "id": "79780cdc"
      },
      "outputs": [],
      "source": [
        "# Read Health information files\n",
        "data19 = pd.read_csv(\"Site12019.csv\", sep=\",\")\n",
        "data20 = pd.read_csv(\"Site12020.csv\", sep=\",\")\n",
        "data21 = pd.read_csv(\"Site12021.csv\", sep=\",\")\n",
        "data22 = pd.read_csv(\"Site12022.csv\", sep=\",\")"
      ]
    },
    {
      "cell_type": "markdown",
      "id": "eHUOZsXTWTCv",
      "metadata": {
        "id": "eHUOZsXTWTCv"
      },
      "source": [
        "We have read each file into a data frame, let's see one of them:"
      ]
    },
    {
      "cell_type": "code",
      "execution_count": null,
      "id": "nWWB7dqtWbiy",
      "metadata": {
        "colab": {
          "base_uri": "https://localhost:8080/",
          "height": 424
        },
        "id": "nWWB7dqtWbiy",
        "outputId": "0835af2a-09be-43e5-e5be-a971b55bfaaa"
      },
      "outputs": [
        {
          "output_type": "execute_result",
          "data": {
            "text/plain": [
              "     Field         geox          geoy     px    py category\n",
              "0        1  448409.6740  4.222805e+06   2317  7310  Healthy\n",
              "1        2  448420.7196  4.222800e+06   2818  7513  Healthy\n",
              "2        3  448425.3998  4.222803e+06   3030  7379  Healthy\n",
              "3        4  448421.1876  4.222807e+06   2839  7207  Healthy\n",
              "4        5  448423.2524  4.222809e+06   2933  7126  Healthy\n",
              "..     ...          ...           ...    ...   ...      ...\n",
              "467    468  448737.4991  4.222811e+06  17177  7020     Dead\n",
              "468    469  448742.5879  4.222848e+06  17408  5345  Healthy\n",
              "469    470  448743.1797  4.222850e+06  17435  5269  Healthy\n",
              "470    471  448782.3421  4.222833e+06  19210  6055  Healthy\n",
              "471    472  448747.2610  4.222873e+06  17620  4231     Dead\n",
              "\n",
              "[472 rows x 6 columns]"
            ],
            "text/html": [
              "\n",
              "  <div id=\"df-880bcfe5-ad1c-4355-ad13-077d20621e93\" class=\"colab-df-container\">\n",
              "    <div>\n",
              "<style scoped>\n",
              "    .dataframe tbody tr th:only-of-type {\n",
              "        vertical-align: middle;\n",
              "    }\n",
              "\n",
              "    .dataframe tbody tr th {\n",
              "        vertical-align: top;\n",
              "    }\n",
              "\n",
              "    .dataframe thead th {\n",
              "        text-align: right;\n",
              "    }\n",
              "</style>\n",
              "<table border=\"1\" class=\"dataframe\">\n",
              "  <thead>\n",
              "    <tr style=\"text-align: right;\">\n",
              "      <th></th>\n",
              "      <th>Field</th>\n",
              "      <th>geox</th>\n",
              "      <th>geoy</th>\n",
              "      <th>px</th>\n",
              "      <th>py</th>\n",
              "      <th>category</th>\n",
              "    </tr>\n",
              "  </thead>\n",
              "  <tbody>\n",
              "    <tr>\n",
              "      <th>0</th>\n",
              "      <td>1</td>\n",
              "      <td>448409.6740</td>\n",
              "      <td>4.222805e+06</td>\n",
              "      <td>2317</td>\n",
              "      <td>7310</td>\n",
              "      <td>Healthy</td>\n",
              "    </tr>\n",
              "    <tr>\n",
              "      <th>1</th>\n",
              "      <td>2</td>\n",
              "      <td>448420.7196</td>\n",
              "      <td>4.222800e+06</td>\n",
              "      <td>2818</td>\n",
              "      <td>7513</td>\n",
              "      <td>Healthy</td>\n",
              "    </tr>\n",
              "    <tr>\n",
              "      <th>2</th>\n",
              "      <td>3</td>\n",
              "      <td>448425.3998</td>\n",
              "      <td>4.222803e+06</td>\n",
              "      <td>3030</td>\n",
              "      <td>7379</td>\n",
              "      <td>Healthy</td>\n",
              "    </tr>\n",
              "    <tr>\n",
              "      <th>3</th>\n",
              "      <td>4</td>\n",
              "      <td>448421.1876</td>\n",
              "      <td>4.222807e+06</td>\n",
              "      <td>2839</td>\n",
              "      <td>7207</td>\n",
              "      <td>Healthy</td>\n",
              "    </tr>\n",
              "    <tr>\n",
              "      <th>4</th>\n",
              "      <td>5</td>\n",
              "      <td>448423.2524</td>\n",
              "      <td>4.222809e+06</td>\n",
              "      <td>2933</td>\n",
              "      <td>7126</td>\n",
              "      <td>Healthy</td>\n",
              "    </tr>\n",
              "    <tr>\n",
              "      <th>...</th>\n",
              "      <td>...</td>\n",
              "      <td>...</td>\n",
              "      <td>...</td>\n",
              "      <td>...</td>\n",
              "      <td>...</td>\n",
              "      <td>...</td>\n",
              "    </tr>\n",
              "    <tr>\n",
              "      <th>467</th>\n",
              "      <td>468</td>\n",
              "      <td>448737.4991</td>\n",
              "      <td>4.222811e+06</td>\n",
              "      <td>17177</td>\n",
              "      <td>7020</td>\n",
              "      <td>Dead</td>\n",
              "    </tr>\n",
              "    <tr>\n",
              "      <th>468</th>\n",
              "      <td>469</td>\n",
              "      <td>448742.5879</td>\n",
              "      <td>4.222848e+06</td>\n",
              "      <td>17408</td>\n",
              "      <td>5345</td>\n",
              "      <td>Healthy</td>\n",
              "    </tr>\n",
              "    <tr>\n",
              "      <th>469</th>\n",
              "      <td>470</td>\n",
              "      <td>448743.1797</td>\n",
              "      <td>4.222850e+06</td>\n",
              "      <td>17435</td>\n",
              "      <td>5269</td>\n",
              "      <td>Healthy</td>\n",
              "    </tr>\n",
              "    <tr>\n",
              "      <th>470</th>\n",
              "      <td>471</td>\n",
              "      <td>448782.3421</td>\n",
              "      <td>4.222833e+06</td>\n",
              "      <td>19210</td>\n",
              "      <td>6055</td>\n",
              "      <td>Healthy</td>\n",
              "    </tr>\n",
              "    <tr>\n",
              "      <th>471</th>\n",
              "      <td>472</td>\n",
              "      <td>448747.2610</td>\n",
              "      <td>4.222873e+06</td>\n",
              "      <td>17620</td>\n",
              "      <td>4231</td>\n",
              "      <td>Dead</td>\n",
              "    </tr>\n",
              "  </tbody>\n",
              "</table>\n",
              "<p>472 rows × 6 columns</p>\n",
              "</div>\n",
              "    <div class=\"colab-df-buttons\">\n",
              "\n",
              "  <div class=\"colab-df-container\">\n",
              "    <button class=\"colab-df-convert\" onclick=\"convertToInteractive('df-880bcfe5-ad1c-4355-ad13-077d20621e93')\"\n",
              "            title=\"Convert this dataframe to an interactive table.\"\n",
              "            style=\"display:none;\">\n",
              "\n",
              "  <svg xmlns=\"http://www.w3.org/2000/svg\" height=\"24px\" viewBox=\"0 -960 960 960\">\n",
              "    <path d=\"M120-120v-720h720v720H120Zm60-500h600v-160H180v160Zm220 220h160v-160H400v160Zm0 220h160v-160H400v160ZM180-400h160v-160H180v160Zm440 0h160v-160H620v160ZM180-180h160v-160H180v160Zm440 0h160v-160H620v160Z\"/>\n",
              "  </svg>\n",
              "    </button>\n",
              "\n",
              "  <style>\n",
              "    .colab-df-container {\n",
              "      display:flex;\n",
              "      gap: 12px;\n",
              "    }\n",
              "\n",
              "    .colab-df-convert {\n",
              "      background-color: #E8F0FE;\n",
              "      border: none;\n",
              "      border-radius: 50%;\n",
              "      cursor: pointer;\n",
              "      display: none;\n",
              "      fill: #1967D2;\n",
              "      height: 32px;\n",
              "      padding: 0 0 0 0;\n",
              "      width: 32px;\n",
              "    }\n",
              "\n",
              "    .colab-df-convert:hover {\n",
              "      background-color: #E2EBFA;\n",
              "      box-shadow: 0px 1px 2px rgba(60, 64, 67, 0.3), 0px 1px 3px 1px rgba(60, 64, 67, 0.15);\n",
              "      fill: #174EA6;\n",
              "    }\n",
              "\n",
              "    .colab-df-buttons div {\n",
              "      margin-bottom: 4px;\n",
              "    }\n",
              "\n",
              "    [theme=dark] .colab-df-convert {\n",
              "      background-color: #3B4455;\n",
              "      fill: #D2E3FC;\n",
              "    }\n",
              "\n",
              "    [theme=dark] .colab-df-convert:hover {\n",
              "      background-color: #434B5C;\n",
              "      box-shadow: 0px 1px 3px 1px rgba(0, 0, 0, 0.15);\n",
              "      filter: drop-shadow(0px 1px 2px rgba(0, 0, 0, 0.3));\n",
              "      fill: #FFFFFF;\n",
              "    }\n",
              "  </style>\n",
              "\n",
              "    <script>\n",
              "      const buttonEl =\n",
              "        document.querySelector('#df-880bcfe5-ad1c-4355-ad13-077d20621e93 button.colab-df-convert');\n",
              "      buttonEl.style.display =\n",
              "        google.colab.kernel.accessAllowed ? 'block' : 'none';\n",
              "\n",
              "      async function convertToInteractive(key) {\n",
              "        const element = document.querySelector('#df-880bcfe5-ad1c-4355-ad13-077d20621e93');\n",
              "        const dataTable =\n",
              "          await google.colab.kernel.invokeFunction('convertToInteractive',\n",
              "                                                    [key], {});\n",
              "        if (!dataTable) return;\n",
              "\n",
              "        const docLinkHtml = 'Like what you see? Visit the ' +\n",
              "          '<a target=\"_blank\" href=https://colab.research.google.com/notebooks/data_table.ipynb>data table notebook</a>'\n",
              "          + ' to learn more about interactive tables.';\n",
              "        element.innerHTML = '';\n",
              "        dataTable['output_type'] = 'display_data';\n",
              "        await google.colab.output.renderOutput(dataTable, element);\n",
              "        const docLink = document.createElement('div');\n",
              "        docLink.innerHTML = docLinkHtml;\n",
              "        element.appendChild(docLink);\n",
              "      }\n",
              "    </script>\n",
              "  </div>\n",
              "\n",
              "\n",
              "<div id=\"df-460bc1a8-0af2-47fe-957a-7c7563c1caad\">\n",
              "  <button class=\"colab-df-quickchart\" onclick=\"quickchart('df-460bc1a8-0af2-47fe-957a-7c7563c1caad')\"\n",
              "            title=\"Suggest charts\"\n",
              "            style=\"display:none;\">\n",
              "\n",
              "<svg xmlns=\"http://www.w3.org/2000/svg\" height=\"24px\"viewBox=\"0 0 24 24\"\n",
              "     width=\"24px\">\n",
              "    <g>\n",
              "        <path d=\"M19 3H5c-1.1 0-2 .9-2 2v14c0 1.1.9 2 2 2h14c1.1 0 2-.9 2-2V5c0-1.1-.9-2-2-2zM9 17H7v-7h2v7zm4 0h-2V7h2v10zm4 0h-2v-4h2v4z\"/>\n",
              "    </g>\n",
              "</svg>\n",
              "  </button>\n",
              "\n",
              "<style>\n",
              "  .colab-df-quickchart {\n",
              "      --bg-color: #E8F0FE;\n",
              "      --fill-color: #1967D2;\n",
              "      --hover-bg-color: #E2EBFA;\n",
              "      --hover-fill-color: #174EA6;\n",
              "      --disabled-fill-color: #AAA;\n",
              "      --disabled-bg-color: #DDD;\n",
              "  }\n",
              "\n",
              "  [theme=dark] .colab-df-quickchart {\n",
              "      --bg-color: #3B4455;\n",
              "      --fill-color: #D2E3FC;\n",
              "      --hover-bg-color: #434B5C;\n",
              "      --hover-fill-color: #FFFFFF;\n",
              "      --disabled-bg-color: #3B4455;\n",
              "      --disabled-fill-color: #666;\n",
              "  }\n",
              "\n",
              "  .colab-df-quickchart {\n",
              "    background-color: var(--bg-color);\n",
              "    border: none;\n",
              "    border-radius: 50%;\n",
              "    cursor: pointer;\n",
              "    display: none;\n",
              "    fill: var(--fill-color);\n",
              "    height: 32px;\n",
              "    padding: 0;\n",
              "    width: 32px;\n",
              "  }\n",
              "\n",
              "  .colab-df-quickchart:hover {\n",
              "    background-color: var(--hover-bg-color);\n",
              "    box-shadow: 0 1px 2px rgba(60, 64, 67, 0.3), 0 1px 3px 1px rgba(60, 64, 67, 0.15);\n",
              "    fill: var(--button-hover-fill-color);\n",
              "  }\n",
              "\n",
              "  .colab-df-quickchart-complete:disabled,\n",
              "  .colab-df-quickchart-complete:disabled:hover {\n",
              "    background-color: var(--disabled-bg-color);\n",
              "    fill: var(--disabled-fill-color);\n",
              "    box-shadow: none;\n",
              "  }\n",
              "\n",
              "  .colab-df-spinner {\n",
              "    border: 2px solid var(--fill-color);\n",
              "    border-color: transparent;\n",
              "    border-bottom-color: var(--fill-color);\n",
              "    animation:\n",
              "      spin 1s steps(1) infinite;\n",
              "  }\n",
              "\n",
              "  @keyframes spin {\n",
              "    0% {\n",
              "      border-color: transparent;\n",
              "      border-bottom-color: var(--fill-color);\n",
              "      border-left-color: var(--fill-color);\n",
              "    }\n",
              "    20% {\n",
              "      border-color: transparent;\n",
              "      border-left-color: var(--fill-color);\n",
              "      border-top-color: var(--fill-color);\n",
              "    }\n",
              "    30% {\n",
              "      border-color: transparent;\n",
              "      border-left-color: var(--fill-color);\n",
              "      border-top-color: var(--fill-color);\n",
              "      border-right-color: var(--fill-color);\n",
              "    }\n",
              "    40% {\n",
              "      border-color: transparent;\n",
              "      border-right-color: var(--fill-color);\n",
              "      border-top-color: var(--fill-color);\n",
              "    }\n",
              "    60% {\n",
              "      border-color: transparent;\n",
              "      border-right-color: var(--fill-color);\n",
              "    }\n",
              "    80% {\n",
              "      border-color: transparent;\n",
              "      border-right-color: var(--fill-color);\n",
              "      border-bottom-color: var(--fill-color);\n",
              "    }\n",
              "    90% {\n",
              "      border-color: transparent;\n",
              "      border-bottom-color: var(--fill-color);\n",
              "    }\n",
              "  }\n",
              "</style>\n",
              "\n",
              "  <script>\n",
              "    async function quickchart(key) {\n",
              "      const quickchartButtonEl =\n",
              "        document.querySelector('#' + key + ' button');\n",
              "      quickchartButtonEl.disabled = true;  // To prevent multiple clicks.\n",
              "      quickchartButtonEl.classList.add('colab-df-spinner');\n",
              "      try {\n",
              "        const charts = await google.colab.kernel.invokeFunction(\n",
              "            'suggestCharts', [key], {});\n",
              "      } catch (error) {\n",
              "        console.error('Error during call to suggestCharts:', error);\n",
              "      }\n",
              "      quickchartButtonEl.classList.remove('colab-df-spinner');\n",
              "      quickchartButtonEl.classList.add('colab-df-quickchart-complete');\n",
              "    }\n",
              "    (() => {\n",
              "      let quickchartButtonEl =\n",
              "        document.querySelector('#df-460bc1a8-0af2-47fe-957a-7c7563c1caad button');\n",
              "      quickchartButtonEl.style.display =\n",
              "        google.colab.kernel.accessAllowed ? 'block' : 'none';\n",
              "    })();\n",
              "  </script>\n",
              "</div>\n",
              "\n",
              "  <div id=\"id_a1b60be7-3600-453e-ae55-c90713854c3a\">\n",
              "    <style>\n",
              "      .colab-df-generate {\n",
              "        background-color: #E8F0FE;\n",
              "        border: none;\n",
              "        border-radius: 50%;\n",
              "        cursor: pointer;\n",
              "        display: none;\n",
              "        fill: #1967D2;\n",
              "        height: 32px;\n",
              "        padding: 0 0 0 0;\n",
              "        width: 32px;\n",
              "      }\n",
              "\n",
              "      .colab-df-generate:hover {\n",
              "        background-color: #E2EBFA;\n",
              "        box-shadow: 0px 1px 2px rgba(60, 64, 67, 0.3), 0px 1px 3px 1px rgba(60, 64, 67, 0.15);\n",
              "        fill: #174EA6;\n",
              "      }\n",
              "\n",
              "      [theme=dark] .colab-df-generate {\n",
              "        background-color: #3B4455;\n",
              "        fill: #D2E3FC;\n",
              "      }\n",
              "\n",
              "      [theme=dark] .colab-df-generate:hover {\n",
              "        background-color: #434B5C;\n",
              "        box-shadow: 0px 1px 3px 1px rgba(0, 0, 0, 0.15);\n",
              "        filter: drop-shadow(0px 1px 2px rgba(0, 0, 0, 0.3));\n",
              "        fill: #FFFFFF;\n",
              "      }\n",
              "    </style>\n",
              "    <button class=\"colab-df-generate\" onclick=\"generateWithVariable('data19')\"\n",
              "            title=\"Generate code using this dataframe.\"\n",
              "            style=\"display:none;\">\n",
              "\n",
              "  <svg xmlns=\"http://www.w3.org/2000/svg\" height=\"24px\"viewBox=\"0 0 24 24\"\n",
              "       width=\"24px\">\n",
              "    <path d=\"M7,19H8.4L18.45,9,17,7.55,7,17.6ZM5,21V16.75L18.45,3.32a2,2,0,0,1,2.83,0l1.4,1.43a1.91,1.91,0,0,1,.58,1.4,1.91,1.91,0,0,1-.58,1.4L9.25,21ZM18.45,9,17,7.55Zm-12,3A5.31,5.31,0,0,0,4.9,8.1,5.31,5.31,0,0,0,1,6.5,5.31,5.31,0,0,0,4.9,4.9,5.31,5.31,0,0,0,6.5,1,5.31,5.31,0,0,0,8.1,4.9,5.31,5.31,0,0,0,12,6.5,5.46,5.46,0,0,0,6.5,12Z\"/>\n",
              "  </svg>\n",
              "    </button>\n",
              "    <script>\n",
              "      (() => {\n",
              "      const buttonEl =\n",
              "        document.querySelector('#id_a1b60be7-3600-453e-ae55-c90713854c3a button.colab-df-generate');\n",
              "      buttonEl.style.display =\n",
              "        google.colab.kernel.accessAllowed ? 'block' : 'none';\n",
              "\n",
              "      buttonEl.onclick = () => {\n",
              "        google.colab.notebook.generateWithVariable('data19');\n",
              "      }\n",
              "      })();\n",
              "    </script>\n",
              "  </div>\n",
              "\n",
              "    </div>\n",
              "  </div>\n"
            ],
            "application/vnd.google.colaboratory.intrinsic+json": {
              "type": "dataframe",
              "variable_name": "data19",
              "summary": "{\n  \"name\": \"data19\",\n  \"rows\": 472,\n  \"fields\": [\n    {\n      \"column\": \"Field\",\n      \"properties\": {\n        \"dtype\": \"number\",\n        \"std\": 136,\n        \"min\": 1,\n        \"max\": 472,\n        \"num_unique_values\": 472,\n        \"samples\": [\n          56,\n          74,\n          34\n        ],\n        \"semantic_type\": \"\",\n        \"description\": \"\"\n      }\n    },\n    {\n      \"column\": \"geox\",\n      \"properties\": {\n        \"dtype\": \"number\",\n        \"std\": 90.8540733532538,\n        \"min\": 448409.6739999997,\n        \"max\": 448797.8827999998,\n        \"num_unique_values\": 471,\n        \"samples\": [\n          448523.4441999998,\n          448561.9093000004,\n          448503.5553000001\n        ],\n        \"semantic_type\": \"\",\n        \"description\": \"\"\n      }\n    },\n    {\n      \"column\": \"geoy\",\n      \"properties\": {\n        \"dtype\": \"number\",\n        \"std\": 35.34354429822508,\n        \"min\": 4222694.5978,\n        \"max\": 4222889.364499999,\n        \"num_unique_values\": 472,\n        \"samples\": [\n          4222789.4913,\n          4222794.632200001,\n          4222821.5931\n        ],\n        \"semantic_type\": \"\",\n        \"description\": \"\"\n      }\n    },\n    {\n      \"column\": \"px\",\n      \"properties\": {\n        \"dtype\": \"number\",\n        \"std\": 4118,\n        \"min\": 2317,\n        \"max\": 19914,\n        \"num_unique_values\": 459,\n        \"samples\": [\n          10929,\n          6190,\n          14089\n        ],\n        \"semantic_type\": \"\",\n        \"description\": \"\"\n      }\n    },\n    {\n      \"column\": \"py\",\n      \"properties\": {\n        \"dtype\": \"number\",\n        \"std\": 1602,\n        \"min\": 3484,\n        \"max\": 12313,\n        \"num_unique_values\": 447,\n        \"samples\": [\n          7179,\n          8685,\n          7870\n        ],\n        \"semantic_type\": \"\",\n        \"description\": \"\"\n      }\n    },\n    {\n      \"column\": \"category\",\n      \"properties\": {\n        \"dtype\": \"category\",\n        \"num_unique_values\": 3,\n        \"samples\": [\n          \"Healthy\",\n          \"Damaged\",\n          \"Dead\"\n        ],\n        \"semantic_type\": \"\",\n        \"description\": \"\"\n      }\n    }\n  ]\n}"
            }
          },
          "metadata": {},
          "execution_count": 9
        }
      ],
      "source": [
        "data19"
      ]
    },
    {
      "cell_type": "markdown",
      "id": "JSw00DG1Wfgk",
      "metadata": {
        "id": "JSw00DG1Wfgk"
      },
      "source": [
        "The \"Field\" column contains an id for every tree and then we have the gps and pixel coordinate of every tree top along with its health category in the year.\n",
        "\n",
        "Having the data in pandas also allows us to transform it easily. Let's make first a list of tuples and then a dictionary for each year so we can locate the position of trees by id in a convenient way:"
      ]
    },
    {
      "cell_type": "code",
      "execution_count": null,
      "id": "a53af889",
      "metadata": {
        "id": "a53af889"
      },
      "outputs": [],
      "source": [
        "# Transform our data to tuple form\n",
        "tuples19 = list(data19[[\"Field\",\"px\",\"py\",\"category\"]].to_records(index=False))"
      ]
    },
    {
      "cell_type": "code",
      "execution_count": null,
      "id": "ef150be1",
      "metadata": {
        "id": "ef150be1"
      },
      "outputs": [],
      "source": [
        "tuples20 = list(data20[[\"Field\",\"px\",\"py\",\"category\"]].to_records(index=False))"
      ]
    },
    {
      "cell_type": "code",
      "execution_count": null,
      "id": "2e49349a",
      "metadata": {
        "id": "2e49349a"
      },
      "outputs": [],
      "source": [
        "tuples21 = list(data21[[\"Field\",\"px\",\"py\",\"category\"]].to_records(index=False))"
      ]
    },
    {
      "cell_type": "code",
      "execution_count": null,
      "id": "550384a8",
      "metadata": {
        "id": "550384a8"
      },
      "outputs": [],
      "source": [
        "tuples22 = list(data22[[\"Field\",\"px\",\"py\",\"category\"]].to_records(index=False))"
      ]
    },
    {
      "cell_type": "markdown",
      "id": "913f5fc2",
      "metadata": {
        "id": "913f5fc2"
      },
      "source": [
        "Now let's gropup this information together with the mosaics that have the image data. This way we will be able to create patches easily."
      ]
    },
    {
      "cell_type": "code",
      "execution_count": null,
      "id": "sG26umHtfUhF",
      "metadata": {
        "id": "sG26umHtfUhF"
      },
      "outputs": [],
      "source": [
        "def tuplesToDictWithMosaics(tupList,mosaic):\n",
        "  \"\"\"\n",
        "  Transform a list of tuples into a dictionary for easy location\n",
        "  \"\"\"\n",
        "  retDict = {}\n",
        "  for t in tupList:\n",
        "    retDict[t[0]] = (t[1],t[2],t[3],mosaic)\n",
        "  return retDict"
      ]
    },
    {
      "cell_type": "code",
      "execution_count": null,
      "id": "4y4n9GTzfo3z",
      "metadata": {
        "id": "4y4n9GTzfo3z"
      },
      "outputs": [],
      "source": [
        "# Change everything to dictionary format\n",
        "dict19 = tuplesToDictWithMosaics(tuples19,mosaic19)\n",
        "dict20 = tuplesToDictWithMosaics(tuples20,mosaic20)\n",
        "dict21 = tuplesToDictWithMosaics(tuples21,mosaic21)\n",
        "dict22 = tuplesToDictWithMosaics(tuples22,mosaic22)"
      ]
    },
    {
      "cell_type": "markdown",
      "id": "Ndh2FiNdXUZV",
      "metadata": {
        "id": "Ndh2FiNdXUZV"
      },
      "source": [
        "## 2.3 Creating Patches And Storing them to file\n",
        "\n",
        "Let's use the function that we have to extract treetop patches to create folders according to health status"
      ]
    },
    {
      "cell_type": "code",
      "execution_count": null,
      "id": "8722332a",
      "metadata": {
        "id": "8722332a"
      },
      "outputs": [],
      "source": [
        "def getSquare(w_size, p, img):\n",
        "    \"\"\"\n",
        "    Function to extract a patch form an image given pixel coordinates and size\n",
        "    \"\"\"\n",
        "    # opencv works with inverted coords, so we have to invert ours.\n",
        "    return img[int(p[1])-w_size//2:int(p[1])+w_size//2, int(p[0])-w_size//2:int(p[0])+w_size//2]"
      ]
    },
    {
      "cell_type": "markdown",
      "id": "-D-iTzZeYq1P",
      "metadata": {
        "id": "-D-iTzZeYq1P"
      },
      "source": [
        "Now we can create patches according to the health status of every tree:"
      ]
    },
    {
      "cell_type": "code",
      "execution_count": null,
      "id": "9edb0731",
      "metadata": {
        "id": "9edb0731"
      },
      "outputs": [],
      "source": [
        "from random import randint\n",
        "\n",
        "patch_size = 100\n",
        "outputPath = \"HealthPatches\"\n",
        "\n",
        "#create output Folder if it does not exist\n",
        "if not os.path.exists(outputPath):\n",
        "    os.mkdir(outputPath)\n",
        "\n",
        "# We have four dictionaries, let's process them in turn:\n",
        "myDicts = [dict19,dict20,dict21,dict22]\n",
        "# let's also give each dictionary a code to store the patches separately\n",
        "myCodes = [\"year19\",\"year20\",\"year21\",\"year22\"]\n",
        "\n",
        "# Process every dictionary in turn\n",
        "for aDict,code in zip(myDicts,myCodes):\n",
        "    # Go over all the trees\n",
        "    for k,v in aDict.items():\n",
        "        # The index of the tree is in \"k\"\n",
        "        # Find coordinates and create a patch\n",
        "        center = (v[0],v[1])\n",
        "        healthCategory = v[2]\n",
        "        aPatch = getSquare(patch_size,center,v[3])\n",
        "\n",
        "        # Let's store all images in a single folder\n",
        "        # If the folder does not exist, create it\n",
        "        targetFolder = os.path.join(outputPath)\n",
        "        if not os.path.exists(targetFolder):\n",
        "            os.mkdir(targetFolder)\n",
        "\n",
        "        # store the image\n",
        "        cv2.imwrite(os.path.join(targetFolder,healthCategory+\"patch\"+str(k)+code+\".jpg\"),aPatch)"
      ]
    },
    {
      "cell_type": "markdown",
      "source": [
        "If you click in the \"folder\" icon to the left of your screen, you will see the drive of the colab machine that you are using. You will see that we have created a new folder called \"HealthPatches\" that contains images of the three classes that we have"
      ],
      "metadata": {
        "id": "J50Kp-rFIv2j"
      },
      "id": "J50Kp-rFIv2j"
    },
    {
      "cell_type": "markdown",
      "id": "6c47d9a9",
      "metadata": {
        "id": "6c47d9a9"
      },
      "source": [
        "# 3. Create Dataset\n",
        "\n",
        "\n",
        "As we did in [UNIT 4, Handling Custom Data in Pytorch](https://colab.research.google.com/drive/1zkdVQMv7YCBExHMJ1qCdrCba7Z1jsEi8?usp=sharing), [\\*\\*VIDEO  LESSON\\*\\*](https://www.youtube.com/watch?v=AtyxMuWr5OE&list=PLfZpLxnJ0nUfKAXQhZiIV-pLCudf50-Lg), we need to create a Pytorch dataset so that we can then use it with our data.\n"
      ]
    },
    {
      "cell_type": "code",
      "execution_count": null,
      "id": "665e4d41",
      "metadata": {
        "id": "665e4d41"
      },
      "outputs": [],
      "source": [
        "# Create Pytorch Dataset\n",
        "\n",
        "\n",
        "\n"
      ]
    },
    {
      "cell_type": "markdown",
      "id": "9c5ec63e",
      "metadata": {
        "id": "9c5ec63e"
      },
      "source": [
        "# 4. Create DL network\n",
        "\n",
        "As we did in [UNIT 5, Training Deep Learning Models in Pytorch](https://colab.research.google.com/drive/17ARJbWw2h1X5rQNEkh7n7oXXA9Bvb2P9?usp=sharing), we now need to define and train Deep learning networks."
      ]
    },
    {
      "cell_type": "code",
      "execution_count": null,
      "id": "b1bf5f45",
      "metadata": {
        "id": "b1bf5f45"
      },
      "outputs": [],
      "source": [
        "# Define a Resnet50 model and at least another DL model and compare their results"
      ]
    },
    {
      "cell_type": "code",
      "source": [],
      "metadata": {
        "id": "cmQlZvG23Aou"
      },
      "id": "cmQlZvG23Aou",
      "execution_count": null,
      "outputs": []
    }
  ],
  "metadata": {
    "colab": {
      "provenance": [],
      "gpuType": "T4",
      "include_colab_link": true
    },
    "kernelspec": {
      "display_name": "Python 3",
      "name": "python3"
    },
    "language_info": {
      "codemirror_mode": {
        "name": "ipython",
        "version": 3
      },
      "file_extension": ".py",
      "mimetype": "text/x-python",
      "name": "python",
      "nbconvert_exporter": "python",
      "pygments_lexer": "ipython3",
      "version": "3.6.13"
    },
    "accelerator": "GPU"
  },
  "nbformat": 4,
  "nbformat_minor": 5
}